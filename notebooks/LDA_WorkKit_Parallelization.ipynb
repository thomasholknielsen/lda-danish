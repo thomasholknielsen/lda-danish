{
 "cells": [
  {
   "cell_type": "markdown",
   "metadata": {},
   "source": [
    "# Parallelization"
   ]
  },
  {
   "cell_type": "markdown",
   "metadata": {},
   "source": [
    "The purpose of this workbook is to test parallelization and how and where to employ it in the LDA model. The following ressources serves as a good purpose for background information.\n",
    "- https://docs.dask.org/en/latest/\n",
    "- https://towardsdatascience.com/trying-out-dask-dataframes-in-python-for-fast-data-analysis-in-parallel-aa960c18a915\n",
    "- https://towardsdatascience.com/how-i-learned-to-love-parallelized-applies-with-python-pandas-dask-and-numba-f06b0b367138"
   ]
  },
  {
   "cell_type": "code",
   "execution_count": 79,
   "metadata": {},
   "outputs": [],
   "source": [
    "# Import moduls and \n",
    "# change directory to make it relative to top level moduls\n",
    "import os,sys,inspect\n",
    "currentdir = os.path.dirname(os.path.abspath(inspect.getfile(inspect.currentframe())))\n",
    "parentdir = os.path.dirname(currentdir)\n",
    "sys.path.insert(0,parentdir)"
   ]
  },
  {
   "cell_type": "code",
   "execution_count": 80,
   "metadata": {},
   "outputs": [
    {
     "name": "stdout",
     "output_type": "stream",
     "text": [
      "Solving environment: ...working... done\n",
      "\n",
      "# All requested packages already installed.\n",
      "\n"
     ]
    }
   ],
   "source": [
    "# Install a package in the current Jupyter kernel\n",
    "# This portion can be out commented once it has been completed on a new system.\n",
    "import sys\n",
    "!conda install --yes --prefix {sys.prefix} dask"
   ]
  },
  {
   "cell_type": "code",
   "execution_count": 81,
   "metadata": {},
   "outputs": [],
   "source": [
    "# Import modules to be used in this package\n",
    "import pandas as pd\n",
    "from utils.lipht_data import getEngine"
   ]
  },
  {
   "cell_type": "code",
   "execution_count": 4,
   "metadata": {},
   "outputs": [],
   "source": [
    "# Set the connection to the server\n",
    "engine = getEngine('LIPHT-VM-01','Akademikernes_MSCRM_Addition')\n",
    "query=\"\"\"\n",
    "        SELECT [ThreadID]\n",
    "                        ,[ThreadTopic]\n",
    "                        ,[SignalMessageID]\n",
    "                        ,[SignalSource] AS ThreadInitiatedBy\n",
    "                        ,[SignalMessageBodyClean]\n",
    "                        ,[IsSystemGenerated]\n",
    "                    FROM [Akademikernes_MSCRM_Addition].[out].[vw_LDA_MessagesALL]\n",
    "    \"\"\""
   ]
  },
  {
   "cell_type": "code",
   "execution_count": 5,
   "metadata": {},
   "outputs": [],
   "source": [
    "# Import data\n",
    "df = pd.read_sql(query, engine).copy(deep=True)"
   ]
  },
  {
   "cell_type": "code",
   "execution_count": 6,
   "metadata": {},
   "outputs": [],
   "source": [
    "df = df[['SignalMessageBodyClean']]"
   ]
  },
  {
   "cell_type": "code",
   "execution_count": 7,
   "metadata": {},
   "outputs": [],
   "source": [
    "df_test = df.copy(deep=True)"
   ]
  },
  {
   "cell_type": "code",
   "execution_count": 8,
   "metadata": {},
   "outputs": [],
   "source": [
    "import dask.dataframe as dd"
   ]
  },
  {
   "cell_type": "code",
   "execution_count": 9,
   "metadata": {},
   "outputs": [],
   "source": [
    "from dask.multiprocessing import get\n",
    "from multiprocessing import cpu_count\n",
    "nCores = cpu_count()"
   ]
  },
  {
   "cell_type": "code",
   "execution_count": 10,
   "metadata": {},
   "outputs": [
    {
     "data": {
      "text/plain": [
       "8"
      ]
     },
     "execution_count": 10,
     "metadata": {},
     "output_type": "execute_result"
    }
   ],
   "source": [
    "nCores"
   ]
  },
  {
   "cell_type": "code",
   "execution_count": 11,
   "metadata": {},
   "outputs": [],
   "source": [
    "ddf = dd.from_pandas(df, npartitions=nCores)"
   ]
  },
  {
   "cell_type": "code",
   "execution_count": 12,
   "metadata": {},
   "outputs": [],
   "source": [
    "def df_simple_clean_string(col_name):\n",
    "    col_name=col_name.str.lower() # convert text to lower\n",
    "    col_name=col_name.str.replace(r'^\\n','') # remove newline in start of message\n",
    "    col_name=col_name.str.replace(r'^((\\n*\\s*|\\n*\\S*\\s*)(\\b|\\b\\w)(kære|hej|hejsa|hello|hi|dear|til)\\s?(\\w[a-zæøåA-ZÆØÅ\\w-]{2,}\\s\\w[a-zæøåA-ZÆØÅ\\w.-]{0,}\\s\\w[a-zæøåA-ZÆØÅ\\w-]{0,}\\s\\w[a-zæøåA-ZÆØÅ\\w-]{2,}|\\w[a-zæøåA-ZÆØÅ\\w-]{2,}\\s\\w[a-zæøåA-ZÆØÅ\\w.-]{0,}\\s\\w[a-zæøåA-ZÆØÅ\\w-]{2,}|\\w[a-zæøåA-ZÆØÅ\\w-]{2,}\\s\\w[a-zæøåA-ZÆØÅ\\w-]{0,}|\\w[a-zæøåA-ZÆØÅ\\w.-]{2,})?(|\\n))','') # remove greeting\n",
    "    col_name=col_name.str.replace(r'^\\n','') # remove newline in start of message\n",
    "    col_name=col_name.str.split(r'((med\\svenlig\\shilsen|de\\sbedste\\shilsner|bedste\\shilsener|venlig\\shilsen|hilsen|vh|best\\sregards|with\\skind\\sregards|kind\\sregards|with\\sregards|regards|kh|sende\\sfra\\smin|sent\\sfrom\\smy\\s).*)').str[0] # remove everything after polite ending\n",
    "    col_name=col_name.str.replace(r'(?<=[^\\d\\W])\\.','_') # replaces punctuation in URL's with a underscore\n",
    "    col_name=col_name.str.replace(r'(?<=[^\\W]\\d)\\.(?=\\d)','') # replaces punctuation in numbers with nothing, to avoide splitting of numbers\n",
    "    col_name=col_name.str.replace(r'[\\.!]','') # Remove all punctuation and exclamationmarks\n",
    "    return col_name"
   ]
  },
  {
   "cell_type": "code",
   "execution_count": 13,
   "metadata": {},
   "outputs": [],
   "source": [
    "def df_clean_sting(col_name):\n",
    "    from utils.lipht_regex import re_accronyms, re_keyconcepts, re_lemma, re_remove, re_system\n",
    "    from bs4 import BeautifulSoup\n",
    "    import re\n",
    "    \"\"\" Cleans 'col_name' in a variaty of ways.\n",
    "        Specificly designed with danish e-mails in mind.\"\"\"\n",
    "\n",
    "    def _clean_html(text):\n",
    "        return BeautifulSoup(text, 'html.parser').get_text()\n",
    "\n",
    "    def remove_accronyms(text):\n",
    "        re_accronyms_comp = {re.compile(k): v for k, v in re_accronyms.items()}\n",
    "        for pattern, replacement in re_accronyms_comp.items():\n",
    "            text = pattern.sub(replacement, text)\n",
    "        return text\n",
    "\n",
    "    def make_keyconcepts(text):\n",
    "       re_keyconcepts_comp = {re.compile(k): v for k, v in re_keyconcepts.items()}\n",
    "       for pattern, replacement in re_keyconcepts_comp.items():\n",
    "           text = pattern.sub(replacement, text)\n",
    "       return text\n",
    "\n",
    "    def lemmatize(text):\n",
    "        re_lemma_comp = {re.compile(k): v for k, v in re_lemma.items()}\n",
    "        for pattern, replacement in re_lemma_comp.items():\n",
    "            text = pattern.sub(replacement, text)\n",
    "        return text\n",
    "            \n",
    "    col_name=col_name.str.replace('</p><p>','</p>.\\n<p>').astype(str) # Insert newline in paragraphs\n",
    "    col_name=col_name.apply(_clean_html) # parse any HTML\n",
    "    col_name=col_name.str.lower() # convert text to lower\n",
    "    col_name=col_name.replace(regex=re_accronyms) # replace anything found in the dictionary: re_accronyms\n",
    "    col_name=col_name.replace(regex=re_keyconcepts) # replace anything found in the dictionary: re_keyconcepts\n",
    "    col_name=col_name.replace(regex=re_lemma) # replace anything found in the dictionary: re_lemma\n",
    "    # df[col_name]=df[col_name].apply(remove_accronyms)\n",
    "    # df[col_name]=df[col_name].apply(make_keyconcepts)\n",
    "    # df[col_name]=df[col_name].apply(lemmatize)\n",
    "    # df[col_name]=df[col_name].apply(keyword_processor.replace_keywords) # Use FlashText KeywordProcesser -> https://github.com/vi3k6i5/flashtext -> Build dict of replacements\n",
    "    col_name=col_name.str.replace(r'^\\n','') # remove newline in start of message\n",
    "    col_name=col_name.str.replace(r'^((\\n*\\s*|\\n*\\S*\\s*)(\\b|\\b\\w)(kære|hej|hejsa|hello|hi|dear|til)\\s?(\\w[a-zæøåA-ZÆØÅ\\w-]{2,}\\s\\w[a-zæøåA-ZÆØÅ\\w.-]{0,}\\s\\w[a-zæøåA-ZÆØÅ\\w-]{0,}\\s\\w[a-zæøåA-ZÆØÅ\\w-]{2,}|\\w[a-zæøåA-ZÆØÅ\\w-]{2,}\\s\\w[a-zæøåA-ZÆØÅ\\w.-]{0,}\\s\\w[a-zæøåA-ZÆØÅ\\w-]{2,}|\\w[a-zæøåA-ZÆØÅ\\w-]{2,}\\s\\w[a-zæøåA-ZÆØÅ\\w-]{0,}|\\w[a-zæøåA-ZÆØÅ\\w.-]{2,})?(|\\n))','') # remove greeting\n",
    "    col_name=col_name.str.replace(r'^\\n','') # remove newline in start of message\n",
    "    col_name=col_name.str.replace(r'(?<=[^\\d\\W])\\.','_') # replaces punctuation in URL's with a underscore\n",
    "    col_name=col_name.str.replace(r'(?<=[^\\W]\\d)\\.(?=\\d)','') # replaces punctuation in numbers with nothing, to avoide splitting of numbers\n",
    "    col_name=col_name.str.split(r'((med\\svenlig\\shilsen|de\\sbedste\\shilsner|bedste\\shilsener|venlig\\shilsen|hilsen|vh|best\\sregards|with\\skind\\sregards|kind\\sregards|with\\sregards|regards|kh|sende\\sfra\\smin|sent\\sfrom\\smy\\s).*)').str[0] # remove everything after polite ending\n",
    "    col_name=col_name.str.replace(r'^.*(tak\\sfor\\s(din\\smail|en\\sbehagelig\\ssamtale|din\\sbesked|svar|din\\stilbagemelding|indsendte))\\.?','')#.str[1] # remove everything before these statements \n",
    "    col_name=col_name.str.replace(r'((tak\\sfor\\shjælpen|på\\sforhånd\\stak|på\\sforhånd\\smange\\stak|jeg\\sser\\sfrem\\stil\\sat\\shøre\\sdig|håber\\sdet\\svar\\ssvar\\snok|mange tak).*)','')#.str[0] # Remove every match and everything after. # Mail ending\n",
    "    col_name=col_name.str.replace(r'((på\\sforhånd\\stak)|(((jeg|du)\\sønske(s|r\\s)(dig)?|(hav))\\s)?(en\\s)?((fortsat|rigtig)\\s)?god(t)?\\s(weekend|dag|ferie|jul|nytår|påske)|(held\\sog\\slykke\\s(fremover)?)|(god\\sarbejdslyst).*)','') # Remove every match and everything after. # Mail polite ending\n",
    "    col_name=col_name.replace(regex=re_remove) # replace anything found in the dictionary: re_remove\n",
    "    col_name=col_name.replace(regex=re_system) # replace anything found in the dictionary: re_system\n",
    "\n",
    "    col_name=col_name.str.replace(r'^\\n','') # remove newline in start of message\n",
    "    col_name=col_name.str.strip()\n",
    "    # df[col_name]=df[col_name].str.replace(r'[\\w\\.-]+@[\\w\\.-]+','') # remove e-mail"
   ]
  },
  {
   "cell_type": "code",
   "execution_count": 16,
   "metadata": {},
   "outputs": [],
   "source": [
    "sampel_frac = 0.01"
   ]
  },
  {
   "cell_type": "code",
   "execution_count": 17,
   "metadata": {},
   "outputs": [
    {
     "data": {
      "text/plain": [
       "16560"
      ]
     },
     "execution_count": 17,
     "metadata": {},
     "output_type": "execute_result"
    }
   ],
   "source": [
    "ddf_sample = ddf.sample(frac=sampel_frac)\n",
    "ddf_sample.shape[0].compute()"
   ]
  },
  {
   "cell_type": "code",
   "execution_count": 18,
   "metadata": {},
   "outputs": [
    {
     "name": "stdout",
     "output_type": "stream",
     "text": [
      "Wall time: 1min 10s\n"
     ]
    }
   ],
   "source": [
    "%%time\n",
    "ddf_sample['SignalMessageBodyClean'] = ddf_sample['SignalMessageBodyClean'].map_partitions(df_clean_sting).compute()"
   ]
  },
  {
   "cell_type": "code",
   "execution_count": 26,
   "metadata": {},
   "outputs": [
    {
     "name": "stderr",
     "output_type": "stream",
     "text": [
      "C:\\ProgramData\\Anaconda3\\envs\\lda\\lib\\site-packages\\dask\\dataframe\\core.py:4347: UserWarning: Insufficient elements for `head`. 10 elements requested, only 7 elements available. Try passing larger `npartitions` to `head`.\n",
      "  warnings.warn(msg.format(n, len(r)))\n"
     ]
    },
    {
     "data": {
      "text/html": [
       "<div>\n",
       "<style scoped>\n",
       "    .dataframe tbody tr th:only-of-type {\n",
       "        vertical-align: middle;\n",
       "    }\n",
       "\n",
       "    .dataframe tbody tr th {\n",
       "        vertical-align: top;\n",
       "    }\n",
       "\n",
       "    .dataframe thead th {\n",
       "        text-align: right;\n",
       "    }\n",
       "</style>\n",
       "<table border=\"1\" class=\"dataframe\">\n",
       "  <thead>\n",
       "    <tr style=\"text-align: right;\">\n",
       "      <th></th>\n",
       "      <th>SignalMessageBodyClean</th>\n",
       "    </tr>\n",
       "  </thead>\n",
       "  <tbody>\n",
       "    <tr>\n",
       "      <th>0</th>\n",
       "      <td>None</td>\n",
       "    </tr>\n",
       "    <tr>\n",
       "      <th>1</th>\n",
       "      <td>None</td>\n",
       "    </tr>\n",
       "    <tr>\n",
       "      <th>2</th>\n",
       "      <td>None</td>\n",
       "    </tr>\n",
       "    <tr>\n",
       "      <th>3</th>\n",
       "      <td>None</td>\n",
       "    </tr>\n",
       "    <tr>\n",
       "      <th>4</th>\n",
       "      <td>None</td>\n",
       "    </tr>\n",
       "    <tr>\n",
       "      <th>5</th>\n",
       "      <td>None</td>\n",
       "    </tr>\n",
       "    <tr>\n",
       "      <th>6</th>\n",
       "      <td>None</td>\n",
       "    </tr>\n",
       "  </tbody>\n",
       "</table>\n",
       "</div>"
      ],
      "text/plain": [
       "  SignalMessageBodyClean\n",
       "0                   None\n",
       "1                   None\n",
       "2                   None\n",
       "3                   None\n",
       "4                   None\n",
       "5                   None\n",
       "6                   None"
      ]
     },
     "execution_count": 26,
     "metadata": {},
     "output_type": "execute_result"
    }
   ],
   "source": [
    "ddf_sample.head(10)"
   ]
  },
  {
   "cell_type": "code",
   "execution_count": 20,
   "metadata": {},
   "outputs": [
    {
     "data": {
      "text/plain": [
       "16560"
      ]
     },
     "execution_count": 20,
     "metadata": {},
     "output_type": "execute_result"
    }
   ],
   "source": [
    "ddf_sample2 = ddf.sample(frac=sampel_frac)\n",
    "ddf_sample2.shape[0].compute()"
   ]
  },
  {
   "cell_type": "code",
   "execution_count": 21,
   "metadata": {},
   "outputs": [
    {
     "name": "stdout",
     "output_type": "stream",
     "text": [
      "Wall time: 1.83 s\n"
     ]
    }
   ],
   "source": [
    "%%time\n",
    "ddf_sample2['SignalMessageBodyClean'] = ddf_sample2['SignalMessageBodyClean'].map_partitions(df_simple_clean_string).compute()"
   ]
  },
  {
   "cell_type": "code",
   "execution_count": 27,
   "metadata": {},
   "outputs": [
    {
     "name": "stderr",
     "output_type": "stream",
     "text": [
      "C:\\ProgramData\\Anaconda3\\envs\\lda\\lib\\site-packages\\dask\\dataframe\\core.py:4347: UserWarning: Insufficient elements for `head`. 20 elements requested, only 0 elements available. Try passing larger `npartitions` to `head`.\n",
      "  warnings.warn(msg.format(n, len(r)))\n"
     ]
    },
    {
     "data": {
      "text/html": [
       "<div>\n",
       "<style scoped>\n",
       "    .dataframe tbody tr th:only-of-type {\n",
       "        vertical-align: middle;\n",
       "    }\n",
       "\n",
       "    .dataframe tbody tr th {\n",
       "        vertical-align: top;\n",
       "    }\n",
       "\n",
       "    .dataframe thead th {\n",
       "        text-align: right;\n",
       "    }\n",
       "</style>\n",
       "<table border=\"1\" class=\"dataframe\">\n",
       "  <thead>\n",
       "    <tr style=\"text-align: right;\">\n",
       "      <th></th>\n",
       "      <th>SignalMessageBodyClean</th>\n",
       "    </tr>\n",
       "  </thead>\n",
       "  <tbody>\n",
       "  </tbody>\n",
       "</table>\n",
       "</div>"
      ],
      "text/plain": [
       "Empty DataFrame\n",
       "Columns: [SignalMessageBodyClean]\n",
       "Index: []"
      ]
     },
     "execution_count": 27,
     "metadata": {},
     "output_type": "execute_result"
    }
   ],
   "source": [
    "ddf_sample2.head(20)"
   ]
  },
  {
   "cell_type": "code",
   "execution_count": 137,
   "metadata": {},
   "outputs": [
    {
     "data": {
      "text/plain": [
       "[('5', ['False']),\n",
       " ('28', ['0']),\n",
       " ('18', ['02/10/2014 22:40:07']),\n",
       " ('87', ['01/22/2014 12:36:00']),\n",
       " ('96', ['team', 'c8e9d375-6c90-e211-9da9-005056ad53c8']),\n",
       " ('19', ['1']),\n",
       " ('23', ['02/12/2014 22:40:06']),\n",
       " ('17', ['01/24/2014 12:36:00']),\n",
       " ('20', ['contact', '1515ace7-738f-e311-bf81-005056ad2d14']),\n",
       " ('11', ['0']),\n",
       " ('21', ['Plan for ledighed efter endt uddannelse som diplomingeniør']),\n",
       " ('85', ['10380838']),\n",
       " ('10', ['10014']),\n",
       " ('90',\n",
       "  ['https://mit.akademikernes.dk/simple.aspx?func=iak.sequrelink&param=5WXv2GsVC7%2fQPTkgaRRHvPCVW7Gy4Ju%2bVHEFT%2fPEVVyHECrMLThQvsbf0yjUjTFEnKS4pDRYl44%2bGRHk0EpwbHl55vSdCXSDxAtPgPkSG2RZq8YUW6QvNrdcsNWjWSsbRez2vc0tHLvRxAAm6FX8hAKFJcZHzC0B']),\n",
       " ('16', ['systemuser', '4dbe4e0a-558f-e311-bc61-0050569111ff']),\n",
       " ('13', ['10995']),\n",
       " ('8', ['02/18/2014 13:55:38']),\n",
       " ('37', ['False']),\n",
       " ('36', ['False']),\n",
       " ('6', ['systemuser', '371f2045-4c8f-e311-bc61-0050569111ff']),\n",
       " ('24', ['systemuser', '5f11e8ec-0d8f-e311-8cfd-0050569111ff']),\n",
       " ('22', ['False']),\n",
       " ('2', ['02/18/2014 13:53:10']),\n",
       " ('30', ['True']),\n",
       " ('12', ['02/20/2014 13:55:38']),\n",
       " ('15', ['1']),\n",
       " ('83', ['613728']),\n",
       " ('88', ['False']),\n",
       " ('86', ['613728_besked.xml']),\n",
       " ('84', ['Plan for ledighed efter endt uddannelse som diplomingeniør'])]"
      ]
     },
     "execution_count": 137,
     "metadata": {},
     "output_type": "execute_result"
    }
   ],
   "source": [
    "# Emils træls AKA streng\n",
    "attribute_mask = '5,28,18,71,87,91,96,78,19,23,17,35,82,20,11,21,85,74,73,80,10,90,77,16,81,13,7,8,37,75,79,36,34,6,24,9,22,2,76,72,30,12,15,83,88,14,93,86,84'\n",
    "changedata = 'False~0~02/10/2014 22:40:07~~01/22/2014 12:36:00~~team,c8e9d375-6c90-e211-9da9-005056ad53c8~~1~02/12/2014 22:40:06~01/24/2014 12:36:00~~~contact,1515ace7-738f-e311-bf81-005056ad2d14~0~Plan for ledighed efter endt uddannelse som diplomingeniør~10380838~~~~10014~https://mit.akademikernes.dk/simple.aspx?func=iak.sequrelink&param=5WXv2GsVC7%2fQPTkgaRRHvPCVW7Gy4Ju%2bVHEFT%2fPEVVyHECrMLThQvsbf0yjUjTFEnKS4pDRYl44%2bGRHk0EpwbHl55vSdCXSDxAtPgPkSG2RZq8YUW6QvNrdcsNWjWSsbRez2vc0tHLvRxAAm6FX8hAKFJcZHzC0B~~systemuser,4dbe4e0a-558f-e311-bc61-0050569111ff~~10995~~02/18/2014 13:55:38~False~~~False~~systemuser,371f2045-4c8f-e311-bc61-0050569111ff~systemuser,5f11e8ec-0d8f-e311-8cfd-0050569111ff~~False~02/18/2014 13:53:10~~~True~02/20/2014 13:55:38~1~613728~False~~~613728_besked.xml~Plan for ledighed efter endt uddannelse som diplomingeniør'\n",
    "\n",
    "l = [(item[0], item[1].split(\",\")) for item in list(zip(attribute_mask.split(\",\"),changedata.split(\"~\"))) if len(item[1])>0]\n",
    "l"
   ]
  },
  {
   "cell_type": "code",
   "execution_count": 40,
   "metadata": {},
   "outputs": [],
   "source": [
    "d = {item[0]: item[1].split(',') for item in list(zip(attribute_mask.split(','),changedata.split('~')))}"
   ]
  },
  {
   "cell_type": "code",
   "execution_count": 138,
   "metadata": {},
   "outputs": [
    {
     "data": {
      "text/html": [
       "<div>\n",
       "<style scoped>\n",
       "    .dataframe tbody tr th:only-of-type {\n",
       "        vertical-align: middle;\n",
       "    }\n",
       "\n",
       "    .dataframe tbody tr th {\n",
       "        vertical-align: top;\n",
       "    }\n",
       "\n",
       "    .dataframe thead th {\n",
       "        text-align: right;\n",
       "    }\n",
       "</style>\n",
       "<table border=\"1\" class=\"dataframe\">\n",
       "  <thead>\n",
       "    <tr style=\"text-align: right;\">\n",
       "      <th></th>\n",
       "      <th>entry</th>\n",
       "      <th>value</th>\n",
       "      <th>identifier</th>\n",
       "    </tr>\n",
       "  </thead>\n",
       "  <tbody>\n",
       "    <tr>\n",
       "      <th>0</th>\n",
       "      <td>5</td>\n",
       "      <td>False</td>\n",
       "      <td>None</td>\n",
       "    </tr>\n",
       "    <tr>\n",
       "      <th>1</th>\n",
       "      <td>28</td>\n",
       "      <td>0</td>\n",
       "      <td>None</td>\n",
       "    </tr>\n",
       "    <tr>\n",
       "      <th>2</th>\n",
       "      <td>18</td>\n",
       "      <td>02/10/2014 22:40:07</td>\n",
       "      <td>None</td>\n",
       "    </tr>\n",
       "    <tr>\n",
       "      <th>3</th>\n",
       "      <td>87</td>\n",
       "      <td>01/22/2014 12:36:00</td>\n",
       "      <td>None</td>\n",
       "    </tr>\n",
       "    <tr>\n",
       "      <th>4</th>\n",
       "      <td>96</td>\n",
       "      <td>team</td>\n",
       "      <td>c8e9d375-6c90-e211-9da9-005056ad53c8</td>\n",
       "    </tr>\n",
       "    <tr>\n",
       "      <th>5</th>\n",
       "      <td>19</td>\n",
       "      <td>1</td>\n",
       "      <td>None</td>\n",
       "    </tr>\n",
       "    <tr>\n",
       "      <th>6</th>\n",
       "      <td>23</td>\n",
       "      <td>02/12/2014 22:40:06</td>\n",
       "      <td>None</td>\n",
       "    </tr>\n",
       "    <tr>\n",
       "      <th>7</th>\n",
       "      <td>17</td>\n",
       "      <td>01/24/2014 12:36:00</td>\n",
       "      <td>None</td>\n",
       "    </tr>\n",
       "    <tr>\n",
       "      <th>8</th>\n",
       "      <td>20</td>\n",
       "      <td>contact</td>\n",
       "      <td>1515ace7-738f-e311-bf81-005056ad2d14</td>\n",
       "    </tr>\n",
       "    <tr>\n",
       "      <th>9</th>\n",
       "      <td>11</td>\n",
       "      <td>0</td>\n",
       "      <td>None</td>\n",
       "    </tr>\n",
       "    <tr>\n",
       "      <th>10</th>\n",
       "      <td>21</td>\n",
       "      <td>Plan for ledighed efter endt uddannelse som di...</td>\n",
       "      <td>None</td>\n",
       "    </tr>\n",
       "    <tr>\n",
       "      <th>11</th>\n",
       "      <td>85</td>\n",
       "      <td>10380838</td>\n",
       "      <td>None</td>\n",
       "    </tr>\n",
       "    <tr>\n",
       "      <th>12</th>\n",
       "      <td>10</td>\n",
       "      <td>10014</td>\n",
       "      <td>None</td>\n",
       "    </tr>\n",
       "    <tr>\n",
       "      <th>13</th>\n",
       "      <td>90</td>\n",
       "      <td>https://mit.akademikernes.dk/simple.aspx?func=...</td>\n",
       "      <td>None</td>\n",
       "    </tr>\n",
       "    <tr>\n",
       "      <th>14</th>\n",
       "      <td>16</td>\n",
       "      <td>systemuser</td>\n",
       "      <td>4dbe4e0a-558f-e311-bc61-0050569111ff</td>\n",
       "    </tr>\n",
       "    <tr>\n",
       "      <th>15</th>\n",
       "      <td>13</td>\n",
       "      <td>10995</td>\n",
       "      <td>None</td>\n",
       "    </tr>\n",
       "    <tr>\n",
       "      <th>16</th>\n",
       "      <td>8</td>\n",
       "      <td>02/18/2014 13:55:38</td>\n",
       "      <td>None</td>\n",
       "    </tr>\n",
       "    <tr>\n",
       "      <th>17</th>\n",
       "      <td>37</td>\n",
       "      <td>False</td>\n",
       "      <td>None</td>\n",
       "    </tr>\n",
       "    <tr>\n",
       "      <th>18</th>\n",
       "      <td>36</td>\n",
       "      <td>False</td>\n",
       "      <td>None</td>\n",
       "    </tr>\n",
       "    <tr>\n",
       "      <th>19</th>\n",
       "      <td>6</td>\n",
       "      <td>systemuser</td>\n",
       "      <td>371f2045-4c8f-e311-bc61-0050569111ff</td>\n",
       "    </tr>\n",
       "    <tr>\n",
       "      <th>20</th>\n",
       "      <td>24</td>\n",
       "      <td>systemuser</td>\n",
       "      <td>5f11e8ec-0d8f-e311-8cfd-0050569111ff</td>\n",
       "    </tr>\n",
       "    <tr>\n",
       "      <th>21</th>\n",
       "      <td>22</td>\n",
       "      <td>False</td>\n",
       "      <td>None</td>\n",
       "    </tr>\n",
       "    <tr>\n",
       "      <th>22</th>\n",
       "      <td>2</td>\n",
       "      <td>02/18/2014 13:53:10</td>\n",
       "      <td>None</td>\n",
       "    </tr>\n",
       "    <tr>\n",
       "      <th>23</th>\n",
       "      <td>30</td>\n",
       "      <td>True</td>\n",
       "      <td>None</td>\n",
       "    </tr>\n",
       "    <tr>\n",
       "      <th>24</th>\n",
       "      <td>12</td>\n",
       "      <td>02/20/2014 13:55:38</td>\n",
       "      <td>None</td>\n",
       "    </tr>\n",
       "    <tr>\n",
       "      <th>25</th>\n",
       "      <td>15</td>\n",
       "      <td>1</td>\n",
       "      <td>None</td>\n",
       "    </tr>\n",
       "    <tr>\n",
       "      <th>26</th>\n",
       "      <td>83</td>\n",
       "      <td>613728</td>\n",
       "      <td>None</td>\n",
       "    </tr>\n",
       "    <tr>\n",
       "      <th>27</th>\n",
       "      <td>88</td>\n",
       "      <td>False</td>\n",
       "      <td>None</td>\n",
       "    </tr>\n",
       "    <tr>\n",
       "      <th>28</th>\n",
       "      <td>86</td>\n",
       "      <td>613728_besked.xml</td>\n",
       "      <td>None</td>\n",
       "    </tr>\n",
       "    <tr>\n",
       "      <th>29</th>\n",
       "      <td>84</td>\n",
       "      <td>Plan for ledighed efter endt uddannelse som di...</td>\n",
       "      <td>None</td>\n",
       "    </tr>\n",
       "  </tbody>\n",
       "</table>\n",
       "</div>"
      ],
      "text/plain": [
       "   entry                                              value  \\\n",
       "0      5                                              False   \n",
       "1     28                                                  0   \n",
       "2     18                                02/10/2014 22:40:07   \n",
       "3     87                                01/22/2014 12:36:00   \n",
       "4     96                                               team   \n",
       "5     19                                                  1   \n",
       "6     23                                02/12/2014 22:40:06   \n",
       "7     17                                01/24/2014 12:36:00   \n",
       "8     20                                            contact   \n",
       "9     11                                                  0   \n",
       "10    21  Plan for ledighed efter endt uddannelse som di...   \n",
       "11    85                                           10380838   \n",
       "12    10                                              10014   \n",
       "13    90  https://mit.akademikernes.dk/simple.aspx?func=...   \n",
       "14    16                                         systemuser   \n",
       "15    13                                              10995   \n",
       "16     8                                02/18/2014 13:55:38   \n",
       "17    37                                              False   \n",
       "18    36                                              False   \n",
       "19     6                                         systemuser   \n",
       "20    24                                         systemuser   \n",
       "21    22                                              False   \n",
       "22     2                                02/18/2014 13:53:10   \n",
       "23    30                                               True   \n",
       "24    12                                02/20/2014 13:55:38   \n",
       "25    15                                                  1   \n",
       "26    83                                             613728   \n",
       "27    88                                              False   \n",
       "28    86                                  613728_besked.xml   \n",
       "29    84  Plan for ledighed efter endt uddannelse som di...   \n",
       "\n",
       "                              identifier  \n",
       "0                                   None  \n",
       "1                                   None  \n",
       "2                                   None  \n",
       "3                                   None  \n",
       "4   c8e9d375-6c90-e211-9da9-005056ad53c8  \n",
       "5                                   None  \n",
       "6                                   None  \n",
       "7                                   None  \n",
       "8   1515ace7-738f-e311-bf81-005056ad2d14  \n",
       "9                                   None  \n",
       "10                                  None  \n",
       "11                                  None  \n",
       "12                                  None  \n",
       "13                                  None  \n",
       "14  4dbe4e0a-558f-e311-bc61-0050569111ff  \n",
       "15                                  None  \n",
       "16                                  None  \n",
       "17                                  None  \n",
       "18                                  None  \n",
       "19  371f2045-4c8f-e311-bc61-0050569111ff  \n",
       "20  5f11e8ec-0d8f-e311-8cfd-0050569111ff  \n",
       "21                                  None  \n",
       "22                                  None  \n",
       "23                                  None  \n",
       "24                                  None  \n",
       "25                                  None  \n",
       "26                                  None  \n",
       "27                                  None  \n",
       "28                                  None  \n",
       "29                                  None  "
      ]
     },
     "execution_count": 138,
     "metadata": {},
     "output_type": "execute_result"
    }
   ],
   "source": [
    "import pandas as pd\n",
    "import numpy as np\n",
    "p = pd.DataFrame([(item[0], item[1].split(',')) for item in list(zip(attribute_mask.split(','),changedata.split('~'))) if len(item[1])>0])\n",
    "p.columns = ['entry', 'text'] # name columns\n",
    "p[['value','identifier']] = pd.DataFrame(p.text.values.tolist(), index= p.index) # split text into two new columns\n",
    "p = p[['entry','value','identifier']] # only keep necessary\n",
    "# p = p.replace(r'\\s+', np.nan, regex=True)\n",
    "# p.dropna(subset=['value'])\n",
    "p"
   ]
  },
  {
   "cell_type": "code",
   "execution_count": 82,
   "metadata": {},
   "outputs": [],
   "source": [
    "engine1 = getEngine('LIPHT-VM-01','Akademikernes_MSCRM')"
   ]
  },
  {
   "cell_type": "code",
   "execution_count": 130,
   "metadata": {},
   "outputs": [],
   "source": [
    "query = \"\"\"SELECT TOP (1000)\n",
    "       [AttributeMask] = SUBSTRING([A].[AttributeMask], 2, LEN([A].[AttributeMask]) - 2)\n",
    "     , ChangeData\n",
    "\t ,AuditId\n",
    "FROM   [dbo].[AuditBase] [A]\"\"\""
   ]
  },
  {
   "cell_type": "code",
   "execution_count": 131,
   "metadata": {},
   "outputs": [],
   "source": [
    "df = pd.read_sql(query, engine1).copy(deep=True)"
   ]
  },
  {
   "cell_type": "code",
   "execution_count": 132,
   "metadata": {},
   "outputs": [
    {
     "data": {
      "text/html": [
       "<div>\n",
       "<style scoped>\n",
       "    .dataframe tbody tr th:only-of-type {\n",
       "        vertical-align: middle;\n",
       "    }\n",
       "\n",
       "    .dataframe tbody tr th {\n",
       "        vertical-align: top;\n",
       "    }\n",
       "\n",
       "    .dataframe thead th {\n",
       "        text-align: right;\n",
       "    }\n",
       "</style>\n",
       "<table border=\"1\" class=\"dataframe\">\n",
       "  <thead>\n",
       "    <tr style=\"text-align: right;\">\n",
       "      <th></th>\n",
       "      <th>AttributeMask</th>\n",
       "      <th>ChangeData</th>\n",
       "      <th>AuditId</th>\n",
       "    </tr>\n",
       "  </thead>\n",
       "  <tbody>\n",
       "    <tr>\n",
       "      <th>0</th>\n",
       "      <td>2,11,15,8,24</td>\n",
       "      <td>~0~1~02/10/2014 03:51:20~systemuser,5f11e8ec-0...</td>\n",
       "      <td>7A4CE450-A498-E311-9417-2C768A53AE6B</td>\n",
       "    </tr>\n",
       "    <tr>\n",
       "      <th>1</th>\n",
       "      <td>2,11,15,8,24</td>\n",
       "      <td>~0~1~02/10/2014 03:51:20~systemuser,5f11e8ec-0...</td>\n",
       "      <td>7B4CE450-A498-E311-9417-2C768A53AE6B</td>\n",
       "    </tr>\n",
       "    <tr>\n",
       "      <th>2</th>\n",
       "      <td>2,11,15,8,24</td>\n",
       "      <td>~0~1~02/10/2014 03:51:20~systemuser,5f11e8ec-0...</td>\n",
       "      <td>7C4CE450-A498-E311-9417-2C768A53AE6B</td>\n",
       "    </tr>\n",
       "    <tr>\n",
       "      <th>3</th>\n",
       "      <td>2,11,15,8,24</td>\n",
       "      <td>~0~1~02/10/2014 03:51:21~systemuser,5f11e8ec-0...</td>\n",
       "      <td>7D4CE450-A498-E311-9417-2C768A53AE6B</td>\n",
       "    </tr>\n",
       "    <tr>\n",
       "      <th>4</th>\n",
       "      <td>11,15,8,24</td>\n",
       "      <td>1~2~02/18/2014 13:53:10~systemuser,4dbe4e0a-55...</td>\n",
       "      <td>23A4A557-A498-E311-9417-2C768A53AE6B</td>\n",
       "    </tr>\n",
       "  </tbody>\n",
       "</table>\n",
       "</div>"
      ],
      "text/plain": [
       "  AttributeMask                                         ChangeData  \\\n",
       "0  2,11,15,8,24  ~0~1~02/10/2014 03:51:20~systemuser,5f11e8ec-0...   \n",
       "1  2,11,15,8,24  ~0~1~02/10/2014 03:51:20~systemuser,5f11e8ec-0...   \n",
       "2  2,11,15,8,24  ~0~1~02/10/2014 03:51:20~systemuser,5f11e8ec-0...   \n",
       "3  2,11,15,8,24  ~0~1~02/10/2014 03:51:21~systemuser,5f11e8ec-0...   \n",
       "4    11,15,8,24  1~2~02/18/2014 13:53:10~systemuser,4dbe4e0a-55...   \n",
       "\n",
       "                                AuditId  \n",
       "0  7A4CE450-A498-E311-9417-2C768A53AE6B  \n",
       "1  7B4CE450-A498-E311-9417-2C768A53AE6B  \n",
       "2  7C4CE450-A498-E311-9417-2C768A53AE6B  \n",
       "3  7D4CE450-A498-E311-9417-2C768A53AE6B  \n",
       "4  23A4A557-A498-E311-9417-2C768A53AE6B  "
      ]
     },
     "execution_count": 132,
     "metadata": {},
     "output_type": "execute_result"
    }
   ],
   "source": [
    "df.head()"
   ]
  },
  {
   "cell_type": "code",
   "execution_count": 133,
   "metadata": {},
   "outputs": [],
   "source": [
    "# df = # datasæt med [\"AuditId\", \"ChangeData\", \"AttributeMask\"]\n",
    "df[\"AttributeMask\"] = df[\"AttributeMask\"].str.split(\",\")\n",
    "df[\"ChangeData\"] = df[\"ChangeData\"].str.split(\"~\")\n",
    "rows = []\n",
    "for _, row in df.iterrows():\n",
    "    [rows.append([row[\"AuditId\"], key, val]) for key, val in zip(row[\"AttributeMask\"], row[\"ChangeData\"])]\n",
    "\n",
    "df_out = pd.DataFrame(rows)\n",
    "df_out.columns = [\"AuditId\", \"AttributeMask\",\"ChangeData\"] # name columns"
   ]
  },
  {
   "cell_type": "code",
   "execution_count": 136,
   "metadata": {},
   "outputs": [
    {
     "data": {
      "text/html": [
       "<div>\n",
       "<style scoped>\n",
       "    .dataframe tbody tr th:only-of-type {\n",
       "        vertical-align: middle;\n",
       "    }\n",
       "\n",
       "    .dataframe tbody tr th {\n",
       "        vertical-align: top;\n",
       "    }\n",
       "\n",
       "    .dataframe thead th {\n",
       "        text-align: right;\n",
       "    }\n",
       "</style>\n",
       "<table border=\"1\" class=\"dataframe\">\n",
       "  <thead>\n",
       "    <tr style=\"text-align: right;\">\n",
       "      <th></th>\n",
       "      <th>AuditId</th>\n",
       "      <th>AttributeMask</th>\n",
       "      <th>ChangeData</th>\n",
       "    </tr>\n",
       "  </thead>\n",
       "  <tbody>\n",
       "    <tr>\n",
       "      <th>0</th>\n",
       "      <td>7A4CE450-A498-E311-9417-2C768A53AE6B</td>\n",
       "      <td>2</td>\n",
       "      <td></td>\n",
       "    </tr>\n",
       "    <tr>\n",
       "      <th>1</th>\n",
       "      <td>7A4CE450-A498-E311-9417-2C768A53AE6B</td>\n",
       "      <td>11</td>\n",
       "      <td>0</td>\n",
       "    </tr>\n",
       "    <tr>\n",
       "      <th>2</th>\n",
       "      <td>7A4CE450-A498-E311-9417-2C768A53AE6B</td>\n",
       "      <td>15</td>\n",
       "      <td>1</td>\n",
       "    </tr>\n",
       "    <tr>\n",
       "      <th>3</th>\n",
       "      <td>7A4CE450-A498-E311-9417-2C768A53AE6B</td>\n",
       "      <td>8</td>\n",
       "      <td>02/10/2014 03:51:20</td>\n",
       "    </tr>\n",
       "    <tr>\n",
       "      <th>4</th>\n",
       "      <td>7A4CE450-A498-E311-9417-2C768A53AE6B</td>\n",
       "      <td>24</td>\n",
       "      <td>systemuser,5f11e8ec-0d8f-e311-8cfd-0050569111ff</td>\n",
       "    </tr>\n",
       "    <tr>\n",
       "      <th>5</th>\n",
       "      <td>7B4CE450-A498-E311-9417-2C768A53AE6B</td>\n",
       "      <td>2</td>\n",
       "      <td></td>\n",
       "    </tr>\n",
       "    <tr>\n",
       "      <th>6</th>\n",
       "      <td>7B4CE450-A498-E311-9417-2C768A53AE6B</td>\n",
       "      <td>11</td>\n",
       "      <td>0</td>\n",
       "    </tr>\n",
       "    <tr>\n",
       "      <th>7</th>\n",
       "      <td>7B4CE450-A498-E311-9417-2C768A53AE6B</td>\n",
       "      <td>15</td>\n",
       "      <td>1</td>\n",
       "    </tr>\n",
       "    <tr>\n",
       "      <th>8</th>\n",
       "      <td>7B4CE450-A498-E311-9417-2C768A53AE6B</td>\n",
       "      <td>8</td>\n",
       "      <td>02/10/2014 03:51:20</td>\n",
       "    </tr>\n",
       "    <tr>\n",
       "      <th>9</th>\n",
       "      <td>7B4CE450-A498-E311-9417-2C768A53AE6B</td>\n",
       "      <td>24</td>\n",
       "      <td>systemuser,5f11e8ec-0d8f-e311-8cfd-0050569111ff</td>\n",
       "    </tr>\n",
       "  </tbody>\n",
       "</table>\n",
       "</div>"
      ],
      "text/plain": [
       "                                AuditId AttributeMask  \\\n",
       "0  7A4CE450-A498-E311-9417-2C768A53AE6B             2   \n",
       "1  7A4CE450-A498-E311-9417-2C768A53AE6B            11   \n",
       "2  7A4CE450-A498-E311-9417-2C768A53AE6B            15   \n",
       "3  7A4CE450-A498-E311-9417-2C768A53AE6B             8   \n",
       "4  7A4CE450-A498-E311-9417-2C768A53AE6B            24   \n",
       "5  7B4CE450-A498-E311-9417-2C768A53AE6B             2   \n",
       "6  7B4CE450-A498-E311-9417-2C768A53AE6B            11   \n",
       "7  7B4CE450-A498-E311-9417-2C768A53AE6B            15   \n",
       "8  7B4CE450-A498-E311-9417-2C768A53AE6B             8   \n",
       "9  7B4CE450-A498-E311-9417-2C768A53AE6B            24   \n",
       "\n",
       "                                        ChangeData  \n",
       "0                                                   \n",
       "1                                                0  \n",
       "2                                                1  \n",
       "3                              02/10/2014 03:51:20  \n",
       "4  systemuser,5f11e8ec-0d8f-e311-8cfd-0050569111ff  \n",
       "5                                                   \n",
       "6                                                0  \n",
       "7                                                1  \n",
       "8                              02/10/2014 03:51:20  \n",
       "9  systemuser,5f11e8ec-0d8f-e311-8cfd-0050569111ff  "
      ]
     },
     "execution_count": 136,
     "metadata": {},
     "output_type": "execute_result"
    }
   ],
   "source": [
    "df_out.head(10)"
   ]
  },
  {
   "cell_type": "code",
   "execution_count": 134,
   "metadata": {},
   "outputs": [
    {
     "data": {
      "text/html": [
       "<div>\n",
       "<style scoped>\n",
       "    .dataframe tbody tr th:only-of-type {\n",
       "        vertical-align: middle;\n",
       "    }\n",
       "\n",
       "    .dataframe tbody tr th {\n",
       "        vertical-align: top;\n",
       "    }\n",
       "\n",
       "    .dataframe thead th {\n",
       "        text-align: right;\n",
       "    }\n",
       "</style>\n",
       "<table border=\"1\" class=\"dataframe\">\n",
       "  <thead>\n",
       "    <tr style=\"text-align: right;\">\n",
       "      <th></th>\n",
       "      <th>AttributeMask</th>\n",
       "      <th>ChangeData</th>\n",
       "      <th>AuditId</th>\n",
       "    </tr>\n",
       "  </thead>\n",
       "  <tbody>\n",
       "    <tr>\n",
       "      <th>0</th>\n",
       "      <td>[2, 11, 15, 8, 24]</td>\n",
       "      <td>[, 0, 1, 02/10/2014 03:51:20, systemuser,5f11e...</td>\n",
       "      <td>7A4CE450-A498-E311-9417-2C768A53AE6B</td>\n",
       "    </tr>\n",
       "    <tr>\n",
       "      <th>1</th>\n",
       "      <td>[2, 11, 15, 8, 24]</td>\n",
       "      <td>[, 0, 1, 02/10/2014 03:51:20, systemuser,5f11e...</td>\n",
       "      <td>7B4CE450-A498-E311-9417-2C768A53AE6B</td>\n",
       "    </tr>\n",
       "    <tr>\n",
       "      <th>2</th>\n",
       "      <td>[2, 11, 15, 8, 24]</td>\n",
       "      <td>[, 0, 1, 02/10/2014 03:51:20, systemuser,5f11e...</td>\n",
       "      <td>7C4CE450-A498-E311-9417-2C768A53AE6B</td>\n",
       "    </tr>\n",
       "    <tr>\n",
       "      <th>3</th>\n",
       "      <td>[2, 11, 15, 8, 24]</td>\n",
       "      <td>[, 0, 1, 02/10/2014 03:51:21, systemuser,5f11e...</td>\n",
       "      <td>7D4CE450-A498-E311-9417-2C768A53AE6B</td>\n",
       "    </tr>\n",
       "    <tr>\n",
       "      <th>4</th>\n",
       "      <td>[11, 15, 8, 24]</td>\n",
       "      <td>[1, 2, 02/18/2014 13:53:10, systemuser,4dbe4e0...</td>\n",
       "      <td>23A4A557-A498-E311-9417-2C768A53AE6B</td>\n",
       "    </tr>\n",
       "  </tbody>\n",
       "</table>\n",
       "</div>"
      ],
      "text/plain": [
       "        AttributeMask                                         ChangeData  \\\n",
       "0  [2, 11, 15, 8, 24]  [, 0, 1, 02/10/2014 03:51:20, systemuser,5f11e...   \n",
       "1  [2, 11, 15, 8, 24]  [, 0, 1, 02/10/2014 03:51:20, systemuser,5f11e...   \n",
       "2  [2, 11, 15, 8, 24]  [, 0, 1, 02/10/2014 03:51:20, systemuser,5f11e...   \n",
       "3  [2, 11, 15, 8, 24]  [, 0, 1, 02/10/2014 03:51:21, systemuser,5f11e...   \n",
       "4     [11, 15, 8, 24]  [1, 2, 02/18/2014 13:53:10, systemuser,4dbe4e0...   \n",
       "\n",
       "                                AuditId  \n",
       "0  7A4CE450-A498-E311-9417-2C768A53AE6B  \n",
       "1  7B4CE450-A498-E311-9417-2C768A53AE6B  \n",
       "2  7C4CE450-A498-E311-9417-2C768A53AE6B  \n",
       "3  7D4CE450-A498-E311-9417-2C768A53AE6B  \n",
       "4  23A4A557-A498-E311-9417-2C768A53AE6B  "
      ]
     },
     "execution_count": 134,
     "metadata": {},
     "output_type": "execute_result"
    }
   ],
   "source": [
    "df.head()"
   ]
  },
  {
   "cell_type": "code",
   "execution_count": 120,
   "metadata": {},
   "outputs": [
    {
     "name": "stdout",
     "output_type": "stream",
     "text": [
      "Wall time: 383 ms\n"
     ]
    }
   ],
   "source": [
    "%%time\n",
    "rows = []\n",
    "for _, row in df.iterrows():\n",
    "    [rows.append([row['AuditId'], key, val]) for key, val in zip(row['AttributeMask'], row['ChangeData'])]\n",
    "\n",
    "df_out = pd.DataFrame(rows)"
   ]
  },
  {
   "cell_type": "code",
   "execution_count": 123,
   "metadata": {},
   "outputs": [
    {
     "data": {
      "text/html": [
       "<div>\n",
       "<style scoped>\n",
       "    .dataframe tbody tr th:only-of-type {\n",
       "        vertical-align: middle;\n",
       "    }\n",
       "\n",
       "    .dataframe tbody tr th {\n",
       "        vertical-align: top;\n",
       "    }\n",
       "\n",
       "    .dataframe thead th {\n",
       "        text-align: right;\n",
       "    }\n",
       "</style>\n",
       "<table border=\"1\" class=\"dataframe\">\n",
       "  <thead>\n",
       "    <tr style=\"text-align: right;\">\n",
       "      <th></th>\n",
       "      <th>AuditId</th>\n",
       "      <th>AttributeMask</th>\n",
       "      <th>ChangeData</th>\n",
       "    </tr>\n",
       "  </thead>\n",
       "  <tbody>\n",
       "    <tr>\n",
       "      <th>0</th>\n",
       "      <td>ADE9D4E3-15BA-E711-80C9-0025B52A0006</td>\n",
       "      <td>5</td>\n",
       "      <td>False</td>\n",
       "    </tr>\n",
       "    <tr>\n",
       "      <th>1</th>\n",
       "      <td>ADE9D4E3-15BA-E711-80C9-0025B52A0006</td>\n",
       "      <td>28</td>\n",
       "      <td>0</td>\n",
       "    </tr>\n",
       "    <tr>\n",
       "      <th>2</th>\n",
       "      <td>ADE9D4E3-15BA-E711-80C9-0025B52A0006</td>\n",
       "      <td>18</td>\n",
       "      <td>05/14/2013 00:00:00</td>\n",
       "    </tr>\n",
       "    <tr>\n",
       "      <th>3</th>\n",
       "      <td>ADE9D4E3-15BA-E711-80C9-0025B52A0006</td>\n",
       "      <td>71</td>\n",
       "      <td>contact,364b9071-858f-e311-bf81-005056ad2d14</td>\n",
       "    </tr>\n",
       "    <tr>\n",
       "      <th>4</th>\n",
       "      <td>ADE9D4E3-15BA-E711-80C9-0025B52A0006</td>\n",
       "      <td>87</td>\n",
       "      <td></td>\n",
       "    </tr>\n",
       "  </tbody>\n",
       "</table>\n",
       "</div>"
      ],
      "text/plain": [
       "                                AuditId AttributeMask  \\\n",
       "0  ADE9D4E3-15BA-E711-80C9-0025B52A0006             5   \n",
       "1  ADE9D4E3-15BA-E711-80C9-0025B52A0006            28   \n",
       "2  ADE9D4E3-15BA-E711-80C9-0025B52A0006            18   \n",
       "3  ADE9D4E3-15BA-E711-80C9-0025B52A0006            71   \n",
       "4  ADE9D4E3-15BA-E711-80C9-0025B52A0006            87   \n",
       "\n",
       "                                     ChangeData  \n",
       "0                                         False  \n",
       "1                                             0  \n",
       "2                           05/14/2013 00:00:00  \n",
       "3  contact,364b9071-858f-e311-bf81-005056ad2d14  \n",
       "4                                                "
      ]
     },
     "execution_count": 123,
     "metadata": {},
     "output_type": "execute_result"
    }
   ],
   "source": [
    "\n",
    "df_out.columns = ['AuditId', 'AttributeMask','ChangeData'] # name columns\n",
    "df_out.head()"
   ]
  },
  {
   "cell_type": "code",
   "execution_count": 111,
   "metadata": {},
   "outputs": [],
   "source": [
    "def converter(attributeMask, changedata):\n",
    "    l = [(item[0], item[1].split(',')) for item in list(zip(attribute_mask.split(','),changedata.split('~'))) if len(item[1])>0]\n",
    "    return l"
   ]
  },
  {
   "cell_type": "code",
   "execution_count": 112,
   "metadata": {},
   "outputs": [],
   "source": [
    "df['AuditLogData'] = df.apply(lambda x: converter(x['AttributeMask'], x['ChangeData']), axis=1)\n",
    "df = df[['AuditId','AuditLogData']]"
   ]
  },
  {
   "cell_type": "code",
   "execution_count": 113,
   "metadata": {},
   "outputs": [
    {
     "data": {
      "text/html": [
       "<div>\n",
       "<style scoped>\n",
       "    .dataframe tbody tr th:only-of-type {\n",
       "        vertical-align: middle;\n",
       "    }\n",
       "\n",
       "    .dataframe tbody tr th {\n",
       "        vertical-align: top;\n",
       "    }\n",
       "\n",
       "    .dataframe thead th {\n",
       "        text-align: right;\n",
       "    }\n",
       "</style>\n",
       "<table border=\"1\" class=\"dataframe\">\n",
       "  <thead>\n",
       "    <tr style=\"text-align: right;\">\n",
       "      <th></th>\n",
       "      <th>AuditId</th>\n",
       "      <th>AuditLogData</th>\n",
       "    </tr>\n",
       "  </thead>\n",
       "  <tbody>\n",
       "    <tr>\n",
       "      <th>0</th>\n",
       "      <td>ADE9D4E3-15BA-E711-80C9-0025B52A0006</td>\n",
       "      <td>[(CRM Setup, [False]), (5, [0]), (28, [05/14/2...</td>\n",
       "    </tr>\n",
       "    <tr>\n",
       "      <th>1</th>\n",
       "      <td>61139A21-5BB6-E811-80D9-0025B52A0006</td>\n",
       "      <td>[(CRM Setup, [False]), (5, [0]), (28, [09/12/2...</td>\n",
       "    </tr>\n",
       "    <tr>\n",
       "      <th>2</th>\n",
       "      <td>8D183FB6-63B6-E811-80D9-0025B52A0006</td>\n",
       "      <td>[(CRM Setup, [False]), (5, [0]), (28, [09/12/2...</td>\n",
       "    </tr>\n",
       "    <tr>\n",
       "      <th>3</th>\n",
       "      <td>1C35F0F9-93B6-E811-80D9-0025B52A0006</td>\n",
       "      <td>[(CRM Setup, [False]), (5, [0]), (28, [09/12/2...</td>\n",
       "    </tr>\n",
       "    <tr>\n",
       "      <th>4</th>\n",
       "      <td>C0277EB2-1FB8-E811-80D9-0025B52A0006</td>\n",
       "      <td>[(CRM Setup, [False]), (5, [0]), (28, [09/12/2...</td>\n",
       "    </tr>\n",
       "  </tbody>\n",
       "</table>\n",
       "</div>"
      ],
      "text/plain": [
       "                                AuditId  \\\n",
       "0  ADE9D4E3-15BA-E711-80C9-0025B52A0006   \n",
       "1  61139A21-5BB6-E811-80D9-0025B52A0006   \n",
       "2  8D183FB6-63B6-E811-80D9-0025B52A0006   \n",
       "3  1C35F0F9-93B6-E811-80D9-0025B52A0006   \n",
       "4  C0277EB2-1FB8-E811-80D9-0025B52A0006   \n",
       "\n",
       "                                        AuditLogData  \n",
       "0  [(CRM Setup, [False]), (5, [0]), (28, [05/14/2...  \n",
       "1  [(CRM Setup, [False]), (5, [0]), (28, [09/12/2...  \n",
       "2  [(CRM Setup, [False]), (5, [0]), (28, [09/12/2...  \n",
       "3  [(CRM Setup, [False]), (5, [0]), (28, [09/12/2...  \n",
       "4  [(CRM Setup, [False]), (5, [0]), (28, [09/12/2...  "
      ]
     },
     "execution_count": 113,
     "metadata": {},
     "output_type": "execute_result"
    }
   ],
   "source": [
    "df.head()"
   ]
  },
  {
   "cell_type": "code",
   "execution_count": null,
   "metadata": {},
   "outputs": [],
   "source": []
  }
 ],
 "metadata": {
  "kernelspec": {
   "display_name": "Python [conda env:aka-diagnostic]",
   "language": "python",
   "name": "conda-env-aka-diagnostic-py"
  },
  "language_info": {
   "codemirror_mode": {
    "name": "ipython",
    "version": 3
   },
   "file_extension": ".py",
   "mimetype": "text/x-python",
   "name": "python",
   "nbconvert_exporter": "python",
   "pygments_lexer": "ipython3",
   "version": "3.7.0"
  }
 },
 "nbformat": 4,
 "nbformat_minor": 2
}
