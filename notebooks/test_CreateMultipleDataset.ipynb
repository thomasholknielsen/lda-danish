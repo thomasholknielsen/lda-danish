{
 "cells": [
  {
   "cell_type": "markdown",
   "metadata": {},
   "source": [
    "# Create datasets"
   ]
  },
  {
   "cell_type": "code",
   "execution_count": 1,
   "metadata": {},
   "outputs": [],
   "source": [
    "import pandas as pd\n",
    "import pyodbc\n",
    "\n",
    "from lipht_lda import df_lda_preprocessing"
   ]
  },
  {
   "cell_type": "code",
   "execution_count": 23,
   "metadata": {},
   "outputs": [],
   "source": [
    "def SubSetDataFrame(df, n_gram=None, list_of_subset=None):\n",
    "    # For each team we need to create two datasets\n",
    "    # For initiatedby AKA : LAV LDA på first member message\n",
    "    # For initiatedby Member : LAV LDA på Threadsubject + first member message\n",
    "    \n",
    "    if list_of_subset is None:\n",
    "        list_of_subset = df['ThreadResponsibleDepartmentTeam'].unique()\n",
    "    \n",
    "    # prepare dir\n",
    "    dir_AKA = 'Initiatedby_AKA'\n",
    "    dir_Member = 'Initiatedby_Member'\n",
    "    \n",
    "    # prepare df per test\n",
    "    df_aka = df[df['ThreadInitiatedBy']=='AKA'].copy(deep=True)\n",
    "    df_member = df[df['ThreadInitiatedBy']=='Member'].copy(deep=True)\n",
    "    \n",
    "    # preprocess df\n",
    "    df_lda_preprocessing(df_aka,'FirstMemberMessage',n_gram)\n",
    "    df_member['FirstMemberMessage'] = df_member['ThreadSubject'] + df_member['FirstMemberMessage']\n",
    "    df_lda_preprocessing(df_member,'FirstMemberMessage',n_gram)\n",
    "    \n",
    "    print('Creating datasets for all {} items in {}'.format(len(list_of_subset),'ThreadResponsibleDepartmentTeam'))\n",
    "\n",
    "    for s in list_of_subset:\n",
    "        A = df_aka[df_aka['ThreadResponsibleDepartmentTeam']==s].copy(deep=True)\n",
    "        M = df_member[df_member['ThreadResponsibleDepartmentTeam']==s].copy(deep=True)\n",
    "        \n",
    "        A.to_pickle('data/{}/{}.pkl'.format(dir_AKA,s))\n",
    "        M.to_pickle('data/{}/{}.pkl'.format(dir_Member,s))\n",
    "    \n",
    "        print('Created dataset {} for A with {} rows and B with {} rows.'.format(s,A.shape[0], M.shape[0]))"
   ]
  },
  {
   "cell_type": "markdown",
   "metadata": {},
   "source": [
    "### Get the raw data\n",
    "To store as a pickle file"
   ]
  },
  {
   "cell_type": "code",
   "execution_count": 3,
   "metadata": {},
   "outputs": [],
   "source": [
    "server = \"LIPHT-VM-01\"#\"LI-PH-01\"\n",
    "db = \"Akademikernes_MSCRM_Addition\"\n",
    "con = pyodbc.connect('DRIVER={SQL Server};SERVER=' + server + ';DATABASE=' + db)\n",
    "\n",
    "query=\"\"\"\n",
    "SELECT *\n",
    "  FROM [Akademikernes_MSCRM_Addition].[out].[LDA_Messages_persisted]\n",
    "  \"\"\""
   ]
  },
  {
   "cell_type": "code",
   "execution_count": 4,
   "metadata": {},
   "outputs": [
    {
     "data": {
      "text/html": [
       "<div>\n",
       "<style scoped>\n",
       "    .dataframe tbody tr th:only-of-type {\n",
       "        vertical-align: middle;\n",
       "    }\n",
       "\n",
       "    .dataframe tbody tr th {\n",
       "        vertical-align: top;\n",
       "    }\n",
       "\n",
       "    .dataframe thead th {\n",
       "        text-align: right;\n",
       "    }\n",
       "</style>\n",
       "<table border=\"1\" class=\"dataframe\">\n",
       "  <thead>\n",
       "    <tr style=\"text-align: right;\">\n",
       "      <th></th>\n",
       "      <th>ThreadID</th>\n",
       "      <th>ThreadSubject</th>\n",
       "      <th>FirstMessage</th>\n",
       "      <th>FirstMemberMessage</th>\n",
       "      <th>ThreadInitiatedBy</th>\n",
       "      <th>ThreadClass</th>\n",
       "      <th>InDiagnosticScope</th>\n",
       "      <th>ThreadMessageID</th>\n",
       "      <th>ThreadResponsibleDepartment</th>\n",
       "      <th>ThreadResponsibleDepartmentTeam</th>\n",
       "    </tr>\n",
       "  </thead>\n",
       "  <tbody>\n",
       "    <tr>\n",
       "      <th>0</th>\n",
       "      <td>15FA2A2B-B6FA-E611-AC9F-005056AD2D14</td>\n",
       "      <td>Nyt brev: Is part time insurance right for you?</td>\n",
       "      <td>Hej,\\n\\n\\nWell, yes I did. Basically because I...</td>\n",
       "      <td>Hej,\\n\\n\\nWell, yes I did. Basically because I...</td>\n",
       "      <td>Member</td>\n",
       "      <td>Member to AKA to Member</td>\n",
       "      <td>1</td>\n",
       "      <td>1EFA2A2B-B6FA-E611-AC9F-005056AD2D14</td>\n",
       "      <td>Forsikring</td>\n",
       "      <td>Medlemskabsteam</td>\n",
       "    </tr>\n",
       "    <tr>\n",
       "      <th>1</th>\n",
       "      <td>36B7B25E-A349-E711-BE8E-005056AD2D14</td>\n",
       "      <td>Virksomhedspraktik samt samtale med A-kasse og...</td>\n",
       "      <td>Hej,\\nSom aftalt med Karen Henningsen ved møde...</td>\n",
       "      <td>Hej,\\nSom aftalt med Karen Henningsen ved møde...</td>\n",
       "      <td>Member</td>\n",
       "      <td>Member to AKA to Member</td>\n",
       "      <td>1</td>\n",
       "      <td>3DB7B25E-A349-E711-BE8E-005056AD2D14</td>\n",
       "      <td>Jobmatch</td>\n",
       "      <td>Team Rådighed</td>\n",
       "    </tr>\n",
       "    <tr>\n",
       "      <th>2</th>\n",
       "      <td>45E1BEF8-EB30-E711-AC9F-005056AD2D14</td>\n",
       "      <td>Dit kontingent til Akademikernes A-kasse</td>\n",
       "      <td>Du har desværre endnu ikke betalt kontingent t...</td>\n",
       "      <td>Jeg har allerede tilmeldt mig betalingsservice...</td>\n",
       "      <td>AKA</td>\n",
       "      <td>AKA to Member to AKA</td>\n",
       "      <td>1</td>\n",
       "      <td>50E1BEF8-EB30-E711-AC9F-005056AD2D14</td>\n",
       "      <td>Forsikring</td>\n",
       "      <td>Medlemskabsteam</td>\n",
       "    </tr>\n",
       "    <tr>\n",
       "      <th>3</th>\n",
       "      <td>C6F41AEE-7532-E711-AC9F-005056AD2D14</td>\n",
       "      <td>Dit kontingent til Akademikernes A-kasse</td>\n",
       "      <td>Du har desværre endnu ikke betalt kontingent t...</td>\n",
       "      <td>Hej,\\nJeg har modtaget jeres rykker, men forst...</td>\n",
       "      <td>AKA</td>\n",
       "      <td>AKA to Member to AKA</td>\n",
       "      <td>1</td>\n",
       "      <td>D0F41AEE-7532-E711-AC9F-005056AD2D14</td>\n",
       "      <td>Forsikring</td>\n",
       "      <td>Medlemskabsteam</td>\n",
       "    </tr>\n",
       "    <tr>\n",
       "      <th>4</th>\n",
       "      <td>D65C779B-0541-E711-BE8E-005056AD2D14</td>\n",
       "      <td>Ny adresse</td>\n",
       "      <td>Jeg har forsøgt at ændre min adresse. Jeg flyt...</td>\n",
       "      <td>Jeg har forsøgt at ændre min adresse. Jeg flyt...</td>\n",
       "      <td>Member</td>\n",
       "      <td>Member to AKA to Member</td>\n",
       "      <td>1</td>\n",
       "      <td>DD5C779B-0541-E711-BE8E-005056AD2D14</td>\n",
       "      <td>Forsikring</td>\n",
       "      <td>Medlemskabsteam</td>\n",
       "    </tr>\n",
       "  </tbody>\n",
       "</table>\n",
       "</div>"
      ],
      "text/plain": [
       "                               ThreadID  \\\n",
       "0  15FA2A2B-B6FA-E611-AC9F-005056AD2D14   \n",
       "1  36B7B25E-A349-E711-BE8E-005056AD2D14   \n",
       "2  45E1BEF8-EB30-E711-AC9F-005056AD2D14   \n",
       "3  C6F41AEE-7532-E711-AC9F-005056AD2D14   \n",
       "4  D65C779B-0541-E711-BE8E-005056AD2D14   \n",
       "\n",
       "                                       ThreadSubject  \\\n",
       "0    Nyt brev: Is part time insurance right for you?   \n",
       "1  Virksomhedspraktik samt samtale med A-kasse og...   \n",
       "2           Dit kontingent til Akademikernes A-kasse   \n",
       "3           Dit kontingent til Akademikernes A-kasse   \n",
       "4                                         Ny adresse   \n",
       "\n",
       "                                        FirstMessage  \\\n",
       "0  Hej,\\n\\n\\nWell, yes I did. Basically because I...   \n",
       "1  Hej,\\nSom aftalt med Karen Henningsen ved møde...   \n",
       "2  Du har desværre endnu ikke betalt kontingent t...   \n",
       "3  Du har desværre endnu ikke betalt kontingent t...   \n",
       "4  Jeg har forsøgt at ændre min adresse. Jeg flyt...   \n",
       "\n",
       "                                  FirstMemberMessage ThreadInitiatedBy  \\\n",
       "0  Hej,\\n\\n\\nWell, yes I did. Basically because I...            Member   \n",
       "1  Hej,\\nSom aftalt med Karen Henningsen ved møde...            Member   \n",
       "2  Jeg har allerede tilmeldt mig betalingsservice...               AKA   \n",
       "3  Hej,\\nJeg har modtaget jeres rykker, men forst...               AKA   \n",
       "4  Jeg har forsøgt at ændre min adresse. Jeg flyt...            Member   \n",
       "\n",
       "               ThreadClass  InDiagnosticScope  \\\n",
       "0  Member to AKA to Member                  1   \n",
       "1  Member to AKA to Member                  1   \n",
       "2     AKA to Member to AKA                  1   \n",
       "3     AKA to Member to AKA                  1   \n",
       "4  Member to AKA to Member                  1   \n",
       "\n",
       "                        ThreadMessageID ThreadResponsibleDepartment  \\\n",
       "0  1EFA2A2B-B6FA-E611-AC9F-005056AD2D14                  Forsikring   \n",
       "1  3DB7B25E-A349-E711-BE8E-005056AD2D14                    Jobmatch   \n",
       "2  50E1BEF8-EB30-E711-AC9F-005056AD2D14                  Forsikring   \n",
       "3  D0F41AEE-7532-E711-AC9F-005056AD2D14                  Forsikring   \n",
       "4  DD5C779B-0541-E711-BE8E-005056AD2D14                  Forsikring   \n",
       "\n",
       "  ThreadResponsibleDepartmentTeam  \n",
       "0                 Medlemskabsteam  \n",
       "1                   Team Rådighed  \n",
       "2                 Medlemskabsteam  \n",
       "3                 Medlemskabsteam  \n",
       "4                 Medlemskabsteam  "
      ]
     },
     "execution_count": 4,
     "metadata": {},
     "output_type": "execute_result"
    }
   ],
   "source": [
    "df_raw = pd.read_sql(query, con)\n",
    "df_raw.head()"
   ]
  },
  {
   "cell_type": "code",
   "execution_count": 5,
   "metadata": {},
   "outputs": [
    {
     "data": {
      "text/plain": [
       "(15738, 10)"
      ]
     },
     "execution_count": 5,
     "metadata": {},
     "output_type": "execute_result"
    }
   ],
   "source": [
    "df_raw.shape"
   ]
  },
  {
   "cell_type": "code",
   "execution_count": 6,
   "metadata": {},
   "outputs": [
    {
     "name": "stderr",
     "output_type": "stream",
     "text": [
      "C:\\ProgramData\\Anaconda3\\envs\\akademikernes_diagnostic\\lib\\site-packages\\bs4\\__init__.py:273: UserWarning: \"b'.'\" looks like a filename, not markup. You should probably open this file and pass the filehandle into Beautiful Soup.\n",
      "  ' Beautiful Soup.' % markup)\n",
      "C:\\ProgramData\\Anaconda3\\envs\\akademikernes_diagnostic\\lib\\site-packages\\bs4\\__init__.py:336: UserWarning: \"https://www.efterskoleforeningen.dk/da/Stillinger/Jylland/Fenskaer\" looks like a URL. Beautiful Soup is not an HTTP client. You should probably use an HTTP client like requests to get the document behind the URL, and feed that document to Beautiful Soup.\n",
      "  ' that document to Beautiful Soup.' % decoded_markup\n",
      "C:\\ProgramData\\Anaconda3\\envs\\akademikernes_diagnostic\\lib\\site-packages\\bs4\\__init__.py:336: UserWarning: \"https://job.jobnet.dk/CV/Jobseeking/JobLog/Detail/70007568-980e-4060-9a9b-d1f9565d0926\" looks like a URL. Beautiful Soup is not an HTTP client. You should probably use an HTTP client like requests to get the document behind the URL, and feed that document to Beautiful Soup.\n",
      "  ' that document to Beautiful Soup.' % decoded_markup\n"
     ]
    },
    {
     "name": "stdout",
     "output_type": "stream",
     "text": [
      "Wall time: 59.3 s\n"
     ]
    }
   ],
   "source": [
    "%%time\n",
    "df_lda_preprocessing(df_raw,'FirstMemberMessage',2)"
   ]
  },
  {
   "cell_type": "code",
   "execution_count": 7,
   "metadata": {},
   "outputs": [
    {
     "name": "stdout",
     "output_type": "stream",
     "text": [
      "Wall time: 2.64 s\n"
     ]
    }
   ],
   "source": [
    "%%time\n",
    "df_raw.to_pickle('data/LDA_Messages_persisted.pkl')"
   ]
  },
  {
   "cell_type": "markdown",
   "metadata": {},
   "source": [
    "### Load raw data\n",
    "from pickle file"
   ]
  },
  {
   "cell_type": "code",
   "execution_count": 16,
   "metadata": {},
   "outputs": [],
   "source": [
    "# We load the raw file, that has a language prediction\n",
    "# To make sure that the language does not get predicted as a topic\n",
    "df_raw = pd.read_pickle('data/LDA_Messages_persisted_with_language.pkl')"
   ]
  },
  {
   "cell_type": "code",
   "execution_count": 17,
   "metadata": {},
   "outputs": [],
   "source": [
    "df_raw = df_raw.rename(index=str, columns={\n",
    "    'prediction': 'language_prediction', \n",
    "    'pred_probability': 'language_probability',\n",
    "    'pred_index': 'language_id',\n",
    "    'pred_label': 'language'\n",
    "})"
   ]
  },
  {
   "cell_type": "code",
   "execution_count": 18,
   "metadata": {},
   "outputs": [],
   "source": [
    "df_raw['ThreadResponsibleDepartmentTeam'] = df_raw['ThreadResponsibleDepartmentTeam'].str.replace(' 2 - CPR 11 til 20| 1 - CPR 01 til 10','')"
   ]
  },
  {
   "cell_type": "code",
   "execution_count": 19,
   "metadata": {},
   "outputs": [
    {
     "data": {
      "text/plain": [
       "array(['Medlemskabsteam', 'Team Rådighed', 'Job', 'Udbetalingsteam',\n",
       "       'Logistik', 'Ikke Fordelt Team', 'Virksomhedsteam', 'Anden aktør',\n",
       "       'Digitaliseringsafdeling', 'Kvalitetsteam', None, 'Kommunikation',\n",
       "       'Startup', 'Økonomi', 'HR/Strategi (MÅ IKKE ANVENDES)',\n",
       "       'Juridisk team'], dtype=object)"
      ]
     },
     "execution_count": 19,
     "metadata": {},
     "output_type": "execute_result"
    }
   ],
   "source": [
    "# Get list of unike DepartmentTeams\n",
    "# We need to create a subset of data for each DepartmentTeam.\n",
    "# If there are any teams that are split unnecessarily we will need to group them together\n",
    "ThreadResponsibleDepartmentTeam = df_raw.ThreadResponsibleDepartmentTeam.unique()\n",
    "ThreadResponsibleDepartmentTeam"
   ]
  },
  {
   "cell_type": "code",
   "execution_count": 20,
   "metadata": {},
   "outputs": [],
   "source": [
    "# Subset to danish only\n",
    "df_raw = df_raw[(df_raw['language']=='Danish') & (df_raw['ThreadResponsibleDepartmentTeam'].isnull()==False) & (df_raw['ThreadResponsibleDepartmentTeam']!='HR/Strategi (MÅ IKKE ANVENDES)')]"
   ]
  },
  {
   "cell_type": "code",
   "execution_count": 21,
   "metadata": {},
   "outputs": [
    {
     "data": {
      "text/plain": [
       "(13606, 26)"
      ]
     },
     "execution_count": 21,
     "metadata": {},
     "output_type": "execute_result"
    }
   ],
   "source": [
    "df_raw.shape"
   ]
  },
  {
   "cell_type": "markdown",
   "metadata": {},
   "source": [
    "Create a A and B subset of data per Responsible Department Team\n",
    "    - A has FirstMemberMessage\n",
    "    - B has ThreadSubject concatenated with FirstMemberMessage"
   ]
  },
  {
   "cell_type": "code",
   "execution_count": 24,
   "metadata": {},
   "outputs": [
    {
     "name": "stdout",
     "output_type": "stream",
     "text": [
      "Creating datasets for all 14 items in ThreadResponsibleDepartmentTeam\n",
      "Created dataset Team Rådighed for A with 1095 rows and B with 124 rows.\n",
      "Created dataset Medlemskabsteam for A with 1180 rows and B with 1405 rows.\n",
      "Created dataset Job for A with 1042 rows and B with 439 rows.\n",
      "Created dataset Udbetalingsteam for A with 661 rows and B with 5251 rows.\n",
      "Created dataset Logistik for A with 1916 rows and B with 225 rows.\n",
      "Created dataset Ikke Fordelt Team for A with 14 rows and B with 64 rows.\n",
      "Created dataset Virksomhedsteam for A with 8 rows and B with 13 rows.\n",
      "Created dataset Digitaliseringsafdeling for A with 13 rows and B with 35 rows.\n",
      "Created dataset Anden aktør for A with 49 rows and B with 14 rows.\n",
      "Created dataset Kvalitetsteam for A with 0 rows and B with 11 rows.\n",
      "Created dataset Kommunikation for A with 9 rows and B with 5 rows.\n",
      "Created dataset Startup for A with 27 rows and B with 4 rows.\n",
      "Created dataset Økonomi for A with 1 rows and B with 0 rows.\n",
      "Created dataset Juridisk team for A with 0 rows and B with 1 rows.\n",
      "Wall time: 50.4 s\n"
     ]
    }
   ],
   "source": [
    "%%time\n",
    "SubSetDataFrame(df_raw, 2)"
   ]
  },
  {
   "cell_type": "code",
   "execution_count": null,
   "metadata": {},
   "outputs": [],
   "source": []
  }
 ],
 "metadata": {
  "kernelspec": {
   "display_name": "Python [conda env:aka-diagnostic]",
   "language": "python",
   "name": "conda-env-aka-diagnostic-py"
  },
  "language_info": {
   "codemirror_mode": {
    "name": "ipython",
    "version": 3
   },
   "file_extension": ".py",
   "mimetype": "text/x-python",
   "name": "python",
   "nbconvert_exporter": "python",
   "pygments_lexer": "ipython3",
   "version": "3.7.0"
  }
 },
 "nbformat": 4,
 "nbformat_minor": 2
}
