{
 "cells": [
  {
   "cell_type": "markdown",
   "metadata": {},
   "source": [
    "### Modul import"
   ]
  },
  {
   "cell_type": "code",
   "execution_count": 1,
   "metadata": {},
   "outputs": [
    {
     "name": "stderr",
     "output_type": "stream",
     "text": [
      "C:\\ProgramData\\Anaconda3\\envs\\akademikernes_diagnostic\\lib\\site-packages\\gensim\\utils.py:1209: UserWarning: detected Windows; aliasing chunkize to chunkize_serial\n",
      "  warnings.warn(\"detected Windows; aliasing chunkize to chunkize_serial\")\n"
     ]
    }
   ],
   "source": [
    "# Common\n",
    "import pandas as pd\n",
    "import numpy as np\n",
    "\n",
    "# Text processing\n",
    "import re\n",
    "from bs4 import BeautifulSoup\n",
    "import nltk\n",
    "\n",
    "# Visualization modules\n",
    "import matplotlib.pyplot as plt\n",
    "\n",
    "# Model modules\n",
    "from sklearn.feature_extraction.text import TfidfVectorizer#, CountVectorizer\n",
    "from sklearn.metrics.pairwise import cosine_similarity\n",
    "from scipy.spatial.distance import cdist\n",
    "from sklearn.cluster import KMeans\n",
    "from gensim.corpora import Dictionary\n",
    "from gensim.corpora import MmCorpus\n",
    "from gensim.test.utils import get_tmpfile\n",
    "from gensim.test.utils import datapath\n",
    "from gensim.models.ldamulticore import LdaMulticore\n",
    "\n",
    "from gensim.models import phrases, word2vec\n",
    "\n",
    "# Remove unnecessary warnings\n",
    "pd.options.mode.chained_assignment = None\n"
   ]
  },
  {
   "cell_type": "code",
   "execution_count": 2,
   "metadata": {},
   "outputs": [],
   "source": [
    "import pyodbc\n",
    "from sqlalchemy import create_engine\n",
    "import urllib\n",
    "\n",
    "params = urllib.parse.quote_plus(r'DRIVER={SQL Server};SERVER=LIPHT-VM-01;DATABASE=Akademikernes_MSCRM_addition;Trusted_Connection=yes')\n",
    "conn_str = 'mssql+pyodbc:///?odbc_connect={}'.format(params)\n",
    "engine = create_engine(conn_str)"
   ]
  },
  {
   "cell_type": "markdown",
   "metadata": {},
   "source": [
    "### Load Functions"
   ]
  },
  {
   "cell_type": "code",
   "execution_count": 3,
   "metadata": {},
   "outputs": [],
   "source": [
    "from lipht_lda import df_lda_preprocessing, lda_preprocess_string, df_lda_features, get_lda_topics, lda_predict_df, lda_predict_string, document_to_bow, df_lda_features"
   ]
  },
  {
   "cell_type": "markdown",
   "metadata": {},
   "source": [
    "# Import Data"
   ]
  },
  {
   "cell_type": "code",
   "execution_count": 4,
   "metadata": {},
   "outputs": [],
   "source": [
    "# df_raw = pd.read_pickle('data/AKA_rawdata.pkl')\n",
    "# df_import = df_raw.copy(deep=True)"
   ]
  },
  {
   "cell_type": "code",
   "execution_count": 5,
   "metadata": {},
   "outputs": [
    {
     "name": "stdout",
     "output_type": "stream",
     "text": [
      "Wall time: 0 ns\n"
     ]
    }
   ],
   "source": [
    "%%time\n",
    "# df_import = pd.read_pickle('data/AKA_rawdata_df_lda_preprocessed.pkl')\n",
    "# df_import = pd.read_pickle('data/AKA_rawdata_with_language.pkl')"
   ]
  },
  {
   "cell_type": "code",
   "execution_count": 6,
   "metadata": {},
   "outputs": [
    {
     "name": "stdout",
     "output_type": "stream",
     "text": [
      "Wall time: 0 ns\n"
     ]
    }
   ],
   "source": [
    "%%time\n",
    "# df_B = df_B[(df_B['ThreadStatus']=='Fuldført') & (df_B['ThreadMessageDirection']=='Indgående') & (df_B['ThreadMessageIsFirstMemberMessage']==1) & (df_B['ThreadTotalMessageCount']>1) & (df_B['ThreadHasInteraction']>=1) & (df_B['ThreadResponsibleDepartmentTeam']=='Udbetalingsteam') & (df_B['pred_label']=='Danish')]\n",
    "# df_B = df_B[(df_B['ThreadStatus']=='Fuldført') & (df_B['ThreadMessageDirection']=='Indgående') & (df_B['ThreadMessageIsFirstMemberMessage']==1) & (df_B['ThreadResponsibleDepartmentTeam'].str.contains('Udbetalingsteam')==True) & (df_B['pred_label']=='Danish')]\n",
    "# print(df_B.shape)"
   ]
  },
  {
   "cell_type": "markdown",
   "metadata": {},
   "source": [
    "#### Setup Analysis Parameters"
   ]
  },
  {
   "cell_type": "code",
   "execution_count": 7,
   "metadata": {},
   "outputs": [],
   "source": [
    "dataset = 'Udbetalingsteam'\n",
    "initiatedby = 'Initiatedby_AKA'\n",
    "n_gram = 3\n",
    "sample_size= 10000\n",
    "no_words= 5000\n",
    "no_below= 10 # filter out tokens that appear in less than 15 documents\n",
    "random_state=1\n",
    "research_scope = 'Udbetalingteam'\n",
    "num_topics = 7"
   ]
  },
  {
   "cell_type": "code",
   "execution_count": 8,
   "metadata": {},
   "outputs": [],
   "source": [
    "df_import = pd.read_pickle('data/{}/{}.pkl'.format(initiatedby,dataset))"
   ]
  },
  {
   "cell_type": "code",
   "execution_count": 9,
   "metadata": {},
   "outputs": [
    {
     "data": {
      "text/html": [
       "<div>\n",
       "<style scoped>\n",
       "    .dataframe tbody tr th:only-of-type {\n",
       "        vertical-align: middle;\n",
       "    }\n",
       "\n",
       "    .dataframe tbody tr th {\n",
       "        vertical-align: top;\n",
       "    }\n",
       "\n",
       "    .dataframe thead th {\n",
       "        text-align: right;\n",
       "    }\n",
       "</style>\n",
       "<table border=\"1\" class=\"dataframe\">\n",
       "  <thead>\n",
       "    <tr style=\"text-align: right;\">\n",
       "      <th></th>\n",
       "      <th>ThreadID</th>\n",
       "      <th>ThreadSubject</th>\n",
       "      <th>FirstMessage</th>\n",
       "      <th>FirstMemberMessage</th>\n",
       "      <th>ThreadInitiatedBy</th>\n",
       "      <th>ThreadClass</th>\n",
       "      <th>InDiagnosticScope</th>\n",
       "      <th>ThreadMessageID</th>\n",
       "      <th>ThreadResponsibleDepartment</th>\n",
       "      <th>ThreadResponsibleDepartmentTeam</th>\n",
       "      <th>...</th>\n",
       "      <th>text_Exclamationmarks</th>\n",
       "      <th>tokenized_text</th>\n",
       "      <th>stopwords_removed</th>\n",
       "      <th>lemmatized_text</th>\n",
       "      <th>stemmed_text</th>\n",
       "      <th>bow</th>\n",
       "      <th>language_prediction</th>\n",
       "      <th>language_probability</th>\n",
       "      <th>language_id</th>\n",
       "      <th>language</th>\n",
       "    </tr>\n",
       "  </thead>\n",
       "  <tbody>\n",
       "    <tr>\n",
       "      <th>22</th>\n",
       "      <td>119851D3-AAEC-E611-AC9F-005056AD2D14</td>\n",
       "      <td>Vigtig viden om dit gratis medlemskab da du sn...</td>\n",
       "      <td>Du bliver snart 30 år og så gælder der andre r...</td>\n",
       "      <td>\\nHej\\n \\nJeg ønsker forsat at være fritaget ...</td>\n",
       "      <td>AKA</td>\n",
       "      <td>AKA to Member to AKA</td>\n",
       "      <td>1</td>\n",
       "      <td>1B9851D3-AAEC-E611-AC9F-005056AD2D14</td>\n",
       "      <td>Forsikring</td>\n",
       "      <td>Udbetalingsteam</td>\n",
       "      <td>...</td>\n",
       "      <td>0</td>\n",
       "      <td>[gælder_der, og, i, for_kontingentfritagelse, ...</td>\n",
       "      <td>[gælder_der, for_kontingentfritagelse, regler,...</td>\n",
       "      <td>[gælder_der, for_kontingentfritagelse, regler,...</td>\n",
       "      <td>[gælder_d, for_kontingentfritag, regl, dine_mu...</td>\n",
       "      <td>[(78, 1), (258, 1), (284, 1), (365, 1)]</td>\n",
       "      <td>[0.92553055, 0, Danish]</td>\n",
       "      <td>0.925531</td>\n",
       "      <td>0</td>\n",
       "      <td>Danish</td>\n",
       "    </tr>\n",
       "    <tr>\n",
       "      <th>23</th>\n",
       "      <td>2ED0B527-AF2E-E711-AC9F-005056AD2D14</td>\n",
       "      <td>Du kan søge om feriedagpenge</td>\n",
       "      <td>Du har optjent feriedagpenge, som du kan søge ...</td>\n",
       "      <td>Hej\\nI brevet stå at jeg har optjent 22 dage m...</td>\n",
       "      <td>AKA</td>\n",
       "      <td>AKA to Member to AKA</td>\n",
       "      <td>1</td>\n",
       "      <td>38D0B527-AF2E-E711-AC9F-005056AD2D14</td>\n",
       "      <td>Forsikring</td>\n",
       "      <td>Udbetalingsteam</td>\n",
       "      <td>...</td>\n",
       "      <td>0</td>\n",
       "      <td>[og, optjent, i, mange, om_dem, til, du, søge,...</td>\n",
       "      <td>[optjent, om_dem, søge, feriedagpenge_du, dage...</td>\n",
       "      <td>[optjent, om_dem, søge, feriedagpenge_du, dage...</td>\n",
       "      <td>[optjent, om_dem, søg, feriedagpenge_du, dag, ...</td>\n",
       "      <td>[(31, 1), (78, 1), (126, 1), (156, 1), (365, 1...</td>\n",
       "      <td>[0.94680625, 0, Danish]</td>\n",
       "      <td>0.946806</td>\n",
       "      <td>0</td>\n",
       "      <td>Danish</td>\n",
       "    </tr>\n",
       "    <tr>\n",
       "      <th>50</th>\n",
       "      <td>389A6222-EFD1-E611-B361-005056AD2D14</td>\n",
       "      <td>Tak for din ansøgning om dagpenge</td>\n",
       "      <td>None</td>\n",
       "      <td>Kære A-kasse\\nLigesom jeg sad og skulle udfyld...</td>\n",
       "      <td>AKA</td>\n",
       "      <td>AKA to Member to AKA</td>\n",
       "      <td>1</td>\n",
       "      <td>CD725C28-EFD1-E611-B361-005056AD2D14</td>\n",
       "      <td>Forsikring</td>\n",
       "      <td>Udbetalingsteam</td>\n",
       "      <td>...</td>\n",
       "      <td>0</td>\n",
       "      <td>[none]</td>\n",
       "      <td>[none]</td>\n",
       "      <td>[none]</td>\n",
       "      <td>[non]</td>\n",
       "      <td>[(31, 1), (59, 1), (60, 1), (69, 1), (84, 1), ...</td>\n",
       "      <td>[0.9690974, 0, Danish]</td>\n",
       "      <td>0.969097</td>\n",
       "      <td>0</td>\n",
       "      <td>Danish</td>\n",
       "    </tr>\n",
       "    <tr>\n",
       "      <th>77</th>\n",
       "      <td>D25E6449-D31D-E711-AC9F-005056AD2D14</td>\n",
       "      <td>Du kan søge om feriedagpenge</td>\n",
       "      <td>Du har optjent feriedagpenge, som du kan søge ...</td>\n",
       "      <td>Er dette relevant i min nuværende situation?</td>\n",
       "      <td>AKA</td>\n",
       "      <td>AKA to Member to AKA</td>\n",
       "      <td>1</td>\n",
       "      <td>DC5E6449-D31D-E711-AC9F-005056AD2D14</td>\n",
       "      <td>Forsikring</td>\n",
       "      <td>Udbetalingsteam</td>\n",
       "      <td>...</td>\n",
       "      <td>0</td>\n",
       "      <td>[og, optjent, i, mange, om_dem, til, du, søge,...</td>\n",
       "      <td>[optjent, om_dem, søge, feriedagpenge_du, dage...</td>\n",
       "      <td>[optjent, om_dem, søge, feriedagpenge_du, dage...</td>\n",
       "      <td>[optjent, om_dem, søg, feriedagpenge_du, dag, ...</td>\n",
       "      <td>[]</td>\n",
       "      <td>[0.63060194, 0, Danish]</td>\n",
       "      <td>0.630602</td>\n",
       "      <td>0</td>\n",
       "      <td>Danish</td>\n",
       "    </tr>\n",
       "    <tr>\n",
       "      <th>137</th>\n",
       "      <td>48EDE43A-4491-E711-BE8E-005056AD2D14</td>\n",
       "      <td>Velkommen i Akademikernes A-kasse</td>\n",
       "      <td>Vi er glade for at byde dig velkommen i Akadem...</td>\n",
       "      <td>Jeg har meldt mig ledig på jobnet samt udfyldt...</td>\n",
       "      <td>AKA</td>\n",
       "      <td>AKA to Member to AKA</td>\n",
       "      <td>1</td>\n",
       "      <td>54EDE43A-4491-E711-BE8E-005056AD2D14</td>\n",
       "      <td>Forsikring</td>\n",
       "      <td>Udbetalingsteam</td>\n",
       "      <td>...</td>\n",
       "      <td>0</td>\n",
       "      <td>[er, og_hvad, du_skal, gøre, og, dette_brev, i...</td>\n",
       "      <td>[og_hvad, du_skal, dette_brev, det_er, hvad_du...</td>\n",
       "      <td>[og_hvad, du_skal, dette_brev, det_er, hvad_du...</td>\n",
       "      <td>[og_hvad, du_skal, dette_brev, det_, hvad_du, ...</td>\n",
       "      <td>[(40, 1), (59, 1), (71, 1), (219, 1), (324, 1)...</td>\n",
       "      <td>[0.95890415, 0, Danish]</td>\n",
       "      <td>0.958904</td>\n",
       "      <td>0</td>\n",
       "      <td>Danish</td>\n",
       "    </tr>\n",
       "  </tbody>\n",
       "</table>\n",
       "<p>5 rows × 26 columns</p>\n",
       "</div>"
      ],
      "text/plain": [
       "                                 ThreadID  \\\n",
       "22   119851D3-AAEC-E611-AC9F-005056AD2D14   \n",
       "23   2ED0B527-AF2E-E711-AC9F-005056AD2D14   \n",
       "50   389A6222-EFD1-E611-B361-005056AD2D14   \n",
       "77   D25E6449-D31D-E711-AC9F-005056AD2D14   \n",
       "137  48EDE43A-4491-E711-BE8E-005056AD2D14   \n",
       "\n",
       "                                         ThreadSubject  \\\n",
       "22   Vigtig viden om dit gratis medlemskab da du sn...   \n",
       "23                        Du kan søge om feriedagpenge   \n",
       "50                   Tak for din ansøgning om dagpenge   \n",
       "77                        Du kan søge om feriedagpenge   \n",
       "137                  Velkommen i Akademikernes A-kasse   \n",
       "\n",
       "                                          FirstMessage  \\\n",
       "22   Du bliver snart 30 år og så gælder der andre r...   \n",
       "23   Du har optjent feriedagpenge, som du kan søge ...   \n",
       "50                                                None   \n",
       "77   Du har optjent feriedagpenge, som du kan søge ...   \n",
       "137  Vi er glade for at byde dig velkommen i Akadem...   \n",
       "\n",
       "                                    FirstMemberMessage ThreadInitiatedBy  \\\n",
       "22    \\nHej\\n \\nJeg ønsker forsat at være fritaget ...               AKA   \n",
       "23   Hej\\nI brevet stå at jeg har optjent 22 dage m...               AKA   \n",
       "50   Kære A-kasse\\nLigesom jeg sad og skulle udfyld...               AKA   \n",
       "77        Er dette relevant i min nuværende situation?               AKA   \n",
       "137  Jeg har meldt mig ledig på jobnet samt udfyldt...               AKA   \n",
       "\n",
       "              ThreadClass  InDiagnosticScope  \\\n",
       "22   AKA to Member to AKA                  1   \n",
       "23   AKA to Member to AKA                  1   \n",
       "50   AKA to Member to AKA                  1   \n",
       "77   AKA to Member to AKA                  1   \n",
       "137  AKA to Member to AKA                  1   \n",
       "\n",
       "                          ThreadMessageID ThreadResponsibleDepartment  \\\n",
       "22   1B9851D3-AAEC-E611-AC9F-005056AD2D14                  Forsikring   \n",
       "23   38D0B527-AF2E-E711-AC9F-005056AD2D14                  Forsikring   \n",
       "50   CD725C28-EFD1-E611-B361-005056AD2D14                  Forsikring   \n",
       "77   DC5E6449-D31D-E711-AC9F-005056AD2D14                  Forsikring   \n",
       "137  54EDE43A-4491-E711-BE8E-005056AD2D14                  Forsikring   \n",
       "\n",
       "    ThreadResponsibleDepartmentTeam   ...    text_Exclamationmarks  \\\n",
       "22                  Udbetalingsteam   ...                        0   \n",
       "23                  Udbetalingsteam   ...                        0   \n",
       "50                  Udbetalingsteam   ...                        0   \n",
       "77                  Udbetalingsteam   ...                        0   \n",
       "137                 Udbetalingsteam   ...                        0   \n",
       "\n",
       "                                        tokenized_text  \\\n",
       "22   [gælder_der, og, i, for_kontingentfritagelse, ...   \n",
       "23   [og, optjent, i, mange, om_dem, til, du, søge,...   \n",
       "50                                              [none]   \n",
       "77   [og, optjent, i, mange, om_dem, til, du, søge,...   \n",
       "137  [er, og_hvad, du_skal, gøre, og, dette_brev, i...   \n",
       "\n",
       "                                     stopwords_removed  \\\n",
       "22   [gælder_der, for_kontingentfritagelse, regler,...   \n",
       "23   [optjent, om_dem, søge, feriedagpenge_du, dage...   \n",
       "50                                              [none]   \n",
       "77   [optjent, om_dem, søge, feriedagpenge_du, dage...   \n",
       "137  [og_hvad, du_skal, dette_brev, det_er, hvad_du...   \n",
       "\n",
       "                                       lemmatized_text  \\\n",
       "22   [gælder_der, for_kontingentfritagelse, regler,...   \n",
       "23   [optjent, om_dem, søge, feriedagpenge_du, dage...   \n",
       "50                                              [none]   \n",
       "77   [optjent, om_dem, søge, feriedagpenge_du, dage...   \n",
       "137  [og_hvad, du_skal, dette_brev, det_er, hvad_du...   \n",
       "\n",
       "                                          stemmed_text  \\\n",
       "22   [gælder_d, for_kontingentfritag, regl, dine_mu...   \n",
       "23   [optjent, om_dem, søg, feriedagpenge_du, dag, ...   \n",
       "50                                               [non]   \n",
       "77   [optjent, om_dem, søg, feriedagpenge_du, dag, ...   \n",
       "137  [og_hvad, du_skal, dette_brev, det_, hvad_du, ...   \n",
       "\n",
       "                                                   bow  \\\n",
       "22             [(78, 1), (258, 1), (284, 1), (365, 1)]   \n",
       "23   [(31, 1), (78, 1), (126, 1), (156, 1), (365, 1...   \n",
       "50   [(31, 1), (59, 1), (60, 1), (69, 1), (84, 1), ...   \n",
       "77                                                  []   \n",
       "137  [(40, 1), (59, 1), (71, 1), (219, 1), (324, 1)...   \n",
       "\n",
       "         language_prediction language_probability language_id language  \n",
       "22   [0.92553055, 0, Danish]             0.925531           0   Danish  \n",
       "23   [0.94680625, 0, Danish]             0.946806           0   Danish  \n",
       "50    [0.9690974, 0, Danish]             0.969097           0   Danish  \n",
       "77   [0.63060194, 0, Danish]             0.630602           0   Danish  \n",
       "137  [0.95890415, 0, Danish]             0.958904           0   Danish  \n",
       "\n",
       "[5 rows x 26 columns]"
      ]
     },
     "execution_count": 9,
     "metadata": {},
     "output_type": "execute_result"
    }
   ],
   "source": [
    "# Create dataset for method B\n",
    "# Process 1st MemberMessage, then\n",
    "# Concatenate with Subject\n",
    "df = df_import.copy(deep=True)\n",
    "df.head()"
   ]
  },
  {
   "cell_type": "code",
   "execution_count": 10,
   "metadata": {},
   "outputs": [
    {
     "data": {
      "text/plain": [
       "(661, 26)"
      ]
     },
     "execution_count": 10,
     "metadata": {},
     "output_type": "execute_result"
    }
   ],
   "source": [
    "df.shape"
   ]
  },
  {
   "cell_type": "code",
   "execution_count": 11,
   "metadata": {},
   "outputs": [
    {
     "name": "stdout",
     "output_type": "stream",
     "text": [
      "Wall time: 4.2 s\n"
     ]
    }
   ],
   "source": [
    "%%time\n",
    "df_lda_preprocessing(df,'FirstMessage',n_gram)"
   ]
  },
  {
   "cell_type": "code",
   "execution_count": 12,
   "metadata": {},
   "outputs": [
    {
     "data": {
      "text/plain": [
       "ThreadID                            0\n",
       "ThreadSubject                       0\n",
       "FirstMessage                       53\n",
       "FirstMemberMessage                  0\n",
       "ThreadInitiatedBy                   0\n",
       "ThreadClass                         0\n",
       "InDiagnosticScope                   0\n",
       "ThreadMessageID                     0\n",
       "ThreadResponsibleDepartment         0\n",
       "ThreadResponsibleDepartmentTeam     0\n",
       "text                                0\n",
       "text_CharCount                      0\n",
       "text_LessThan5000                   0\n",
       "text_WordCount                      0\n",
       "text_Questionmarks                  0\n",
       "text_1Question                      0\n",
       "text_Exclamationmarks               0\n",
       "tokenized_text                      0\n",
       "stopwords_removed                   0\n",
       "lemmatized_text                     0\n",
       "stemmed_text                        0\n",
       "bow                                 0\n",
       "language_prediction                 0\n",
       "language_probability                0\n",
       "language_id                         0\n",
       "language                            0\n",
       "dtype: int64"
      ]
     },
     "execution_count": 12,
     "metadata": {},
     "output_type": "execute_result"
    }
   ],
   "source": [
    "df.isnull().sum()"
   ]
  },
  {
   "cell_type": "code",
   "execution_count": 13,
   "metadata": {},
   "outputs": [
    {
     "name": "stdout",
     "output_type": "stream",
     "text": [
      "(661, 26)\n"
     ]
    }
   ],
   "source": [
    "print(df.shape)"
   ]
  },
  {
   "cell_type": "code",
   "execution_count": 14,
   "metadata": {},
   "outputs": [],
   "source": [
    "df.to_pickle('data/{}/{}.pkl'.format(initiatedby,dataset))"
   ]
  },
  {
   "cell_type": "markdown",
   "metadata": {},
   "source": [
    "## Analyze Requests\n",
    "Messages are either\n",
    "- Incoming (from members) or\n",
    "- Outgoing (from aka)\n",
    "All messeages have\n",
    "- subject_field and\n",
    "- message_field\n",
    "\n",
    "In the following we will analyze the different splits of data, with regards to the above:\n",
    "- Incoming_subject\n",
    "- Incoming_message\n",
    "- Outgoing_subject\n",
    "- Outgoing_message"
   ]
  },
  {
   "cell_type": "markdown",
   "metadata": {},
   "source": [
    "### Request Analysis: Udbetaling"
   ]
  },
  {
   "cell_type": "markdown",
   "metadata": {},
   "source": [
    "#### Load the data"
   ]
  },
  {
   "cell_type": "code",
   "execution_count": 15,
   "metadata": {},
   "outputs": [
    {
     "name": "stdout",
     "output_type": "stream",
     "text": [
      "Wall time: 37 ms\n"
     ]
    }
   ],
   "source": [
    "%%time\n",
    "# Load the data, and print rows, columns\n",
    "df_scope = pd.read_pickle('data/{}/{}.pkl'.format(initiatedby,dataset))"
   ]
  },
  {
   "cell_type": "code",
   "execution_count": 16,
   "metadata": {},
   "outputs": [
    {
     "name": "stdout",
     "output_type": "stream",
     "text": [
      "(661, 26) 661\n"
     ]
    }
   ],
   "source": [
    "if sample_size>df_scope.shape[0]:\n",
    "    sample_size = df_scope.shape[0]\n",
    "print(df_scope.shape, sample_size)"
   ]
  },
  {
   "cell_type": "code",
   "execution_count": 17,
   "metadata": {},
   "outputs": [
    {
     "name": "stdout",
     "output_type": "stream",
     "text": [
      "Initiatedby_AKA_Udbetalingteam_topics-7_Sample-661_WordCount-5000_RandomState-1_dataset-Udbetalingsteam\n"
     ]
    }
   ],
   "source": [
    "data_scope_name = initiatedby+'_'+research_scope +'_topics-'+ str(num_topics) +'_Sample-'+str(sample_size) +'_WordCount-'+str(no_words) +'_RandomState-'+str(random_state)+'_dataset-'+ dataset\n",
    "print(data_scope_name)"
   ]
  },
  {
   "cell_type": "markdown",
   "metadata": {},
   "source": [
    "### Vectorize words"
   ]
  },
  {
   "cell_type": "markdown",
   "metadata": {},
   "source": [
    "#### Create dictionary and top words\n",
    "\n",
    "##### Parameters:\t\n",
    "- **no_below** (int, optional) – Keep tokens which are contained in at least no_below documents.\n",
    "- **no_above** (float, optional) – Keep tokens which are contained in no more than no_above documents (fraction of total corpus size, not an absolute number).\n",
    "- **keep_n** (int, optional) – Keep only the first keep_n most frequent tokens.\n",
    "- **keep_tokens** (iterable of str) – Iterable of tokens that must stay in dictionary after filtering."
   ]
  },
  {
   "cell_type": "code",
   "execution_count": 18,
   "metadata": {},
   "outputs": [
    {
     "name": "stdout",
     "output_type": "stream",
     "text": [
      "Found 3171 words.\n",
      "Wall time: 80.8 ms\n"
     ]
    }
   ],
   "source": [
    "%%time\n",
    "# Create dictionary with words from df_scope (the total dataset)\n",
    "dictionary = Dictionary(documents=df_scope.stemmed_text.values)\n",
    "print(\"Found {} words.\".format(len(dictionary.values())))"
   ]
  },
  {
   "cell_type": "code",
   "execution_count": 19,
   "metadata": {},
   "outputs": [
    {
     "name": "stdout",
     "output_type": "stream",
     "text": [
      "Left with 1021 words.\n",
      "Wall time: 5 ms\n"
     ]
    }
   ],
   "source": [
    "%%time\n",
    "dictionary.filter_extremes(no_below=no_below, keep_n=no_words)\n",
    "\n",
    "dictionary.compactify()  # Reindexes the remaining words after filtering\n",
    "print(\"Left with {} words.\".format(len(dictionary.values())))"
   ]
  },
  {
   "cell_type": "code",
   "execution_count": 20,
   "metadata": {},
   "outputs": [
    {
     "name": "stdout",
     "output_type": "stream",
     "text": [
      "Wall time: 55 ms\n"
     ]
    }
   ],
   "source": [
    "%%time\n",
    "#Make a BoW for every Besked\n",
    "document_to_bow(df_scope, dictionary)"
   ]
  },
  {
   "cell_type": "markdown",
   "metadata": {},
   "source": [
    "#### Create Sample of Scope"
   ]
  },
  {
   "cell_type": "code",
   "execution_count": 21,
   "metadata": {},
   "outputs": [
    {
     "data": {
      "text/plain": [
       "(661, 26)"
      ]
     },
     "execution_count": 21,
     "metadata": {},
     "output_type": "execute_result"
    }
   ],
   "source": [
    "scope_lda_sample = df_scope.sample(sample_size, random_state=random_state)\n",
    "scope_lda_sample.shape"
   ]
  },
  {
   "cell_type": "code",
   "execution_count": 22,
   "metadata": {
    "scrolled": true
   },
   "outputs": [
    {
     "data": {
      "text/plain": [
       "array(['ThreadID', 'ThreadSubject', 'FirstMessage', 'FirstMemberMessage',\n",
       "       'ThreadInitiatedBy', 'ThreadClass', 'InDiagnosticScope',\n",
       "       'ThreadMessageID', 'ThreadResponsibleDepartment',\n",
       "       'ThreadResponsibleDepartmentTeam', 'text', 'text_CharCount',\n",
       "       'text_LessThan5000', 'text_WordCount', 'text_Questionmarks',\n",
       "       'text_1Question', 'text_Exclamationmarks', 'tokenized_text',\n",
       "       'stopwords_removed', 'lemmatized_text', 'stemmed_text', 'bow',\n",
       "       'language_prediction', 'language_probability', 'language_id',\n",
       "       'language'], dtype=object)"
      ]
     },
     "execution_count": 22,
     "metadata": {},
     "output_type": "execute_result"
    }
   ],
   "source": [
    "scope_lda_sample.columns.values"
   ]
  },
  {
   "cell_type": "code",
   "execution_count": 23,
   "metadata": {},
   "outputs": [
    {
     "data": {
      "text/html": [
       "<div>\n",
       "<style scoped>\n",
       "    .dataframe tbody tr th:only-of-type {\n",
       "        vertical-align: middle;\n",
       "    }\n",
       "\n",
       "    .dataframe tbody tr th {\n",
       "        vertical-align: top;\n",
       "    }\n",
       "\n",
       "    .dataframe thead th {\n",
       "        text-align: right;\n",
       "    }\n",
       "</style>\n",
       "<table border=\"1\" class=\"dataframe\">\n",
       "  <thead>\n",
       "    <tr style=\"text-align: right;\">\n",
       "      <th></th>\n",
       "      <th>ThreadID</th>\n",
       "      <th>ThreadMessageID</th>\n",
       "      <th>ThreadSubject</th>\n",
       "      <th>FirstMemberMessage</th>\n",
       "      <th>text</th>\n",
       "      <th>tokenized_text</th>\n",
       "      <th>stopwords_removed</th>\n",
       "      <th>lemmatized_text</th>\n",
       "      <th>stemmed_text</th>\n",
       "    </tr>\n",
       "  </thead>\n",
       "  <tbody>\n",
       "    <tr>\n",
       "      <th>6807</th>\n",
       "      <td>53E1482B-88FF-E611-AC9F-005056AD2D14</td>\n",
       "      <td>5DE1482B-88FF-E611-AC9F-005056AD2D14</td>\n",
       "      <td>Du skal sende en sidste og afsluttende 6-måned...</td>\n",
       "      <td>Jeg er bedt om at indsende 6-månederserklæring...</td>\n",
       "      <td>da du er fyldt 65, skal du sende en sidste og ...</td>\n",
       "      <td>[for_at, sende, du_er, en, du_sende, en_endeli...</td>\n",
       "      <td>[for_at, sende, du_er, du_sende, en_endelig_op...</td>\n",
       "      <td>[for_at, sende, du_er, du_sende, en_endelig_op...</td>\n",
       "      <td>[for_at, send, du_, du_s, en_endelig_opgør, af...</td>\n",
       "    </tr>\n",
       "    <tr>\n",
       "      <th>15347</th>\n",
       "      <td>58DA49E0-F4A1-E711-BE8E-005056AD2D14</td>\n",
       "      <td>62DA49E0-F4A1-E711-BE8E-005056AD2D14</td>\n",
       "      <td>Vejledning om din sidste tid som ledig</td>\n",
       "      <td>Kære aka\\nhvornår er min sidste barselsdag? Mi...</td>\n",
       "      <td>i den sidste tid som ledig skal du ikke opfyld...</td>\n",
       "      <td>[vi_dig_nærmere, dig_nærmere_om, det, ikke_opf...</td>\n",
       "      <td>[vi_dig_nærmere, dig_nærmere_om, ikke_opfylde,...</td>\n",
       "      <td>[vi_dig_nærmere, dig_nærmere_om, ikke_opfylde,...</td>\n",
       "      <td>[vi_dig_nærm, dig_nærmere_om, ikke_opfyld, i_d...</td>\n",
       "    </tr>\n",
       "    <tr>\n",
       "      <th>1076</th>\n",
       "      <td>4DADB1A3-80FD-E611-AC9F-005056AD2D14</td>\n",
       "      <td>57ADB1A3-80FD-E611-AC9F-005056AD2D14</td>\n",
       "      <td>Du kan nu søge om udbetaling af skattefri præmie</td>\n",
       "      <td>Hermed min ansøgning om udbetaling af skattefr...</td>\n",
       "      <td>du kan snart søge om udbetaling af sktilefri p...</td>\n",
       "      <td>[udbetaling_af_sktilefri, en, udbetaling_af, s...</td>\n",
       "      <td>[udbetaling_af_sktilefri, udbetaling_af, sktil...</td>\n",
       "      <td>[udbetaling_af_sktilefri, udbetaling_af, sktil...</td>\n",
       "      <td>[udbetaling_af_sktilefri, udbetaling_af, sktil...</td>\n",
       "    </tr>\n",
       "    <tr>\n",
       "      <th>2623</th>\n",
       "      <td>943C81E6-954A-E711-BE8E-005056AD2D14</td>\n",
       "      <td>9E3C81E6-954A-E711-BE8E-005056AD2D14</td>\n",
       "      <td>Du er blevet ledig - hvad nu?</td>\n",
       "      <td>Kære AAk\\nHermed min erklæring om fravær.\\nMed...</td>\n",
       "      <td>vi har fået besked fra jobcenteret, om at du h...</td>\n",
       "      <td>[booke, en, forhold_til_de, til_de, at_du_har,...</td>\n",
       "      <td>[booke, forhold_til_de, til_de, at_du_har, bes...</td>\n",
       "      <td>[booke, forhold_til_de, til_de, at_du_har, bes...</td>\n",
       "      <td>[book, forhold_til_d, til_d, at_du_har, besked...</td>\n",
       "    </tr>\n",
       "    <tr>\n",
       "      <th>5380</th>\n",
       "      <td>C73D65D8-FCB7-E711-B45B-005056AD2D14</td>\n",
       "      <td>D23D65D8-FCB7-E711-B45B-005056AD2D14</td>\n",
       "      <td>Du er blevet ledig - hvad nu?</td>\n",
       "      <td>Jeg er vendt tilbage efter en sygemelding (4. ...</td>\n",
       "      <td>vi har fået besked fra jobcenteret, om at du h...</td>\n",
       "      <td>[booke, en, forhold_til_de, til_de, at_du_har,...</td>\n",
       "      <td>[booke, forhold_til_de, til_de, at_du_har, bes...</td>\n",
       "      <td>[booke, forhold_til_de, til_de, at_du_har, bes...</td>\n",
       "      <td>[book, forhold_til_d, til_d, at_du_har, besked...</td>\n",
       "    </tr>\n",
       "  </tbody>\n",
       "</table>\n",
       "</div>"
      ],
      "text/plain": [
       "                                   ThreadID  \\\n",
       "6807   53E1482B-88FF-E611-AC9F-005056AD2D14   \n",
       "15347  58DA49E0-F4A1-E711-BE8E-005056AD2D14   \n",
       "1076   4DADB1A3-80FD-E611-AC9F-005056AD2D14   \n",
       "2623   943C81E6-954A-E711-BE8E-005056AD2D14   \n",
       "5380   C73D65D8-FCB7-E711-B45B-005056AD2D14   \n",
       "\n",
       "                            ThreadMessageID  \\\n",
       "6807   5DE1482B-88FF-E611-AC9F-005056AD2D14   \n",
       "15347  62DA49E0-F4A1-E711-BE8E-005056AD2D14   \n",
       "1076   57ADB1A3-80FD-E611-AC9F-005056AD2D14   \n",
       "2623   9E3C81E6-954A-E711-BE8E-005056AD2D14   \n",
       "5380   D23D65D8-FCB7-E711-B45B-005056AD2D14   \n",
       "\n",
       "                                           ThreadSubject  \\\n",
       "6807   Du skal sende en sidste og afsluttende 6-måned...   \n",
       "15347             Vejledning om din sidste tid som ledig   \n",
       "1076    Du kan nu søge om udbetaling af skattefri præmie   \n",
       "2623                       Du er blevet ledig - hvad nu?   \n",
       "5380                       Du er blevet ledig - hvad nu?   \n",
       "\n",
       "                                      FirstMemberMessage  \\\n",
       "6807   Jeg er bedt om at indsende 6-månederserklæring...   \n",
       "15347  Kære aka\\nhvornår er min sidste barselsdag? Mi...   \n",
       "1076   Hermed min ansøgning om udbetaling af skattefr...   \n",
       "2623   Kære AAk\\nHermed min erklæring om fravær.\\nMed...   \n",
       "5380   Jeg er vendt tilbage efter en sygemelding (4. ...   \n",
       "\n",
       "                                                    text  \\\n",
       "6807   da du er fyldt 65, skal du sende en sidste og ...   \n",
       "15347  i den sidste tid som ledig skal du ikke opfyld...   \n",
       "1076   du kan snart søge om udbetaling af sktilefri p...   \n",
       "2623   vi har fået besked fra jobcenteret, om at du h...   \n",
       "5380   vi har fået besked fra jobcenteret, om at du h...   \n",
       "\n",
       "                                          tokenized_text  \\\n",
       "6807   [for_at, sende, du_er, en, du_sende, en_endeli...   \n",
       "15347  [vi_dig_nærmere, dig_nærmere_om, det, ikke_opf...   \n",
       "1076   [udbetaling_af_sktilefri, en, udbetaling_af, s...   \n",
       "2623   [booke, en, forhold_til_de, til_de, at_du_har,...   \n",
       "5380   [booke, en, forhold_til_de, til_de, at_du_har,...   \n",
       "\n",
       "                                       stopwords_removed  \\\n",
       "6807   [for_at, sende, du_er, du_sende, en_endelig_op...   \n",
       "15347  [vi_dig_nærmere, dig_nærmere_om, ikke_opfylde,...   \n",
       "1076   [udbetaling_af_sktilefri, udbetaling_af, sktil...   \n",
       "2623   [booke, forhold_til_de, til_de, at_du_har, bes...   \n",
       "5380   [booke, forhold_til_de, til_de, at_du_har, bes...   \n",
       "\n",
       "                                         lemmatized_text  \\\n",
       "6807   [for_at, sende, du_er, du_sende, en_endelig_op...   \n",
       "15347  [vi_dig_nærmere, dig_nærmere_om, ikke_opfylde,...   \n",
       "1076   [udbetaling_af_sktilefri, udbetaling_af, sktil...   \n",
       "2623   [booke, forhold_til_de, til_de, at_du_har, bes...   \n",
       "5380   [booke, forhold_til_de, til_de, at_du_har, bes...   \n",
       "\n",
       "                                            stemmed_text  \n",
       "6807   [for_at, send, du_, du_s, en_endelig_opgør, af...  \n",
       "15347  [vi_dig_nærm, dig_nærmere_om, ikke_opfyld, i_d...  \n",
       "1076   [udbetaling_af_sktilefri, udbetaling_af, sktil...  \n",
       "2623   [book, forhold_til_d, til_d, at_du_har, besked...  \n",
       "5380   [book, forhold_til_d, til_d, at_du_har, besked...  "
      ]
     },
     "execution_count": 23,
     "metadata": {},
     "output_type": "execute_result"
    }
   ],
   "source": [
    "scope_lda_sample[['ThreadID','ThreadMessageID','ThreadSubject','FirstMemberMessage','text','tokenized_text','stopwords_removed','lemmatized_text','stemmed_text']].head()"
   ]
  },
  {
   "cell_type": "markdown",
   "metadata": {},
   "source": [
    "### Find optimal number of topics for LDA\n",
    "#### K-means Elbow method"
   ]
  },
  {
   "cell_type": "markdown",
   "metadata": {},
   "source": [
    "#### Create Topwords\n",
    "Create a list of topwords from the entire dataframe"
   ]
  },
  {
   "cell_type": "markdown",
   "metadata": {},
   "source": [
    "#### Tf-idf and document similarity"
   ]
  },
  {
   "cell_type": "markdown",
   "metadata": {},
   "source": [
    "I define term frequency-inverse document frequency (tf-idf) vectorizer parameters and then convert the clean_content list into a tf-idf matrix.\n",
    "\n",
    "To get a Tf-idf matrix, first count word occurrences by request. This is transformed into a request-term matrix (dtm). This is also just called a term frequency matrix.\n",
    "\n",
    "Then apply the term frequency-inverse document frequency weighting: words that occur frequently within a request but not frequently within the corpus receive a higher weighting as these words are assumed to contain more meaning in relation to the request.\n",
    "\n",
    "A couple things to note about the parameters I define below:\n",
    "\n",
    "max_df: this is the maximum frequency within the request a given feature can have to be used in the tfi-idf matrix. If the term is in greater than 80% of the request it probably cares little meanining - rule of thumb (verify this)\n",
    "\n",
    "min_idf: this could be an integer (e.g. 5) and the term would have to be in at least 5 of the request to be considered. Here I pass 0.2; the term must be in at least 20% of the request. \n",
    "\n",
    "TEST THIS\n",
    "I found that if I allowed a lower min_df I ended up basing clustering on names--for example \"Michael\" or \"Tom\" are names found in several of the movies and the synopses use these names frequently, but the names carry no real meaning.\n",
    "\n",
    "ngram_range: this just means I'll look at unigrams, bigrams and trigrams. See n-grams"
   ]
  },
  {
   "cell_type": "code",
   "execution_count": 24,
   "metadata": {},
   "outputs": [
    {
     "name": "stdout",
     "output_type": "stream",
     "text": [
      "Wall time: 361 ms\n"
     ]
    }
   ],
   "source": [
    "%%time\n",
    "top_words = [v for v in dictionary.values()]\n",
    "top_words = list(set(top_words))\n",
    "df_scope['OnlyTopWords'] = list(map(lambda doc: [word for word in doc if word in top_words], df_scope['stemmed_text']))"
   ]
  },
  {
   "cell_type": "code",
   "execution_count": 25,
   "metadata": {},
   "outputs": [
    {
     "name": "stdout",
     "output_type": "stream",
     "text": [
      "No of top words: 1021 \n"
     ]
    }
   ],
   "source": [
    "print(\"No of top words: {} \".format(len(top_words)))"
   ]
  },
  {
   "cell_type": "code",
   "execution_count": 26,
   "metadata": {},
   "outputs": [],
   "source": [
    "from lipht_lda import remove_not_topwords, ListToString"
   ]
  },
  {
   "cell_type": "code",
   "execution_count": 27,
   "metadata": {},
   "outputs": [],
   "source": [
    "# %%time\n",
    "top_words, _ = remove_not_topwords(scope_lda_sample, df_scope)"
   ]
  },
  {
   "cell_type": "code",
   "execution_count": 28,
   "metadata": {},
   "outputs": [],
   "source": [
    "# # Create dictionary with words from df_scope (the total dataset) or scope_lda_sample (the sample size)\n",
    "# dictionary = Dictionary(documents=df_scope.stemmed_text.values)\n",
    "# #Make a BoW for every Besked\n",
    "# document_to_bow(df_scope)"
   ]
  },
  {
   "cell_type": "code",
   "execution_count": 29,
   "metadata": {},
   "outputs": [
    {
     "name": "stdout",
     "output_type": "stream",
     "text": [
      "Found 1021 words.\n"
     ]
    }
   ],
   "source": [
    "# LDA preprocessing\n",
    "print(\"Found {} words.\".format(len(dictionary.values())))"
   ]
  },
  {
   "cell_type": "code",
   "execution_count": 30,
   "metadata": {},
   "outputs": [
    {
     "name": "stdout",
     "output_type": "stream",
     "text": [
      "Wall time: 3.43 ms\n"
     ]
    }
   ],
   "source": [
    "%%time\n",
    "scope_lda_sample['clean_content'] = scope_lda_sample['OnlyTopWords'].apply(ListToString)"
   ]
  },
  {
   "cell_type": "code",
   "execution_count": 31,
   "metadata": {},
   "outputs": [
    {
     "name": "stdout",
     "output_type": "stream",
     "text": [
      "(661, 500)\n",
      "Wall time: 52 ms\n"
     ]
    }
   ],
   "source": [
    "%%time\n",
    "tfidf_wordvector = TfidfVectorizer(\n",
    "                analyzer='word', \n",
    "                max_df=0.8, \n",
    "                min_df=5, \n",
    "#                 stop_words=stopwords.words('danish'),\n",
    "#                 ngram_range=(1,3)\n",
    "                ) \n",
    "\n",
    "#fit the tfidf_wordvector to clean_content\n",
    "tfidf_wordvector_maxtrix = tfidf_wordvector.fit_transform(scope_lda_sample.clean_content)\n",
    "print(tfidf_wordvector_maxtrix.shape)"
   ]
  },
  {
   "cell_type": "markdown",
   "metadata": {},
   "source": [
    "dist is defined as 1 - the cosine similarity of each request. Cosine similarity is measured against the tf-idf matrix and can be used to generate a measure of similarity between each request and the other request in the corpus (each clean_content among the total clean_content). Subtracting it from 1 provides cosine distance which I will use for plotting on a euclidean (2-dimensional) plane.\n",
    "\n",
    "Note that with dist it is possible to evaluate the similarity of any two or more clean_content."
   ]
  },
  {
   "cell_type": "code",
   "execution_count": 32,
   "metadata": {},
   "outputs": [],
   "source": [
    "tfidf_wordvector_2d = tfidf_wordvector_maxtrix.todense()"
   ]
  },
  {
   "cell_type": "code",
   "execution_count": 33,
   "metadata": {},
   "outputs": [],
   "source": [
    "top_range = 50\n",
    "increments = 1"
   ]
  },
  {
   "cell_type": "code",
   "execution_count": 34,
   "metadata": {},
   "outputs": [
    {
     "name": "stdout",
     "output_type": "stream",
     "text": [
      "Wall time: 32.8 s\n"
     ]
    }
   ],
   "source": [
    "%%time\n",
    "distortions = []\n",
    "K = range(1,top_range,increments)\n",
    "for k in K:\n",
    "    kmeanModel = KMeans(n_clusters=k, n_jobs=-1, random_state=0).fit(tfidf_wordvector_2d)\n",
    "    kmeanModel.fit(tfidf_wordvector_2d)\n",
    "    distortions.append(sum(np.min(cdist(tfidf_wordvector_2d, kmeanModel.cluster_centers_, 'euclidean'), axis=1)) / tfidf_wordvector_2d.shape[0])"
   ]
  },
  {
   "cell_type": "code",
   "execution_count": 35,
   "metadata": {
    "scrolled": false
   },
   "outputs": [
    {
     "data": {
      "image/png": "[encoded data removed]",
      "text/plain": [
       "<Figure size 1152x720 with 1 Axes>"
      ]
     },
     "metadata": {
      "needs_background": "light"
     },
     "output_type": "display_data"
    }
   ],
   "source": [
    "# Plot the elbow\n",
    "title_elbow = 'The Elbow Method: {4}. Showing the optimal k\\nSample Size: {0}, Top {1} Words, with increments of {2} from 0 to {3}'.format(sample_size, len(top_words), increments, top_range-1, data_scope_name)\n",
    "info_text = research_scope +'_topics-'+ str(num_topics) +'_Sample-'+str(sample_size) +'_WordCount-'+str(no_words) +'_RandomState-'+str(random_state)\n",
    "filename = '{}_The Elbow Method_{}'.format(research_scope, info_text)\n",
    "plt.figure(figsize=(16, 10))\n",
    "plt.plot(K, distortions, 'bx-')\n",
    "plt.xlabel('k')\n",
    "plt.ylabel('Distortion')\n",
    "plt.title(title_elbow)\n",
    "plt.savefig(fname='data/{}/{}.png'.format(initiatedby,filename),transparent=True)\n",
    "plt.show()"
   ]
  },
  {
   "cell_type": "markdown",
   "metadata": {},
   "source": [
    "## LDA Model Training\n",
    "Latent Dirichlet Allocation (LDA) is generative approach in classifying texts. It is a three level hierarchical Bayesian model where it creates probabilities on word level, on document level and on corpus level (corpus means all documents)"
   ]
  },
  {
   "cell_type": "code",
   "execution_count": 36,
   "metadata": {},
   "outputs": [],
   "source": [
    "# We want to maximize the probability of the corpus in the training set.\n",
    "corpus = scope_lda_sample.bow"
   ]
  },
  {
   "cell_type": "code",
   "execution_count": 37,
   "metadata": {},
   "outputs": [
    {
     "name": "stdout",
     "output_type": "stream",
     "text": [
      "LDA Model based on Initiatedby_AKA_Udbetalingteam_topics-7_Sample-661_WordCount-5000_RandomState-1_dataset-Udbetalingsteam dataset.\n",
      "\tSample Size: 661,\n",
      "\tTop 1021 Words,\n",
      "\tNo of Topics 7\n"
     ]
    }
   ],
   "source": [
    "print(('LDA Model based on {3} dataset.\\n\\tSample Size: {0},\\n\\tTop {1} Words,\\n\\tNo of Topics {2}'.format(sample_size, len(dictionary.values()), num_topics, data_scope_name)))"
   ]
  },
  {
   "cell_type": "code",
   "execution_count": 38,
   "metadata": {
    "scrolled": true
   },
   "outputs": [
    {
     "name": "stdout",
     "output_type": "stream",
     "text": [
      "Wall time: 27.6 s\n"
     ]
    }
   ],
   "source": [
    "%%time\n",
    "#A multicore approach to decrease training time\n",
    "# https://radimrehurek.com/gensim/corpora/mmcorpus.html\n",
    "# ram_corpus = get_tmpfile(\"corpus_scope.mm\")\n",
    "# MmCorpus.serialize(ram_corpus, corpus)\n",
    "# mm = MmCorpus(ram_corpus)\n",
    "LDAmodel_scope = LdaMulticore(corpus=corpus,#mm,\n",
    "                        id2word=dictionary,\n",
    "                        num_topics=num_topics,\n",
    "                        workers=4,\n",
    "                        chunksize=5000,\n",
    "                        passes=50,\n",
    "                        alpha='asymmetric',\n",
    "                        random_state=random_state)"
   ]
  },
  {
   "cell_type": "code",
   "execution_count": 39,
   "metadata": {},
   "outputs": [],
   "source": [
    "dictionary.save('data/model/{0}_dictionary.pkl'.format(research_scope))#data_scope_name))"
   ]
  },
  {
   "cell_type": "code",
   "execution_count": 40,
   "metadata": {},
   "outputs": [],
   "source": [
    "LDAmodel_scope.save('data/model/{0}'.format(research_scope))#data_scope_name))"
   ]
  },
  {
   "cell_type": "code",
   "execution_count": null,
   "metadata": {},
   "outputs": [],
   "source": []
  },
  {
   "cell_type": "code",
   "execution_count": 41,
   "metadata": {},
   "outputs": [],
   "source": [
    "LDAmodel_scope = LdaMulticore.load('data/model/{0}'.format(research_scope))#data_scope_name))"
   ]
  },
  {
   "cell_type": "markdown",
   "metadata": {},
   "source": [
    "#### Feature vector"
   ]
  },
  {
   "cell_type": "code",
   "execution_count": 42,
   "metadata": {},
   "outputs": [
    {
     "name": "stdout",
     "output_type": "stream",
     "text": [
      "Wall time: 181 ms\n"
     ]
    }
   ],
   "source": [
    "%%time\n",
    "df_lda_features(LDAmodel_scope, scope_lda_sample)"
   ]
  },
  {
   "cell_type": "markdown",
   "metadata": {},
   "source": [
    "#### Topic distributions and let's see some words that come with the topics"
   ]
  },
  {
   "cell_type": "code",
   "execution_count": 43,
   "metadata": {},
   "outputs": [],
   "source": [
    "RequestTopicDistribution = scope_lda_sample['lda_features'].mean()"
   ]
  },
  {
   "cell_type": "code",
   "execution_count": 63,
   "metadata": {},
   "outputs": [
    {
     "data": {
      "image/png": "[encoded data removed]",
      "text/plain": [
       "<Figure size 1440x432 with 1 Axes>"
      ]
     },
     "metadata": {
      "needs_background": "light"
     },
     "output_type": "display_data"
    }
   ],
   "source": [
    "fig, ax1 = plt.subplots(1,1,figsize=(20,6))\n",
    "nr_top_bars = 5\n",
    "title_dist ='{}_Request Topic distributions showing top {} bars of {} topics'.format(research_scope, nr_top_bars, num_topics)\n",
    "ax1.set_title(title_dist, fontsize=16)\n",
    "\n",
    "for ax, distribution, color in zip([ax1], [RequestTopicDistribution], ['r']):\n",
    "    # Individual distribution barplots\n",
    "    ax.bar(range(len(distribution)), distribution, alpha=0.7)\n",
    "    rects = ax.patches\n",
    "    for i in np.argsort(distribution)[-nr_top_bars:]:\n",
    "        rects[i].set_color(color)\n",
    "        rects[i].set_alpha(1)\n",
    "\n",
    "fig.tight_layout(h_pad=3.)\n",
    "fig.savefig(fname='data/{}/{}'.format(initiatedby,title_dist),transparent=True)"
   ]
  },
  {
   "cell_type": "markdown",
   "metadata": {},
   "source": [
    "#### Inspect topics and words"
   ]
  },
  {
   "cell_type": "code",
   "execution_count": 45,
   "metadata": {},
   "outputs": [],
   "source": [
    "from lipht_lda import get_topics_and_probability, get_lda_topics"
   ]
  },
  {
   "cell_type": "code",
   "execution_count": 46,
   "metadata": {},
   "outputs": [
    {
     "data": {
      "text/html": [
       "<div>\n",
       "<style scoped>\n",
       "    .dataframe tbody tr th:only-of-type {\n",
       "        vertical-align: middle;\n",
       "    }\n",
       "\n",
       "    .dataframe tbody tr th {\n",
       "        vertical-align: top;\n",
       "    }\n",
       "\n",
       "    .dataframe thead th {\n",
       "        text-align: right;\n",
       "    }\n",
       "</style>\n",
       "<table border=\"1\" class=\"dataframe\">\n",
       "  <thead>\n",
       "    <tr style=\"text-align: right;\">\n",
       "      <th></th>\n",
       "      <th>Probability</th>\n",
       "      <th>TopWords</th>\n",
       "      <th>Topic</th>\n",
       "    </tr>\n",
       "  </thead>\n",
       "  <tbody>\n",
       "    <tr>\n",
       "      <th>0</th>\n",
       "      <td>0.168311</td>\n",
       "      <td>0.020*\"brev\" + 0.019*\"led\" + 0.017*\"som_led\" +...</td>\n",
       "      <td>0.0</td>\n",
       "    </tr>\n",
       "    <tr>\n",
       "      <th>1</th>\n",
       "      <td>0.171502</td>\n",
       "      <td>0.019*\"mul\" + 0.017*\"måned\" + 0.017*\"sende_\" +...</td>\n",
       "      <td>1.0</td>\n",
       "    </tr>\n",
       "    <tr>\n",
       "      <th>2</th>\n",
       "      <td>0.112893</td>\n",
       "      <td>0.012*\"vi_har\" + 0.012*\"at_du\" + 0.012*\"du_\" +...</td>\n",
       "      <td>2.0</td>\n",
       "    </tr>\n",
       "    <tr>\n",
       "      <th>3</th>\n",
       "      <td>0.223502</td>\n",
       "      <td>0.037*\"søg\" + 0.019*\"læs_nærm\" + 0.019*\"læs_næ...</td>\n",
       "      <td>3.0</td>\n",
       "    </tr>\n",
       "    <tr>\n",
       "      <th>4</th>\n",
       "      <td>0.072577</td>\n",
       "      <td>0.012*\"mød\" + 0.011*\"du_skal\" + 0.010*\"at_du\" ...</td>\n",
       "      <td>4.0</td>\n",
       "    </tr>\n",
       "    <tr>\n",
       "      <th>5</th>\n",
       "      <td>0.037082</td>\n",
       "      <td>0.006*\"period\" + 0.005*\"joblog\" + 0.005*\"søg\" ...</td>\n",
       "      <td>5.0</td>\n",
       "    </tr>\n",
       "    <tr>\n",
       "      <th>6</th>\n",
       "      <td>0.214134</td>\n",
       "      <td>0.021*\"ansøgning\" + 0.021*\"din_ansøgning_om\" +...</td>\n",
       "      <td>6.0</td>\n",
       "    </tr>\n",
       "  </tbody>\n",
       "</table>\n",
       "</div>"
      ],
      "text/plain": [
       "   Probability                                           TopWords  Topic\n",
       "0     0.168311  0.020*\"brev\" + 0.019*\"led\" + 0.017*\"som_led\" +...    0.0\n",
       "1     0.171502  0.019*\"mul\" + 0.017*\"måned\" + 0.017*\"sende_\" +...    1.0\n",
       "2     0.112893  0.012*\"vi_har\" + 0.012*\"at_du\" + 0.012*\"du_\" +...    2.0\n",
       "3     0.223502  0.037*\"søg\" + 0.019*\"læs_nærm\" + 0.019*\"læs_næ...    3.0\n",
       "4     0.072577  0.012*\"mød\" + 0.011*\"du_skal\" + 0.010*\"at_du\" ...    4.0\n",
       "5     0.037082  0.006*\"period\" + 0.005*\"joblog\" + 0.005*\"søg\" ...    5.0\n",
       "6     0.214134  0.021*\"ansøgning\" + 0.021*\"din_ansøgning_om\" +...    6.0"
      ]
     },
     "execution_count": 46,
     "metadata": {},
     "output_type": "execute_result"
    }
   ],
   "source": [
    "df_topics = get_topics_and_probability(scope_lda_sample, LDAmodel_scope, num_topics, 5)\n",
    "df_topics"
   ]
  },
  {
   "cell_type": "code",
   "execution_count": 62,
   "metadata": {},
   "outputs": [],
   "source": [
    "df_topics.to_sql(name='topics_{}_{}'.format(dataset,initiatedby),con=engine , schema='input', if_exists='replace', index=False)"
   ]
  },
  {
   "cell_type": "code",
   "execution_count": 48,
   "metadata": {},
   "outputs": [
    {
     "data": {
      "text/html": [
       "<div>\n",
       "<style scoped>\n",
       "    .dataframe tbody tr th:only-of-type {\n",
       "        vertical-align: middle;\n",
       "    }\n",
       "\n",
       "    .dataframe tbody tr th {\n",
       "        vertical-align: top;\n",
       "    }\n",
       "\n",
       "    .dataframe thead th {\n",
       "        text-align: right;\n",
       "    }\n",
       "</style>\n",
       "<table border=\"1\" class=\"dataframe\">\n",
       "  <thead>\n",
       "    <tr style=\"text-align: right;\">\n",
       "      <th></th>\n",
       "      <th>Topic # 00</th>\n",
       "      <th>Topic # 01</th>\n",
       "      <th>Topic # 02</th>\n",
       "      <th>Topic # 03</th>\n",
       "      <th>Topic # 04</th>\n",
       "      <th>Topic # 05</th>\n",
       "      <th>Topic # 06</th>\n",
       "    </tr>\n",
       "  </thead>\n",
       "  <tbody>\n",
       "    <tr>\n",
       "      <th>0</th>\n",
       "      <td>brev</td>\n",
       "      <td>mul</td>\n",
       "      <td>vi_har</td>\n",
       "      <td>søg</td>\n",
       "      <td>mød</td>\n",
       "      <td>period</td>\n",
       "      <td>ansøgning</td>\n",
       "    </tr>\n",
       "    <tr>\n",
       "      <th>1</th>\n",
       "      <td>led</td>\n",
       "      <td>måned</td>\n",
       "      <td>at_du</td>\n",
       "      <td>læs_nærm</td>\n",
       "      <td>du_skal</td>\n",
       "      <td>joblog</td>\n",
       "      <td>din_ansøgning_om</td>\n",
       "    </tr>\n",
       "    <tr>\n",
       "      <th>2</th>\n",
       "      <td>som_led</td>\n",
       "      <td>sende_</td>\n",
       "      <td>du_</td>\n",
       "      <td>nærmere_i</td>\n",
       "      <td>at_du</td>\n",
       "      <td>søg</td>\n",
       "      <td>ansøgning_om</td>\n",
       "    </tr>\n",
       "    <tr>\n",
       "      <th>3</th>\n",
       "      <td>i_d</td>\n",
       "      <td>send</td>\n",
       "      <td>besked</td>\n",
       "      <td>læs_nærmere_i</td>\n",
       "      <td>mul</td>\n",
       "      <td>kontak</td>\n",
       "      <td>din_ansøgning</td>\n",
       "    </tr>\n",
       "    <tr>\n",
       "      <th>4</th>\n",
       "      <td>non</td>\n",
       "      <td>bed</td>\n",
       "      <td>har_få</td>\n",
       "      <td>som_du</td>\n",
       "      <td>ret</td>\n",
       "      <td>dag</td>\n",
       "      <td>vi_har</td>\n",
       "    </tr>\n",
       "    <tr>\n",
       "      <th>5</th>\n",
       "      <td>dette_brev</td>\n",
       "      <td>du_bed</td>\n",
       "      <td>fået</td>\n",
       "      <td>hvordan_du</td>\n",
       "      <td>meld</td>\n",
       "      <td>en_period</td>\n",
       "      <td>på_din</td>\n",
       "    </tr>\n",
       "    <tr>\n",
       "      <th>6</th>\n",
       "      <td>i_dette_brev</td>\n",
       "      <td>snarest</td>\n",
       "      <td>besked_fra</td>\n",
       "      <td>nærm</td>\n",
       "      <td>deltag</td>\n",
       "      <td>om_ug</td>\n",
       "      <td>om_feriedagpeng</td>\n",
       "    </tr>\n",
       "    <tr>\n",
       "      <th>7</th>\n",
       "      <td>i_det</td>\n",
       "      <td>måneder_snarest_mu</td>\n",
       "      <td>har_fået_besked</td>\n",
       "      <td>læs</td>\n",
       "      <td>til_at</td>\n",
       "      <td>ugen</td>\n",
       "      <td>feriedagpenge__og</td>\n",
       "    </tr>\n",
       "    <tr>\n",
       "      <th>8</th>\n",
       "      <td>for_at</td>\n",
       "      <td>snarest_mu</td>\n",
       "      <td>fået_besked_fra</td>\n",
       "      <td>brev</td>\n",
       "      <td>kl_</td>\n",
       "      <td>vi_ik</td>\n",
       "      <td>uge</td>\n",
       "    </tr>\n",
       "    <tr>\n",
       "      <th>9</th>\n",
       "      <td>dagpeng</td>\n",
       "      <td>bedes_s</td>\n",
       "      <td>fået_besked</td>\n",
       "      <td>du_har</td>\n",
       "      <td>kl</td>\n",
       "      <td>når_vi</td>\n",
       "      <td>vi_har_behandl</td>\n",
       "    </tr>\n",
       "    <tr>\n",
       "      <th>10</th>\n",
       "      <td>læs</td>\n",
       "      <td>en_efterlønserklæring_for</td>\n",
       "      <td>vi_har_få</td>\n",
       "      <td>nærmere_i_brev</td>\n",
       "      <td>du_har</td>\n",
       "      <td>så_du</td>\n",
       "      <td>og_d</td>\n",
       "    </tr>\n",
       "    <tr>\n",
       "      <th>11</th>\n",
       "      <td>læse_om</td>\n",
       "      <td>for__måned</td>\n",
       "      <td>fortsat</td>\n",
       "      <td>i_brev</td>\n",
       "      <td>hvis_du</td>\n",
       "      <td>mind</td>\n",
       "      <td>før_din</td>\n",
       "    </tr>\n",
       "    <tr>\n",
       "      <th>12</th>\n",
       "      <td>hvad_du</td>\n",
       "      <td>en_efterlønserklæring</td>\n",
       "      <td>at_du_har</td>\n",
       "      <td>du_kan</td>\n",
       "      <td>ret_til</td>\n",
       "      <td>du_har</td>\n",
       "      <td>ca</td>\n",
       "    </tr>\n",
       "    <tr>\n",
       "      <th>13</th>\n",
       "      <td>hvad_du_skal</td>\n",
       "      <td>efterlønserklæring_for</td>\n",
       "      <td>led</td>\n",
       "      <td>feriedagpeng</td>\n",
       "      <td>hvis_du_skal</td>\n",
       "      <td>skal_du</td>\n",
       "      <td>behandlet_din</td>\n",
       "    </tr>\n",
       "    <tr>\n",
       "      <th>14</th>\n",
       "      <td>skal_gør</td>\n",
       "      <td>efterlønserklæring</td>\n",
       "      <td>du_har</td>\n",
       "      <td>som_du_kan</td>\n",
       "      <td>bed</td>\n",
       "      <td>at_du</td>\n",
       "      <td>blive_indsat_på</td>\n",
       "    </tr>\n",
       "    <tr>\n",
       "      <th>15</th>\n",
       "      <td>du_skal_gør</td>\n",
       "      <td>du_bedes_s</td>\n",
       "      <td>guid</td>\n",
       "      <td>du_søg</td>\n",
       "      <td>du_</td>\n",
       "      <td>hvor_du</td>\n",
       "      <td>blive_indsat</td>\n",
       "    </tr>\n",
       "    <tr>\n",
       "      <th>16</th>\n",
       "      <td>du_ik</td>\n",
       "      <td>bedes_sende_</td>\n",
       "      <td>når_du</td>\n",
       "      <td>søge_om_til</td>\n",
       "      <td>vigt</td>\n",
       "      <td>job</td>\n",
       "      <td>indsat_på</td>\n",
       "    </tr>\n",
       "    <tr>\n",
       "      <th>17</th>\n",
       "      <td>du_skal</td>\n",
       "      <td>sende_en_efterlønserklæring</td>\n",
       "      <td>meld</td>\n",
       "      <td>og_hvordan</td>\n",
       "      <td>på_jobnetdk</td>\n",
       "      <td>syg</td>\n",
       "      <td>vil_bliv</td>\n",
       "    </tr>\n",
       "    <tr>\n",
       "      <th>18</th>\n",
       "      <td>at_få</td>\n",
       "      <td>måneder_snarest</td>\n",
       "      <td>når_du_</td>\n",
       "      <td>har_optjent_feriedagpeng</td>\n",
       "      <td>jobnetdk</td>\n",
       "      <td>vi_har</td>\n",
       "      <td>og_de_vil</td>\n",
       "    </tr>\n",
       "    <tr>\n",
       "      <th>19</th>\n",
       "      <td>in_english</td>\n",
       "      <td>læs</td>\n",
       "      <td>dig_led</td>\n",
       "      <td>søger_om</td>\n",
       "      <td>forhindr</td>\n",
       "      <td>at_du_har</td>\n",
       "      <td>din_feri</td>\n",
       "    </tr>\n",
       "  </tbody>\n",
       "</table>\n",
       "</div>"
      ],
      "text/plain": [
       "      Topic # 00                   Topic # 01       Topic # 02  \\\n",
       "0           brev                          mul           vi_har   \n",
       "1            led                        måned            at_du   \n",
       "2        som_led                       sende_              du_   \n",
       "3            i_d                         send           besked   \n",
       "4            non                          bed           har_få   \n",
       "5     dette_brev                       du_bed             fået   \n",
       "6   i_dette_brev                      snarest       besked_fra   \n",
       "7          i_det           måneder_snarest_mu  har_fået_besked   \n",
       "8         for_at                   snarest_mu  fået_besked_fra   \n",
       "9        dagpeng                      bedes_s      fået_besked   \n",
       "10           læs    en_efterlønserklæring_for        vi_har_få   \n",
       "11       læse_om                   for__måned          fortsat   \n",
       "12       hvad_du        en_efterlønserklæring        at_du_har   \n",
       "13  hvad_du_skal       efterlønserklæring_for              led   \n",
       "14      skal_gør           efterlønserklæring           du_har   \n",
       "15   du_skal_gør                   du_bedes_s             guid   \n",
       "16         du_ik                 bedes_sende_           når_du   \n",
       "17       du_skal  sende_en_efterlønserklæring             meld   \n",
       "18         at_få              måneder_snarest          når_du_   \n",
       "19    in_english                          læs          dig_led   \n",
       "\n",
       "                  Topic # 03    Topic # 04 Topic # 05         Topic # 06  \n",
       "0                        søg           mød     period          ansøgning  \n",
       "1                   læs_nærm       du_skal     joblog   din_ansøgning_om  \n",
       "2                  nærmere_i         at_du        søg       ansøgning_om  \n",
       "3              læs_nærmere_i           mul     kontak      din_ansøgning  \n",
       "4                     som_du           ret        dag             vi_har  \n",
       "5                 hvordan_du          meld  en_period             på_din  \n",
       "6                       nærm        deltag      om_ug    om_feriedagpeng  \n",
       "7                        læs        til_at       ugen  feriedagpenge__og  \n",
       "8                       brev           kl_      vi_ik                uge  \n",
       "9                     du_har            kl     når_vi     vi_har_behandl  \n",
       "10            nærmere_i_brev        du_har      så_du               og_d  \n",
       "11                    i_brev       hvis_du       mind            før_din  \n",
       "12                    du_kan       ret_til     du_har                 ca  \n",
       "13              feriedagpeng  hvis_du_skal    skal_du      behandlet_din  \n",
       "14                som_du_kan           bed      at_du    blive_indsat_på  \n",
       "15                    du_søg           du_    hvor_du       blive_indsat  \n",
       "16               søge_om_til          vigt        job          indsat_på  \n",
       "17                og_hvordan   på_jobnetdk        syg           vil_bliv  \n",
       "18  har_optjent_feriedagpeng      jobnetdk     vi_har          og_de_vil  \n",
       "19                  søger_om      forhindr  at_du_har           din_feri  "
      ]
     },
     "execution_count": 48,
     "metadata": {},
     "output_type": "execute_result"
    }
   ],
   "source": [
    "get_lda_topics(scope_lda_sample, LDAmodel_scope, num_topics,20)"
   ]
  },
  {
   "cell_type": "markdown",
   "metadata": {},
   "source": [
    "#### Name the topics"
   ]
  },
  {
   "cell_type": "code",
   "execution_count": 49,
   "metadata": {},
   "outputs": [],
   "source": [
    "lda_topic_names = {\n",
    "    0:'Ferie og feriepenge',\n",
    "    1:'Sendt oplysninger til AKA',\n",
    "    2:'Ansættelseskontrakt eller frigørelse',\n",
    "    3:'Spørgsmål om dagpenge',\n",
    "    4:'Ansøgning om befordring',\n",
    "    5:'Ansættelse',\n",
    "    6:'Ledighed',\n",
    "    7:'Adgang',\n",
    "    8:'Noget med tid*',\n",
    "    9:'Dagpenge mellem jul og nytår',\n",
    "    11:'Fejl ved dagpenge',\n",
    "    12:'Spørgsmål til blanket',\n",
    "    14:'Ydelseskort',\n",
    "    15:'Pension og Efterløn',\n",
    "    16:'Dagpenge/Supplerende',\n",
    "    17:'Spørgsmål til udfyldelse',\n",
    "    19:'Spørgsmål om beskæftigelse'\n",
    "}"
   ]
  },
  {
   "cell_type": "markdown",
   "metadata": {},
   "source": [
    "### Test the model"
   ]
  },
  {
   "cell_type": "code",
   "execution_count": 50,
   "metadata": {},
   "outputs": [],
   "source": [
    "pd.options.display.max_colwidth = 200"
   ]
  },
  {
   "cell_type": "code",
   "execution_count": 51,
   "metadata": {},
   "outputs": [
    {
     "name": "stdout",
     "output_type": "stream",
     "text": [
      "9982    3690F1EF-2C4A-E711-BE8E-005056AD2D14\n",
      "Name: ThreadMessageID, dtype: object 9982    Hej AKA\\nHer kommer min sidste 6 måneders erklæring. Det er helt vemodigt :-(\\nVenlig hilsen\\nVibeke Galsbo\\n \n",
      "Name: FirstMemberMessage, dtype: object\n"
     ]
    }
   ],
   "source": [
    "# document = scope_lda_sample.sample(1) # From sample\n",
    "document = df_scope.sample(1) # From population\n",
    "doc_id = document['ThreadMessageID']\n",
    "unseen_document = document['FirstMemberMessage']\n",
    "print(doc_id, unseen_document)"
   ]
  },
  {
   "cell_type": "code",
   "execution_count": 52,
   "metadata": {},
   "outputs": [
    {
     "name": "stdout",
     "output_type": "stream",
     "text": [
      "(0.6310952, 0, '0.020*\"brev\" + 0.019*\"led\" + 0.017*\"som_led\" + 0.017*\"i_d\" + 0.013*\"non\"')\n"
     ]
    }
   ],
   "source": [
    "# Test function and prediction\n",
    "print(lda_predict_string(unseen_document, LDAmodel_scope, dictionary))#,lda_topic_names))"
   ]
  },
  {
   "cell_type": "code",
   "execution_count": 53,
   "metadata": {},
   "outputs": [
    {
     "name": "stdout",
     "output_type": "stream",
     "text": [
      "Score: 0.6310951709747314\t Topic: 0.020*\"brev\" + 0.019*\"led\" + 0.017*\"som_led\" + 0.017*\"i_d\" + 0.013*\"non\"\n",
      "Score: 0.09513731300830841\t Topic: 0.019*\"mul\" + 0.017*\"måned\" + 0.017*\"sende_\" + 0.016*\"send\" + 0.015*\"bed\"\n",
      "Score: 0.07465893775224686\t Topic: 0.012*\"vi_har\" + 0.012*\"at_du\" + 0.012*\"du_\" + 0.011*\"besked\" + 0.011*\"har_få\"\n",
      "Score: 0.061435021460056305\t Topic: 0.037*\"søg\" + 0.019*\"læs_nærm\" + 0.019*\"læs_nærmere_i\" + 0.019*\"nærmere_i\" + 0.019*\"som_du\"\n",
      "Score: 0.052190762013196945\t Topic: 0.012*\"mød\" + 0.011*\"du_skal\" + 0.010*\"at_du\" + 0.008*\"mul\" + 0.008*\"ret\"\n",
      "Score: 0.04536464810371399\t Topic: 0.006*\"period\" + 0.005*\"joblog\" + 0.005*\"søg\" + 0.005*\"kontak\" + 0.005*\"dag\"\n",
      "Score: 0.04011816158890724\t Topic: 0.021*\"ansøgning\" + 0.021*\"din_ansøgning_om\" + 0.021*\"ansøgning_om\" + 0.021*\"din_ansøgning\" + 0.021*\"vi_har\"\n"
     ]
    }
   ],
   "source": [
    "bow_vector = dictionary.doc2bow(lda_preprocess_string(unseen_document))\n",
    "for index, score in sorted(LDAmodel_scope[bow_vector], key=lambda tup: -1*tup[1]):\n",
    "    print(\"Score: {}\\t Topic: {}\".format(score, LDAmodel_scope.print_topic(index, 5)))\n",
    "\n",
    "# index, score = sorted(LDAmodel_scope[bow_vector], key=lambda tup: -1*tup[1])[0]\n",
    "# print(\"Score: {}\\t Topic: {}\".format(score, LDAmodel_scope.print_topic(index, 5)))"
   ]
  },
  {
   "cell_type": "markdown",
   "metadata": {},
   "source": [
    "### Predict topics on data\n",
    "Per every row in the dataset"
   ]
  },
  {
   "cell_type": "code",
   "execution_count": 54,
   "metadata": {},
   "outputs": [
    {
     "name": "stdout",
     "output_type": "stream",
     "text": [
      "Wall time: 223 ms\n"
     ]
    }
   ],
   "source": [
    "%%time\n",
    "lda_predict_df(df_scope, LDAmodel_scope, dictionary)#, lda_topic_names)"
   ]
  },
  {
   "cell_type": "markdown",
   "metadata": {},
   "source": [
    "#### Save the data with prediction"
   ]
  },
  {
   "cell_type": "code",
   "execution_count": 58,
   "metadata": {},
   "outputs": [
    {
     "name": "stdout",
     "output_type": "stream",
     "text": [
      "Udbetalingsteam Initiatedby_AKA\n"
     ]
    }
   ],
   "source": [
    "print(dataset,initiatedby)"
   ]
  },
  {
   "cell_type": "code",
   "execution_count": 56,
   "metadata": {},
   "outputs": [],
   "source": [
    "df_scope.to_pickle('data/{}_{}_with_prediction.pkl'.format(dataset,initiatedby))"
   ]
  },
  {
   "cell_type": "code",
   "execution_count": 61,
   "metadata": {},
   "outputs": [],
   "source": [
    "df_scope_sql = df_scope[['ThreadID','ThreadMessageID','text', 'pred_probability', 'pred_index']]#, 'pred_label']]\n",
    "df_scope_sql.to_sql(name='{}_{}'.format(dataset,initiatedby),con=engine , schema='input', if_exists='replace', index=False)"
   ]
  },
  {
   "cell_type": "markdown",
   "metadata": {},
   "source": [
    "### Load topic and predictions to SQL Server"
   ]
  },
  {
   "cell_type": "code",
   "execution_count": null,
   "metadata": {},
   "outputs": [],
   "source": [
    "# import pyodbc\n",
    "# from sqlalchemy import create_engine\n",
    "# import urllib\n",
    "\n",
    "# params = urllib.parse.quote_plus(r'DRIVER={SQL Server};SERVER=LIPHT-VM-01;DATABASE=Akademikernes_MSCRM_addition;Trusted_Connection=yes')\n",
    "# conn_str = 'mssql+pyodbc:///?odbc_connect={}'.format(params)\n",
    "# engine = create_engine(conn_str)"
   ]
  },
  {
   "cell_type": "code",
   "execution_count": null,
   "metadata": {},
   "outputs": [],
   "source": [
    "%%time\n",
    "# df_raw = pd.read_pickle('data/AKA_rawdata.pkl')"
   ]
  },
  {
   "cell_type": "code",
   "execution_count": null,
   "metadata": {},
   "outputs": [],
   "source": [
    "# from lipht_lda import df_lda_preprocessing"
   ]
  },
  {
   "cell_type": "code",
   "execution_count": null,
   "metadata": {},
   "outputs": [],
   "source": [
    "%%time\n",
    "# df_lda_preprocessing(df_raw, 'FirstMemberMessage')"
   ]
  },
  {
   "cell_type": "code",
   "execution_count": null,
   "metadata": {},
   "outputs": [],
   "source": [
    "# df_raw.columns"
   ]
  },
  {
   "cell_type": "code",
   "execution_count": null,
   "metadata": {},
   "outputs": [],
   "source": [
    "# df_raw.to_pickle('data/AKA_rawdata_df_lda_preprocessed.pkl')"
   ]
  },
  {
   "cell_type": "code",
   "execution_count": null,
   "metadata": {},
   "outputs": [],
   "source": [
    "# df_raw[df_raw['pred_label']=='English']['text']"
   ]
  },
  {
   "cell_type": "code",
   "execution_count": null,
   "metadata": {},
   "outputs": [],
   "source": [
    "# df_raw_with_language = df_raw[['ThreadID','ThreadMessageID','ThreadMessageText','text','pred_label','pred_probability']]"
   ]
  },
  {
   "cell_type": "code",
   "execution_count": null,
   "metadata": {},
   "outputs": [],
   "source": [
    "df_raw_with_language.head()"
   ]
  },
  {
   "cell_type": "code",
   "execution_count": null,
   "metadata": {},
   "outputs": [],
   "source": [
    "# df_raw_with_language.to_csv('lang_pred.csv')"
   ]
  },
  {
   "cell_type": "code",
   "execution_count": null,
   "metadata": {},
   "outputs": [],
   "source": [
    "# con = \"mssql+pyodbc:///?odbc_connect={}\".format(urllib.parse.quote_plus(\"DRIVER=ODBC Driver 13 for SQL Server;SERVER={0};PORT=1433;DATABASE={1};UID={2};PWD={3};TDS_Version=8.0;\".format(server, db, user, password)))"
   ]
  },
  {
   "cell_type": "code",
   "execution_count": null,
   "metadata": {},
   "outputs": [],
   "source": [
    "# test = pd.DataFrame({'test':[1,2,3]}) #'te','te','te'"
   ]
  },
  {
   "cell_type": "code",
   "execution_count": null,
   "metadata": {
    "scrolled": false
   },
   "outputs": [],
   "source": [
    "# test.to_sql(name='Test',con=engine , schema='input', if_exists='replace', index=False)"
   ]
  },
  {
   "cell_type": "code",
   "execution_count": null,
   "metadata": {},
   "outputs": [],
   "source": [
    "# df_raw.to_pickle('data/AKA_rawdata_with_language.pkl')"
   ]
  },
  {
   "cell_type": "code",
   "execution_count": null,
   "metadata": {},
   "outputs": [],
   "source": [
    "# df_raw.columns"
   ]
  }
 ],
 "metadata": {
  "kernelspec": {
   "display_name": "Python [conda env:aka-diagnostic]",
   "language": "python",
   "name": "conda-env-aka-diagnostic-py"
  },
  "language_info": {
   "codemirror_mode": {
    "name": "ipython",
    "version": 3
   },
   "file_extension": ".py",
   "mimetype": "text/x-python",
   "name": "python",
   "nbconvert_exporter": "python",
   "pygments_lexer": "ipython3",
   "version": "3.7.0"
  }
 },
 "nbformat": 4,
 "nbformat_minor": 2
}
