{
 "cells": [
  {
   "cell_type": "code",
   "execution_count": 14,
   "metadata": {},
   "outputs": [],
   "source": [
    "train_pipeline_1 = {\n",
    "        'Member': {\n",
    "            'target_column': 'FirstMemberMessageBody',\n",
    "            'target_column_id': 'FirstMemberMessageID',\n",
    "            'Udbetalingsteam': {\n",
    "                'lda_num_topics_start': 30,\n",
    "                'lda_num_topics_end': 31,\n",
    "                'lda_num_topics_increment': 1,\n",
    "            },\n",
    "            'Medlemskabsteam': {\n",
    "                'lda_num_topics_start': 20,\n",
    "                'lda_num_topics_end': 21,\n",
    "                'lda_num_topics_increment': 1,\n",
    "            },\n",
    "            'Job': {\n",
    "                'lda_num_topics_start': 15,\n",
    "                'lda_num_topics_end': 16,\n",
    "                'lda_num_topics_increment': 1,\n",
    "            },\n",
    "            'Logistik': {\n",
    "                'lda_num_topics_start': 10,\n",
    "                'lda_num_topics_end': 11,\n",
    "                'lda_num_topics_increment': 1,\n",
    "            }\n",
    "        },\n",
    "        'AKA': {\n",
    "            'target_column': 'FirstMemberMessageBody',\n",
    "            'target_column_id': 'FirstMemberMessageID',\n",
    "            'Udbetalingsteam': {\n",
    "                'lda_num_topics_start': 20,\n",
    "                'lda_num_topics_end': 21,\n",
    "                'lda_num_topics_increment': 1,\n",
    "            },\n",
    "            'Medlemskabsteam': {\n",
    "                'lda_num_topics_start': 15,\n",
    "                'lda_num_topics_end': 16,\n",
    "                'lda_num_topics_increment': 1,\n",
    "            },\n",
    "            'Job': {\n",
    "                'lda_num_topics_start': 12,\n",
    "                'lda_num_topics_end': 13,\n",
    "                'lda_num_topics_increment': 1,\n",
    "            },\n",
    "            'Logistik': {\n",
    "                'lda_num_topics_start': 10,\n",
    "                'lda_num_topics_end': 11,\n",
    "                'lda_num_topics_increment': 1,\n",
    "            }\n",
    "        },\n",
    "        'NoLevel1Grouping': {\n",
    "            'target_column': 'FirstResponseFromAKAToMemberMessageBody',\n",
    "            'target_column_id': 'FirstResponseFromAKAToMemberMessageID',\n",
    "            'Udbetalingsteam': {\n",
    "                'lda_num_topics_start': 30,\n",
    "                'lda_num_topics_end': 31,\n",
    "                'lda_num_topics_increment': 1,\n",
    "            },\n",
    "            'Medlemskabsteam': {\n",
    "                'lda_num_topics_start': 20,\n",
    "                'lda_num_topics_end': 21,\n",
    "                'lda_num_topics_increment': 1,\n",
    "            },\n",
    "            'Job': {\n",
    "                'lda_num_topics_start': 15,\n",
    "                'lda_num_topics_end': 16,\n",
    "                'lda_num_topics_increment': 1,\n",
    "            },\n",
    "            'Logistik': {\n",
    "                'lda_num_topics_start': 10,\n",
    "                'lda_num_topics_end': 11,\n",
    "                'lda_num_topics_increment': 1,\n",
    "            }\n",
    "        }\n",
    "    }"
   ]
  },
  {
   "cell_type": "code",
   "execution_count": 30,
   "metadata": {},
   "outputs": [
    {
     "data": {
      "text/plain": [
       "['Member', 'AKA', 'NoLevel1Grouping']"
      ]
     },
     "execution_count": 30,
     "metadata": {},
     "output_type": "execute_result"
    }
   ],
   "source": [
    "[k for k in train_pipeline_1.keys()]"
   ]
  },
  {
   "cell_type": "code",
   "execution_count": 29,
   "metadata": {},
   "outputs": [
    {
     "data": {
      "text/plain": [
       "['target_column',\n",
       " 'target_column_id',\n",
       " 'Udbetalingsteam',\n",
       " 'Medlemskabsteam',\n",
       " 'Job',\n",
       " 'Logistik']"
      ]
     },
     "execution_count": 29,
     "metadata": {},
     "output_type": "execute_result"
    }
   ],
   "source": [
    "[k for k in train_pipeline_1['Member'].keys()]"
   ]
  },
  {
   "cell_type": "code",
   "execution_count": 12,
   "metadata": {},
   "outputs": [],
   "source": [
    "train_pipeline_2 = {\n",
    "        'Member': {\n",
    "            'target_column': 'FirstMemberMessageBody',\n",
    "            'target_column_id': 'FirstMemberMessageID',\n",
    "            'Udbetalingsteam': {\n",
    "                'lda_num_topics_start': 15,\n",
    "                'lda_num_topics_end': 16,\n",
    "                'lda_num_topics_increment': 1,\n",
    "            },\n",
    "            'Medlemskabsteam': {\n",
    "                'lda_num_topics_start': 10,\n",
    "                'lda_num_topics_end': 11,\n",
    "                'lda_num_topics_increment': 1,\n",
    "            },\n",
    "            'Job': {\n",
    "                'lda_num_topics_start': 7,\n",
    "                'lda_num_topics_end': 8,\n",
    "                'lda_num_topics_increment': 1,\n",
    "            },\n",
    "            'Logistik': {\n",
    "                'lda_num_topics_start': 5,\n",
    "                'lda_num_topics_end': 6,\n",
    "                'lda_num_topics_increment': 1,\n",
    "            }\n",
    "        },\n",
    "        'AKA': {\n",
    "            'target_column': 'FirstMemberMessageBody',\n",
    "            'target_column_id': 'FirstMemberMessageID',\n",
    "            'Udbetalingsteam': {\n",
    "                'lda_num_topics_start': 10,\n",
    "                'lda_num_topics_end': 11,\n",
    "                'lda_num_topics_increment': 1,\n",
    "            },\n",
    "            'Medlemskabsteam': {\n",
    "                'lda_num_topics_start': 7,\n",
    "                'lda_num_topics_end': 8,\n",
    "                'lda_num_topics_increment': 1,\n",
    "            },\n",
    "            'Job': {\n",
    "                'lda_num_topics_start': 6,\n",
    "                'lda_num_topics_end': 7,\n",
    "                'lda_num_topics_increment': 1,\n",
    "            },\n",
    "            'Logistik': {\n",
    "                'lda_num_topics_start': 5,\n",
    "                'lda_num_topics_end': 6,\n",
    "                'lda_num_topics_increment': 1,\n",
    "            }\n",
    "        },\n",
    "        'NoLevel1Grouping': {\n",
    "            'target_column': 'FirstResponseFromAKAToMemberMessageBody',\n",
    "            'target_column_id': 'FirstResponseFromAKAToMemberMessageID',\n",
    "            'Udbetalingsteam': {\n",
    "                'lda_num_topics_start': 15,\n",
    "                'lda_num_topics_end': 16,\n",
    "                'lda_num_topics_increment': 1,\n",
    "            },\n",
    "            'Medlemskabsteam': {\n",
    "                'lda_num_topics_start': 10,\n",
    "                'lda_num_topics_end': 11,\n",
    "                'lda_num_topics_increment': 1,\n",
    "            },\n",
    "            'Job': {\n",
    "                'lda_num_topics_start': 7,\n",
    "                'lda_num_topics_end': 8,\n",
    "                'lda_num_topics_increment': 1,\n",
    "            },\n",
    "            'Logistik': {\n",
    "                'lda_num_topics_start': 5,\n",
    "                'lda_num_topics_end': 6,\n",
    "                'lda_num_topics_increment': 1,\n",
    "            }\n",
    "        }\n",
    "    }"
   ]
  },
  {
   "cell_type": "code",
   "execution_count": 13,
   "metadata": {},
   "outputs": [
    {
     "data": {
      "text/plain": [
       "['Member', 'AKA', 'NoLevel1Grouping']"
      ]
     },
     "execution_count": 13,
     "metadata": {},
     "output_type": "execute_result"
    }
   ],
   "source": [
    "[k for k in train_pipeline_2.keys()]"
   ]
  },
  {
   "cell_type": "code",
   "execution_count": 34,
   "metadata": {},
   "outputs": [],
   "source": [
    "train_pipeline_3 = {\n",
    "        'AKAandMember': {\n",
    "            'target_column': 'FirstResponseFromAKAToMemberMessageBody',\n",
    "            'target_column_id': 'FirstResponseFromAKAToMemberMessageID',\n",
    "            'All': {\n",
    "                'lda_num_topics_start': 50,\n",
    "                'lda_num_topics_end': 51,\n",
    "                'lda_num_topics_increment': 1,\n",
    "            }\n",
    "        },\n",
    "        'AKAandMember': {\n",
    "            'target_column': 'FirstMemberMessageBody',\n",
    "            'target_column_id': 'FirstMemberMessageID',\n",
    "            'All': {\n",
    "                'lda_num_topics_start': 200,\n",
    "                'lda_num_topics_end': 201,\n",
    "                'lda_num_topics_increment': 1,\n",
    "            }\n",
    "        },\n",
    "    }"
   ]
  },
  {
   "cell_type": "code",
   "execution_count": 35,
   "metadata": {},
   "outputs": [
    {
     "data": {
      "text/plain": [
       "['AKAandMember']"
      ]
     },
     "execution_count": 35,
     "metadata": {},
     "output_type": "execute_result"
    }
   ],
   "source": [
    "[k for k in train_pipeline_3.keys()]"
   ]
  },
  {
   "cell_type": "code",
   "execution_count": 38,
   "metadata": {},
   "outputs": [
    {
     "data": {
      "text/plain": [
       "'FirstMemberMessageBody'"
      ]
     },
     "execution_count": 38,
     "metadata": {},
     "output_type": "execute_result"
    }
   ],
   "source": [
    "# train_pipeline_3['AKAandMember'].get('target_column')\n",
    "train_pipeline_3['AKAandMember'].get('target_column')"
   ]
  },
  {
   "cell_type": "code",
   "execution_count": 39,
   "metadata": {},
   "outputs": [],
   "source": [
    "\n",
    "pipeline = {\n",
    "        1: {'ThreadInitiatedBy': ['AKAandMember'],\n",
    "                'target_column': 'FirstResponseFromAKAToMemberMessageBody',\n",
    "                'target_column_id': 'FirstResponseFromAKAToMemberMessageID',\n",
    "                'ThreadResponsibleDepartmentTeam': ['All']\n",
    "                ,{\n",
    "                    'lda_num_topics_start': 50,\n",
    "                    'lda_num_topics_end': 51,\n",
    "                    'lda_num_topics_increment': 1,\n",
    "                }\n",
    "            }\n",
    "        },\n",
    "        2:{'AKAandMember': {\n",
    "                'target_column': 'FirstMemberMessageBody',\n",
    "                'target_column_id': 'FirstMemberMessageID',\n",
    "                'All': {\n",
    "                    'lda_num_topics_start': 200,\n",
    "                    'lda_num_topics_end': 201,\n",
    "                    'lda_num_topics_increment': 1,\n",
    "                }\n",
    "            }\n",
    "        }\n",
    "    }"
   ]
  },
  {
   "cell_type": "code",
   "execution_count": 40,
   "metadata": {},
   "outputs": [
    {
     "name": "stdout",
     "output_type": "stream",
     "text": [
      "1\n",
      "2\n"
     ]
    }
   ],
   "source": [
    "train_pipeline_list = [k for k in pipeline.keys()]\n",
    "\n",
    "for i in train_pipeline_list:\n",
    "    print(i)"
   ]
  },
  {
   "cell_type": "code",
   "execution_count": null,
   "metadata": {},
   "outputs": [],
   "source": [
    "\n",
    "        'AKAandMember': {\n",
    "            'target_column': 'FirstResponseFromAKAToMemberMessageBody',\n",
    "            'target_column_id': 'FirstResponseFromAKAToMemberMessageID',\n",
    "            'All': {\n",
    "                'lda_num_topics_start': 50,\n",
    "                'lda_num_topics_end': 51,\n",
    "                'lda_num_topics_increment': 1,\n",
    "            }\n",
    "        }"
   ]
  },
  {
   "cell_type": "code",
   "execution_count": 32,
   "metadata": {},
   "outputs": [
    {
     "ename": "SyntaxError",
     "evalue": "invalid syntax (<ipython-input-32-7303d9dc369a>, line 3)",
     "output_type": "error",
     "traceback": [
      "\u001b[1;36m  File \u001b[1;32m\"<ipython-input-32-7303d9dc369a>\"\u001b[1;36m, line \u001b[1;32m3\u001b[0m\n\u001b[1;33m    'Member': {\u001b[0m\n\u001b[1;37m            ^\u001b[0m\n\u001b[1;31mSyntaxError\u001b[0m\u001b[1;31m:\u001b[0m invalid syntax\n"
     ]
    }
   ],
   "source": [
    "train_pipeline_1 = {\n",
    "    'ThreadInitiatedBy':[\n",
    "        'Member': {\n",
    "            'target_column': 'FirstMemberMessageBody',\n",
    "            'target_column_id': 'FirstMemberMessageID',\n",
    "            'Udbetalingsteam': {\n",
    "                'lda_num_topics_start': 30,\n",
    "                'lda_num_topics_end': 31,\n",
    "                'lda_num_topics_increment': 1,\n",
    "            },\n",
    "            'Medlemskabsteam': {\n",
    "                'lda_num_topics_start': 20,\n",
    "                'lda_num_topics_end': 21,\n",
    "                'lda_num_topics_increment': 1,\n",
    "            },\n",
    "            'Job': {\n",
    "                'lda_num_topics_start': 15,\n",
    "                'lda_num_topics_end': 16,\n",
    "                'lda_num_topics_increment': 1,\n",
    "            },\n",
    "            'Logistik': {\n",
    "                'lda_num_topics_start': 10,\n",
    "                'lda_num_topics_end': 11,\n",
    "                'lda_num_topics_increment': 1,\n",
    "            }\n",
    "        },\n",
    "        'AKA': {\n",
    "            'target_column': 'FirstMemberMessageBody',\n",
    "            'target_column_id': 'FirstMemberMessageID',\n",
    "            'Udbetalingsteam': {\n",
    "                'lda_num_topics_start': 20,\n",
    "                'lda_num_topics_end': 21,\n",
    "                'lda_num_topics_increment': 1,\n",
    "            },\n",
    "            'Medlemskabsteam': {\n",
    "                'lda_num_topics_start': 15,\n",
    "                'lda_num_topics_end': 16,\n",
    "                'lda_num_topics_increment': 1,\n",
    "            },\n",
    "            'Job': {\n",
    "                'lda_num_topics_start': 12,\n",
    "                'lda_num_topics_end': 13,\n",
    "                'lda_num_topics_increment': 1,\n",
    "            },\n",
    "            'Logistik': {\n",
    "                'lda_num_topics_start': 10,\n",
    "                'lda_num_topics_end': 11,\n",
    "                'lda_num_topics_increment': 1,\n",
    "            }\n",
    "        },\n",
    "        'NoLevel1Grouping': {\n",
    "            'target_column': 'FirstResponseFromAKAToMemberMessageBody',\n",
    "            'target_column_id': 'FirstResponseFromAKAToMemberMessageID',\n",
    "            'Udbetalingsteam': {\n",
    "                'lda_num_topics_start': 30,\n",
    "                'lda_num_topics_end': 31,\n",
    "                'lda_num_topics_increment': 1,\n",
    "            },\n",
    "            'Medlemskabsteam': {\n",
    "                'lda_num_topics_start': 20,\n",
    "                'lda_num_topics_end': 21,\n",
    "                'lda_num_topics_increment': 1,\n",
    "            },\n",
    "            'Job': {\n",
    "                'lda_num_topics_start': 15,\n",
    "                'lda_num_topics_end': 16,\n",
    "                'lda_num_topics_increment': 1,\n",
    "            },\n",
    "            'Logistik': {\n",
    "                'lda_num_topics_start': 10,\n",
    "                'lda_num_topics_end': 11,\n",
    "                'lda_num_topics_increment': 1,\n",
    "            }\n",
    "        }\n",
    "    ]\n",
    "    }"
   ]
  },
  {
   "cell_type": "code",
   "execution_count": 33,
   "metadata": {},
   "outputs": [
    {
     "data": {
      "text/plain": [
       "['Member', 'AKA', 'NoLevel1Grouping']"
      ]
     },
     "execution_count": 33,
     "metadata": {},
     "output_type": "execute_result"
    }
   ],
   "source": [
    "[k for k in train_pipeline_1.keys()]"
   ]
  },
  {
   "cell_type": "code",
   "execution_count": 29,
   "metadata": {},
   "outputs": [
    {
     "data": {
      "text/plain": [
       "['target_column',\n",
       " 'target_column_id',\n",
       " 'Udbetalingsteam',\n",
       " 'Medlemskabsteam',\n",
       " 'Job',\n",
       " 'Logistik']"
      ]
     },
     "execution_count": 29,
     "metadata": {},
     "output_type": "execute_result"
    }
   ],
   "source": [
    "[k for k in train_pipeline_1['Member'].keys()]"
   ]
  },
  {
   "cell_type": "code",
   "execution_count": 141,
   "metadata": {},
   "outputs": [],
   "source": [
    "pipe = {\n",
    "\t1: {\n",
    "\t\t'target_column': 'FirstResponseFromAKAToMemberMessageBody',\n",
    "\t\t'target_column_id': 'FirstResponseFromAKAToMemberMessageID',\n",
    "\t\t'Tests': [\n",
    "            {\n",
    "\t\t\t\t'ThreadInitiatedBy': 'AKAandMember',\n",
    "\t\t\t\t'ThreadResponsibleDepartmentTeam': 'All',\n",
    "\t\t\t\t'lda_num_topics_start': 50,\n",
    "\t\t\t\t'lda_num_topics_end': 51,\n",
    "\t\t\t\t'lda_num_topics_increment': 1,\n",
    "\t\t\t},\n",
    "            {\n",
    "                'ThreadInitiatedBy':'AKAandMember',\n",
    "\t\t\t\t'ThreadResponsibleDepartmentTeam': 'Udbetalingsteam',\n",
    "                'lda_num_topics_start': 15,\n",
    "                'lda_num_topics_end': 16,\n",
    "                'lda_num_topics_increment': 1,\n",
    "            },\n",
    "            {\n",
    "                'ThreadInitiatedBy':'AKAandMember',\n",
    "\t\t\t\t'ThreadResponsibleDepartmentTeam': 'Medlemskabsteam',\n",
    "                'lda_num_topics_start': 10,\n",
    "                'lda_num_topics_end': 11,\n",
    "                'lda_num_topics_increment': 1,\n",
    "            },\n",
    "            {\n",
    "                'ThreadInitiatedBy':'AKAandMember',\n",
    "\t\t\t\t'ThreadResponsibleDepartmentTeam': 'Medlemskabsteam',\n",
    "                'lda_num_topics_start': 7,\n",
    "                'lda_num_topics_end': 8,\n",
    "                'lda_num_topics_increment': 1,\n",
    "            },\n",
    "            {\n",
    "                'ThreadInitiatedBy':'AKAandMember',\n",
    "\t\t\t\t'ThreadResponsibleDepartmentTeam': 'Medlemskabsteam',\n",
    "                'lda_num_topics_start': 5,\n",
    "                'lda_num_topics_end': 6,\n",
    "                'lda_num_topics_increment': 1,\n",
    "            }\n",
    "\t\t]\n",
    "\t},\n",
    "\t2: {\n",
    "\t\t'target_column': 'FirstMemberMessageBody',\n",
    "\t\t'target_column_id': 'FirstMemberMessageID',\n",
    "\t\t'Tests': [\n",
    "            {'ThreadInitiatedBy': 'AKAandMember',\n",
    "\t\t\t\t'ThreadResponsibleDepartmentTeam': 'All',\n",
    "\t\t\t\t'lda_num_topics_start': 100,\n",
    "\t\t\t\t'lda_num_topics_end': 101,\n",
    "\t\t\t\t'lda_num_topics_increment': 1,\n",
    "\t\t\t},\n",
    "            {'ThreadInitiatedBy':'Member',\n",
    "\t\t\t\t'ThreadResponsibleDepartmentTeam': 'Udbetalingsteam',\n",
    "                'lda_num_topics_start': 15,\n",
    "                'lda_num_topics_end': 16,\n",
    "                'lda_num_topics_increment': 1,\n",
    "            },\n",
    "            {'ThreadInitiatedBy':'Member',\n",
    "\t\t\t\t'ThreadResponsibleDepartmentTeam': 'Medlemskabsteam',\n",
    "                'lda_num_topics_start': 10,\n",
    "                'lda_num_topics_end': 11,\n",
    "                'lda_num_topics_increment': 1,\n",
    "            },\n",
    "            {'ThreadInitiatedBy':'Member',\n",
    "\t\t\t\t'ThreadResponsibleDepartmentTeam': 'Job',\n",
    "                'lda_num_topics_start': 7,\n",
    "                'lda_num_topics_end': 8,\n",
    "                'lda_num_topics_increment': 1,\n",
    "            },\n",
    "            {'ThreadInitiatedBy':'Member',\n",
    "\t\t\t\t'ThreadResponsibleDepartmentTeam': 'Logistik',\n",
    "                'lda_num_topics_start': 5,\n",
    "                'lda_num_topics_end': 6,\n",
    "                'lda_num_topics_increment': 1,\n",
    "            },\n",
    "            {'ThreadInitiatedBy':'AKA',\n",
    "\t\t\t\t'ThreadResponsibleDepartmentTeam': 'Udbetalingsteam',\n",
    "                'lda_num_topics_start': 10,\n",
    "                'lda_num_topics_end': 11,\n",
    "                'lda_num_topics_increment': 1,\n",
    "            },\n",
    "            {'ThreadInitiatedBy':'AKA',\n",
    "\t\t\t\t'ThreadResponsibleDepartmentTeam': 'Medlemskabsteam',\n",
    "                'lda_num_topics_start': 7,\n",
    "                'lda_num_topics_end': 8,\n",
    "                'lda_num_topics_increment': 1,\n",
    "            },\n",
    "            {'ThreadInitiatedBy':'AKA',\n",
    "\t\t\t\t'ThreadResponsibleDepartmentTeam': 'Job',\n",
    "                'lda_num_topics_start': 6,\n",
    "                'lda_num_topics_end': 7,\n",
    "                'lda_num_topics_increment': 1,\n",
    "            },\n",
    "            {'ThreadInitiatedBy':'AKA',\n",
    "\t\t\t\t'ThreadResponsibleDepartmentTeam': 'Logistik',\n",
    "                'lda_num_topics_start': 5,\n",
    "                'lda_num_topics_end': 6,\n",
    "                'lda_num_topics_increment': 1,\n",
    "            }\n",
    "\t\t]\n",
    "\t}\n",
    "}"
   ]
  },
  {
   "cell_type": "code",
   "execution_count": 149,
   "metadata": {},
   "outputs": [
    {
     "name": "stdout",
     "output_type": "stream",
     "text": [
      "FirstResponseFromAKAToMemberMessageBody\n",
      "FirstResponseFromAKAToMemberMessageID\n",
      "AKAandMember All 50\n",
      "AKAandMember Udbetalingsteam 15\n",
      "AKAandMember Medlemskabsteam 10\n",
      "AKAandMember Medlemskabsteam 7\n",
      "AKAandMember Medlemskabsteam 5\n",
      "FirstMemberMessageBody\n",
      "FirstMemberMessageID\n",
      "AKAandMember All 100\n",
      "Member Udbetalingsteam 15\n",
      "Member Medlemskabsteam 10\n",
      "Member Job 7\n",
      "Member Logistik 5\n",
      "AKA Udbetalingsteam 10\n",
      "AKA Medlemskabsteam 7\n",
      "AKA Job 6\n",
      "AKA Logistik 5\n"
     ]
    }
   ],
   "source": [
    "for k in pipe.keys():\n",
    "    print(pipe[k]['target_column'])\n",
    "    print(pipe[k]['target_column_id'])\n",
    "    \n",
    "    # Preprocess dataset\n",
    "    if pipe[k]['Tests']:\n",
    "        for i in pipe[k]['Tests']:\n",
    "#             print('\\t{ThreadInitiatedBy}, {ThreadResponsibleDepartmentTeam}, {lda_num_topics_start}'.format(**i))\n",
    "            print(i['ThreadInitiatedBy'], i['ThreadResponsibleDepartmentTeam'],i['lda_num_topics_start'],)\n",
    "            # Create the model"
   ]
  },
  {
   "cell_type": "code",
   "execution_count": 119,
   "metadata": {},
   "outputs": [
    {
     "data": {
      "text/html": [
       "<div>\n",
       "<style scoped>\n",
       "    .dataframe tbody tr th:only-of-type {\n",
       "        vertical-align: middle;\n",
       "    }\n",
       "\n",
       "    .dataframe tbody tr th {\n",
       "        vertical-align: top;\n",
       "    }\n",
       "\n",
       "    .dataframe thead th {\n",
       "        text-align: right;\n",
       "    }\n",
       "</style>\n",
       "<table border=\"1\" class=\"dataframe\">\n",
       "  <thead>\n",
       "    <tr style=\"text-align: right;\">\n",
       "      <th></th>\n",
       "      <th>a</th>\n",
       "      <th>b</th>\n",
       "      <th>c</th>\n",
       "      <th>con</th>\n",
       "    </tr>\n",
       "  </thead>\n",
       "  <tbody>\n",
       "    <tr>\n",
       "      <th>0</th>\n",
       "      <td>1</td>\n",
       "      <td>test</td>\n",
       "      <td>A</td>\n",
       "      <td>test</td>\n",
       "    </tr>\n",
       "    <tr>\n",
       "      <th>1</th>\n",
       "      <td>4</td>\n",
       "      <td>test</td>\n",
       "      <td>A</td>\n",
       "      <td>test</td>\n",
       "    </tr>\n",
       "    <tr>\n",
       "      <th>2</th>\n",
       "      <td>7</td>\n",
       "      <td>hest</td>\n",
       "      <td>B</td>\n",
       "      <td>hest hest</td>\n",
       "    </tr>\n",
       "    <tr>\n",
       "      <th>3</th>\n",
       "      <td>10</td>\n",
       "      <td>11</td>\n",
       "      <td>B</td>\n",
       "      <td>11 11</td>\n",
       "    </tr>\n",
       "  </tbody>\n",
       "</table>\n",
       "</div>"
      ],
      "text/plain": [
       "    a     b  c        con\n",
       "0   1  test  A       test\n",
       "1   4  test  A       test\n",
       "2   7  hest  B  hest hest\n",
       "3  10    11  B      11 11"
      ]
     },
     "execution_count": 119,
     "metadata": {},
     "output_type": "execute_result"
    }
   ],
   "source": [
    "import pandas as pd\n",
    "df1 = pd.DataFrame(columns=['a','b','c'], data=[[1,'test','A'],[4,'test','A'],[7,'hest','B'],[10,'11','B']])\n",
    "df1\n",
    "df2 = df1.copy(deep=True)\n",
    "# df2 = df2['b']\n",
    "# df2.loc[df2.c=='B', 'test'] = 'test'\n",
    "# df2['d'] = df2['b']\n",
    "# df1['b'] = df1['b'] + ' ' + df2['test']\n",
    "# df1\n",
    "df2['con'] = (df2['b']+' ' + df1['b']).where(df2['c'] == 'B', df2['b'])\n",
    "df2"
   ]
  },
  {
   "cell_type": "code",
   "execution_count": 120,
   "metadata": {},
   "outputs": [
    {
     "data": {
      "text/html": [
       "<div>\n",
       "<style scoped>\n",
       "    .dataframe tbody tr th:only-of-type {\n",
       "        vertical-align: middle;\n",
       "    }\n",
       "\n",
       "    .dataframe tbody tr th {\n",
       "        vertical-align: top;\n",
       "    }\n",
       "\n",
       "    .dataframe thead th {\n",
       "        text-align: right;\n",
       "    }\n",
       "</style>\n",
       "<table border=\"1\" class=\"dataframe\">\n",
       "  <thead>\n",
       "    <tr style=\"text-align: right;\">\n",
       "      <th></th>\n",
       "      <th>a</th>\n",
       "      <th>b</th>\n",
       "      <th>c</th>\n",
       "    </tr>\n",
       "  </thead>\n",
       "  <tbody>\n",
       "    <tr>\n",
       "      <th>0</th>\n",
       "      <td>1</td>\n",
       "      <td>test</td>\n",
       "      <td>A</td>\n",
       "    </tr>\n",
       "    <tr>\n",
       "      <th>1</th>\n",
       "      <td>4</td>\n",
       "      <td>test</td>\n",
       "      <td>A</td>\n",
       "    </tr>\n",
       "    <tr>\n",
       "      <th>2</th>\n",
       "      <td>7</td>\n",
       "      <td>hest</td>\n",
       "      <td>B</td>\n",
       "    </tr>\n",
       "    <tr>\n",
       "      <th>3</th>\n",
       "      <td>10</td>\n",
       "      <td>11</td>\n",
       "      <td>B</td>\n",
       "    </tr>\n",
       "  </tbody>\n",
       "</table>\n",
       "</div>"
      ],
      "text/plain": [
       "    a     b  c\n",
       "0   1  test  A\n",
       "1   4  test  A\n",
       "2   7  hest  B\n",
       "3  10    11  B"
      ]
     },
     "execution_count": 120,
     "metadata": {},
     "output_type": "execute_result"
    }
   ],
   "source": [
    "df1"
   ]
  },
  {
   "cell_type": "code",
   "execution_count": null,
   "metadata": {},
   "outputs": [],
   "source": []
  }
 ],
 "metadata": {
  "kernelspec": {
   "display_name": "Python [conda env:aka-diagnostic]",
   "language": "python",
   "name": "conda-env-aka-diagnostic-py"
  },
  "language_info": {
   "codemirror_mode": {
    "name": "ipython",
    "version": 3
   },
   "file_extension": ".py",
   "mimetype": "text/x-python",
   "name": "python",
   "nbconvert_exporter": "python",
   "pygments_lexer": "ipython3",
   "version": "3.7.0"
  }
 },
 "nbformat": 4,
 "nbformat_minor": 2
}
