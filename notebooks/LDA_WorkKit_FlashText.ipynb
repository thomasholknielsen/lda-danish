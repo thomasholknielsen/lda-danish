{
 "cells": [
  {
   "cell_type": "markdown",
   "metadata": {},
   "source": [
    "# FlashText"
   ]
  },
  {
   "cell_type": "markdown",
   "metadata": {},
   "source": [
    "The purpose of this workbook is to work with the modul flashtext in order to develop a comprehensive dictionary of replacements that can be used in the LDA process. I will include basic instructions here that showes how to build the dictionary. From here the user can build for the final product.\n",
    "\n",
    "You can find further information from the three links below. However, all information to get you started should be included below.\n",
    "\n",
    "- Medium: https://medium.freecodecamp.org/regex-was-taking-5-days-flashtext-does-it-in-15-minutes-55f04411025f\n",
    "- ReadTheDocs: https://flashtext.readthedocs.io/en/latest/\n",
    "- Github: https://github.com/vi3k6i5/flashtext"
   ]
  },
  {
   "cell_type": "code",
   "execution_count": null,
   "metadata": {},
   "outputs": [],
   "source": [
    "# Install a pip package in the current Jupyter kernel\n",
    "# This portion can be out commented once it has been completed on a new system.\n",
    "import sys\n",
    "!{sys.executable} -m pip install flashtext"
   ]
  },
  {
   "cell_type": "markdown",
   "metadata": {},
   "source": [
    "## FlashText Example"
   ]
  },
  {
   "cell_type": "code",
   "execution_count": null,
   "metadata": {},
   "outputs": [],
   "source": [
    "# This sample has threadID 6773A5DA-8270-E811-82F9-005056AD2D14\n",
    "sample = '''Hej Akademikernes\n",
    "Jeg står situation at jeg er blevet afskediget fra mit job som gymnasielærer hos HTX Roskilde pr 30. juni, og har endnu ikke fundet noget nyt arbejde.\n",
    "Jeg skulle meget gerne være fuldtidsforsikret hos jer, og vil gerne hører hvad jeg skal gøre nu.\n",
    "Jeg har planlagt at tage på ferie fra d. 1/06 til en gang midt i august, men regner umiddelbart med at det bliver selvbetalt ferie. Er det rigtigt?\n",
    "Skal jeg gå ind og oprette mig på jobnet inden, og så bare melde mig ledig når jeg kommer hjem igen? Giver det en karens-periode?\n",
    "Håber i kan hjælpe mig med mine spørgsmål\n",
    "\n",
    "Mvh\n",
    "Morten Hallas\n",
    "Medlemsnr: 11968104'''"
   ]
  },
  {
   "cell_type": "code",
   "execution_count": null,
   "metadata": {},
   "outputs": [],
   "source": [
    "# Load the flashtext modul\n",
    "from flashtext import KeywordProcessor\n",
    "\n",
    "# Initiate an instance of the class\n",
    "keyword_processor = KeywordProcessor(case_sensitive=False)\n",
    "\n",
    "# Add a replacement to the keywordprocesser\n",
    "# The order of the words should be\n",
    "# word_to_be_replaced , replacement_word\n",
    "# keyword_processor.add_keyword(<unclean name>, <standardised name>)\n",
    "keyword_processor.add_keyword('blevet', 'blev')\n",
    "\n",
    "keyword_processor.replace_keywords(sample)"
   ]
  },
  {
   "cell_type": "markdown",
   "metadata": {},
   "source": [
    "## FlashText Adding multiple keywords simultaneously\n",
    "This is where the fun starts. Here I will show how to add multiple words to the keyword_processer. This will be the work that will be included in the AKA LDA model.\n",
    "\n",
    "The code will look like\n",
    "\n",
    "- create dictionary\n",
    "    - keys are correct term\n",
    "    - values are a list of variations of the key\n",
    "\n",
    "Lets see what that looks like"
   ]
  },
  {
   "cell_type": "code",
   "execution_count": null,
   "metadata": {},
   "outputs": [],
   "source": [
    "# Create the dictionary of replacements\n",
    "# This dictionary should be extended\n",
    "keyword_dictionary = {\n",
    "    'hej': ['hej,','hej.']\n",
    "    'jeg_har': ['jeg har'],\n",
    "    'jobnet_dk' : ['jobnet'],\n",
    "    'planlægge' : ['planlægger','planlagt'],\n",
    "    'supplerende_dagpenge': ['supplerende dagpenge']\n",
    "}\n",
    "\n",
    "# Add to the keyword processer\n",
    "keyword_processor.add_keywords_from_dict(keyword_dictionary)"
   ]
  },
  {
   "cell_type": "code",
   "execution_count": null,
   "metadata": {},
   "outputs": [],
   "source": [
    "sample2 = '''Hej. \n",
    "Jeg skriver til jer fordi jeg gerne vil høre hvordan det foregår når jeg overgår fra supplerende dagpenge til dagpenge. Jeg har modtaget et brev fra jer om at min ret til supplerende dagpenge udløber pr. 15. juli 2018, men at jeg har ret til supplerende dagpenge måneden ud. \n",
    "Hvad sker der så pr. 1. augudt 2018? Jeg har været nødsaget til at sige mit nuværende arbejde op, og skal vel overgå til fuld dagpenge pr. 1. august? \n",
    "MEN, jeg er tilkaldevikar på to ungdomscentre kaldet Stedet og Skuret hvor jeg har to vagter i august. Kan dette overhovedet lade sig gøre når jeg overgår til dagpenge? \n",
    "Med venlig hilsen \n",
    "Maj Holm Quast '''"
   ]
  },
  {
   "cell_type": "code",
   "execution_count": null,
   "metadata": {},
   "outputs": [],
   "source": [
    "# test the replacements on sample2\n",
    "keyword_processor.replace_keywords(sample2)"
   ]
  },
  {
   "cell_type": "markdown",
   "metadata": {},
   "source": [
    "From above you can see what has been changed from the keyword processor"
   ]
  },
  {
   "cell_type": "markdown",
   "metadata": {},
   "source": [
    "# Errors\n",
    "If you get the following error:\n",
    "```\n",
    "File \"<ipython-input-24-a39a7841c417>\", line 5\n",
    "    'jeg_har': ['jeg har'],\n",
    "            ^\n",
    "SyntaxError: invalid syntax```\n",
    "\n",
    "The little '^' tells you where the faliur occurs. However it is very often the line prior to the indication that you should look at. The error above was produced from the following code:\n",
    "\n",
    "```\n",
    "keyword_dictionary = {\n",
    "    'hej': ['hej,','hej.'] <-- Missing ','\n",
    "    'jeg_har': ['jeg har'],\n",
    "    'jobnet_dk' : ['jobnet'],\n",
    "    'planlægge' : ['planlægger','planlagt'],\n",
    "    'supplerende_dagpenge': ['supplerende dagpenge']\n",
    "}```\n",
    "\n",
    "I have indicated where the error was, which is a missing ','. "
   ]
  },
  {
   "cell_type": "code",
   "execution_count": null,
   "metadata": {},
   "outputs": [],
   "source": []
  }
 ],
 "metadata": {
  "kernelspec": {
   "display_name": "Python [conda env:aka-diagnostic]",
   "language": "python",
   "name": "conda-env-aka-diagnostic-py"
  },
  "language_info": {
   "codemirror_mode": {
    "name": "ipython",
    "version": 3
   },
   "file_extension": ".py",
   "mimetype": "text/x-python",
   "name": "python",
   "nbconvert_exporter": "python",
   "pygments_lexer": "ipython3",
   "version": "3.7.0"
  }
 },
 "nbformat": 4,
 "nbformat_minor": 2
}
