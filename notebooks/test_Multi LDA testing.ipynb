{
 "cells": [
  {
   "cell_type": "code",
   "execution_count": 1,
   "metadata": {},
   "outputs": [],
   "source": [
    "import pandas as pd"
   ]
  },
  {
   "cell_type": "code",
   "execution_count": 2,
   "metadata": {},
   "outputs": [],
   "source": [
    "from utils.lipht_visualization import topic_distribution_barplot\n",
    "from utils.lipht_lda_utils import PrepareDictionary, lda_predict_df, df_lda_features, get_topics_and_probability, get_lda_topics, df_lda_preprocessing, TrainLDAModel\n",
    "from utils.lipht_data import getEngine"
   ]
  },
  {
   "cell_type": "code",
   "execution_count": 52,
   "metadata": {},
   "outputs": [],
   "source": [
    "engine = getEngine('LI-PH-01','Akademikernes_MSCRM')#,'script','Google100123!', 'MSSQLSERVER')"
   ]
  },
  {
   "cell_type": "code",
   "execution_count": 4,
   "metadata": {},
   "outputs": [],
   "source": [
    "df_messages = pd.read_pickle('data/LDA_Messages_persisted_with_language.pkl')"
   ]
  },
  {
   "cell_type": "code",
   "execution_count": 54,
   "metadata": {},
   "outputs": [
    {
     "data": {
      "text/html": [
       "<div>\n",
       "<style scoped>\n",
       "    .dataframe tbody tr th:only-of-type {\n",
       "        vertical-align: middle;\n",
       "    }\n",
       "\n",
       "    .dataframe tbody tr th {\n",
       "        vertical-align: top;\n",
       "    }\n",
       "\n",
       "    .dataframe thead th {\n",
       "        text-align: right;\n",
       "    }\n",
       "</style>\n",
       "<table border=\"1\" class=\"dataframe\">\n",
       "  <thead>\n",
       "    <tr style=\"text-align: right;\">\n",
       "      <th></th>\n",
       "      <th>ThreadID</th>\n",
       "      <th>ThreadSubject</th>\n",
       "      <th>FirstMessage</th>\n",
       "      <th>FirstMemberMessage</th>\n",
       "      <th>ThreadInitiatedBy</th>\n",
       "      <th>ThreadClass</th>\n",
       "      <th>InDiagnosticScope</th>\n",
       "      <th>ThreadMessageID</th>\n",
       "      <th>ThreadResponsibleDepartment</th>\n",
       "      <th>ThreadResponsibleDepartmentTeam</th>\n",
       "      <th>...</th>\n",
       "      <th>text_Exclamationmarks</th>\n",
       "      <th>tokenized_text</th>\n",
       "      <th>stopwords_removed</th>\n",
       "      <th>lemmatized_text</th>\n",
       "      <th>stemmed_text</th>\n",
       "      <th>bow</th>\n",
       "      <th>language_prediction</th>\n",
       "      <th>language_probability</th>\n",
       "      <th>language_id</th>\n",
       "      <th>language</th>\n",
       "    </tr>\n",
       "  </thead>\n",
       "  <tbody>\n",
       "    <tr>\n",
       "      <th>0</th>\n",
       "      <td>15FA2A2B-B6FA-E611-AC9F-005056AD2D14</td>\n",
       "      <td>Nyt brev: Is part time insurance right for you?</td>\n",
       "      <td>Hej,\\n\\n\\nWell, yes I did. Basically because I...</td>\n",
       "      <td>Hej,\\n\\n\\nWell, yes I did. Basically because I...</td>\n",
       "      <td>Member</td>\n",
       "      <td>Member to AKA to Member</td>\n",
       "      <td>1</td>\n",
       "      <td>1EFA2A2B-B6FA-E611-AC9F-005056AD2D14</td>\n",
       "      <td>Forsikring</td>\n",
       "      <td>Medlemskabsteam</td>\n",
       "      <td>...</td>\n",
       "      <td>0</td>\n",
       "      <td>[have_a, request, job, i_say, have, one_month,...</td>\n",
       "      <td>[have_a, request, job, i_say, one_month, gradu...</td>\n",
       "      <td>[have_a, request, job, i_say, one_month, gradu...</td>\n",
       "      <td>[have_a, request, job, i_say, one_month, gradu...</td>\n",
       "      <td>[(68, 1), (78, 1), (109, 1), (110, 1), (113, 1...</td>\n",
       "      <td>[0.964599, 1, English]</td>\n",
       "      <td>0.964599</td>\n",
       "      <td>1</td>\n",
       "      <td>English</td>\n",
       "    </tr>\n",
       "    <tr>\n",
       "      <th>1</th>\n",
       "      <td>36B7B25E-A349-E711-BE8E-005056AD2D14</td>\n",
       "      <td>Virksomhedspraktik samt samtale med A-kasse og...</td>\n",
       "      <td>Hej,\\nSom aftalt med Karen Henningsen ved møde...</td>\n",
       "      <td>Hej,\\nSom aftalt med Karen Henningsen ved møde...</td>\n",
       "      <td>Member</td>\n",
       "      <td>Member to AKA to Member</td>\n",
       "      <td>1</td>\n",
       "      <td>3DB7B25E-A349-E711-BE8E-005056AD2D14</td>\n",
       "      <td>Jobmatch</td>\n",
       "      <td>Team Rådighed</td>\n",
       "      <td>...</td>\n",
       "      <td>0</td>\n",
       "      <td>[som_aftalt, nu_til, kalde, vide_at, meddeler,...</td>\n",
       "      <td>[som_aftalt, nu_til, kalde, vide_at, meddeler,...</td>\n",
       "      <td>[som_aftalt, nu_til, kalde, vide_at, meddeler,...</td>\n",
       "      <td>[som_aftalt, nu_til, kald, vide_at, meddel, vi...</td>\n",
       "      <td>[(27, 1), (126, 1), (180, 1), (185, 1), (218, ...</td>\n",
       "      <td>[0.96779394, 0, Danish]</td>\n",
       "      <td>0.967794</td>\n",
       "      <td>0</td>\n",
       "      <td>Danish</td>\n",
       "    </tr>\n",
       "  </tbody>\n",
       "</table>\n",
       "<p>2 rows × 26 columns</p>\n",
       "</div>"
      ],
      "text/plain": [
       "                               ThreadID  \\\n",
       "0  15FA2A2B-B6FA-E611-AC9F-005056AD2D14   \n",
       "1  36B7B25E-A349-E711-BE8E-005056AD2D14   \n",
       "\n",
       "                                       ThreadSubject  \\\n",
       "0    Nyt brev: Is part time insurance right for you?   \n",
       "1  Virksomhedspraktik samt samtale med A-kasse og...   \n",
       "\n",
       "                                        FirstMessage  \\\n",
       "0  Hej,\\n\\n\\nWell, yes I did. Basically because I...   \n",
       "1  Hej,\\nSom aftalt med Karen Henningsen ved møde...   \n",
       "\n",
       "                                  FirstMemberMessage ThreadInitiatedBy  \\\n",
       "0  Hej,\\n\\n\\nWell, yes I did. Basically because I...            Member   \n",
       "1  Hej,\\nSom aftalt med Karen Henningsen ved møde...            Member   \n",
       "\n",
       "               ThreadClass  InDiagnosticScope  \\\n",
       "0  Member to AKA to Member                  1   \n",
       "1  Member to AKA to Member                  1   \n",
       "\n",
       "                        ThreadMessageID ThreadResponsibleDepartment  \\\n",
       "0  1EFA2A2B-B6FA-E611-AC9F-005056AD2D14                  Forsikring   \n",
       "1  3DB7B25E-A349-E711-BE8E-005056AD2D14                    Jobmatch   \n",
       "\n",
       "  ThreadResponsibleDepartmentTeam   ...    text_Exclamationmarks  \\\n",
       "0                 Medlemskabsteam   ...                        0   \n",
       "1                   Team Rådighed   ...                        0   \n",
       "\n",
       "                                      tokenized_text  \\\n",
       "0  [have_a, request, job, i_say, have, one_month,...   \n",
       "1  [som_aftalt, nu_til, kalde, vide_at, meddeler,...   \n",
       "\n",
       "                                   stopwords_removed  \\\n",
       "0  [have_a, request, job, i_say, one_month, gradu...   \n",
       "1  [som_aftalt, nu_til, kalde, vide_at, meddeler,...   \n",
       "\n",
       "                                     lemmatized_text  \\\n",
       "0  [have_a, request, job, i_say, one_month, gradu...   \n",
       "1  [som_aftalt, nu_til, kalde, vide_at, meddeler,...   \n",
       "\n",
       "                                        stemmed_text  \\\n",
       "0  [have_a, request, job, i_say, one_month, gradu...   \n",
       "1  [som_aftalt, nu_til, kald, vide_at, meddel, vi...   \n",
       "\n",
       "                                                 bow      language_prediction  \\\n",
       "0  [(68, 1), (78, 1), (109, 1), (110, 1), (113, 1...   [0.964599, 1, English]   \n",
       "1  [(27, 1), (126, 1), (180, 1), (185, 1), (218, ...  [0.96779394, 0, Danish]   \n",
       "\n",
       "  language_probability language_id language  \n",
       "0             0.964599           1  English  \n",
       "1             0.967794           0   Danish  \n",
       "\n",
       "[2 rows x 26 columns]"
      ]
     },
     "execution_count": 54,
     "metadata": {},
     "output_type": "execute_result"
    }
   ],
   "source": [
    "df_messages.head(2)"
   ]
  },
  {
   "cell_type": "code",
   "execution_count": 5,
   "metadata": {},
   "outputs": [],
   "source": [
    "# Overview of teams and row count for ThreadMessageID\n",
    "# df_messages[['ThreadResponsibleDepartmentTeam', 'ThreadMessageID']].groupby(['ThreadResponsibleDepartmentTeam']).agg(['count'])"
   ]
  },
  {
   "cell_type": "code",
   "execution_count": 6,
   "metadata": {},
   "outputs": [],
   "source": [
    "respteams = ['Job','Logistik','Medlemskabsteam','Medlemskabsteam', 'Udbetalingsteam']"
   ]
  },
  {
   "cell_type": "code",
   "execution_count": 7,
   "metadata": {},
   "outputs": [],
   "source": [
    "departmentteam = 'Udbetalingsteam'\n",
    "initiatedby = 'Member'\n",
    "n_gram = 3\n",
    "sample_size= 10000\n",
    "no_above = 0.014\n",
    "no_below= 2 # filter out tokens that appear in less than 15 documents\n",
    "random_state=1\n",
    "lda_num_topics = 50\n",
    "lda_chunksize = 1000\n",
    "lda_passes = 50\n",
    "\n",
    "log = {\n",
    "    'departmentteam': departmentteam,\n",
    "    'initiatedby': initiatedby,\n",
    "    'n_gram': n_gram,\n",
    "    'no_above': no_above,\n",
    "    'no_below': no_below,\n",
    "    'random_state': random_state,\n",
    "    'lda_num_topics': lda_num_topics,\n",
    "    'lda_chunksize': lda_chunksize,\n",
    "    'lda_passes': lda_passes\n",
    "}"
   ]
  },
  {
   "cell_type": "code",
   "execution_count": 8,
   "metadata": {},
   "outputs": [],
   "source": [
    "df_team = df_messages[(df_messages['FirstMessage'].isnull()==False) & (df_messages['ThreadResponsibleDepartmentTeam'].str.contains(departmentteam)==True) & (df_messages['ThreadInitiatedBy']==initiatedby) & (df_messages['language']=='Danish')].copy(deep=True)\n",
    "log['rows'] = df_team.shape[0]"
   ]
  },
  {
   "cell_type": "code",
   "execution_count": 9,
   "metadata": {},
   "outputs": [
    {
     "name": "stderr",
     "output_type": "stream",
     "text": [
      "C:\\tools\\Anaconda3\\envs\\aka-diagnostic\\lib\\site-packages\\bs4\\__init__.py:273: UserWarning: \"b'.'\" looks like a filename, not markup. You should probably open this file and pass the filehandle into Beautiful Soup.\n",
      "  ' Beautiful Soup.' % markup)\n"
     ]
    }
   ],
   "source": [
    "df_lda_preprocessing(df_team, 'text')"
   ]
  },
  {
   "cell_type": "code",
   "execution_count": 10,
   "metadata": {},
   "outputs": [
    {
     "name": "stderr",
     "output_type": "stream",
     "text": [
      "C:\\tools\\Anaconda3\\envs\\aka-diagnostic\\lib\\site-packages\\gensim\\utils.py:1197: UserWarning: detected Windows; aliasing chunkize to chunkize_serial\n",
      "  warnings.warn(\"detected Windows; aliasing chunkize to chunkize_serial\")\n"
     ]
    },
    {
     "name": "stdout",
     "output_type": "stream",
     "text": [
      "Found 280331 words.\n",
      "Left with 42456 words.\n",
      "bow column added to df\n"
     ]
    }
   ],
   "source": [
    "# Create dictionary and corups\n",
    "dictionary, corpus = PrepareDictionary(df_team, 'ngrams', no_above, no_below, log)"
   ]
  },
  {
   "cell_type": "code",
   "execution_count": 11,
   "metadata": {},
   "outputs": [],
   "source": [
    "# Create identifier\n",
    "log['identifier'] = '{0}-Initiatedby_{1}_Topics-{2}'.format(departmentteam, initiatedby, lda_num_topics)"
   ]
  },
  {
   "cell_type": "code",
   "execution_count": 12,
   "metadata": {},
   "outputs": [
    {
     "name": "stdout",
     "output_type": "stream",
     "text": [
      "Wall time: 1min 19s\n"
     ]
    }
   ],
   "source": [
    "%%time\n",
    "# Train the model\n",
    "team_lda_model = TrainLDAModel(corpus, dictionary, lda_num_topics, 4, lda_chunksize, lda_passes, random_state, log, directory=log['identifier'])\n",
    "# team_lda_model.save('{0}_model'.format(log['identifier']))\n",
    "# dictionary.save('{0}_dictionary.pkl'.format(log['identifier']))"
   ]
  },
  {
   "cell_type": "code",
   "execution_count": 13,
   "metadata": {},
   "outputs": [
    {
     "data": {
      "text/plain": [
       "<matplotlib.axes._subplots.AxesSubplot at 0x21901663588>"
      ]
     },
     "execution_count": 13,
     "metadata": {},
     "output_type": "execute_result"
    }
   ],
   "source": [
    "# Get the distribution\n",
    "title = '{0}_Distribution'.format(log['identifier'])\n",
    "topic_distribution_barplot(team_lda_model, df_team, 5, title)"
   ]
  },
  {
   "cell_type": "code",
   "execution_count": 15,
   "metadata": {},
   "outputs": [],
   "source": [
    "# Get topics and probability\n",
    "topics = get_topics_and_probability(df_team, team_lda_model, lda_num_topics, 40)\n",
    "topics['team'] = pd.Series(log['departmentteam'], index=topics.index)\n",
    "topics['initiatedby'] = pd.Series(log['initiatedby'], index=topics.index)\n",
    "topics['lda_num_topics'] = pd.Series(log['lda_num_topics'], index=topics.index)"
   ]
  },
  {
   "cell_type": "code",
   "execution_count": 53,
   "metadata": {},
   "outputs": [],
   "source": [
    "topics.to_sql(name='topics_index' ,con=engine , schema='input', if_exists='append', index=False)"
   ]
  },
  {
   "cell_type": "code",
   "execution_count": null,
   "metadata": {},
   "outputs": [],
   "source": [
    "# Create dataset for predictions\n",
    "team_prediction = df_team[['ThreadID','ThreadMessageID','ThreadInitiatedBy','text','stemmed_text','ngrams','bow']].copy(deep=True)\n",
    "team_prediction['lda_num_topics'] = pd.Series(log['lda_num_topics'], index=team_prediction.index)\n",
    "team_prediction"
   ]
  },
  {
   "cell_type": "code",
   "execution_count": null,
   "metadata": {},
   "outputs": [],
   "source": [
    "lda_predict_df(team_prediction,'ngrams', team_lda_model, dictionary)"
   ]
  },
  {
   "cell_type": "code",
   "execution_count": null,
   "metadata": {},
   "outputs": [],
   "source": [
    "team_prediction = team_prediction[['ThreadID','ThreadMessageID','ThreadInitiatedBy','lda_num_topics','pred_probability','pred_index']]\n",
    "team_prediction"
   ]
  },
  {
   "cell_type": "code",
   "execution_count": null,
   "metadata": {},
   "outputs": [],
   "source": [
    "team_prediction.to_sql(name='topics_predictions',con=engine , schema='input', if_exists='append', index=False)"
   ]
  },
  {
   "cell_type": "code",
   "execution_count": null,
   "metadata": {},
   "outputs": [],
   "source": [
    "df_log = pd.DataFrame(log, index=['0'])\n",
    "df_log"
   ]
  },
  {
   "cell_type": "code",
   "execution_count": null,
   "metadata": {},
   "outputs": [],
   "source": [
    "df_log.to_sql(name='log_multi_model' ,con=engine , schema='input', if_exists='append', index=False)"
   ]
  },
  {
   "cell_type": "code",
   "execution_count": null,
   "metadata": {},
   "outputs": [],
   "source": []
  }
 ],
 "metadata": {
  "kernelspec": {
   "display_name": "Python [conda env:aka-diagnostic]",
   "language": "python",
   "name": "conda-env-aka-diagnostic-py"
  },
  "language_info": {
   "codemirror_mode": {
    "name": "ipython",
    "version": 3
   },
   "file_extension": ".py",
   "mimetype": "text/x-python",
   "name": "python",
   "nbconvert_exporter": "python",
   "pygments_lexer": "ipython3",
   "version": "3.7.0"
  }
 },
 "nbformat": 4,
 "nbformat_minor": 2
}
