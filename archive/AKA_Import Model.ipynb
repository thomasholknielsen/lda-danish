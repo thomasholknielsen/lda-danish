{
 "cells": [
  {
   "cell_type": "markdown",
   "metadata": {},
   "source": [
    "# Load a pretrained model"
   ]
  },
  {
   "cell_type": "markdown",
   "metadata": {},
   "source": [
    "#### Load moduls"
   ]
  },
  {
   "cell_type": "code",
   "execution_count": 1,
   "metadata": {},
   "outputs": [
    {
     "name": "stderr",
     "output_type": "stream",
     "text": [
      "C:\\ProgramData\\Anaconda3\\envs\\akademikernes_diagnostic\\lib\\site-packages\\gensim\\utils.py:1209: UserWarning: detected Windows; aliasing chunkize to chunkize_serial\n",
      "  warnings.warn(\"detected Windows; aliasing chunkize to chunkize_serial\")\n"
     ]
    }
   ],
   "source": [
    "from gensim.models.ldamulticore import LdaMulticore\n",
    "from gensim.corpora import Dictionary"
   ]
  },
  {
   "cell_type": "markdown",
   "metadata": {},
   "source": [
    "#### Load custom moduls"
   ]
  },
  {
   "cell_type": "code",
   "execution_count": 33,
   "metadata": {},
   "outputs": [],
   "source": [
    "from lipht_lda import lda_predict_string, lda_predict_df"
   ]
  },
  {
   "cell_type": "markdown",
   "metadata": {},
   "source": [
    "#### Input variables"
   ]
  },
  {
   "cell_type": "code",
   "execution_count": 34,
   "metadata": {},
   "outputs": [],
   "source": [
    "departmentteam = 'Udbetaling'\n",
    "path = 'data/model/'\n",
    "model = '{}_df_B_Sample-10000_RandomState-1_WordCount-1000_LDAmodel'.format(departmentteam)\n",
    "dictionary = model + '_dictionary.pkl'"
   ]
  },
  {
   "cell_type": "code",
   "execution_count": 35,
   "metadata": {},
   "outputs": [],
   "source": [
    "LDAmodel_scope = LdaMulticore.load(path+model)\n",
    "LDAmodel_dictionary = Dictionary.load(path+dictionary)"
   ]
  },
  {
   "cell_type": "code",
   "execution_count": 51,
   "metadata": {},
   "outputs": [],
   "source": [
    "def load_topic_names(departmentteam):\n",
    "    dicts_from_file = []\n",
    "    with open('data/{}_lda_topic_names.txt'.format(departmentteam),'r') as inf:\n",
    "        for line in inf:\n",
    "            dicts_from_file.append(eval(line))\n",
    "    return dicts_from_file[0]"
   ]
  },
  {
   "cell_type": "code",
   "execution_count": 52,
   "metadata": {},
   "outputs": [],
   "source": [
    "lda_topic_names = load_topic_names(departmentteam)"
   ]
  },
  {
   "cell_type": "markdown",
   "metadata": {},
   "source": [
    "### Test model\n",
    "Using unseen data"
   ]
  },
  {
   "cell_type": "code",
   "execution_count": 37,
   "metadata": {},
   "outputs": [],
   "source": [
    "# unseen_document = 'hello,   writing because  would like  know more about the lønsikring (.. how much does  cost extra  month   subscribed? how can  subscribe  ?).  would like  subscribe    soon  possible. thank you very much for your help.'\n",
    "# unseen_document = 'Hej Igen. Kan nu se hvorfor jeg ikke tidligere har udfyldt frigørelsesattest.Det er fordi jeg ikke passer ind under den. Jeg kan hverken opsige uden varsel eller frit lægge min arbejdstid som jeg vil.I øvrigt kan jeg se at blanketten kræver arbejdsgivers underskrift, men er det ikke fjollet når jeg ikke længere modtager dagpenge? Bh. EmilieTlf: 50553384'\n",
    "unseen_document = 'Hej, Så hvad skal jeg gøre nu, for at kunne få a-kasse? Eller vil de automatisk komme ind på min konto, med de ting jeg allerede har gjort?Venlig hilsenMads Thomsen'\n",
    "# unseen_document = 'Jeg vil gerne tilmeldes 6-månedersordningen, da jeg nu er på efterløn UDEN arbejde ved siden af.På Ydelseskortet har jeg ikke skrevet de to dage jeg arbejdede for Danmarks Tekniske Universitet.Det drejer sig om 2*7 timer d. 10. og 11. januar 2017.mvhJohn Vestergaard '"
   ]
  },
  {
   "cell_type": "code",
   "execution_count": 38,
   "metadata": {},
   "outputs": [
    {
     "name": "stdout",
     "output_type": "stream",
     "text": [
      "4 0.33938295\n"
     ]
    }
   ],
   "source": [
    "result = lda_predict_string(unseen_document, LDAmodel_scope, LDAmodel_dictionary, lda_topic_names)"
   ]
  },
  {
   "cell_type": "code",
   "execution_count": 39,
   "metadata": {},
   "outputs": [
    {
     "name": "stdout",
     "output_type": "stream",
     "text": [
      "(0.33938295, '4', '0.068*\"dagpeng\" + 0.055*\"uger\" + 0.033*\"uge\" + 0.023*\"mandag\" + 0.023*\"søgt\"')\n"
     ]
    }
   ],
   "source": [
    "print(result)"
   ]
  },
  {
   "cell_type": "code",
   "execution_count": 40,
   "metadata": {
    "scrolled": true
   },
   "outputs": [],
   "source": [
    "import pandas as pd\n",
    "df = pd.DataFrame({'probability':result[0],\n",
    "                   'topic': result[1],\n",
    "                   'words': result[2]\n",
    "                  }, index=[0])"
   ]
  },
  {
   "cell_type": "code",
   "execution_count": 41,
   "metadata": {},
   "outputs": [
    {
     "data": {
      "text/html": [
       "<div>\n",
       "<style scoped>\n",
       "    .dataframe tbody tr th:only-of-type {\n",
       "        vertical-align: middle;\n",
       "    }\n",
       "\n",
       "    .dataframe tbody tr th {\n",
       "        vertical-align: top;\n",
       "    }\n",
       "\n",
       "    .dataframe thead th {\n",
       "        text-align: right;\n",
       "    }\n",
       "</style>\n",
       "<table border=\"1\" class=\"dataframe\">\n",
       "  <thead>\n",
       "    <tr style=\"text-align: right;\">\n",
       "      <th></th>\n",
       "      <th>probability</th>\n",
       "      <th>topic</th>\n",
       "      <th>words</th>\n",
       "    </tr>\n",
       "  </thead>\n",
       "  <tbody>\n",
       "    <tr>\n",
       "      <th>0</th>\n",
       "      <td>0.339383</td>\n",
       "      <td>4</td>\n",
       "      <td>0.068*\"dagpeng\" + 0.055*\"uger\" + 0.033*\"uge\" +...</td>\n",
       "    </tr>\n",
       "  </tbody>\n",
       "</table>\n",
       "</div>"
      ],
      "text/plain": [
       "   probability topic                                              words\n",
       "0     0.339383     4  0.068*\"dagpeng\" + 0.055*\"uger\" + 0.033*\"uge\" +..."
      ]
     },
     "execution_count": 41,
     "metadata": {},
     "output_type": "execute_result"
    }
   ],
   "source": [
    "df"
   ]
  },
  {
   "cell_type": "code",
   "execution_count": null,
   "metadata": {},
   "outputs": [],
   "source": []
  }
 ],
 "metadata": {
  "kernelspec": {
   "display_name": "Python [conda env:akademikernes_diagnostic]",
   "language": "python",
   "name": "conda-env-akademikernes_diagnostic-py"
  },
  "language_info": {
   "codemirror_mode": {
    "name": "ipython",
    "version": 3
   },
   "file_extension": ".py",
   "mimetype": "text/x-python",
   "name": "python",
   "nbconvert_exporter": "python",
   "pygments_lexer": "ipython3",
   "version": "3.6.6"
  }
 },
 "nbformat": 4,
 "nbformat_minor": 2
}
