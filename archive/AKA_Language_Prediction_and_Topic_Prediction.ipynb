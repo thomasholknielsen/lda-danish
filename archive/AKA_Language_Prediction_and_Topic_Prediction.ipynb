{
 "cells": [
  {
   "cell_type": "markdown",
   "metadata": {},
   "source": [
    "# Akademikernes Akasse\n",
    "Investiation of messages using topic modeling. Topic Modeling is a technique to extract the hidden topics from large volumes of text. Latent Dirichlet Allocation(LDA) is a popular algorithm for topic modeling with excellent implementations in the Python’s Gensim package. The challenge, however, is how to extract good quality of topics that are clear, segregated and meaningful. This depends heavily on the quality of text preprocessing and the strategy of finding the optimal number of topics.\n",
    "\n",
    "The Steps\n",
    "1. Preperation\n",
    "2. Data Processing\n",
    "3. Feature inspection\n",
    "4. Feature creation"
   ]
  },
  {
   "cell_type": "markdown",
   "metadata": {},
   "source": [
    "## 1) Preperation\n",
    "- Modul imports\n",
    "- Data imports\n",
    "- Utility Functions"
   ]
  },
  {
   "cell_type": "markdown",
   "metadata": {},
   "source": [
    "### Modul import"
   ]
  },
  {
   "cell_type": "code",
   "execution_count": 2,
   "metadata": {},
   "outputs": [
    {
     "name": "stderr",
     "output_type": "stream",
     "text": [
      "C:\\ProgramData\\Anaconda3\\envs\\akademikernes_diagnostic\\lib\\site-packages\\gensim\\utils.py:860: UserWarning: detected Windows; aliasing chunkize to chunkize_serial\n",
      "  warnings.warn(\"detected Windows; aliasing chunkize to chunkize_serial\")\n"
     ]
    }
   ],
   "source": [
    "# common\n",
    "import pandas as pd\n",
    "import numpy as np\n",
    "import re\n",
    "from bs4 import BeautifulSoup\n",
    "import pyodbc\n",
    "from collections import Counter\n",
    "from datetime import datetime\n",
    "\n",
    "# visualization imports\n",
    "from IPython.display import display\n",
    "import seaborn as sns\n",
    "# import pyLDAvis\n",
    "# import pyLDAvis.gensim  # don't skip this\n",
    "import matplotlib.pyplot as plt\n",
    "import matplotlib.image as mpimg\n",
    "plt.rcParams['image.cmap'] = 'gray'\n",
    "import base64\n",
    "import io\n",
    "%matplotlib inline\n",
    "sns.set()  # defines the style of the plots to be seaborn style\n",
    "\n",
    "# languange processing imports\n",
    "import nltk\n",
    "from nltk import wordpunct_tokenize\n",
    "from nltk.corpus import stopwords\n",
    "# from googletrans import Translator\n",
    "from gensim.corpora import Dictionary\n",
    "# preprocessing imports\n",
    "from sklearn.preprocessing import LabelEncoder\n",
    "\n",
    "# model imports\n",
    "import gensim\n",
    "from gensim.models.ldamulticore import LdaMulticore\n",
    "from gensim.models.word2vec import Word2Vec\n",
    "from gensim.models import CoherenceModel\n",
    "from sklearn.ensemble import RandomForestClassifier, AdaBoostClassifier\n",
    "from sklearn.linear_model import LogisticRegression\n",
    "\n",
    "# hyperparameter training imports\n",
    "from sklearn.model_selection import GridSearchCV\n",
    "\n",
    "# Remove unnecessary warnings\n",
    "pd.options.mode.chained_assignment = None"
   ]
  },
  {
   "cell_type": "code",
   "execution_count": 42,
   "metadata": {},
   "outputs": [],
   "source": [
    "# Common\n",
    "import pandas as pd\n",
    "import numpy as np\n",
    "\n",
    "# Visualization modules\n",
    "import matplotlib.pyplot as plt\n",
    "\n",
    "# Model modules\n",
    "from sklearn.feature_extraction.text import TfidfVectorizer#, CountVectorizer\n",
    "from sklearn.metrics.pairwise import cosine_similarity\n",
    "from scipy.spatial.distance import cdist\n",
    "from sklearn.cluster import KMeans\n",
    "from gensim.corpora import Dictionary\n",
    "from gensim.corpora import MmCorpus\n",
    "from gensim.test.utils import get_tmpfile\n",
    "from gensim.models.ldamulticore import LdaMulticore\n",
    "\n",
    "# Remove unnecessary warnings\n",
    "pd.options.mode.chained_assignment = None\n",
    "\n",
    "# other\n",
    "from collections import Counter\n",
    "import seaborn as sns"
   ]
  },
  {
   "cell_type": "markdown",
   "metadata": {},
   "source": [
    "### Assist functions"
   ]
  },
  {
   "cell_type": "code",
   "execution_count": 3,
   "metadata": {},
   "outputs": [],
   "source": [
    "def PlotValueCounts(df, column, topx=None):\n",
    "    counts = df[column].value_counts()\n",
    "    if topx:\n",
    "        counts = counts[:topx,]\n",
    "        title = 'Top {0} {1}'.format(topx, column)\n",
    "    else:\n",
    "        title = 'Rank of '.format(column)\n",
    "    plt.figure(figsize=(10,8))\n",
    "    sns.barplot(counts.values, counts.index, alpha=0.8)\n",
    "    plt.title('{0}'.format(title))\n",
    "    plt.ylabel(column)\n",
    "    plt.xlabel('No of Occurences')\n",
    "    plt.show()\n",
    "    \n",
    "def SummaryCounts(df):\n",
    "    return df.value_counts()"
   ]
  },
  {
   "cell_type": "markdown",
   "metadata": {},
   "source": [
    "### Data import\n",
    "Import the data"
   ]
  },
  {
   "cell_type": "code",
   "execution_count": 4,
   "metadata": {},
   "outputs": [
    {
     "data": {
      "text/html": [
       "<div>\n",
       "<style scoped>\n",
       "    .dataframe tbody tr th:only-of-type {\n",
       "        vertical-align: middle;\n",
       "    }\n",
       "\n",
       "    .dataframe tbody tr th {\n",
       "        vertical-align: top;\n",
       "    }\n",
       "\n",
       "    .dataframe thead th {\n",
       "        text-align: right;\n",
       "    }\n",
       "</style>\n",
       "<table border=\"1\" class=\"dataframe\">\n",
       "  <thead>\n",
       "    <tr style=\"text-align: right;\">\n",
       "      <th></th>\n",
       "      <th>ThreadID</th>\n",
       "      <th>ThreadCreatedFromLetter</th>\n",
       "      <th>ThreadTotalMessageCount</th>\n",
       "      <th>ThreadStatus</th>\n",
       "      <th>ThreadSubject</th>\n",
       "      <th>ThreadResponsibleDepartment</th>\n",
       "      <th>ThreadResponsibleDepartmentTeam</th>\n",
       "      <th>ThreadHasInteraction</th>\n",
       "      <th>ThreadInitiatedBy</th>\n",
       "      <th>ThreadMessageRank</th>\n",
       "      <th>ThreadMessageIsFirstMemberMessage</th>\n",
       "      <th>ThreadMessageIsFirstAKAMessage</th>\n",
       "      <th>ThreadMessageID</th>\n",
       "      <th>ThreadMessageDirection</th>\n",
       "      <th>ThreadMessageDateCreated</th>\n",
       "      <th>ThreadMessageText</th>\n",
       "    </tr>\n",
       "  </thead>\n",
       "  <tbody>\n",
       "    <tr>\n",
       "      <th>0</th>\n",
       "      <td>3F206D77-DFB5-E811-82B4-0050569118B0</td>\n",
       "      <td>0</td>\n",
       "      <td>1</td>\n",
       "      <td>Fuldført</td>\n",
       "      <td>Du er tilmeldt et arrangement</td>\n",
       "      <td>Jobmatch</td>\n",
       "      <td>Logistik</td>\n",
       "      <td>0</td>\n",
       "      <td>AKA</td>\n",
       "      <td>1</td>\n",
       "      <td>0</td>\n",
       "      <td>1</td>\n",
       "      <td>46206D77-DFB5-E811-82B4-0050569118B0</td>\n",
       "      <td>Udgående</td>\n",
       "      <td>2018-09-11 16:26:43</td>\n",
       "      <td>\\nDin booking er på plads\\n \\nVi bekræfter, at...</td>\n",
       "    </tr>\n",
       "    <tr>\n",
       "      <th>1</th>\n",
       "      <td>A4B4F902-E4B5-E811-82B4-0050569118B0</td>\n",
       "      <td>0</td>\n",
       "      <td>1</td>\n",
       "      <td>Fuldført</td>\n",
       "      <td>Du er tilmeldt et arrangement</td>\n",
       "      <td>Jobmatch</td>\n",
       "      <td>Logistik</td>\n",
       "      <td>0</td>\n",
       "      <td>AKA</td>\n",
       "      <td>1</td>\n",
       "      <td>0</td>\n",
       "      <td>1</td>\n",
       "      <td>ABB4F902-E4B5-E811-82B4-0050569118B0</td>\n",
       "      <td>Udgående</td>\n",
       "      <td>2018-09-11 16:59:21</td>\n",
       "      <td>\\n \\nDin booking er på plads\\nVi bekræfter, at...</td>\n",
       "    </tr>\n",
       "    <tr>\n",
       "      <th>2</th>\n",
       "      <td>C7AAAE22-E4B5-E811-82B4-0050569118B0</td>\n",
       "      <td>0</td>\n",
       "      <td>1</td>\n",
       "      <td>Fuldført</td>\n",
       "      <td>Du er tilmeldt et arrangement</td>\n",
       "      <td>Jobmatch</td>\n",
       "      <td>Logistik</td>\n",
       "      <td>0</td>\n",
       "      <td>AKA</td>\n",
       "      <td>1</td>\n",
       "      <td>0</td>\n",
       "      <td>1</td>\n",
       "      <td>CEAAAE22-E4B5-E811-82B4-0050569118B0</td>\n",
       "      <td>Udgående</td>\n",
       "      <td>2018-09-11 17:00:08</td>\n",
       "      <td>\\n \\nDin booking er på plads\\nVi bekræfter, at...</td>\n",
       "    </tr>\n",
       "    <tr>\n",
       "      <th>3</th>\n",
       "      <td>447AC33F-E6B5-E811-82B4-0050569118B0</td>\n",
       "      <td>0</td>\n",
       "      <td>1</td>\n",
       "      <td>Fuldført</td>\n",
       "      <td>Du er nu afmeldt ventelisten til LinkedIn</td>\n",
       "      <td>Jobmatch</td>\n",
       "      <td>Logistik</td>\n",
       "      <td>0</td>\n",
       "      <td>AKA</td>\n",
       "      <td>1</td>\n",
       "      <td>0</td>\n",
       "      <td>1</td>\n",
       "      <td>4B7AC33F-E6B5-E811-82B4-0050569118B0</td>\n",
       "      <td>Udgående</td>\n",
       "      <td>2018-09-11 17:15:16</td>\n",
       "      <td>\\nDu er nu afmeldt ventelisten til LinkedIn\\n ...</td>\n",
       "    </tr>\n",
       "    <tr>\n",
       "      <th>4</th>\n",
       "      <td>80A4A5A3-EAB5-E811-82B4-0050569118B0</td>\n",
       "      <td>0</td>\n",
       "      <td>1</td>\n",
       "      <td>Fuldført</td>\n",
       "      <td>Du er nu på venteliste til Mindfulness</td>\n",
       "      <td>Jobmatch</td>\n",
       "      <td>Logistik</td>\n",
       "      <td>0</td>\n",
       "      <td>AKA</td>\n",
       "      <td>1</td>\n",
       "      <td>0</td>\n",
       "      <td>1</td>\n",
       "      <td>87A4A5A3-EAB5-E811-82B4-0050569118B0</td>\n",
       "      <td>Udgående</td>\n",
       "      <td>2018-09-11 17:46:41</td>\n",
       "      <td>\\nKære Elsa Salvador Rodriguez\\n \\nDu er nu på...</td>\n",
       "    </tr>\n",
       "  </tbody>\n",
       "</table>\n",
       "</div>"
      ],
      "text/plain": [
       "                               ThreadID  ThreadCreatedFromLetter  \\\n",
       "0  3F206D77-DFB5-E811-82B4-0050569118B0                        0   \n",
       "1  A4B4F902-E4B5-E811-82B4-0050569118B0                        0   \n",
       "2  C7AAAE22-E4B5-E811-82B4-0050569118B0                        0   \n",
       "3  447AC33F-E6B5-E811-82B4-0050569118B0                        0   \n",
       "4  80A4A5A3-EAB5-E811-82B4-0050569118B0                        0   \n",
       "\n",
       "   ThreadTotalMessageCount ThreadStatus  \\\n",
       "0                        1     Fuldført   \n",
       "1                        1     Fuldført   \n",
       "2                        1     Fuldført   \n",
       "3                        1     Fuldført   \n",
       "4                        1     Fuldført   \n",
       "\n",
       "                               ThreadSubject ThreadResponsibleDepartment  \\\n",
       "0              Du er tilmeldt et arrangement                    Jobmatch   \n",
       "1              Du er tilmeldt et arrangement                    Jobmatch   \n",
       "2              Du er tilmeldt et arrangement                    Jobmatch   \n",
       "3  Du er nu afmeldt ventelisten til LinkedIn                    Jobmatch   \n",
       "4     Du er nu på venteliste til Mindfulness                    Jobmatch   \n",
       "\n",
       "  ThreadResponsibleDepartmentTeam  ThreadHasInteraction ThreadInitiatedBy  \\\n",
       "0                        Logistik                     0               AKA   \n",
       "1                        Logistik                     0               AKA   \n",
       "2                        Logistik                     0               AKA   \n",
       "3                        Logistik                     0               AKA   \n",
       "4                        Logistik                     0               AKA   \n",
       "\n",
       "   ThreadMessageRank  ThreadMessageIsFirstMemberMessage  \\\n",
       "0                  1                                  0   \n",
       "1                  1                                  0   \n",
       "2                  1                                  0   \n",
       "3                  1                                  0   \n",
       "4                  1                                  0   \n",
       "\n",
       "   ThreadMessageIsFirstAKAMessage                       ThreadMessageID  \\\n",
       "0                               1  46206D77-DFB5-E811-82B4-0050569118B0   \n",
       "1                               1  ABB4F902-E4B5-E811-82B4-0050569118B0   \n",
       "2                               1  CEAAAE22-E4B5-E811-82B4-0050569118B0   \n",
       "3                               1  4B7AC33F-E6B5-E811-82B4-0050569118B0   \n",
       "4                               1  87A4A5A3-EAB5-E811-82B4-0050569118B0   \n",
       "\n",
       "  ThreadMessageDirection ThreadMessageDateCreated  \\\n",
       "0               Udgående      2018-09-11 16:26:43   \n",
       "1               Udgående      2018-09-11 16:59:21   \n",
       "2               Udgående      2018-09-11 17:00:08   \n",
       "3               Udgående      2018-09-11 17:15:16   \n",
       "4               Udgående      2018-09-11 17:46:41   \n",
       "\n",
       "                                   ThreadMessageText  \n",
       "0  \\nDin booking er på plads\\n \\nVi bekræfter, at...  \n",
       "1  \\n \\nDin booking er på plads\\nVi bekræfter, at...  \n",
       "2  \\n \\nDin booking er på plads\\nVi bekræfter, at...  \n",
       "3  \\nDu er nu afmeldt ventelisten til LinkedIn\\n ...  \n",
       "4  \\nKære Elsa Salvador Rodriguez\\n \\nDu er nu på...  "
      ]
     },
     "execution_count": 4,
     "metadata": {},
     "output_type": "execute_result"
    }
   ],
   "source": [
    "server = \"LIPHT-VM-01\"#\"LI-PH-01\"\n",
    "db = \"Akademikernes_MSCRM\"\n",
    "con = pyodbc.connect('DRIVER={SQL Server};SERVER=' + server + ';DATABASE=' + db)\n",
    "\n",
    "query=\"\"\"\n",
    "SELECT *\n",
    "  FROM [Akademikernes_MSCRM].[_dataprep].[vw_LDA_Messages]\n",
    "  \"\"\"\n",
    "df = pd.read_sql(query, con)\n",
    "df.head()"
   ]
  },
  {
   "cell_type": "code",
   "execution_count": 6,
   "metadata": {},
   "outputs": [
    {
     "data": {
      "text/plain": [
       "['ThreadID',\n",
       " 'ThreadCreatedFromLetter',\n",
       " 'ThreadTotalMessageCount',\n",
       " 'ThreadStatus',\n",
       " 'ThreadSubject',\n",
       " 'ThreadResponsibleDepartment',\n",
       " 'ThreadResponsibleDepartmentTeam',\n",
       " 'ThreadHasInteraction',\n",
       " 'ThreadInitiatedBy',\n",
       " 'ThreadMessageRank',\n",
       " 'ThreadMessageIsFirstMemberMessage',\n",
       " 'ThreadMessageIsFirstAKAMessage',\n",
       " 'ThreadMessageID',\n",
       " 'ThreadMessageDirection',\n",
       " 'ThreadMessageDateCreated',\n",
       " 'ThreadMessageText']"
      ]
     },
     "execution_count": 6,
     "metadata": {},
     "output_type": "execute_result"
    }
   ],
   "source": [
    "list(df.columns.values)"
   ]
  },
  {
   "cell_type": "code",
   "execution_count": 7,
   "metadata": {},
   "outputs": [],
   "source": [
    "df.to_pickle('data/AKA_rawdata.pkl')\n",
    "df_import = df.copy(deep=True)"
   ]
  },
  {
   "cell_type": "code",
   "execution_count": 8,
   "metadata": {},
   "outputs": [],
   "source": [
    "# df_import = pd.read_pickle('data/AKA_rawdata_query.pkl')\n",
    "df_import = pd.read_pickle('data/AKA_rawdata.pkl')"
   ]
  },
  {
   "cell_type": "markdown",
   "metadata": {},
   "source": [
    "#### Looking at the data"
   ]
  },
  {
   "cell_type": "code",
   "execution_count": null,
   "metadata": {},
   "outputs": [],
   "source": [
    "df_import.dtypes"
   ]
  },
  {
   "cell_type": "code",
   "execution_count": null,
   "metadata": {},
   "outputs": [],
   "source": [
    "df_import.shape"
   ]
  },
  {
   "cell_type": "code",
   "execution_count": null,
   "metadata": {},
   "outputs": [],
   "source": [
    "df_import.head()"
   ]
  },
  {
   "cell_type": "markdown",
   "metadata": {},
   "source": [
    "Functions to be used in the cleaning process"
   ]
  },
  {
   "cell_type": "code",
   "execution_count": 10,
   "metadata": {},
   "outputs": [],
   "source": [
    "def replace_specific_words(string):\n",
    "    dictionary = {\n",
    "    'vedr.': 'vedrørende',\n",
    "    'vedr ': 'vedrørende ',\n",
    "    'mdr.s': 'måneders',\n",
    "    'mdr': 'måneder',\n",
    "    'medl.': 'medlem',\n",
    "    'o.s.v': 'og så videre',\n",
    "    'm.m.': 'med mere.',\n",
    "    'att ': 'til ',\n",
    "    'att: ': 'til ',\n",
    "    'att.: ': 'til ',\n",
    "    'i.f.m': 'i forbindelse med',\n",
    "    'ph.d.': 'philosophiaedoctor',\n",
    "    ' d.': ' den',\n",
    "    'ang.': 'angående',\n",
    "    ' re ': ' svar ',\n",
    "    ' re:': ' svar',\n",
    "    '/': '/ ',\n",
    "    'email': '',\n",
    "    }\n",
    "    \n",
    "    for word, initial in dictionary.items():\n",
    "        string = string.replace(word.lower(), initial)\n",
    "    \n",
    "    # Specify the number of replacements by changing the 4th argument\n",
    "    string = re.sub(r'[\\w\\.-]+@[\\w\\.-]+','',string,0)\n",
    "    \n",
    "    # Remove words that are smaller than 2 letters\n",
    "    string = re.sub(r'\\b\\w{1,2}\\b', '',string)\n",
    "    \n",
    "    return string\n",
    "\n",
    "def remove_standard_greetings(string):\n",
    "    \"\"\" Removes\n",
    "        Dear Name\n",
    "        Dear Name Last\n",
    "        Dear Name Middle Last\n",
    "        and the newline right after\n",
    "    \"\"\"\n",
    "    reg_rm_dear = r'\\b(kære|hej)\\s?(\\w[a-zA-Z\\w.-]{2,}|\\w[a-zA-Z\\w.-]{2,}\\s\\w[a-zA-Z\\w.-]{0,}|\\w[a-zA-Z\\w.-]{2,}\\s\\w[a-zA-Z\\w.-]{0,}\\s\\w[a-zA-Z\\w.-]{2,})?.?[\\n]'\n",
    "    string = re.sub(reg_rm_dear,'', str(string.lower()))\n",
    "    \n",
    "    reg_rm_regads = r'(\\b(mvh|hilsen|venlig|med\\svenlig\\shilsen).*)'\n",
    "    start_of_regards = re.findall(reg_rm_regads, string)\n",
    "    \n",
    "    if len(start_of_regards) > 0 and start_of_regards[0] is not None:\n",
    "        start_of_regards = list(start_of_regards[0])[0]\n",
    "        string = string[:string.find(start_of_regards)].strip()\n",
    "    \n",
    "    return string\n",
    "\n",
    "def clean_text(text):\n",
    "    \"Parse HTML using BeautifulSoup and return the text\"\n",
    "    text = re.sub('</p><p>','</p>.\\n<p>', str(text))\n",
    "    text = BeautifulSoup(text, 'html.parser').get_text()\n",
    "    text = remove_standard_greetings(text)\n",
    "    words = text.lower().split()\n",
    "    return ' '.join(words)\n",
    "\n",
    "def clean_df(df_import):\n",
    "    \"\"\"\n",
    "    0. Remove rows with empty columns\n",
    "    1. Rename column names\n",
    "    2. Pivot columns\n",
    "    3. Remove rows containing NaN and None\n",
    "    4. Convert HTML to text\n",
    "    5. Reset index\n",
    "    \n",
    "    \"\"\"\n",
    "    df_clean = df_import.copy(deep=True)\n",
    "    df_clean = df_clean[(pd.notnull(df_clean['ThreadSubject'])) & (pd.notnull(df_clean['ThreadMessageText']))]\n",
    "    df_clean.rename(columns={\n",
    "        'ThreadMessageText': 'BeskedIndhold'\n",
    "    }\n",
    "                    , inplace=True)\n",
    "    # Select which columns not to pivot. The rest are pivoted\n",
    "#     df_clean = df_clean.melt(id_vars=['BeskedTråd_ID','OprettetFraBrev','TrådTotalAntalBeskeder','TeamAnsvarlig','Besked_ID','Retning','SendtDato'])\n",
    "#     df_clean.rename(columns={'variable': 'BeskedKategori','value':'BeskedIndhold'}, inplace=True)\n",
    "    df_clean['Org_ThreadMessageText'] = df_clean[\"BeskedIndhold\"]\n",
    "    df_clean[\"BeskedIndhold\"]=df_clean.BeskedIndhold.apply(clean_text) # Convert from HTML\n",
    "#     df_clean[\"BeskedIndhold\"]=df_clean.BeskedIndhold.apply(remove_standard_greetings) # Remove greetings\n",
    "    df_clean[\"BeskedIndhold\"]=df_clean.BeskedIndhold.apply(replace_specific_words) # Replace specific words\n",
    "    df_clean['CharCount_BeskedIndhold'] = df_clean['BeskedIndhold'].apply(len)\n",
    "    df_clean['LessThan5000'] = df_clean['CharCount_BeskedIndhold'] < 5000\n",
    "    \n",
    "    df_clean = df_clean[df_clean['BeskedIndhold']!='nan'] # Remove Missing data\n",
    "    df_clean = df_clean.reset_index(drop=True)\n",
    "    return df_clean"
   ]
  },
  {
   "cell_type": "code",
   "execution_count": 11,
   "metadata": {},
   "outputs": [
    {
     "name": "stdout",
     "output_type": "stream",
     "text": [
      "Wall time: 4min 35s\n"
     ]
    }
   ],
   "source": [
    "%%time\n",
    "df_clean = clean_df(df_import)"
   ]
  },
  {
   "cell_type": "code",
   "execution_count": null,
   "metadata": {},
   "outputs": [],
   "source": [
    "df_clean.to_pickle('data/AKA_df_clean.pkl')"
   ]
  },
  {
   "cell_type": "code",
   "execution_count": null,
   "metadata": {},
   "outputs": [],
   "source": [
    "df_clean = pd.read_pickle('data/AKA_df_clean.pkl')"
   ]
  },
  {
   "cell_type": "code",
   "execution_count": 12,
   "metadata": {},
   "outputs": [
    {
     "data": {
      "text/plain": [
       "(1100079, 19)"
      ]
     },
     "execution_count": 12,
     "metadata": {},
     "output_type": "execute_result"
    }
   ],
   "source": [
    "df_clean.shape"
   ]
  },
  {
   "cell_type": "code",
   "execution_count": 13,
   "metadata": {},
   "outputs": [
    {
     "data": {
      "text/plain": [
       "ThreadID                              0\n",
       "ThreadCreatedFromLetter               0\n",
       "ThreadTotalMessageCount               0\n",
       "ThreadStatus                          0\n",
       "ThreadSubject                         0\n",
       "ThreadResponsibleDepartment           0\n",
       "ThreadResponsibleDepartmentTeam      71\n",
       "ThreadHasInteraction                  0\n",
       "ThreadInitiatedBy                     0\n",
       "ThreadMessageRank                     0\n",
       "ThreadMessageIsFirstMemberMessage     0\n",
       "ThreadMessageIsFirstAKAMessage        0\n",
       "ThreadMessageID                       0\n",
       "ThreadMessageDirection                0\n",
       "ThreadMessageDateCreated              0\n",
       "BeskedIndhold                         0\n",
       "Org_ThreadMessageText                 0\n",
       "CharCount_BeskedIndhold               0\n",
       "LessThan5000                          0\n",
       "dtype: int64"
      ]
     },
     "execution_count": 13,
     "metadata": {},
     "output_type": "execute_result"
    }
   ],
   "source": [
    "df_clean.isnull().sum()"
   ]
  },
  {
   "cell_type": "markdown",
   "metadata": {},
   "source": [
    "## Language handling\n",
    "Because some request are in english. We need to understand how many there are before we know how to handle them.\n",
    "So fist thing is to try and predict which Requests are actually written in english."
   ]
  },
  {
   "cell_type": "markdown",
   "metadata": {},
   "source": [
    "### Language predicting using LDA\n",
    "\n",
    "To predict the language we are going to use a LDA model.\n",
    "The topics that are predicted will most likely give us an indication of the languages.\n",
    "We will then use the LDA topic to tag for each request wether or not the request is in a different language than danish. \n",
    "We will do this on the imported dataframe, and add this as a feature on the df_import."
   ]
  },
  {
   "cell_type": "markdown",
   "metadata": {},
   "source": [
    "#### Required functions"
   ]
  },
  {
   "cell_type": "code",
   "execution_count": 21,
   "metadata": {},
   "outputs": [],
   "source": [
    "def preprocess_string(text):\n",
    "    \"Takes a string, and prepares in a format to be taken by the LDAmodel for prediction\"\n",
    "    # df_data_prep\n",
    "    text = clean_text(text) # \"Parse HTML using BeautifulSoup and return the text\"\n",
    "#     text = remove_standard_greetings(text) # Remove start greeting\n",
    "    text = replace_specific_words(text) # replace accronyms\n",
    "    \n",
    "    stopwords = nltk.corpus.stopwords.words('danish')\n",
    "    dk_addition = [line.rstrip('\\n') for line in open('data/danish_stopwords.txt')]\n",
    "    dk_start_stop_message_words = ['kære','hilsen', 'mvh', 'venlig','tusind','tak']\n",
    "    dk_addition.extend(dk_start_stop_message_words)\n",
    "    \n",
    "    customer_specific_words = ['akasse','aka','akademikernes','!','akadk']\n",
    "    dk_addition.extend(customer_specific_words)\n",
    "        \n",
    "    stopwords.extend(dk_addition)\n",
    "    stopwords = list(set(stopwords))\n",
    "    \n",
    "    \n",
    "    # lda_get_good_tokens\n",
    "    text = text.lower()\n",
    "    text = nltk.word_tokenize(text)\n",
    "    \n",
    "    # get_good_tokens\n",
    "    text = list(map(lambda t: re.sub(r'[^\\wa-zA-Z0-9!?]+', '', t), text))\n",
    "    text = list(filter(lambda token: not token.isdigit(), text))\n",
    "\n",
    "    # remove_stopwords(df)\n",
    "    text = list(filter(lambda t: t not in stopwords, text))\n",
    "    text = list(filter(None, text))    \n",
    "    \n",
    "    # stem_words(df)\n",
    "    lemm = nltk.stem.WordNetLemmatizer()\n",
    "    text = list(map(lambda t: lemm.lemmatize(t), text))\n",
    "\n",
    "    p_stemmer = nltk.stem.porter.PorterStemmer()\n",
    "    text = list(map(lambda t: p_stemmer.stem(t), text))\n",
    "    \n",
    "    return text\n",
    "\n",
    "\n",
    "def get_good_tokens(sentence):\n",
    "    replaced_punctation = list(map(lambda token: re.sub(r'[^\\wa-zA-Z0-9!?]+', '', token), sentence))\n",
    "    removed_punctation = list(filter(lambda token: token, replaced_punctation))\n",
    "    removed_punctation = list(filter(lambda token: not token.isdigit(), replaced_punctation))\n",
    "    removed_empty = list(filter(None, removed_punctation))\n",
    "    return removed_empty\n",
    "\n",
    "def lda_get_good_tokens(df, col_name):\n",
    "    df['text'] = df[col_name].str.lower()\n",
    "    df['tokenized_text'] = list(map(nltk.word_tokenize, df[col_name]))\n",
    "    df['tokenized_text'] = list(map(get_good_tokens, df.tokenized_text))\n",
    "    \n",
    "\n",
    "def df_data_prep(df, col_name):\n",
    "    df[col_name]=df[col_name].apply(clean_text) # Convert from HTML\n",
    "    df[col_name]=df[col_name].apply(remove_standard_greetings) # Remove greetings\n",
    "    df[col_name]=df[col_name].apply(replace_specific_words) # Replace specific words\n",
    "#     charcount = 'CharCount_BeskedIndhold_{}'.format(col_name)\n",
    "#     df[charcount] = df[col_name].apply(len)\n",
    "#     df['LessThan5000'] = df[charcount] < 5000\n",
    "\n",
    "# find and remove non-ascii words\n",
    "# I stored our special word in a variable for later use\n",
    "our_special_word = 'qwerty'\n",
    "\n",
    "def remove_ascii_words(df, col_name):\n",
    "    \"\"\" removes non-ascii characters from the 'texts' column in df.\n",
    "    It returns the words containig non-ascii characers.\n",
    "    \"\"\"\n",
    "    non_ascii_words = []\n",
    "    for i in range(len(df)):\n",
    "        for word in df.loc[i, col_name].split(' '):\n",
    "            if any([ord(character) >= 128 for character in word]):\n",
    "                non_ascii_words.append(word)\n",
    "                df.loc[i, col_name] = df.loc[i, col_name].replace(word, our_special_word)\n",
    "    return non_ascii_words\n",
    "\n",
    "# non_ascii_words = remove_ascii_words(df, 'RequestContent')\n",
    "\n",
    "# def remove_stopwords(df):\n",
    "#     \"\"\" Removes stopwords based on a known set of stopwords\n",
    "#     available in the nltk package. In addition, we include our\n",
    "#     made up word in here.\n",
    "#     \"\"\"\n",
    "#     # Luckily nltk already has a set of stopwords that we can remove from the texts.\n",
    "#     stopwords = nltk.corpus.stopwords.words('danish')\n",
    "#     dk_addition = [line.rstrip('\\n') for line in open('data/danish_stopwords.txt')]\n",
    "#     dk_start_stop_message_words = ['hilsen', 'mvh', 'venlig','tusind','tak']\n",
    "#     dk_addition.extend(dk_start_stop_message_words)\n",
    "#     stopwords.extend(dk_addition)\n",
    "#     stopwords = list(set(stopwords))\n",
    "#     # we'll add our own special word in here 'qwerty'\n",
    "# #     stopwords.append(our_special_word)\n",
    "\n",
    "#     df['stopwords_removed'] = list(map(lambda doc:\n",
    "#                                        [word for word in doc if word not in stopwords],\n",
    "#                                        df['tokenized_text']))\n",
    "\n",
    "def remove_stopwords(df):\n",
    "    \"\"\" Removes stopwords based on a known set of stopwords\n",
    "    available in the nltk package. In addition, we include our\n",
    "    made up word in here.\n",
    "    \"\"\"\n",
    "    # Luckily nltk already has a set of stopwords that we can remove from the texts.\n",
    "    stopwords = nltk.corpus.stopwords.words('danish')\n",
    "    dk_addition = [line.rstrip('\\n') for line in open('data/danish_stopwords.txt')]\n",
    "    dk_start_stop_message_words = ['kære','hilsen', 'mvh', 'venlig','tusind','tak']\n",
    "    dk_addition.extend(dk_start_stop_message_words)\n",
    "    \n",
    "    customer_specific_words = ['akasse','aka','akademikernes','?','!','akadk']\n",
    "    dk_addition.extend(customer_specific_words)\n",
    "        \n",
    "    stopwords.extend(dk_addition)\n",
    "    stopwords = list(set(stopwords))\n",
    "    # we'll add our own special word in here 'qwerty'\n",
    "    stopwords.append(our_special_word)\n",
    "\n",
    "    df['stopwords_removed'] = list(map(lambda doc:\n",
    "                                       [word for word in doc if word not in stopwords],\n",
    "                                       df['tokenized_text']))\n",
    "    \n",
    "def stem_words(df):\n",
    "    lemm = nltk.stem.WordNetLemmatizer()\n",
    "    df['lemmatized_text'] = list(map(lambda sentence: list(map(lemm.lemmatize, sentence)), df.stopwords_removed))\n",
    "\n",
    "    p_stemmer = nltk.stem.porter.PorterStemmer()\n",
    "    df['stemmed_text'] = list(map(lambda sentence: list(map(p_stemmer.stem, sentence)), df.lemmatized_text))\n",
    "    \n",
    "\n",
    "def lda_preprocessing(df, col_name):\n",
    "    \"\"\" All the preprocessing steps for LDA are combined in this function.\n",
    "    All mutations are done on the dataframe itself. So this function returns\n",
    "    nothing.\n",
    "    \"\"\"\n",
    "    df_data_prep(df, col_name)\n",
    "    lda_get_good_tokens(df, col_name)\n",
    "    remove_stopwords(df)\n",
    "    stem_words(df)\n",
    "\n",
    "def dictionary_from_stem(df, no_above=None, no_below=None):\n",
    "    \"\"\"Create a dictionary for the model. \n",
    "    Since a computer can't reallly understand what a word means, we need to transform it \n",
    "    into some number the model will be able to work with. \n",
    "    We will use gensim.corpora.Dictionary for this.\n",
    "    -- from gensim.corpora import Dictionary\n",
    "    \"\"\"\n",
    "    dictionary = Dictionary(documents=df.stemmed_text.values)\n",
    "    words_before_filter = len(dictionary.values())\n",
    "    if no_above is not None and no_below is not None:\n",
    "        dictionary.filter_extremes(no_above=no_above, no_below=no_below)\n",
    "    elif no_above is not None:\n",
    "        dictionary.filter_extremes(no_above=no_above)\n",
    "    elif no_below is not None:\n",
    "        dictionary.filter_extremes(no_below=no_below)\n",
    "    dictionary.compactify()\n",
    "    words_after_filter = len(dictionary.values())\n",
    "    \n",
    "    return dictionary, words_before_filter, words_after_filter\n",
    "\n",
    "def document_to_bow(df):\n",
    "    \"Make a BOW for every Besked\"\n",
    "    df['bow'] = list(map(lambda doc: dictionary.doc2bow(doc), df.stemmed_text))\n",
    "\n",
    "def document_to_lda_features(lda_model, document):\n",
    "    \"\"\" Transforms a bag of words document to features.\n",
    "    It returns the proportion of how much each topic was\n",
    "    present in the document.\n",
    "    \"\"\"\n",
    "    topic_importances = lda_model.get_document_topics(document, minimum_probability=0)\n",
    "    topic_importances = np.array(topic_importances)\n",
    "    return topic_importances[:,1]\n",
    "    \n",
    "# def w2v_preprocessing(df, col_name):\n",
    "#     import nltk\n",
    "# #     nltk.download('punkt')\n",
    "#     \"\"\" All the preprocessing steps for word2vec are done in this function.\n",
    "#     All mutations are done on the dataframe itself. So this function returns\n",
    "#     nothing.\n",
    "#     \"\"\"\n",
    "#     df['text'] = df[col_name].str.lower()\n",
    "#     df['document_sentences'] = df[col_name].str.split('.')  # split texts into individual sentences\n",
    "#     df['tokenized_sentences'] = list(map(lambda sentences:\n",
    "#                                          list(map(nltk.word_tokenize, sentences)), df.document_sentences))  # tokenize sentences\n",
    "#     df['tokenized_sentences'] = list(map(lambda sentences:\n",
    "#                                          list(map(get_good_tokens, sentences)), df.tokenized_sentences))  # remove unwanted characters\n",
    "#     df['tokenized_sentences'] = list(map(lambda sentences:\n",
    "#                                          list(filter(lambda lst: lst, sentences)), df.tokenized_sentences))  # remove empty lists\n",
    "\n",
    "def get_topic_top_words(lda_model, topic_id, nr_top_words=7):\n",
    "    \"\"\" Returns the top words for topic_id from lda_model.\n",
    "    \"\"\"\n",
    "    id_tuples = lda_model.get_topic_terms(topic_id, topn=nr_top_words)\n",
    "    word_ids = np.array(id_tuples)[:,0]\n",
    "    words = map(lambda id_: lda_model.id2word[id_], word_ids)\n",
    "    return words\n",
    "\n",
    "def get_topics_and_prob(lda_model, topic_id, nr_top_words=7):\n",
    "    id_tuples = lda_model.print_topics(-1)\n",
    "    topic_ids = np.array(id_tuples)[:,0]\n",
    "    word_tuples = np.array(id_tuples)[:,1]\n",
    "    top = dict(zip(topic_ids[:nr_top_words],word_tuples[:nr_top_words]))\n",
    "#     topic_prop = map(lambda x: word_tuples, topic_ids) #map(lambda id_: lda_model.id2word[id_], topic_ids)\n",
    "    return top\n",
    "\n",
    "def get_topic_and_prob(lda_model, topic_id, nr_top_words=7):\n",
    "    id_tuples = lda_model.print_topic(topic_id, topn=nr_top_words)\n",
    "    return id_tuples\n",
    "\n",
    "def get_lda_topics(model, num_topics, topn=10):\n",
    "    word_dict = {};\n",
    "    for i in sorted(np.argsort(RequestTopicDistribution)[-num_topics:]):\n",
    "        words = model.show_topic(i, topn = topn);\n",
    "        word_dict['Topic # ' + '{:02d}'.format(i)] = [i[0] for i in words];\n",
    "    return pd.DataFrame(word_dict)\n",
    "\n",
    "def preprocess(text):\n",
    "    result = []\n",
    "    for token in gensim.utils.simple_preprocess(text):\n",
    "        if token not in gensim.parsing.preprocessing.STOPWORDS and len(token) > 3:\n",
    "            result.append(lemmatize_stemming(token))\n",
    "    return result\n",
    "\n",
    "# # unseen_document = 'How a Pentagon deal became an identity crisis for Google'\n",
    "# # bow_vector = dictionary.doc2bow(preprocess(unseen_document))\n",
    "# # for index, score in sorted(LDAmodel_lang[bow_vector], key=lambda tup: -1*tup[1]):\n",
    "# #     print(\"Score: {}\\t Topic: {}\".format(score, lda_model.print_topic(index, 5)))\n",
    "\n",
    "\n",
    "#     stopwords = nltk.corpus.stopwords.words('danish')\n",
    "#     dk_addition = [line.rstrip('\\n') for line in open('data/danish_stopwords.txt')]\n",
    "#     dk_start_stop_message_words = ['hilsen', 'mvh', 'venlig','tusind','tak']\n",
    "#     dk_addition.extend(dk_start_stop_message_words)\n",
    "#     stopwords.extend(dk_addition)\n",
    "#     stopwords = list(set(stopwords))\n",
    "#     # we'll add our own special word in here 'qwerty'\n",
    "# #     stopwords.append(our_special_word)\n",
    "\n",
    "#     df['stopwords_removed'] = list(map(lambda doc:\n",
    "#                                        [word for word in doc if word not in stopwords],\n",
    "#                                        df['tokenized_text']))\n",
    "\n",
    "def PredictTopicFromString(text, LDAmodel, lda_topic_name_list):\n",
    "    bow_vector = dictionary.doc2bow(preprocess_string(unseen_document))\n",
    "    best_prediction = 0.0001\n",
    "    prediction_index = None\n",
    "    for index, score in sorted(LDAmodel_lang[bow_vector], key=lambda tup: -1*tup[1]):\n",
    "        if score > best_prediction:\n",
    "            prediction_index = index\n",
    "            best_prediction = score\n",
    "    return best_prediction, lda_topic_name_list[prediction_index]#, LDAmodel_lang.print_topic(index, 5)\n",
    "#     print(\"Score: {}\\t Topic: {}\".format(best_prediction, lda_topic_name_list[prediction_index])) #LDAmodel_lang.print_topic(index, 5)))\n",
    "\n",
    "                   \n",
    "def PredictTopicFromBOW(bow_vector, lda_model, lda_topic_name_list):\n",
    "    \"Input a string prepared bow-vector\"\n",
    "    best_prediction = 0\n",
    "    prediction_index = None\n",
    "    for index, score in sorted(lda_model[bow_vector], key=lambda tup: -1*tup[1]):\n",
    "        if score > best_prediction:\n",
    "            prediction_index = index\n",
    "            best_prediction = score\n",
    "#     pred = list(best_prediction, lda_topic_name_list[prediction_index])#, lda_model.print_topic(index, 5)\n",
    "    pred = [best_prediction, prediction_index, lda_topic_name_list[prediction_index]]#, lda_model.print_topic(index, 5)\n",
    "    return pred\n",
    "#     print(\"Score: {}\\t Topic: {}\".format(best_prediction, lda_topic_name_list[prediction_index])) #LDAmodel_lang.print_topic(index, 5)))\n",
    "\n",
    "\n",
    "def lda_prediction(df,lda_model, lda_topic_name_list):\n",
    "    \" Make the followint function into a function that returns the pred_label and pred_prob below\"\n",
    "#     for index, score in sorted(LDAmodel_lang[bow_vector], key=lambda tup: -1*tup[1]):\n",
    "#         print(\"Score: {}\\t Topic: {}\".format(score, lda_model.print_topic(index, 5)))\n",
    "    \n",
    "#     df['bow'] = list(map(lambda doc: dictionary.doc2bow(doc), df.stemmed_text))\n",
    "    df['prediction'] = df['bow'].apply(PredictTopicFromBOW,lda_model=lda_model, lda_topic_name_list=lda_topic_name_list)\n",
    "    df[['pred_probability','pred_index','pred_label']] = pd.DataFrame(df.prediction.values.tolist(), index= df.index)\n",
    "    df.drop(['prediction'], axis=1)\n",
    "    \n",
    "    "
   ]
  },
  {
   "cell_type": "code",
   "execution_count": null,
   "metadata": {},
   "outputs": [],
   "source": [
    "# pd.set_option('display.max_colwidth', -1) #\n",
    "df_clean.loc[[302354]]"
   ]
  },
  {
   "cell_type": "code",
   "execution_count": 15,
   "metadata": {},
   "outputs": [],
   "source": [
    "# Create a copy of the dataframe to work on\n",
    "lang_lda = df_clean.copy(deep=True)"
   ]
  },
  {
   "cell_type": "code",
   "execution_count": 16,
   "metadata": {},
   "outputs": [
    {
     "data": {
      "text/html": [
       "<div>\n",
       "<style scoped>\n",
       "    .dataframe tbody tr th:only-of-type {\n",
       "        vertical-align: middle;\n",
       "    }\n",
       "\n",
       "    .dataframe tbody tr th {\n",
       "        vertical-align: top;\n",
       "    }\n",
       "\n",
       "    .dataframe thead th {\n",
       "        text-align: right;\n",
       "    }\n",
       "</style>\n",
       "<table border=\"1\" class=\"dataframe\">\n",
       "  <thead>\n",
       "    <tr style=\"text-align: right;\">\n",
       "      <th></th>\n",
       "      <th>ThreadID</th>\n",
       "      <th>ThreadCreatedFromLetter</th>\n",
       "      <th>ThreadTotalMessageCount</th>\n",
       "      <th>ThreadStatus</th>\n",
       "      <th>ThreadSubject</th>\n",
       "      <th>ThreadResponsibleDepartment</th>\n",
       "      <th>ThreadResponsibleDepartmentTeam</th>\n",
       "      <th>ThreadHasInteraction</th>\n",
       "      <th>ThreadInitiatedBy</th>\n",
       "      <th>ThreadMessageRank</th>\n",
       "      <th>ThreadMessageIsFirstMemberMessage</th>\n",
       "      <th>ThreadMessageIsFirstAKAMessage</th>\n",
       "      <th>ThreadMessageID</th>\n",
       "      <th>ThreadMessageDirection</th>\n",
       "      <th>ThreadMessageDateCreated</th>\n",
       "      <th>BeskedIndhold</th>\n",
       "      <th>Org_ThreadMessageText</th>\n",
       "      <th>CharCount_BeskedIndhold</th>\n",
       "      <th>LessThan5000</th>\n",
       "    </tr>\n",
       "  </thead>\n",
       "  <tbody>\n",
       "    <tr>\n",
       "      <th>0</th>\n",
       "      <td>3F206D77-DFB5-E811-82B4-0050569118B0</td>\n",
       "      <td>0</td>\n",
       "      <td>1</td>\n",
       "      <td>Fuldført</td>\n",
       "      <td>Du er tilmeldt et arrangement</td>\n",
       "      <td>Jobmatch</td>\n",
       "      <td>Logistik</td>\n",
       "      <td>0</td>\n",
       "      <td>AKA</td>\n",
       "      <td>1</td>\n",
       "      <td>0</td>\n",
       "      <td>1</td>\n",
       "      <td>46206D77-DFB5-E811-82B4-0050569118B0</td>\n",
       "      <td>Udgående</td>\n",
       "      <td>2018-09-11 16:26:43</td>\n",
       "      <td>din booking   plads  bekræfter,    tilmeldt st...</td>\n",
       "      <td>\\nDin booking er på plads\\n \\nVi bekræfter, at...</td>\n",
       "      <td>218</td>\n",
       "      <td>True</td>\n",
       "    </tr>\n",
       "    <tr>\n",
       "      <th>1</th>\n",
       "      <td>A4B4F902-E4B5-E811-82B4-0050569118B0</td>\n",
       "      <td>0</td>\n",
       "      <td>1</td>\n",
       "      <td>Fuldført</td>\n",
       "      <td>Du er tilmeldt et arrangement</td>\n",
       "      <td>Jobmatch</td>\n",
       "      <td>Logistik</td>\n",
       "      <td>0</td>\n",
       "      <td>AKA</td>\n",
       "      <td>1</td>\n",
       "      <td>0</td>\n",
       "      <td>1</td>\n",
       "      <td>ABB4F902-E4B5-E811-82B4-0050569118B0</td>\n",
       "      <td>Udgående</td>\n",
       "      <td>2018-09-11 16:59:21</td>\n",
       "      <td>din booking   plads  bekræfter,    tilmeldt ta...</td>\n",
       "      <td>\\n \\nDin booking er på plads\\nVi bekræfter, at...</td>\n",
       "      <td>173</td>\n",
       "      <td>True</td>\n",
       "    </tr>\n",
       "    <tr>\n",
       "      <th>2</th>\n",
       "      <td>C7AAAE22-E4B5-E811-82B4-0050569118B0</td>\n",
       "      <td>0</td>\n",
       "      <td>1</td>\n",
       "      <td>Fuldført</td>\n",
       "      <td>Du er tilmeldt et arrangement</td>\n",
       "      <td>Jobmatch</td>\n",
       "      <td>Logistik</td>\n",
       "      <td>0</td>\n",
       "      <td>AKA</td>\n",
       "      <td>1</td>\n",
       "      <td>0</td>\n",
       "      <td>1</td>\n",
       "      <td>CEAAAE22-E4B5-E811-82B4-0050569118B0</td>\n",
       "      <td>Udgående</td>\n",
       "      <td>2018-09-11 17:00:08</td>\n",
       "      <td>din booking   plads  bekræfter,    tilmeldt ta...</td>\n",
       "      <td>\\n \\nDin booking er på plads\\nVi bekræfter, at...</td>\n",
       "      <td>230</td>\n",
       "      <td>True</td>\n",
       "    </tr>\n",
       "    <tr>\n",
       "      <th>3</th>\n",
       "      <td>447AC33F-E6B5-E811-82B4-0050569118B0</td>\n",
       "      <td>0</td>\n",
       "      <td>1</td>\n",
       "      <td>Fuldført</td>\n",
       "      <td>Du er nu afmeldt ventelisten til LinkedIn</td>\n",
       "      <td>Jobmatch</td>\n",
       "      <td>Logistik</td>\n",
       "      <td>0</td>\n",
       "      <td>AKA</td>\n",
       "      <td>1</td>\n",
       "      <td>0</td>\n",
       "      <td>1</td>\n",
       "      <td>4B7AC33F-E6B5-E811-82B4-0050569118B0</td>\n",
       "      <td>Udgående</td>\n",
       "      <td>2018-09-11 17:15:16</td>\n",
       "      <td>afmeldt ventelisten til linkedin   blevet t...</td>\n",
       "      <td>\\nDu er nu afmeldt ventelisten til LinkedIn\\n ...</td>\n",
       "      <td>206</td>\n",
       "      <td>True</td>\n",
       "    </tr>\n",
       "    <tr>\n",
       "      <th>4</th>\n",
       "      <td>80A4A5A3-EAB5-E811-82B4-0050569118B0</td>\n",
       "      <td>0</td>\n",
       "      <td>1</td>\n",
       "      <td>Fuldført</td>\n",
       "      <td>Du er nu på venteliste til Mindfulness</td>\n",
       "      <td>Jobmatch</td>\n",
       "      <td>Logistik</td>\n",
       "      <td>0</td>\n",
       "      <td>AKA</td>\n",
       "      <td>1</td>\n",
       "      <td>0</td>\n",
       "      <td>1</td>\n",
       "      <td>87A4A5A3-EAB5-E811-82B4-0050569118B0</td>\n",
       "      <td>Udgående</td>\n",
       "      <td>2018-09-11 17:46:41</td>\n",
       "      <td>ventelisten til: mindfulness . september 2...</td>\n",
       "      <td>\\nKære Elsa Salvador Rodriguez\\n \\nDu er nu på...</td>\n",
       "      <td>146</td>\n",
       "      <td>True</td>\n",
       "    </tr>\n",
       "  </tbody>\n",
       "</table>\n",
       "</div>"
      ],
      "text/plain": [
       "                               ThreadID  ThreadCreatedFromLetter  \\\n",
       "0  3F206D77-DFB5-E811-82B4-0050569118B0                        0   \n",
       "1  A4B4F902-E4B5-E811-82B4-0050569118B0                        0   \n",
       "2  C7AAAE22-E4B5-E811-82B4-0050569118B0                        0   \n",
       "3  447AC33F-E6B5-E811-82B4-0050569118B0                        0   \n",
       "4  80A4A5A3-EAB5-E811-82B4-0050569118B0                        0   \n",
       "\n",
       "   ThreadTotalMessageCount ThreadStatus  \\\n",
       "0                        1     Fuldført   \n",
       "1                        1     Fuldført   \n",
       "2                        1     Fuldført   \n",
       "3                        1     Fuldført   \n",
       "4                        1     Fuldført   \n",
       "\n",
       "                               ThreadSubject ThreadResponsibleDepartment  \\\n",
       "0              Du er tilmeldt et arrangement                    Jobmatch   \n",
       "1              Du er tilmeldt et arrangement                    Jobmatch   \n",
       "2              Du er tilmeldt et arrangement                    Jobmatch   \n",
       "3  Du er nu afmeldt ventelisten til LinkedIn                    Jobmatch   \n",
       "4     Du er nu på venteliste til Mindfulness                    Jobmatch   \n",
       "\n",
       "  ThreadResponsibleDepartmentTeam  ThreadHasInteraction ThreadInitiatedBy  \\\n",
       "0                        Logistik                     0               AKA   \n",
       "1                        Logistik                     0               AKA   \n",
       "2                        Logistik                     0               AKA   \n",
       "3                        Logistik                     0               AKA   \n",
       "4                        Logistik                     0               AKA   \n",
       "\n",
       "   ThreadMessageRank  ThreadMessageIsFirstMemberMessage  \\\n",
       "0                  1                                  0   \n",
       "1                  1                                  0   \n",
       "2                  1                                  0   \n",
       "3                  1                                  0   \n",
       "4                  1                                  0   \n",
       "\n",
       "   ThreadMessageIsFirstAKAMessage                       ThreadMessageID  \\\n",
       "0                               1  46206D77-DFB5-E811-82B4-0050569118B0   \n",
       "1                               1  ABB4F902-E4B5-E811-82B4-0050569118B0   \n",
       "2                               1  CEAAAE22-E4B5-E811-82B4-0050569118B0   \n",
       "3                               1  4B7AC33F-E6B5-E811-82B4-0050569118B0   \n",
       "4                               1  87A4A5A3-EAB5-E811-82B4-0050569118B0   \n",
       "\n",
       "  ThreadMessageDirection ThreadMessageDateCreated  \\\n",
       "0               Udgående      2018-09-11 16:26:43   \n",
       "1               Udgående      2018-09-11 16:59:21   \n",
       "2               Udgående      2018-09-11 17:00:08   \n",
       "3               Udgående      2018-09-11 17:15:16   \n",
       "4               Udgående      2018-09-11 17:46:41   \n",
       "\n",
       "                                       BeskedIndhold  \\\n",
       "0  din booking   plads  bekræfter,    tilmeldt st...   \n",
       "1  din booking   plads  bekræfter,    tilmeldt ta...   \n",
       "2  din booking   plads  bekræfter,    tilmeldt ta...   \n",
       "3     afmeldt ventelisten til linkedin   blevet t...   \n",
       "4      ventelisten til: mindfulness . september 2...   \n",
       "\n",
       "                               Org_ThreadMessageText  CharCount_BeskedIndhold  \\\n",
       "0  \\nDin booking er på plads\\n \\nVi bekræfter, at...                      218   \n",
       "1  \\n \\nDin booking er på plads\\nVi bekræfter, at...                      173   \n",
       "2  \\n \\nDin booking er på plads\\nVi bekræfter, at...                      230   \n",
       "3  \\nDu er nu afmeldt ventelisten til LinkedIn\\n ...                      206   \n",
       "4  \\nKære Elsa Salvador Rodriguez\\n \\nDu er nu på...                      146   \n",
       "\n",
       "   LessThan5000  \n",
       "0          True  \n",
       "1          True  \n",
       "2          True  \n",
       "3          True  \n",
       "4          True  "
      ]
     },
     "execution_count": 16,
     "metadata": {},
     "output_type": "execute_result"
    }
   ],
   "source": [
    "lang_lda.head()"
   ]
  },
  {
   "cell_type": "code",
   "execution_count": 17,
   "metadata": {},
   "outputs": [],
   "source": [
    "# Remove long and empty requests\n",
    "lang_lda = lang_lda[lang_lda[\"LessThan5000\"] == True]\n",
    "# lang_lda = lang_lda[lang_lda['BeskedIndhold']!=None] # Remove Missing data"
   ]
  },
  {
   "cell_type": "code",
   "execution_count": 22,
   "metadata": {
    "scrolled": false
   },
   "outputs": [
    {
     "name": "stderr",
     "output_type": "stream",
     "text": [
      "C:\\ProgramData\\Anaconda3\\envs\\akademikernes_diagnostic\\lib\\site-packages\\bs4\\__init__.py:273: UserWarning: \"b'..'\" looks like a filename, not markup. You should probably open this file and pass the filehandle into Beautiful Soup.\n",
      "  ' Beautiful Soup.' % markup)\n",
      "C:\\ProgramData\\Anaconda3\\envs\\akademikernes_diagnostic\\lib\\site-packages\\bs4\\__init__.py:273: UserWarning: \"b'.'\" looks like a filename, not markup. You should probably open this file and pass the filehandle into Beautiful Soup.\n",
      "  ' Beautiful Soup.' % markup)\n",
      "C:\\ProgramData\\Anaconda3\\envs\\akademikernes_diagnostic\\lib\\site-packages\\bs4\\__init__.py:273: UserWarning: \"b'...'\" looks like a filename, not markup. You should probably open this file and pass the filehandle into Beautiful Soup.\n",
      "  ' Beautiful Soup.' % markup)\n",
      "C:\\ProgramData\\Anaconda3\\envs\\akademikernes_diagnostic\\lib\\site-packages\\bs4\\__init__.py:273: UserWarning: \"b'..'\" looks like a filename, not markup. You should probably open this file and pass the filehandle into Beautiful Soup.\n",
      "  ' Beautiful Soup.' % markup)\n",
      "C:\\ProgramData\\Anaconda3\\envs\\akademikernes_diagnostic\\lib\\site-packages\\bs4\\__init__.py:273: UserWarning: \"b'.'\" looks like a filename, not markup. You should probably open this file and pass the filehandle into Beautiful Soup.\n",
      "  ' Beautiful Soup.' % markup)\n",
      "C:\\ProgramData\\Anaconda3\\envs\\akademikernes_diagnostic\\lib\\site-packages\\bs4\\__init__.py:273: UserWarning: \"b'.'\" looks like a filename, not markup. You should probably open this file and pass the filehandle into Beautiful Soup.\n",
      "  ' Beautiful Soup.' % markup)\n",
      "C:\\ProgramData\\Anaconda3\\envs\\akademikernes_diagnostic\\lib\\site-packages\\bs4\\__init__.py:273: UserWarning: \"b'/ '\" looks like a filename, not markup. You should probably open this file and pass the filehandle into Beautiful Soup.\n",
      "  ' Beautiful Soup.' % markup)\n",
      "C:\\ProgramData\\Anaconda3\\envs\\akademikernes_diagnostic\\lib\\site-packages\\bs4\\__init__.py:273: UserWarning: \"b'/ '\" looks like a filename, not markup. You should probably open this file and pass the filehandle into Beautiful Soup.\n",
      "  ' Beautiful Soup.' % markup)\n",
      "C:\\ProgramData\\Anaconda3\\envs\\akademikernes_diagnostic\\lib\\site-packages\\bs4\\__init__.py:273: UserWarning: \"b'. '\" looks like a filename, not markup. You should probably open this file and pass the filehandle into Beautiful Soup.\n",
      "  ' Beautiful Soup.' % markup)\n",
      "C:\\ProgramData\\Anaconda3\\envs\\akademikernes_diagnostic\\lib\\site-packages\\bs4\\__init__.py:273: UserWarning: \"b'.'\" looks like a filename, not markup. You should probably open this file and pass the filehandle into Beautiful Soup.\n",
      "  ' Beautiful Soup.' % markup)\n",
      "C:\\ProgramData\\Anaconda3\\envs\\akademikernes_diagnostic\\lib\\site-packages\\bs4\\__init__.py:273: UserWarning: \"b'.'\" looks like a filename, not markup. You should probably open this file and pass the filehandle into Beautiful Soup.\n",
      "  ' Beautiful Soup.' % markup)\n",
      "C:\\ProgramData\\Anaconda3\\envs\\akademikernes_diagnostic\\lib\\site-packages\\bs4\\__init__.py:273: UserWarning: \"b'.'\" looks like a filename, not markup. You should probably open this file and pass the filehandle into Beautiful Soup.\n",
      "  ' Beautiful Soup.' % markup)\n",
      "C:\\ProgramData\\Anaconda3\\envs\\akademikernes_diagnostic\\lib\\site-packages\\bs4\\__init__.py:273: UserWarning: \"b'.'\" looks like a filename, not markup. You should probably open this file and pass the filehandle into Beautiful Soup.\n",
      "  ' Beautiful Soup.' % markup)\n",
      "C:\\ProgramData\\Anaconda3\\envs\\akademikernes_diagnostic\\lib\\site-packages\\bs4\\__init__.py:273: UserWarning: \"b'.'\" looks like a filename, not markup. You should probably open this file and pass the filehandle into Beautiful Soup.\n",
      "  ' Beautiful Soup.' % markup)\n",
      "C:\\ProgramData\\Anaconda3\\envs\\akademikernes_diagnostic\\lib\\site-packages\\bs4\\__init__.py:273: UserWarning: \"b'.'\" looks like a filename, not markup. You should probably open this file and pass the filehandle into Beautiful Soup.\n",
      "  ' Beautiful Soup.' % markup)\n",
      "C:\\ProgramData\\Anaconda3\\envs\\akademikernes_diagnostic\\lib\\site-packages\\bs4\\__init__.py:273: UserWarning: \"b'.'\" looks like a filename, not markup. You should probably open this file and pass the filehandle into Beautiful Soup.\n",
      "  ' Beautiful Soup.' % markup)\n",
      "C:\\ProgramData\\Anaconda3\\envs\\akademikernes_diagnostic\\lib\\site-packages\\bs4\\__init__.py:273: UserWarning: \"b'.'\" looks like a filename, not markup. You should probably open this file and pass the filehandle into Beautiful Soup.\n",
      "  ' Beautiful Soup.' % markup)\n",
      "C:\\ProgramData\\Anaconda3\\envs\\akademikernes_diagnostic\\lib\\site-packages\\bs4\\__init__.py:273: UserWarning: \"b'.'\" looks like a filename, not markup. You should probably open this file and pass the filehandle into Beautiful Soup.\n",
      "  ' Beautiful Soup.' % markup)\n",
      "C:\\ProgramData\\Anaconda3\\envs\\akademikernes_diagnostic\\lib\\site-packages\\bs4\\__init__.py:273: UserWarning: \"b'.'\" looks like a filename, not markup. You should probably open this file and pass the filehandle into Beautiful Soup.\n",
      "  ' Beautiful Soup.' % markup)\n",
      "C:\\ProgramData\\Anaconda3\\envs\\akademikernes_diagnostic\\lib\\site-packages\\bs4\\__init__.py:273: UserWarning: \"b'.'\" looks like a filename, not markup. You should probably open this file and pass the filehandle into Beautiful Soup.\n",
      "  ' Beautiful Soup.' % markup)\n",
      "C:\\ProgramData\\Anaconda3\\envs\\akademikernes_diagnostic\\lib\\site-packages\\bs4\\__init__.py:273: UserWarning: \"b'.'\" looks like a filename, not markup. You should probably open this file and pass the filehandle into Beautiful Soup.\n",
      "  ' Beautiful Soup.' % markup)\n",
      "C:\\ProgramData\\Anaconda3\\envs\\akademikernes_diagnostic\\lib\\site-packages\\bs4\\__init__.py:273: UserWarning: \"b'...'\" looks like a filename, not markup. You should probably open this file and pass the filehandle into Beautiful Soup.\n",
      "  ' Beautiful Soup.' % markup)\n",
      "C:\\ProgramData\\Anaconda3\\envs\\akademikernes_diagnostic\\lib\\site-packages\\bs4\\__init__.py:273: UserWarning: \"b'...'\" looks like a filename, not markup. You should probably open this file and pass the filehandle into Beautiful Soup.\n",
      "  ' Beautiful Soup.' % markup)\n",
      "C:\\ProgramData\\Anaconda3\\envs\\akademikernes_diagnostic\\lib\\site-packages\\bs4\\__init__.py:273: UserWarning: \"b'.'\" looks like a filename, not markup. You should probably open this file and pass the filehandle into Beautiful Soup.\n",
      "  ' Beautiful Soup.' % markup)\n",
      "C:\\ProgramData\\Anaconda3\\envs\\akademikernes_diagnostic\\lib\\site-packages\\bs4\\__init__.py:273: UserWarning: \"b'.'\" looks like a filename, not markup. You should probably open this file and pass the filehandle into Beautiful Soup.\n",
      "  ' Beautiful Soup.' % markup)\n",
      "C:\\ProgramData\\Anaconda3\\envs\\akademikernes_diagnostic\\lib\\site-packages\\bs4\\__init__.py:273: UserWarning: \"b'.'\" looks like a filename, not markup. You should probably open this file and pass the filehandle into Beautiful Soup.\n",
      "  ' Beautiful Soup.' % markup)\n",
      "C:\\ProgramData\\Anaconda3\\envs\\akademikernes_diagnostic\\lib\\site-packages\\bs4\\__init__.py:273: UserWarning: \"b'.'\" looks like a filename, not markup. You should probably open this file and pass the filehandle into Beautiful Soup.\n",
      "  ' Beautiful Soup.' % markup)\n",
      "C:\\ProgramData\\Anaconda3\\envs\\akademikernes_diagnostic\\lib\\site-packages\\bs4\\__init__.py:273: UserWarning: \"b'.'\" looks like a filename, not markup. You should probably open this file and pass the filehandle into Beautiful Soup.\n",
      "  ' Beautiful Soup.' % markup)\n",
      "C:\\ProgramData\\Anaconda3\\envs\\akademikernes_diagnostic\\lib\\site-packages\\bs4\\__init__.py:273: UserWarning: \"b'.'\" looks like a filename, not markup. You should probably open this file and pass the filehandle into Beautiful Soup.\n",
      "  ' Beautiful Soup.' % markup)\n",
      "C:\\ProgramData\\Anaconda3\\envs\\akademikernes_diagnostic\\lib\\site-packages\\bs4\\__init__.py:273: UserWarning: \"b'.'\" looks like a filename, not markup. You should probably open this file and pass the filehandle into Beautiful Soup.\n",
      "  ' Beautiful Soup.' % markup)\n",
      "C:\\ProgramData\\Anaconda3\\envs\\akademikernes_diagnostic\\lib\\site-packages\\bs4\\__init__.py:273: UserWarning: \"b'.'\" looks like a filename, not markup. You should probably open this file and pass the filehandle into Beautiful Soup.\n",
      "  ' Beautiful Soup.' % markup)\n",
      "C:\\ProgramData\\Anaconda3\\envs\\akademikernes_diagnostic\\lib\\site-packages\\bs4\\__init__.py:273: UserWarning: \"b'.'\" looks like a filename, not markup. You should probably open this file and pass the filehandle into Beautiful Soup.\n",
      "  ' Beautiful Soup.' % markup)\n"
     ]
    },
    {
     "name": "stderr",
     "output_type": "stream",
     "text": [
      "C:\\ProgramData\\Anaconda3\\envs\\akademikernes_diagnostic\\lib\\site-packages\\bs4\\__init__.py:273: UserWarning: \"b'.'\" looks like a filename, not markup. You should probably open this file and pass the filehandle into Beautiful Soup.\n",
      "  ' Beautiful Soup.' % markup)\n",
      "C:\\ProgramData\\Anaconda3\\envs\\akademikernes_diagnostic\\lib\\site-packages\\bs4\\__init__.py:273: UserWarning: \"b'...'\" looks like a filename, not markup. You should probably open this file and pass the filehandle into Beautiful Soup.\n",
      "  ' Beautiful Soup.' % markup)\n",
      "C:\\ProgramData\\Anaconda3\\envs\\akademikernes_diagnostic\\lib\\site-packages\\bs4\\__init__.py:273: UserWarning: \"b'.'\" looks like a filename, not markup. You should probably open this file and pass the filehandle into Beautiful Soup.\n",
      "  ' Beautiful Soup.' % markup)\n",
      "C:\\ProgramData\\Anaconda3\\envs\\akademikernes_diagnostic\\lib\\site-packages\\bs4\\__init__.py:273: UserWarning: \"b'..'\" looks like a filename, not markup. You should probably open this file and pass the filehandle into Beautiful Soup.\n",
      "  ' Beautiful Soup.' % markup)\n",
      "C:\\ProgramData\\Anaconda3\\envs\\akademikernes_diagnostic\\lib\\site-packages\\bs4\\__init__.py:273: UserWarning: \"b'.'\" looks like a filename, not markup. You should probably open this file and pass the filehandle into Beautiful Soup.\n",
      "  ' Beautiful Soup.' % markup)\n",
      "C:\\ProgramData\\Anaconda3\\envs\\akademikernes_diagnostic\\lib\\site-packages\\bs4\\__init__.py:273: UserWarning: \"b'.'\" looks like a filename, not markup. You should probably open this file and pass the filehandle into Beautiful Soup.\n",
      "  ' Beautiful Soup.' % markup)\n",
      "C:\\ProgramData\\Anaconda3\\envs\\akademikernes_diagnostic\\lib\\site-packages\\bs4\\__init__.py:273: UserWarning: \"b'...'\" looks like a filename, not markup. You should probably open this file and pass the filehandle into Beautiful Soup.\n",
      "  ' Beautiful Soup.' % markup)\n",
      "C:\\ProgramData\\Anaconda3\\envs\\akademikernes_diagnostic\\lib\\site-packages\\bs4\\__init__.py:273: UserWarning: \"b'.'\" looks like a filename, not markup. You should probably open this file and pass the filehandle into Beautiful Soup.\n",
      "  ' Beautiful Soup.' % markup)\n",
      "C:\\ProgramData\\Anaconda3\\envs\\akademikernes_diagnostic\\lib\\site-packages\\bs4\\__init__.py:273: UserWarning: \"b'.'\" looks like a filename, not markup. You should probably open this file and pass the filehandle into Beautiful Soup.\n",
      "  ' Beautiful Soup.' % markup)\n",
      "C:\\ProgramData\\Anaconda3\\envs\\akademikernes_diagnostic\\lib\\site-packages\\bs4\\__init__.py:273: UserWarning: \"b'.'\" looks like a filename, not markup. You should probably open this file and pass the filehandle into Beautiful Soup.\n",
      "  ' Beautiful Soup.' % markup)\n",
      "C:\\ProgramData\\Anaconda3\\envs\\akademikernes_diagnostic\\lib\\site-packages\\bs4\\__init__.py:273: UserWarning: \"b'.'\" looks like a filename, not markup. You should probably open this file and pass the filehandle into Beautiful Soup.\n",
      "  ' Beautiful Soup.' % markup)\n",
      "C:\\ProgramData\\Anaconda3\\envs\\akademikernes_diagnostic\\lib\\site-packages\\bs4\\__init__.py:273: UserWarning: \"b'.'\" looks like a filename, not markup. You should probably open this file and pass the filehandle into Beautiful Soup.\n",
      "  ' Beautiful Soup.' % markup)\n",
      "C:\\ProgramData\\Anaconda3\\envs\\akademikernes_diagnostic\\lib\\site-packages\\bs4\\__init__.py:273: UserWarning: \"b'.'\" looks like a filename, not markup. You should probably open this file and pass the filehandle into Beautiful Soup.\n",
      "  ' Beautiful Soup.' % markup)\n",
      "C:\\ProgramData\\Anaconda3\\envs\\akademikernes_diagnostic\\lib\\site-packages\\bs4\\__init__.py:273: UserWarning: \"b'..'\" looks like a filename, not markup. You should probably open this file and pass the filehandle into Beautiful Soup.\n",
      "  ' Beautiful Soup.' % markup)\n",
      "C:\\ProgramData\\Anaconda3\\envs\\akademikernes_diagnostic\\lib\\site-packages\\bs4\\__init__.py:273: UserWarning: \"b'..'\" looks like a filename, not markup. You should probably open this file and pass the filehandle into Beautiful Soup.\n",
      "  ' Beautiful Soup.' % markup)\n",
      "C:\\ProgramData\\Anaconda3\\envs\\akademikernes_diagnostic\\lib\\site-packages\\bs4\\__init__.py:273: UserWarning: \"b'. .  .'\" looks like a filename, not markup. You should probably open this file and pass the filehandle into Beautiful Soup.\n",
      "  ' Beautiful Soup.' % markup)\n",
      "C:\\ProgramData\\Anaconda3\\envs\\akademikernes_diagnostic\\lib\\site-packages\\bs4\\__init__.py:273: UserWarning: \"b'.'\" looks like a filename, not markup. You should probably open this file and pass the filehandle into Beautiful Soup.\n",
      "  ' Beautiful Soup.' % markup)\n",
      "C:\\ProgramData\\Anaconda3\\envs\\akademikernes_diagnostic\\lib\\site-packages\\bs4\\__init__.py:273: UserWarning: \"b'.'\" looks like a filename, not markup. You should probably open this file and pass the filehandle into Beautiful Soup.\n",
      "  ' Beautiful Soup.' % markup)\n",
      "C:\\ProgramData\\Anaconda3\\envs\\akademikernes_diagnostic\\lib\\site-packages\\bs4\\__init__.py:273: UserWarning: \"b'.'\" looks like a filename, not markup. You should probably open this file and pass the filehandle into Beautiful Soup.\n",
      "  ' Beautiful Soup.' % markup)\n",
      "C:\\ProgramData\\Anaconda3\\envs\\akademikernes_diagnostic\\lib\\site-packages\\bs4\\__init__.py:273: UserWarning: \"b'/ '\" looks like a filename, not markup. You should probably open this file and pass the filehandle into Beautiful Soup.\n",
      "  ' Beautiful Soup.' % markup)\n",
      "C:\\ProgramData\\Anaconda3\\envs\\akademikernes_diagnostic\\lib\\site-packages\\bs4\\__init__.py:273: UserWarning: \"b'.'\" looks like a filename, not markup. You should probably open this file and pass the filehandle into Beautiful Soup.\n",
      "  ' Beautiful Soup.' % markup)\n",
      "C:\\ProgramData\\Anaconda3\\envs\\akademikernes_diagnostic\\lib\\site-packages\\bs4\\__init__.py:273: UserWarning: \"b'.'\" looks like a filename, not markup. You should probably open this file and pass the filehandle into Beautiful Soup.\n",
      "  ' Beautiful Soup.' % markup)\n",
      "C:\\ProgramData\\Anaconda3\\envs\\akademikernes_diagnostic\\lib\\site-packages\\bs4\\__init__.py:273: UserWarning: \"b' .'\" looks like a filename, not markup. You should probably open this file and pass the filehandle into Beautiful Soup.\n",
      "  ' Beautiful Soup.' % markup)\n",
      "C:\\ProgramData\\Anaconda3\\envs\\akademikernes_diagnostic\\lib\\site-packages\\bs4\\__init__.py:273: UserWarning: \"b'..'\" looks like a filename, not markup. You should probably open this file and pass the filehandle into Beautiful Soup.\n",
      "  ' Beautiful Soup.' % markup)\n",
      "C:\\ProgramData\\Anaconda3\\envs\\akademikernes_diagnostic\\lib\\site-packages\\bs4\\__init__.py:273: UserWarning: \"b'.'\" looks like a filename, not markup. You should probably open this file and pass the filehandle into Beautiful Soup.\n",
      "  ' Beautiful Soup.' % markup)\n",
      "C:\\ProgramData\\Anaconda3\\envs\\akademikernes_diagnostic\\lib\\site-packages\\bs4\\__init__.py:273: UserWarning: \"b'...'\" looks like a filename, not markup. You should probably open this file and pass the filehandle into Beautiful Soup.\n",
      "  ' Beautiful Soup.' % markup)\n"
     ]
    },
    {
     "name": "stdout",
     "output_type": "stream",
     "text": [
      "Wall time: 43min 57s\n"
     ]
    }
   ],
   "source": [
    "%%time\n",
    "# LDA preprocessing\n",
    "lda_preprocessing(lang_lda,'BeskedIndhold')"
   ]
  },
  {
   "cell_type": "code",
   "execution_count": 79,
   "metadata": {},
   "outputs": [
    {
     "data": {
      "text/plain": [
       "ThreadID                              0\n",
       "ThreadCreatedFromLetter               0\n",
       "ThreadTotalMessageCount               0\n",
       "ThreadStatus                          0\n",
       "ThreadSubject                         0\n",
       "ThreadResponsibleDepartment           0\n",
       "ThreadResponsibleDepartmentTeam      71\n",
       "ThreadHasInteraction                  0\n",
       "ThreadInitiatedBy                     0\n",
       "ThreadMessageRank                     0\n",
       "ThreadMessageIsFirstMemberMessage     0\n",
       "ThreadMessageIsFirstAKAMessage        0\n",
       "ThreadMessageID                       0\n",
       "ThreadMessageDirection                0\n",
       "ThreadMessageDateCreated              0\n",
       "BeskedIndhold                         0\n",
       "Org_ThreadMessageText                 0\n",
       "CharCount_BeskedIndhold               0\n",
       "LessThan5000                          0\n",
       "text                                  0\n",
       "tokenized_text                        0\n",
       "stopwords_removed                     0\n",
       "lemmatized_text                       0\n",
       "stemmed_text                          0\n",
       "bow                                   0\n",
       "dtype: int64"
      ]
     },
     "execution_count": 79,
     "metadata": {},
     "output_type": "execute_result"
    }
   ],
   "source": [
    "lang_lda.isnull().sum()"
   ]
  },
  {
   "cell_type": "code",
   "execution_count": null,
   "metadata": {},
   "outputs": [],
   "source": [
    "lang_lda.to_pickle('data/AKA_df_lang_lda.pkl')"
   ]
  },
  {
   "cell_type": "code",
   "execution_count": 4,
   "metadata": {},
   "outputs": [],
   "source": [
    "lang_lda = pd.read_pickle('data/AKA_df_lang_lda.pkl')"
   ]
  },
  {
   "cell_type": "code",
   "execution_count": 80,
   "metadata": {},
   "outputs": [],
   "source": [
    "lang_lda = lang_lda[(lang_lda['ThreadStatus']=='Fuldført') & (lang_lda['ThreadMessageDirection']=='Indgående') & (lang_lda['ThreadMessageIsFirstMemberMessage']==1) & (lang_lda['ThreadTotalMessageCount']>1) & (lang_lda['ThreadHasInteraction']>=1)]"
   ]
  },
  {
   "cell_type": "code",
   "execution_count": 81,
   "metadata": {},
   "outputs": [
    {
     "name": "stdout",
     "output_type": "stream",
     "text": [
      "Wall time: 6.61 s\n"
     ]
    }
   ],
   "source": [
    "%%time\n",
    "# LDA preprocessing\n",
    "dictionary, words_before_filter, words_after_filter = dictionary_from_stem(lang_lda, no_above=0.8, no_below=2)"
   ]
  },
  {
   "cell_type": "code",
   "execution_count": 82,
   "metadata": {},
   "outputs": [
    {
     "name": "stdout",
     "output_type": "stream",
     "text": [
      "Found 117869 words.\n",
      "Left with 48167 words.\n"
     ]
    }
   ],
   "source": [
    "print(\"Found {} words.\".format(words_before_filter))\n",
    "print(\"Left with {} words.\".format(words_after_filter))"
   ]
  },
  {
   "cell_type": "code",
   "execution_count": 83,
   "metadata": {},
   "outputs": [
    {
     "name": "stdout",
     "output_type": "stream",
     "text": [
      "Wall time: 6.01 s\n"
     ]
    }
   ],
   "source": [
    "%%time\n",
    "document_to_bow(lang_lda)"
   ]
  },
  {
   "cell_type": "markdown",
   "metadata": {},
   "source": [
    "#### LDA Language Model Training"
   ]
  },
  {
   "cell_type": "code",
   "execution_count": 84,
   "metadata": {},
   "outputs": [],
   "source": [
    "lang_lda_sample = lang_lda[(lang_lda['ThreadMessageDirection']=='Indgående') & (lang_lda['ThreadMessageIsFirstMemberMessage']==1)].sample(5000, random_state=1)"
   ]
  },
  {
   "cell_type": "code",
   "execution_count": 85,
   "metadata": {},
   "outputs": [
    {
     "data": {
      "text/html": [
       "<div>\n",
       "<style scoped>\n",
       "    .dataframe tbody tr th:only-of-type {\n",
       "        vertical-align: middle;\n",
       "    }\n",
       "\n",
       "    .dataframe tbody tr th {\n",
       "        vertical-align: top;\n",
       "    }\n",
       "\n",
       "    .dataframe thead th {\n",
       "        text-align: right;\n",
       "    }\n",
       "</style>\n",
       "<table border=\"1\" class=\"dataframe\">\n",
       "  <thead>\n",
       "    <tr style=\"text-align: right;\">\n",
       "      <th></th>\n",
       "      <th>ThreadID</th>\n",
       "      <th>ThreadCreatedFromLetter</th>\n",
       "      <th>ThreadTotalMessageCount</th>\n",
       "      <th>ThreadStatus</th>\n",
       "      <th>ThreadSubject</th>\n",
       "      <th>ThreadResponsibleDepartment</th>\n",
       "      <th>ThreadResponsibleDepartmentTeam</th>\n",
       "      <th>ThreadHasInteraction</th>\n",
       "      <th>ThreadInitiatedBy</th>\n",
       "      <th>ThreadMessageRank</th>\n",
       "      <th>...</th>\n",
       "      <th>BeskedIndhold</th>\n",
       "      <th>Org_ThreadMessageText</th>\n",
       "      <th>CharCount_BeskedIndhold</th>\n",
       "      <th>LessThan5000</th>\n",
       "      <th>text</th>\n",
       "      <th>tokenized_text</th>\n",
       "      <th>stopwords_removed</th>\n",
       "      <th>lemmatized_text</th>\n",
       "      <th>stemmed_text</th>\n",
       "      <th>bow</th>\n",
       "    </tr>\n",
       "  </thead>\n",
       "  <tbody>\n",
       "    <tr>\n",
       "      <th>797658</th>\n",
       "      <td>624A88F9-AEC2-E611-B361-005056AD2D14</td>\n",
       "      <td>0</td>\n",
       "      <td>2</td>\n",
       "      <td>Fuldført</td>\n",
       "      <td>optjening til skattefri præmie</td>\n",
       "      <td>Forsikring</td>\n",
       "      <td>Udbetalingsteam 1 - CPR 01 til 10</td>\n",
       "      <td>1</td>\n",
       "      <td>Member</td>\n",
       "      <td>1</td>\n",
       "      <td>...</td>\n",
       "      <td>hej. jeg ved ikke kan hjælpe mig med hvor mang...</td>\n",
       "      <td>\\nHej. \\nJeg ved ikke om i kan hjælpe mig med ...</td>\n",
       "      <td>239</td>\n",
       "      <td>True</td>\n",
       "      <td>hej. jeg ved ikke kan hjælpe mig med hvor mang...</td>\n",
       "      <td>[hej, jeg, ved, ikke, kan, hjælpe, mig, med, h...</td>\n",
       "      <td>[hjælpe, timer, optjent, skattefri, præmie, in...</td>\n",
       "      <td>[hjælpe, timer, optjent, skattefri, præmie, in...</td>\n",
       "      <td>[hjælpe, timer, optjent, skattefri, præmie, in...</td>\n",
       "      <td>[(10, 2), (278, 1), (403, 1), (433, 1), (534, ...</td>\n",
       "    </tr>\n",
       "    <tr>\n",
       "      <th>63982</th>\n",
       "      <td>782FD124-6A6B-E611-8BE5-0050569118B0</td>\n",
       "      <td>1</td>\n",
       "      <td>12</td>\n",
       "      <td>Fuldført</td>\n",
       "      <td>Din ansøgning om supplerende dagpenge</td>\n",
       "      <td>Forsikring</td>\n",
       "      <td>Udbetalingsteam 1 - CPR 01 til 10</td>\n",
       "      <td>1</td>\n",
       "      <td>Member</td>\n",
       "      <td>1</td>\n",
       "      <td>...</td>\n",
       "      <td>jeg lidt tvivl , jeg har udfyldt den rigtige b...</td>\n",
       "      <td>\\nHej.\\nJeg er lidt i tvivl om, om jeg har udf...</td>\n",
       "      <td>353</td>\n",
       "      <td>True</td>\n",
       "      <td>jeg lidt tvivl , jeg har udfyldt den rigtige b...</td>\n",
       "      <td>[jeg, lidt, tvivl, jeg, har, udfyldt, den, rig...</td>\n",
       "      <td>[tvivl, udfyldt, rigtige, blanket, henhold, ar...</td>\n",
       "      <td>[tvivl, udfyldt, rigtige, blanket, henhold, ar...</td>\n",
       "      <td>[tvivl, udfyldt, rigtig, blanket, henhold, arb...</td>\n",
       "      <td>[(49, 1), (56, 1), (74, 1), (101, 1), (107, 1)...</td>\n",
       "    </tr>\n",
       "  </tbody>\n",
       "</table>\n",
       "<p>2 rows × 25 columns</p>\n",
       "</div>"
      ],
      "text/plain": [
       "                                    ThreadID  ThreadCreatedFromLetter  \\\n",
       "797658  624A88F9-AEC2-E611-B361-005056AD2D14                        0   \n",
       "63982   782FD124-6A6B-E611-8BE5-0050569118B0                        1   \n",
       "\n",
       "        ThreadTotalMessageCount ThreadStatus  \\\n",
       "797658                        2     Fuldført   \n",
       "63982                        12     Fuldført   \n",
       "\n",
       "                                ThreadSubject ThreadResponsibleDepartment  \\\n",
       "797658         optjening til skattefri præmie                  Forsikring   \n",
       "63982   Din ansøgning om supplerende dagpenge                  Forsikring   \n",
       "\n",
       "          ThreadResponsibleDepartmentTeam  ThreadHasInteraction  \\\n",
       "797658  Udbetalingsteam 1 - CPR 01 til 10                     1   \n",
       "63982   Udbetalingsteam 1 - CPR 01 til 10                     1   \n",
       "\n",
       "       ThreadInitiatedBy  ThreadMessageRank  \\\n",
       "797658            Member                  1   \n",
       "63982             Member                  1   \n",
       "\n",
       "                              ...                          \\\n",
       "797658                        ...                           \n",
       "63982                         ...                           \n",
       "\n",
       "                                            BeskedIndhold  \\\n",
       "797658  hej. jeg ved ikke kan hjælpe mig med hvor mang...   \n",
       "63982   jeg lidt tvivl , jeg har udfyldt den rigtige b...   \n",
       "\n",
       "                                    Org_ThreadMessageText  \\\n",
       "797658  \\nHej. \\nJeg ved ikke om i kan hjælpe mig med ...   \n",
       "63982   \\nHej.\\nJeg er lidt i tvivl om, om jeg har udf...   \n",
       "\n",
       "       CharCount_BeskedIndhold LessThan5000  \\\n",
       "797658                     239         True   \n",
       "63982                      353         True   \n",
       "\n",
       "                                                     text  \\\n",
       "797658  hej. jeg ved ikke kan hjælpe mig med hvor mang...   \n",
       "63982   jeg lidt tvivl , jeg har udfyldt den rigtige b...   \n",
       "\n",
       "                                           tokenized_text  \\\n",
       "797658  [hej, jeg, ved, ikke, kan, hjælpe, mig, med, h...   \n",
       "63982   [jeg, lidt, tvivl, jeg, har, udfyldt, den, rig...   \n",
       "\n",
       "                                        stopwords_removed  \\\n",
       "797658  [hjælpe, timer, optjent, skattefri, præmie, in...   \n",
       "63982   [tvivl, udfyldt, rigtige, blanket, henhold, ar...   \n",
       "\n",
       "                                          lemmatized_text  \\\n",
       "797658  [hjælpe, timer, optjent, skattefri, præmie, in...   \n",
       "63982   [tvivl, udfyldt, rigtige, blanket, henhold, ar...   \n",
       "\n",
       "                                             stemmed_text  \\\n",
       "797658  [hjælpe, timer, optjent, skattefri, præmie, in...   \n",
       "63982   [tvivl, udfyldt, rigtig, blanket, henhold, arb...   \n",
       "\n",
       "                                                      bow  \n",
       "797658  [(10, 2), (278, 1), (403, 1), (433, 1), (534, ...  \n",
       "63982   [(49, 1), (56, 1), (74, 1), (101, 1), (107, 1)...  \n",
       "\n",
       "[2 rows x 25 columns]"
      ]
     },
     "execution_count": 85,
     "metadata": {},
     "output_type": "execute_result"
    }
   ],
   "source": [
    "lang_lda_sample.head(2)"
   ]
  },
  {
   "cell_type": "code",
   "execution_count": 86,
   "metadata": {},
   "outputs": [],
   "source": [
    "# We want to maximize the probability of the corpus in the training set.\n",
    "corpus = lang_lda_sample.bow"
   ]
  },
  {
   "cell_type": "code",
   "execution_count": 87,
   "metadata": {},
   "outputs": [
    {
     "ename": "KeyboardInterrupt",
     "evalue": "",
     "output_type": "error",
     "traceback": [
      "\u001b[1;31m---------------------------------------------------------------------------\u001b[0m",
      "\u001b[1;31mKeyboardInterrupt\u001b[0m                         Traceback (most recent call last)",
      "\u001b[1;32m<timed exec>\u001b[0m in \u001b[0;36m<module>\u001b[1;34m()\u001b[0m\n",
      "\u001b[1;32mC:\\ProgramData\\Anaconda3\\envs\\akademikernes_diagnostic\\lib\\site-packages\\gensim\\models\\ldamulticore.py\u001b[0m in \u001b[0;36m__init__\u001b[1;34m(self, corpus, num_topics, id2word, workers, chunksize, passes, batch, alpha, eta, decay, offset, eval_every, iterations, gamma_threshold, random_state, minimum_probability, minimum_phi_value, per_word_topics)\u001b[0m\n\u001b[0;32m    149\u001b[0m         \u001b[0meval_every\u001b[0m \u001b[1;33m:\u001b[0m \u001b[0mint\u001b[0m\u001b[1;33m,\u001b[0m \u001b[0moptional\u001b[0m\u001b[1;33m\u001b[0m\u001b[0m\n\u001b[0;32m    150\u001b[0m             \u001b[0mLog\u001b[0m \u001b[0mperplexity\u001b[0m \u001b[1;32mis\u001b[0m \u001b[0mestimated\u001b[0m \u001b[0mevery\u001b[0m \u001b[0mthat\u001b[0m \u001b[0mmany\u001b[0m \u001b[0mupdates\u001b[0m\u001b[1;33m.\u001b[0m \u001b[0mSetting\u001b[0m \u001b[0mthis\u001b[0m \u001b[0mto\u001b[0m \u001b[0mone\u001b[0m \u001b[0mslows\u001b[0m \u001b[0mdown\u001b[0m \u001b[0mtraining\u001b[0m \u001b[0mby\u001b[0m \u001b[1;33m~\u001b[0m\u001b[1;36m2\u001b[0m\u001b[0mx\u001b[0m\u001b[1;33m.\u001b[0m\u001b[1;33m\u001b[0m\u001b[0m\n\u001b[1;32m--> 151\u001b[1;33m         \u001b[0miterations\u001b[0m \u001b[1;33m:\u001b[0m \u001b[0mint\u001b[0m\u001b[1;33m,\u001b[0m \u001b[0moptional\u001b[0m\u001b[1;33m\u001b[0m\u001b[0m\n\u001b[0m\u001b[0;32m    152\u001b[0m             \u001b[0mMaximum\u001b[0m \u001b[0mnumber\u001b[0m \u001b[0mof\u001b[0m \u001b[0miterations\u001b[0m \u001b[0mthrough\u001b[0m \u001b[0mthe\u001b[0m \u001b[0mcorpus\u001b[0m \u001b[0mwhen\u001b[0m \u001b[0minferring\u001b[0m \u001b[0mthe\u001b[0m \u001b[0mtopic\u001b[0m \u001b[0mdistribution\u001b[0m \u001b[0mof\u001b[0m \u001b[0ma\u001b[0m \u001b[0mcorpus\u001b[0m\u001b[1;33m.\u001b[0m\u001b[1;33m\u001b[0m\u001b[0m\n\u001b[0;32m    153\u001b[0m         \u001b[0mgamma_threshold\u001b[0m \u001b[1;33m:\u001b[0m \u001b[0mfloat\u001b[0m\u001b[1;33m,\u001b[0m \u001b[0moptional\u001b[0m\u001b[1;33m\u001b[0m\u001b[0m\n",
      "\u001b[1;32mC:\\ProgramData\\Anaconda3\\envs\\akademikernes_diagnostic\\lib\\site-packages\\gensim\\models\\ldamodel.py\u001b[0m in \u001b[0;36m__init__\u001b[1;34m(self, corpus, num_topics, id2word, distributed, chunksize, passes, update_every, alpha, eta, decay, offset, eval_every, iterations, gamma_threshold, minimum_probability, random_state, ns_conf, minimum_phi_value, per_word_topics, callbacks)\u001b[0m\n\u001b[0;32m    338\u001b[0m     def __init__(self, corpus=None, num_topics=100, id2word=None,\n\u001b[0;32m    339\u001b[0m                  \u001b[0mdistributed\u001b[0m\u001b[1;33m=\u001b[0m\u001b[1;32mFalse\u001b[0m\u001b[1;33m,\u001b[0m \u001b[0mchunksize\u001b[0m\u001b[1;33m=\u001b[0m\u001b[1;36m2000\u001b[0m\u001b[1;33m,\u001b[0m \u001b[0mpasses\u001b[0m\u001b[1;33m=\u001b[0m\u001b[1;36m1\u001b[0m\u001b[1;33m,\u001b[0m \u001b[0mupdate_every\u001b[0m\u001b[1;33m=\u001b[0m\u001b[1;36m1\u001b[0m\u001b[1;33m,\u001b[0m\u001b[1;33m\u001b[0m\u001b[0m\n\u001b[1;32m--> 340\u001b[1;33m                  \u001b[0malpha\u001b[0m\u001b[1;33m=\u001b[0m\u001b[1;34m'symmetric'\u001b[0m\u001b[1;33m,\u001b[0m \u001b[0meta\u001b[0m\u001b[1;33m=\u001b[0m\u001b[1;32mNone\u001b[0m\u001b[1;33m,\u001b[0m \u001b[0mdecay\u001b[0m\u001b[1;33m=\u001b[0m\u001b[1;36m0.5\u001b[0m\u001b[1;33m,\u001b[0m \u001b[0moffset\u001b[0m\u001b[1;33m=\u001b[0m\u001b[1;36m1.0\u001b[0m\u001b[1;33m,\u001b[0m \u001b[0meval_every\u001b[0m\u001b[1;33m=\u001b[0m\u001b[1;36m10\u001b[0m\u001b[1;33m,\u001b[0m\u001b[1;33m\u001b[0m\u001b[0m\n\u001b[0m\u001b[0;32m    341\u001b[0m                  \u001b[0miterations\u001b[0m\u001b[1;33m=\u001b[0m\u001b[1;36m50\u001b[0m\u001b[1;33m,\u001b[0m \u001b[0mgamma_threshold\u001b[0m\u001b[1;33m=\u001b[0m\u001b[1;36m0.001\u001b[0m\u001b[1;33m,\u001b[0m \u001b[0mminimum_probability\u001b[0m\u001b[1;33m=\u001b[0m\u001b[1;36m0.01\u001b[0m\u001b[1;33m,\u001b[0m\u001b[1;33m\u001b[0m\u001b[0m\n\u001b[0;32m    342\u001b[0m                  \u001b[0mrandom_state\u001b[0m\u001b[1;33m=\u001b[0m\u001b[1;32mNone\u001b[0m\u001b[1;33m,\u001b[0m \u001b[0mns_conf\u001b[0m\u001b[1;33m=\u001b[0m\u001b[1;32mNone\u001b[0m\u001b[1;33m,\u001b[0m \u001b[0mminimum_phi_value\u001b[0m\u001b[1;33m=\u001b[0m\u001b[1;36m0.01\u001b[0m\u001b[1;33m,\u001b[0m\u001b[1;33m\u001b[0m\u001b[0m\n",
      "\u001b[1;32mC:\\ProgramData\\Anaconda3\\envs\\akademikernes_diagnostic\\lib\\site-packages\\gensim\\models\\ldamulticore.py\u001b[0m in \u001b[0;36mupdate\u001b[1;34m(self, corpus, chunks_as_numpy)\u001b[0m\n\u001b[0;32m    259\u001b[0m             \u001b[0mother\u001b[0m \u001b[1;33m=\u001b[0m \u001b[0mLdaState\u001b[0m\u001b[1;33m(\u001b[0m\u001b[0mself\u001b[0m\u001b[1;33m.\u001b[0m\u001b[0meta\u001b[0m\u001b[1;33m,\u001b[0m \u001b[0mself\u001b[0m\u001b[1;33m.\u001b[0m\u001b[0mstate\u001b[0m\u001b[1;33m.\u001b[0m\u001b[0msstats\u001b[0m\u001b[1;33m.\u001b[0m\u001b[0mshape\u001b[0m\u001b[1;33m)\u001b[0m\u001b[1;33m\u001b[0m\u001b[0m\n\u001b[0;32m    260\u001b[0m \u001b[1;33m\u001b[0m\u001b[0m\n\u001b[1;32m--> 261\u001b[1;33m             \u001b[1;32mdef\u001b[0m \u001b[0mprocess_result_queue\u001b[0m\u001b[1;33m(\u001b[0m\u001b[0mforce\u001b[0m\u001b[1;33m=\u001b[0m\u001b[1;32mFalse\u001b[0m\u001b[1;33m)\u001b[0m\u001b[1;33m:\u001b[0m\u001b[1;33m\u001b[0m\u001b[0m\n\u001b[0m\u001b[0;32m    262\u001b[0m                 \"\"\"\n\u001b[0;32m    263\u001b[0m                 \u001b[0mClear\u001b[0m \u001b[0mthe\u001b[0m \u001b[0mresult\u001b[0m \u001b[0mqueue\u001b[0m\u001b[1;33m,\u001b[0m \u001b[0mmerging\u001b[0m \u001b[0mall\u001b[0m \u001b[0mintermediate\u001b[0m \u001b[0mresults\u001b[0m\u001b[1;33m,\u001b[0m \u001b[1;32mand\u001b[0m \u001b[0mupdate\u001b[0m \u001b[0mthe\u001b[0m\u001b[1;33m\u001b[0m\u001b[0m\n",
      "\u001b[1;32mC:\\ProgramData\\Anaconda3\\envs\\akademikernes_diagnostic\\lib\\site-packages\\gensim\\models\\ldamulticore.py\u001b[0m in \u001b[0;36mprocess_result_queue\u001b[1;34m(force)\u001b[0m\n\u001b[0;32m    224\u001b[0m             \u001b[0mupdatetype\u001b[0m \u001b[1;33m=\u001b[0m \u001b[1;34m\"online\"\u001b[0m\u001b[1;33m\u001b[0m\u001b[0m\n\u001b[0;32m    225\u001b[0m             \u001b[0mupdateafter\u001b[0m \u001b[1;33m=\u001b[0m \u001b[0mself\u001b[0m\u001b[1;33m.\u001b[0m\u001b[0mchunksize\u001b[0m \u001b[1;33m*\u001b[0m \u001b[0mself\u001b[0m\u001b[1;33m.\u001b[0m\u001b[0mworkers\u001b[0m\u001b[1;33m\u001b[0m\u001b[0m\n\u001b[1;32m--> 226\u001b[1;33m         \u001b[1;32melse\u001b[0m\u001b[1;33m:\u001b[0m\u001b[1;33m\u001b[0m\u001b[0m\n\u001b[0m\u001b[0;32m    227\u001b[0m             \u001b[0mupdatetype\u001b[0m \u001b[1;33m=\u001b[0m \u001b[1;34m\"batch\"\u001b[0m\u001b[1;33m\u001b[0m\u001b[0m\n\u001b[0;32m    228\u001b[0m             \u001b[0mupdateafter\u001b[0m \u001b[1;33m=\u001b[0m \u001b[0mlencorpus\u001b[0m\u001b[1;33m\u001b[0m\u001b[0m\n",
      "\u001b[1;32mC:\\ProgramData\\Anaconda3\\envs\\akademikernes_diagnostic\\lib\\multiprocessing\\queues.py\u001b[0m in \u001b[0;36mempty\u001b[1;34m(self)\u001b[0m\n\u001b[0;32m    118\u001b[0m \u001b[1;33m\u001b[0m\u001b[0m\n\u001b[0;32m    119\u001b[0m     \u001b[1;32mdef\u001b[0m \u001b[0mempty\u001b[0m\u001b[1;33m(\u001b[0m\u001b[0mself\u001b[0m\u001b[1;33m)\u001b[0m\u001b[1;33m:\u001b[0m\u001b[1;33m\u001b[0m\u001b[0m\n\u001b[1;32m--> 120\u001b[1;33m         \u001b[1;32mreturn\u001b[0m \u001b[1;32mnot\u001b[0m \u001b[0mself\u001b[0m\u001b[1;33m.\u001b[0m\u001b[0m_poll\u001b[0m\u001b[1;33m(\u001b[0m\u001b[1;33m)\u001b[0m\u001b[1;33m\u001b[0m\u001b[0m\n\u001b[0m\u001b[0;32m    121\u001b[0m \u001b[1;33m\u001b[0m\u001b[0m\n\u001b[0;32m    122\u001b[0m     \u001b[1;32mdef\u001b[0m \u001b[0mfull\u001b[0m\u001b[1;33m(\u001b[0m\u001b[0mself\u001b[0m\u001b[1;33m)\u001b[0m\u001b[1;33m:\u001b[0m\u001b[1;33m\u001b[0m\u001b[0m\n",
      "\u001b[1;32mC:\\ProgramData\\Anaconda3\\envs\\akademikernes_diagnostic\\lib\\multiprocessing\\connection.py\u001b[0m in \u001b[0;36mpoll\u001b[1;34m(self, timeout)\u001b[0m\n\u001b[0;32m    255\u001b[0m         \u001b[0mself\u001b[0m\u001b[1;33m.\u001b[0m\u001b[0m_check_closed\u001b[0m\u001b[1;33m(\u001b[0m\u001b[1;33m)\u001b[0m\u001b[1;33m\u001b[0m\u001b[0m\n\u001b[0;32m    256\u001b[0m         \u001b[0mself\u001b[0m\u001b[1;33m.\u001b[0m\u001b[0m_check_readable\u001b[0m\u001b[1;33m(\u001b[0m\u001b[1;33m)\u001b[0m\u001b[1;33m\u001b[0m\u001b[0m\n\u001b[1;32m--> 257\u001b[1;33m         \u001b[1;32mreturn\u001b[0m \u001b[0mself\u001b[0m\u001b[1;33m.\u001b[0m\u001b[0m_poll\u001b[0m\u001b[1;33m(\u001b[0m\u001b[0mtimeout\u001b[0m\u001b[1;33m)\u001b[0m\u001b[1;33m\u001b[0m\u001b[0m\n\u001b[0m\u001b[0;32m    258\u001b[0m \u001b[1;33m\u001b[0m\u001b[0m\n\u001b[0;32m    259\u001b[0m     \u001b[1;32mdef\u001b[0m \u001b[0m__enter__\u001b[0m\u001b[1;33m(\u001b[0m\u001b[0mself\u001b[0m\u001b[1;33m)\u001b[0m\u001b[1;33m:\u001b[0m\u001b[1;33m\u001b[0m\u001b[0m\n",
      "\u001b[1;32mC:\\ProgramData\\Anaconda3\\envs\\akademikernes_diagnostic\\lib\\multiprocessing\\connection.py\u001b[0m in \u001b[0;36m_poll\u001b[1;34m(self, timeout)\u001b[0m\n\u001b[0;32m    328\u001b[0m                         _winapi.PeekNamedPipe(self._handle)[0] != 0):\n\u001b[0;32m    329\u001b[0m                 \u001b[1;32mreturn\u001b[0m \u001b[1;32mTrue\u001b[0m\u001b[1;33m\u001b[0m\u001b[0m\n\u001b[1;32m--> 330\u001b[1;33m             \u001b[1;32mreturn\u001b[0m \u001b[0mbool\u001b[0m\u001b[1;33m(\u001b[0m\u001b[0mwait\u001b[0m\u001b[1;33m(\u001b[0m\u001b[1;33m[\u001b[0m\u001b[0mself\u001b[0m\u001b[1;33m]\u001b[0m\u001b[1;33m,\u001b[0m \u001b[0mtimeout\u001b[0m\u001b[1;33m)\u001b[0m\u001b[1;33m)\u001b[0m\u001b[1;33m\u001b[0m\u001b[0m\n\u001b[0m\u001b[0;32m    331\u001b[0m \u001b[1;33m\u001b[0m\u001b[0m\n\u001b[0;32m    332\u001b[0m         \u001b[1;32mdef\u001b[0m \u001b[0m_get_more_data\u001b[0m\u001b[1;33m(\u001b[0m\u001b[0mself\u001b[0m\u001b[1;33m,\u001b[0m \u001b[0mov\u001b[0m\u001b[1;33m,\u001b[0m \u001b[0mmaxsize\u001b[0m\u001b[1;33m)\u001b[0m\u001b[1;33m:\u001b[0m\u001b[1;33m\u001b[0m\u001b[0m\n",
      "\u001b[1;32mC:\\ProgramData\\Anaconda3\\envs\\akademikernes_diagnostic\\lib\\multiprocessing\\connection.py\u001b[0m in \u001b[0;36mwait\u001b[1;34m(object_list, timeout)\u001b[0m\n\u001b[0;32m    861\u001b[0m             \u001b[1;31m# request that overlapped reads stop\u001b[0m\u001b[1;33m\u001b[0m\u001b[1;33m\u001b[0m\u001b[0m\n\u001b[0;32m    862\u001b[0m             \u001b[1;32mfor\u001b[0m \u001b[0mov\u001b[0m \u001b[1;32min\u001b[0m \u001b[0mov_list\u001b[0m\u001b[1;33m:\u001b[0m\u001b[1;33m\u001b[0m\u001b[0m\n\u001b[1;32m--> 863\u001b[1;33m                 \u001b[0mov\u001b[0m\u001b[1;33m.\u001b[0m\u001b[0mcancel\u001b[0m\u001b[1;33m(\u001b[0m\u001b[1;33m)\u001b[0m\u001b[1;33m\u001b[0m\u001b[0m\n\u001b[0m\u001b[0;32m    864\u001b[0m \u001b[1;33m\u001b[0m\u001b[0m\n\u001b[0;32m    865\u001b[0m             \u001b[1;31m# wait for all overlapped reads to stop\u001b[0m\u001b[1;33m\u001b[0m\u001b[1;33m\u001b[0m\u001b[0m\n",
      "\u001b[1;31mKeyboardInterrupt\u001b[0m: "
     ]
    }
   ],
   "source": [
    "%%time\n",
    "num_topics = 3\n",
    "#A multicore approach to decrease training time\n",
    "LDAmodel_lang = LdaMulticore(corpus=corpus,\n",
    "                        id2word=dictionary,\n",
    "                        num_topics=num_topics,\n",
    "                        workers=4,\n",
    "                        chunksize=5000,\n",
    "                        passes=15,\n",
    "                        random_state=1,\n",
    "                        alpha='asymmetric')"
   ]
  },
  {
   "cell_type": "code",
   "execution_count": 13,
   "metadata": {},
   "outputs": [],
   "source": [
    "LDAmodel_lang.save('data/AKA_predictionmodel_LDAmodel_lang.model')"
   ]
  },
  {
   "cell_type": "markdown",
   "metadata": {},
   "source": [
    "#### Feature vectors."
   ]
  },
  {
   "cell_type": "code",
   "execution_count": 12,
   "metadata": {},
   "outputs": [],
   "source": [
    "from gensim.test.utils import datapath"
   ]
  },
  {
   "cell_type": "code",
   "execution_count": null,
   "metadata": {},
   "outputs": [],
   "source": [
    "LDAmodel_lang = LdaModel.load('data/AKA_predictionmodel_LDAmodel_lang.model')"
   ]
  },
  {
   "cell_type": "code",
   "execution_count": 39,
   "metadata": {},
   "outputs": [
    {
     "ename": "NameError",
     "evalue": "name 'LDAmodel_lang' is not defined",
     "output_type": "error",
     "traceback": [
      "\u001b[1;31m---------------------------------------------------------------------------\u001b[0m",
      "\u001b[1;31mNameError\u001b[0m                                 Traceback (most recent call last)",
      "\u001b[1;32m<ipython-input-39-827656bb4fc8>\u001b[0m in \u001b[0;36m<module>\u001b[1;34m()\u001b[0m\n\u001b[1;32m----> 1\u001b[1;33m \u001b[0mlang_lda_sample\u001b[0m\u001b[1;33m[\u001b[0m\u001b[1;34m'lda_features'\u001b[0m\u001b[1;33m]\u001b[0m \u001b[1;33m=\u001b[0m \u001b[0mlist\u001b[0m\u001b[1;33m(\u001b[0m\u001b[0mmap\u001b[0m\u001b[1;33m(\u001b[0m\u001b[1;32mlambda\u001b[0m \u001b[0mdoc\u001b[0m\u001b[1;33m:\u001b[0m \u001b[0mdocument_to_lda_features\u001b[0m\u001b[1;33m(\u001b[0m\u001b[0mLDAmodel_lang\u001b[0m\u001b[1;33m,\u001b[0m \u001b[0mdoc\u001b[0m\u001b[1;33m)\u001b[0m\u001b[1;33m,\u001b[0m \u001b[0mlang_lda_sample\u001b[0m\u001b[1;33m.\u001b[0m\u001b[0mbow\u001b[0m\u001b[1;33m)\u001b[0m\u001b[1;33m)\u001b[0m\u001b[1;33m\u001b[0m\u001b[0m\n\u001b[0m",
      "\u001b[1;32m<ipython-input-39-827656bb4fc8>\u001b[0m in \u001b[0;36m<lambda>\u001b[1;34m(doc)\u001b[0m\n\u001b[1;32m----> 1\u001b[1;33m \u001b[0mlang_lda_sample\u001b[0m\u001b[1;33m[\u001b[0m\u001b[1;34m'lda_features'\u001b[0m\u001b[1;33m]\u001b[0m \u001b[1;33m=\u001b[0m \u001b[0mlist\u001b[0m\u001b[1;33m(\u001b[0m\u001b[0mmap\u001b[0m\u001b[1;33m(\u001b[0m\u001b[1;32mlambda\u001b[0m \u001b[0mdoc\u001b[0m\u001b[1;33m:\u001b[0m \u001b[0mdocument_to_lda_features\u001b[0m\u001b[1;33m(\u001b[0m\u001b[0mLDAmodel_lang\u001b[0m\u001b[1;33m,\u001b[0m \u001b[0mdoc\u001b[0m\u001b[1;33m)\u001b[0m\u001b[1;33m,\u001b[0m \u001b[0mlang_lda_sample\u001b[0m\u001b[1;33m.\u001b[0m\u001b[0mbow\u001b[0m\u001b[1;33m)\u001b[0m\u001b[1;33m)\u001b[0m\u001b[1;33m\u001b[0m\u001b[0m\n\u001b[0m",
      "\u001b[1;31mNameError\u001b[0m: name 'LDAmodel_lang' is not defined"
     ]
    }
   ],
   "source": [
    "lang_lda_sample['lda_features'] = list(map(lambda doc: document_to_lda_features(LDAmodel_lang, doc), lang_lda_sample.bow))"
   ]
  },
  {
   "cell_type": "markdown",
   "metadata": {},
   "source": [
    "#### Topic distributions and let's see some words that come with the topics"
   ]
  },
  {
   "cell_type": "code",
   "execution_count": null,
   "metadata": {},
   "outputs": [],
   "source": [
    "RequestTopicDistribution = lang_lda_sample['lda_features'].mean()"
   ]
  },
  {
   "cell_type": "code",
   "execution_count": 16,
   "metadata": {},
   "outputs": [
    {
     "data": {
      "image/png": "[encoded data removed]",
      "text/plain": [
       "<matplotlib.figure.Figure at 0x1fea59af400>"
      ]
     },
     "metadata": {},
     "output_type": "display_data"
    }
   ],
   "source": [
    "fig, ax1 = plt.subplots(1,1,figsize=(20,6))\n",
    "nr_top_bars = 3\n",
    "ax1.set_title(\"Request Topic distributions\", fontsize=16)\n",
    "\n",
    "for ax, distribution, color in zip([ax1], [RequestTopicDistribution], ['r']):\n",
    "    # Individual distribution barplots\n",
    "    ax.bar(range(len(distribution)), distribution, alpha=0.7)\n",
    "    rects = ax.patches\n",
    "    for i in np.argsort(distribution)[-nr_top_bars:]:\n",
    "        rects[i].set_color(color)\n",
    "        rects[i].set_alpha(1)\n",
    "\n",
    "fig.tight_layout(h_pad=3.)"
   ]
  },
  {
   "cell_type": "markdown",
   "metadata": {},
   "source": [
    "#### Inspect topics and words"
   ]
  },
  {
   "cell_type": "code",
   "execution_count": 17,
   "metadata": {},
   "outputs": [
    {
     "name": "stdout",
     "output_type": "stream",
     "text": [
      "Topic: 0\tProb: 0.737, Words: 0.013*\"dagpeng\" + 0.012*\"besk\" + 0.011*\"dag\" + 0.007*\"arbejd\".\n",
      "Topic: 1\tProb: 0.139, Words: 0.043*\"the\" + 0.041*\"you\" + 0.018*\"your\" + 0.017*\"and\".\n",
      "Topic: 2\tProb: 0.103, Words: 0.027*\"timer\" + 0.015*\"dagpeng\" + 0.010*\"arbejd\" + 0.009*\"måned\".\n",
      "Topic: 3\tProb: 0.022, Words: 0.004*\"medlemmet\" + 0.003*\"stk\" + 0.002*\"feriedagpeng\" + 0.002*\"arbejd\".\n",
      "\n"
     ]
    }
   ],
   "source": [
    "for x in sorted(np.argsort(RequestTopicDistribution)[-num_topics:]):\n",
    "    top_words = get_topic_and_prob(LDAmodel_lang, x, num_topics) #get_topic_top_words(LDAmodel, x)\n",
    "    print(\"Topic: {0}\\tProb: {1:.3f}, Words: {2}.\".format(x, RequestTopicDistribution.item(x), top_words)) #(x, \", \".join(top_words)))\n",
    "print(\"\")"
   ]
  },
  {
   "cell_type": "code",
   "execution_count": 18,
   "metadata": {},
   "outputs": [
    {
     "data": {
      "text/html": [
       "<div>\n",
       "<style scoped>\n",
       "    .dataframe tbody tr th:only-of-type {\n",
       "        vertical-align: middle;\n",
       "    }\n",
       "\n",
       "    .dataframe tbody tr th {\n",
       "        vertical-align: top;\n",
       "    }\n",
       "\n",
       "    .dataframe thead th {\n",
       "        text-align: right;\n",
       "    }\n",
       "</style>\n",
       "<table border=\"1\" class=\"dataframe\">\n",
       "  <thead>\n",
       "    <tr style=\"text-align: right;\">\n",
       "      <th></th>\n",
       "      <th>Topic # 00</th>\n",
       "      <th>Topic # 01</th>\n",
       "      <th>Topic # 02</th>\n",
       "      <th>Topic # 03</th>\n",
       "    </tr>\n",
       "  </thead>\n",
       "  <tbody>\n",
       "    <tr>\n",
       "      <th>0</th>\n",
       "      <td>dagpeng</td>\n",
       "      <td>the</td>\n",
       "      <td>timer</td>\n",
       "      <td>medlemmet</td>\n",
       "    </tr>\n",
       "    <tr>\n",
       "      <th>1</th>\n",
       "      <td>besk</td>\n",
       "      <td>you</td>\n",
       "      <td>dagpeng</td>\n",
       "      <td>stk</td>\n",
       "    </tr>\n",
       "    <tr>\n",
       "      <th>2</th>\n",
       "      <td>dag</td>\n",
       "      <td>your</td>\n",
       "      <td>arbejd</td>\n",
       "      <td>feriedagpeng</td>\n",
       "    </tr>\n",
       "    <tr>\n",
       "      <th>3</th>\n",
       "      <td>arbejd</td>\n",
       "      <td>and</td>\n",
       "      <td>måned</td>\n",
       "      <td>arbejd</td>\n",
       "    </tr>\n",
       "    <tr>\n",
       "      <th>4</th>\n",
       "      <td>ledig</td>\n",
       "      <td>that</td>\n",
       "      <td>løn</td>\n",
       "      <td>dagpeng</td>\n",
       "    </tr>\n",
       "    <tr>\n",
       "      <th>5</th>\n",
       "      <td>kontakt</td>\n",
       "      <td>from</td>\n",
       "      <td>skat</td>\n",
       "      <td>uge</td>\n",
       "    </tr>\n",
       "    <tr>\n",
       "      <th>6</th>\n",
       "      <td>job</td>\n",
       "      <td>regard</td>\n",
       "      <td>arbejdet</td>\n",
       "      <td>timer</td>\n",
       "    </tr>\n",
       "    <tr>\n",
       "      <th>7</th>\n",
       "      <td>kass</td>\n",
       "      <td>not</td>\n",
       "      <td>udbetalt</td>\n",
       "      <td>medlem</td>\n",
       "    </tr>\n",
       "    <tr>\n",
       "      <th>8</th>\n",
       "      <td>spørgsmål</td>\n",
       "      <td>will</td>\n",
       "      <td>virksomh</td>\n",
       "      <td>feri</td>\n",
       "    </tr>\n",
       "    <tr>\n",
       "      <th>9</th>\n",
       "      <td>fået</td>\n",
       "      <td>thank</td>\n",
       "      <td>selvstændig</td>\n",
       "      <td>dage</td>\n",
       "    </tr>\n",
       "    <tr>\n",
       "      <th>10</th>\n",
       "      <td>gern</td>\n",
       "      <td>can</td>\n",
       "      <td>arbejdsgiv</td>\n",
       "      <td>besk</td>\n",
       "    </tr>\n",
       "    <tr>\n",
       "      <th>11</th>\n",
       "      <td>velkommen</td>\n",
       "      <td>dear</td>\n",
       "      <td>ydelseskort</td>\n",
       "      <td>kass</td>\n",
       "    </tr>\n",
       "    <tr>\n",
       "      <th>12</th>\n",
       "      <td>udfyld</td>\n",
       "      <td>thi</td>\n",
       "      <td>ret</td>\n",
       "      <td>optjent</td>\n",
       "    </tr>\n",
       "    <tr>\n",
       "      <th>13</th>\n",
       "      <td>dage</td>\n",
       "      <td>receiv</td>\n",
       "      <td>fået</td>\n",
       "      <td>fået</td>\n",
       "    </tr>\n",
       "    <tr>\n",
       "      <th>14</th>\n",
       "      <td>ansøgn</td>\n",
       "      <td>with</td>\n",
       "      <td>oplys</td>\n",
       "      <td>kontakt</td>\n",
       "    </tr>\n",
       "    <tr>\n",
       "      <th>15</th>\n",
       "      <td>feri</td>\n",
       "      <td>best</td>\n",
       "      <td>dage</td>\n",
       "      <td>uger</td>\n",
       "    </tr>\n",
       "    <tr>\n",
       "      <th>16</th>\n",
       "      <td>modtaget</td>\n",
       "      <td>benefit</td>\n",
       "      <td>virksomheden</td>\n",
       "      <td>bekendtgørels</td>\n",
       "    </tr>\n",
       "    <tr>\n",
       "      <th>17</th>\n",
       "      <td>inden</td>\n",
       "      <td>job</td>\n",
       "      <td>decemb</td>\n",
       "      <td>ret</td>\n",
       "    </tr>\n",
       "    <tr>\n",
       "      <th>18</th>\n",
       "      <td>modtag</td>\n",
       "      <td>messag</td>\n",
       "      <td>uge</td>\n",
       "      <td>feriedag</td>\n",
       "    </tr>\n",
       "    <tr>\n",
       "      <th>19</th>\n",
       "      <td>uger</td>\n",
       "      <td>day</td>\n",
       "      <td>februar</td>\n",
       "      <td>ægtefællen</td>\n",
       "    </tr>\n",
       "    <tr>\n",
       "      <th>20</th>\n",
       "      <td>tid</td>\n",
       "      <td>are</td>\n",
       "      <td>januar</td>\n",
       "      <td>transporttid</td>\n",
       "    </tr>\n",
       "    <tr>\n",
       "      <th>21</th>\n",
       "      <td>jobnet</td>\n",
       "      <td>pleas</td>\n",
       "      <td>spørgsmål</td>\n",
       "      <td>bopæl</td>\n",
       "    </tr>\n",
       "    <tr>\n",
       "      <th>22</th>\n",
       "      <td>sendt</td>\n",
       "      <td>unemploy</td>\n",
       "      <td>perioden</td>\n",
       "      <td>samleveren</td>\n",
       "    </tr>\n",
       "    <tr>\n",
       "      <th>23</th>\n",
       "      <td>ring</td>\n",
       "      <td>kass</td>\n",
       "      <td>mart</td>\n",
       "      <td>feriepeng</td>\n",
       "    </tr>\n",
       "    <tr>\n",
       "      <th>24</th>\n",
       "      <td>brev</td>\n",
       "      <td>work</td>\n",
       "      <td>udbetal</td>\n",
       "      <td>arbejdet</td>\n",
       "    </tr>\n",
       "  </tbody>\n",
       "</table>\n",
       "</div>"
      ],
      "text/plain": [
       "   Topic # 00 Topic # 01    Topic # 02     Topic # 03\n",
       "0     dagpeng        the         timer      medlemmet\n",
       "1        besk        you       dagpeng            stk\n",
       "2         dag       your        arbejd   feriedagpeng\n",
       "3      arbejd        and         måned         arbejd\n",
       "4       ledig       that           løn        dagpeng\n",
       "5     kontakt       from          skat            uge\n",
       "6         job     regard      arbejdet          timer\n",
       "7        kass        not      udbetalt         medlem\n",
       "8   spørgsmål       will      virksomh           feri\n",
       "9        fået      thank   selvstændig           dage\n",
       "10       gern        can    arbejdsgiv           besk\n",
       "11  velkommen       dear   ydelseskort           kass\n",
       "12     udfyld        thi           ret        optjent\n",
       "13       dage     receiv          fået           fået\n",
       "14     ansøgn       with         oplys        kontakt\n",
       "15       feri       best          dage           uger\n",
       "16   modtaget    benefit  virksomheden  bekendtgørels\n",
       "17      inden        job        decemb            ret\n",
       "18     modtag     messag           uge       feriedag\n",
       "19       uger        day       februar     ægtefællen\n",
       "20        tid        are        januar   transporttid\n",
       "21     jobnet      pleas     spørgsmål          bopæl\n",
       "22      sendt   unemploy      perioden     samleveren\n",
       "23       ring       kass          mart      feriepeng\n",
       "24       brev       work       udbetal       arbejdet"
      ]
     },
     "execution_count": 18,
     "metadata": {},
     "output_type": "execute_result"
    }
   ],
   "source": [
    "get_lda_topics(LDAmodel_lang, num_topics,25)"
   ]
  },
  {
   "cell_type": "markdown",
   "metadata": {},
   "source": [
    "#### Name the languages"
   ]
  },
  {
   "cell_type": "code",
   "execution_count": 19,
   "metadata": {},
   "outputs": [],
   "source": [
    "lang_lda_topic_names = ['Danish','English', 'Topic 3', 'Topic 4']"
   ]
  },
  {
   "cell_type": "code",
   "execution_count": 20,
   "metadata": {},
   "outputs": [
    {
     "data": {
      "text/plain": [
       "'0.013*\"dagpeng\" + 0.012*\"besk\" + 0.011*\"dag\" + 0.007*\"arbejd\" + 0.006*\"ledig\" + 0.006*\"kontakt\" + 0.006*\"job\" + 0.006*\"kass\"'"
      ]
     },
     "execution_count": 20,
     "metadata": {},
     "output_type": "execute_result"
    }
   ],
   "source": [
    "LDAmodel_lang.print_topic(0,8)"
   ]
  },
  {
   "cell_type": "markdown",
   "metadata": {},
   "source": [
    "## Test the topics on our data"
   ]
  },
  {
   "cell_type": "code",
   "execution_count": 25,
   "metadata": {},
   "outputs": [
    {
     "name": "stdout",
     "output_type": "stream",
     "text": [
      "Score: 0.9654658436775208\t Topic: 0.013*\"dagpeng\" + 0.012*\"besk\" + 0.011*\"dag\" + 0.007*\"arbejd\" + 0.006*\"ledig\"\n",
      "Score: 0.014794488437473774\t Topic: 0.043*\"the\" + 0.041*\"you\" + 0.018*\"your\" + 0.017*\"and\" + 0.013*\"that\"\n",
      "Score: 0.011069335043430328\t Topic: 0.027*\"timer\" + 0.015*\"dagpeng\" + 0.010*\"arbejd\" + 0.009*\"måned\" + 0.006*\"løn\"\n"
     ]
    }
   ],
   "source": [
    "unseen_document = 'Hej gitte arensberg. Her er de to skemaer du bad om, hhv. ak 001 og ar 232. Jeg forsøgte at sende skemaerne i mandags, man men fik oplyst på introduktionsmødet tirsdag, at aaks hjemmeside ikke fungerede søndag og mandag. venlig hilsen torben lehm.'\n",
    "# unseen_document = 'hello,   writing because  would like  know more about the lønsikring (.. how much does  cost extra  month   subscribed? how can  subscribe  ?).  would like  subscribe    soon  possible. thank you very much for your help.'\n",
    "# unseen_document = 'specialsag - udland - 2nd u13 document - and hopefully the last one'\n",
    "bow_vector = dictionary.doc2bow(preprocess_string(unseen_document))\n",
    "for index, score in sorted(LDAmodel_lang[bow_vector], key=lambda tup: -1*tup[1]):\n",
    "    print(\"Score: {}\\t Topic: {}\".format(score, LDAmodel_lang.print_topic(index, 5)))"
   ]
  },
  {
   "cell_type": "code",
   "execution_count": 26,
   "metadata": {},
   "outputs": [
    {
     "name": "stdout",
     "output_type": "stream",
     "text": [
      "(0.96545726, 'Danish')\n"
     ]
    }
   ],
   "source": [
    "# Test function and prediction\n",
    "print(PredictTopicFromString(unseen_document, LDAmodel_lang, lang_lda_topic_names))"
   ]
  },
  {
   "cell_type": "markdown",
   "metadata": {},
   "source": [
    "### Predict language\n",
    "Per every row in the dataset"
   ]
  },
  {
   "cell_type": "code",
   "execution_count": 27,
   "metadata": {},
   "outputs": [],
   "source": [
    "lda_prediction(lang_lda,LDAmodel_lang, lang_lda_topic_names)"
   ]
  },
  {
   "cell_type": "code",
   "execution_count": 28,
   "metadata": {},
   "outputs": [
    {
     "data": {
      "text/html": [
       "<div>\n",
       "<style scoped>\n",
       "    .dataframe tbody tr th:only-of-type {\n",
       "        vertical-align: middle;\n",
       "    }\n",
       "\n",
       "    .dataframe tbody tr th {\n",
       "        vertical-align: top;\n",
       "    }\n",
       "\n",
       "    .dataframe thead th {\n",
       "        text-align: right;\n",
       "    }\n",
       "</style>\n",
       "<table border=\"1\" class=\"dataframe\">\n",
       "  <thead>\n",
       "    <tr style=\"text-align: right;\">\n",
       "      <th></th>\n",
       "      <th>BeskedTråd_ID</th>\n",
       "      <th>OprettetFraBrev</th>\n",
       "      <th>TrådTotalAntalBeskeder</th>\n",
       "      <th>TeamAnsvarlig</th>\n",
       "      <th>Besked_ID</th>\n",
       "      <th>Retning</th>\n",
       "      <th>SendtDato</th>\n",
       "      <th>BeskedKategori</th>\n",
       "      <th>BeskedIndhold</th>\n",
       "      <th>Org_BeskedIndhold</th>\n",
       "      <th>...</th>\n",
       "      <th>text</th>\n",
       "      <th>tokenized_text</th>\n",
       "      <th>stopwords_removed</th>\n",
       "      <th>lemmatized_text</th>\n",
       "      <th>stemmed_text</th>\n",
       "      <th>bow</th>\n",
       "      <th>prediction</th>\n",
       "      <th>pred_probability</th>\n",
       "      <th>pred_index</th>\n",
       "      <th>pred_label</th>\n",
       "    </tr>\n",
       "  </thead>\n",
       "  <tbody>\n",
       "    <tr>\n",
       "      <th>0</th>\n",
       "      <td>E1BAC568-59B6-E811-82B4-0050569118B0</td>\n",
       "      <td>0</td>\n",
       "      <td>3</td>\n",
       "      <td>Forsikring</td>\n",
       "      <td>E7BAC568-59B6-E811-82B4-0050569118B0</td>\n",
       "      <td>Udgående</td>\n",
       "      <td>2018-09-12 06:59:45</td>\n",
       "      <td>Emne</td>\n",
       "      <td>hvornår blev  færdiguddannet?</td>\n",
       "      <td>Hvornår blev du færdiguddannet?</td>\n",
       "      <td>...</td>\n",
       "      <td>hvornår blev  færdiguddannet?</td>\n",
       "      <td>[hvornår, blev, færdiguddannet, ?]</td>\n",
       "      <td>[færdiguddannet]</td>\n",
       "      <td>[færdiguddannet]</td>\n",
       "      <td>[færdiguddannet]</td>\n",
       "      <td>[(0, 1)]</td>\n",
       "      <td>[0.6943014, 0, Danish]</td>\n",
       "      <td>0.694301</td>\n",
       "      <td>0</td>\n",
       "      <td>Danish</td>\n",
       "    </tr>\n",
       "    <tr>\n",
       "      <th>1</th>\n",
       "      <td>E1BAC568-59B6-E811-82B4-0050569118B0</td>\n",
       "      <td>0</td>\n",
       "      <td>3</td>\n",
       "      <td>Forsikring</td>\n",
       "      <td>6874B044-5CB6-E811-82B4-0050569118B0</td>\n",
       "      <td>Udgående</td>\n",
       "      <td>2018-09-12 07:20:05</td>\n",
       "      <td>Emne</td>\n",
       "      <td>hvornår blev  færdiguddannet?</td>\n",
       "      <td>Hvornår blev du færdiguddannet?</td>\n",
       "      <td>...</td>\n",
       "      <td>hvornår blev  færdiguddannet?</td>\n",
       "      <td>[hvornår, blev, færdiguddannet, ?]</td>\n",
       "      <td>[færdiguddannet]</td>\n",
       "      <td>[færdiguddannet]</td>\n",
       "      <td>[færdiguddannet]</td>\n",
       "      <td>[(0, 1)]</td>\n",
       "      <td>[0.69430137, 0, Danish]</td>\n",
       "      <td>0.694301</td>\n",
       "      <td>0</td>\n",
       "      <td>Danish</td>\n",
       "    </tr>\n",
       "    <tr>\n",
       "      <th>2</th>\n",
       "      <td>E1BAC568-59B6-E811-82B4-0050569118B0</td>\n",
       "      <td>0</td>\n",
       "      <td>3</td>\n",
       "      <td>Forsikring</td>\n",
       "      <td>A460B937-5BB6-E811-864D-005056AD2D14</td>\n",
       "      <td>Indgående</td>\n",
       "      <td>2018-09-12 07:12:40</td>\n",
       "      <td>Emne</td>\n",
       "      <td>hvornår blev  færdiguddannet?</td>\n",
       "      <td>Hvornår blev du færdiguddannet?</td>\n",
       "      <td>...</td>\n",
       "      <td>hvornår blev  færdiguddannet?</td>\n",
       "      <td>[hvornår, blev, færdiguddannet, ?]</td>\n",
       "      <td>[færdiguddannet]</td>\n",
       "      <td>[færdiguddannet]</td>\n",
       "      <td>[færdiguddannet]</td>\n",
       "      <td>[(0, 1)]</td>\n",
       "      <td>[0.6943004, 0, Danish]</td>\n",
       "      <td>0.694300</td>\n",
       "      <td>0</td>\n",
       "      <td>Danish</td>\n",
       "    </tr>\n",
       "    <tr>\n",
       "      <th>3</th>\n",
       "      <td>E15E85CB-5EB6-E811-82B4-0050569118B0</td>\n",
       "      <td>0</td>\n",
       "      <td>2</td>\n",
       "      <td>Jobmatch</td>\n",
       "      <td>D6B21804-60B6-E811-864D-005056AD2D14</td>\n",
       "      <td>Indgående</td>\n",
       "      <td>2018-09-12 07:47:02</td>\n",
       "      <td>Emne</td>\n",
       "      <td>husk,   skal til velkomstmøde, aarhus</td>\n",
       "      <td>Husk, at du skal til Velkomstmøde, Aarhus</td>\n",
       "      <td>...</td>\n",
       "      <td>husk,   skal til velkomstmøde, aarhus</td>\n",
       "      <td>[husk, skal, til, velkomstmøde, aarhus]</td>\n",
       "      <td>[husk, velkomstmøde, aarhus]</td>\n",
       "      <td>[husk, velkomstmøde, aarhus]</td>\n",
       "      <td>[husk, velkomstmød, aarhu]</td>\n",
       "      <td>[(1, 1), (2, 1), (3, 1)]</td>\n",
       "      <td>[0.846473, 0, Danish]</td>\n",
       "      <td>0.846473</td>\n",
       "      <td>0</td>\n",
       "      <td>Danish</td>\n",
       "    </tr>\n",
       "    <tr>\n",
       "      <th>4</th>\n",
       "      <td>E15E85CB-5EB6-E811-82B4-0050569118B0</td>\n",
       "      <td>0</td>\n",
       "      <td>2</td>\n",
       "      <td>Jobmatch</td>\n",
       "      <td>21FDCFDC-7CB6-E811-82B4-0050569118B0</td>\n",
       "      <td>Udgående</td>\n",
       "      <td>2018-09-12 11:13:28</td>\n",
       "      <td>Emne</td>\n",
       "      <td>husk,   skal til velkomstmøde, aarhus</td>\n",
       "      <td>Husk, at du skal til Velkomstmøde, Aarhus</td>\n",
       "      <td>...</td>\n",
       "      <td>husk,   skal til velkomstmøde, aarhus</td>\n",
       "      <td>[husk, skal, til, velkomstmøde, aarhus]</td>\n",
       "      <td>[husk, velkomstmøde, aarhus]</td>\n",
       "      <td>[husk, velkomstmøde, aarhus]</td>\n",
       "      <td>[husk, velkomstmød, aarhu]</td>\n",
       "      <td>[(1, 1), (2, 1), (3, 1)]</td>\n",
       "      <td>[0.84648734, 0, Danish]</td>\n",
       "      <td>0.846487</td>\n",
       "      <td>0</td>\n",
       "      <td>Danish</td>\n",
       "    </tr>\n",
       "  </tbody>\n",
       "</table>\n",
       "<p>5 rows × 22 columns</p>\n",
       "</div>"
      ],
      "text/plain": [
       "                          BeskedTråd_ID  OprettetFraBrev  \\\n",
       "0  E1BAC568-59B6-E811-82B4-0050569118B0                0   \n",
       "1  E1BAC568-59B6-E811-82B4-0050569118B0                0   \n",
       "2  E1BAC568-59B6-E811-82B4-0050569118B0                0   \n",
       "3  E15E85CB-5EB6-E811-82B4-0050569118B0                0   \n",
       "4  E15E85CB-5EB6-E811-82B4-0050569118B0                0   \n",
       "\n",
       "   TrådTotalAntalBeskeder TeamAnsvarlig                             Besked_ID  \\\n",
       "0                       3    Forsikring  E7BAC568-59B6-E811-82B4-0050569118B0   \n",
       "1                       3    Forsikring  6874B044-5CB6-E811-82B4-0050569118B0   \n",
       "2                       3    Forsikring  A460B937-5BB6-E811-864D-005056AD2D14   \n",
       "3                       2      Jobmatch  D6B21804-60B6-E811-864D-005056AD2D14   \n",
       "4                       2      Jobmatch  21FDCFDC-7CB6-E811-82B4-0050569118B0   \n",
       "\n",
       "     Retning           SendtDato BeskedKategori  \\\n",
       "0   Udgående 2018-09-12 06:59:45           Emne   \n",
       "1   Udgående 2018-09-12 07:20:05           Emne   \n",
       "2  Indgående 2018-09-12 07:12:40           Emne   \n",
       "3  Indgående 2018-09-12 07:47:02           Emne   \n",
       "4   Udgående 2018-09-12 11:13:28           Emne   \n",
       "\n",
       "                           BeskedIndhold  \\\n",
       "0          hvornår blev  færdiguddannet?   \n",
       "1          hvornår blev  færdiguddannet?   \n",
       "2          hvornår blev  færdiguddannet?   \n",
       "3  husk,   skal til velkomstmøde, aarhus   \n",
       "4  husk,   skal til velkomstmøde, aarhus   \n",
       "\n",
       "                           Org_BeskedIndhold     ...      \\\n",
       "0            Hvornår blev du færdiguddannet?     ...       \n",
       "1            Hvornår blev du færdiguddannet?     ...       \n",
       "2            Hvornår blev du færdiguddannet?     ...       \n",
       "3  Husk, at du skal til Velkomstmøde, Aarhus     ...       \n",
       "4  Husk, at du skal til Velkomstmøde, Aarhus     ...       \n",
       "\n",
       "                                    text  \\\n",
       "0          hvornår blev  færdiguddannet?   \n",
       "1          hvornår blev  færdiguddannet?   \n",
       "2          hvornår blev  færdiguddannet?   \n",
       "3  husk,   skal til velkomstmøde, aarhus   \n",
       "4  husk,   skal til velkomstmøde, aarhus   \n",
       "\n",
       "                            tokenized_text             stopwords_removed  \\\n",
       "0       [hvornår, blev, færdiguddannet, ?]              [færdiguddannet]   \n",
       "1       [hvornår, blev, færdiguddannet, ?]              [færdiguddannet]   \n",
       "2       [hvornår, blev, færdiguddannet, ?]              [færdiguddannet]   \n",
       "3  [husk, skal, til, velkomstmøde, aarhus]  [husk, velkomstmøde, aarhus]   \n",
       "4  [husk, skal, til, velkomstmøde, aarhus]  [husk, velkomstmøde, aarhus]   \n",
       "\n",
       "                lemmatized_text                stemmed_text  \\\n",
       "0              [færdiguddannet]            [færdiguddannet]   \n",
       "1              [færdiguddannet]            [færdiguddannet]   \n",
       "2              [færdiguddannet]            [færdiguddannet]   \n",
       "3  [husk, velkomstmøde, aarhus]  [husk, velkomstmød, aarhu]   \n",
       "4  [husk, velkomstmøde, aarhus]  [husk, velkomstmød, aarhu]   \n",
       "\n",
       "                        bow               prediction pred_probability  \\\n",
       "0                  [(0, 1)]   [0.6943014, 0, Danish]         0.694301   \n",
       "1                  [(0, 1)]  [0.69430137, 0, Danish]         0.694301   \n",
       "2                  [(0, 1)]   [0.6943004, 0, Danish]         0.694300   \n",
       "3  [(1, 1), (2, 1), (3, 1)]    [0.846473, 0, Danish]         0.846473   \n",
       "4  [(1, 1), (2, 1), (3, 1)]  [0.84648734, 0, Danish]         0.846487   \n",
       "\n",
       "  pred_index  pred_label  \n",
       "0          0      Danish  \n",
       "1          0      Danish  \n",
       "2          0      Danish  \n",
       "3          0      Danish  \n",
       "4          0      Danish  \n",
       "\n",
       "[5 rows x 22 columns]"
      ]
     },
     "execution_count": 28,
     "metadata": {},
     "output_type": "execute_result"
    }
   ],
   "source": [
    "lang_lda.head()"
   ]
  },
  {
   "cell_type": "code",
   "execution_count": 29,
   "metadata": {},
   "outputs": [],
   "source": [
    "lang_lda.to_pickle('data/AKA_df_lang_with_prediction.pkl')"
   ]
  },
  {
   "cell_type": "code",
   "execution_count": null,
   "metadata": {},
   "outputs": [],
   "source": [
    "lang_lda = pd.read_pickle('data/AKA_df_lang_with_prediction.pkl')"
   ]
  },
  {
   "cell_type": "markdown",
   "metadata": {},
   "source": [
    "#### Functions for language handling"
   ]
  },
  {
   "cell_type": "markdown",
   "metadata": {},
   "source": [
    "#### What is the proportion of English Requests compared to Danish Requests"
   ]
  },
  {
   "cell_type": "code",
   "execution_count": null,
   "metadata": {},
   "outputs": [],
   "source": [
    "pd.value_counts(lang_lda['pred_label']).plot.bar()"
   ]
  },
  {
   "cell_type": "code",
   "execution_count": null,
   "metadata": {},
   "outputs": [],
   "source": [
    "lang_proportion = PlotComparison(lang_lda, 'pred_label', 'BeskedIndhold')\n",
    "lang_proportion.plot.bar(x='pred_label')"
   ]
  },
  {
   "cell_type": "code",
   "execution_count": null,
   "metadata": {},
   "outputs": [],
   "source": [
    "# lang_stats.plot.bar(x='language')"
   ]
  },
  {
   "cell_type": "code",
   "execution_count": null,
   "metadata": {},
   "outputs": [],
   "source": [
    "lang_lda[\"BeskedIndhold\"]=df_clean.BeskedIndhold.apply(replace_specific_words)"
   ]
  },
  {
   "cell_type": "code",
   "execution_count": null,
   "metadata": {},
   "outputs": [],
   "source": [
    "# df_clean['CharCount_BeskedIndhold'].plot.hist(alpha=0.5, bins=50)"
   ]
  },
  {
   "cell_type": "code",
   "execution_count": null,
   "metadata": {},
   "outputs": [],
   "source": [
    "# Inpect the head of sentences that are english\n",
    "lang_lda[lang_lda['pred_label']=='english'].head()"
   ]
  },
  {
   "cell_type": "code",
   "execution_count": null,
   "metadata": {},
   "outputs": [],
   "source": [
    "print('No. of sentences that needs translation:',len(lang_lda[lang_lda['pred_label']=='English']))"
   ]
  },
  {
   "cell_type": "code",
   "execution_count": null,
   "metadata": {},
   "outputs": [],
   "source": [
    "# Run all above to"
   ]
  },
  {
   "cell_type": "markdown",
   "metadata": {},
   "source": [
    "# Selecting dataset to work with\n",
    "In this section we will transform the incoming dataset and map it to the final wording. This will enable us to switch up incoming data sets if further data preperation has been done."
   ]
  },
  {
   "cell_type": "code",
   "execution_count": 30,
   "metadata": {},
   "outputs": [],
   "source": [
    "df_final = pd.read_pickle('data/AKA_df_lang_with_prediction.pkl')"
   ]
  },
  {
   "cell_type": "markdown",
   "metadata": {},
   "source": [
    "## Feature Investigation"
   ]
  },
  {
   "cell_type": "code",
   "execution_count": 31,
   "metadata": {},
   "outputs": [],
   "source": [
    "def add_features(df):\n",
    "#     df['BehandlingsTidDage'] = df['BehandlingsTidTimer']/24\n",
    "#     df = df.round({'BehandlingsTidDage': 0})\n",
    "#     df['BehandlingsTidDage'] = df['BehandlingsTidDage'].astype(int)\n",
    "#     df['CharCount_BeskedIndhold'] = df['BeskedIndhold'].apply(len)\n",
    "#     df['LessThan5000'] = df['CharCount_BeskedIndhold'] < 5000\n",
    "    \n",
    "    df['Date'] = df['SendtDato'].dt.strftime('%Y-%m-%d')\n",
    "    df['Week'] = df['SendtDato'].dt.week\n",
    "    df['Year_Week'] = df['SendtDato'].dt.strftime('%Y-W%V')\n",
    "    df['Weekday'] = df['SendtDato'].dt.dayofweek\n",
    "    df['Month'] = df['SendtDato'].dt.month\n",
    "    df['Year_Month'] = df['SendtDato'].dt.to_period('M')\n",
    "    df['Year'] = df['SendtDato'].dt.year\n",
    "    return df"
   ]
  },
  {
   "cell_type": "code",
   "execution_count": 32,
   "metadata": {},
   "outputs": [],
   "source": [
    "df_final = add_features(df_final)"
   ]
  },
  {
   "cell_type": "code",
   "execution_count": 33,
   "metadata": {},
   "outputs": [
    {
     "data": {
      "text/plain": [
       "BeskedTråd_ID              0\n",
       "OprettetFraBrev            0\n",
       "TrådTotalAntalBeskeder     0\n",
       "TeamAnsvarlig              0\n",
       "Besked_ID                  0\n",
       "Retning                    0\n",
       "SendtDato                  0\n",
       "BeskedKategori             0\n",
       "BeskedIndhold              0\n",
       "Org_BeskedIndhold          0\n",
       "CharCount_BeskedIndhold    0\n",
       "LessThan5000               0\n",
       "text                       0\n",
       "tokenized_text             0\n",
       "stopwords_removed          0\n",
       "lemmatized_text            0\n",
       "stemmed_text               0\n",
       "bow                        0\n",
       "prediction                 0\n",
       "pred_probability           0\n",
       "pred_index                 0\n",
       "pred_label                 0\n",
       "Date                       0\n",
       "Week                       0\n",
       "Year_Week                  0\n",
       "Weekday                    0\n",
       "Month                      0\n",
       "Year_Month                 0\n",
       "Year                       0\n",
       "dtype: int64"
      ]
     },
     "execution_count": 33,
     "metadata": {},
     "output_type": "execute_result"
    }
   ],
   "source": [
    "df_final.isnull().sum()"
   ]
  },
  {
   "cell_type": "markdown",
   "metadata": {},
   "source": [
    "### Create copy of incoming dataset, and preform mapping"
   ]
  },
  {
   "cell_type": "code",
   "execution_count": 34,
   "metadata": {},
   "outputs": [],
   "source": [
    "df_thread = df_final.copy(deep=True)\n",
    "df_thread.rename(columns={\n",
    "    'BeskedTråd_ID': 'ThreadID',\n",
    "    'BeskedTråd_Status': 'ThreadStatus',\n",
    "    'OprettetFraBrev': 'ThreadCreator',\n",
    "    'TrådTotalAntalBeskeder': 'ThreadMessageCount',\n",
    "    'TeamAnsvarlig': 'TeamResponsible',\n",
    "    'Retning': 'ThreadDirection',\n",
    "    'SendtDato': 'RequestDate',\n",
    "    'BeskedKategori': 'ThreadCategory',\n",
    "    'BeskedIndhold': 'RequestContent',\n",
    "    'Org_BeskedIndhold': 'Orginal',\n",
    "    'CharCount_BeskedIndhold': 'ReqeustContent_CharCount',\n",
    "    'LessThan5000': 'Content<5000',\n",
    "    'Date': 'Date',\n",
    "    'Week': 'Week',\n",
    "    'Weekday': 'Weekday',\n",
    "    'Year_Week': 'Year_Week',\n",
    "    'Month': 'Month',\n",
    "    'Year_Month': 'Year_Month',\n",
    "    'Year': 'Year'\n",
    "    }, inplace=True)"
   ]
  },
  {
   "cell_type": "code",
   "execution_count": 35,
   "metadata": {},
   "outputs": [
    {
     "data": {
      "text/plain": [
       "['ThreadID',\n",
       " 'ThreadCreator',\n",
       " 'ThreadMessageCount',\n",
       " 'TeamResponsible',\n",
       " 'Besked_ID',\n",
       " 'ThreadDirection',\n",
       " 'RequestDate',\n",
       " 'ThreadCategory',\n",
       " 'RequestContent',\n",
       " 'Org_BeskedIndhold',\n",
       " 'ReqeustContent_CharCount',\n",
       " 'Content<5000',\n",
       " 'text',\n",
       " 'tokenized_text',\n",
       " 'stopwords_removed',\n",
       " 'lemmatized_text',\n",
       " 'stemmed_text',\n",
       " 'bow',\n",
       " 'prediction',\n",
       " 'pred_probability',\n",
       " 'pred_index',\n",
       " 'pred_label',\n",
       " 'Date',\n",
       " 'Week',\n",
       " 'Year_Week',\n",
       " 'Weekday',\n",
       " 'Month',\n",
       " 'Year_Month',\n",
       " 'Year']"
      ]
     },
     "execution_count": 35,
     "metadata": {},
     "output_type": "execute_result"
    }
   ],
   "source": [
    "list(df_thread.columns.values)"
   ]
  },
  {
   "cell_type": "markdown",
   "metadata": {},
   "source": [
    "### Get stats about the dataset\n",
    "This is to be used for EDA as well as data set presentation"
   ]
  },
  {
   "cell_type": "code",
   "execution_count": 36,
   "metadata": {},
   "outputs": [],
   "source": [
    "df_thread.to_pickle('data/AKA_df_thread.pkl')"
   ]
  },
  {
   "cell_type": "markdown",
   "metadata": {},
   "source": [
    "### Data Investigation for Outlier analysis"
   ]
  },
  {
   "cell_type": "code",
   "execution_count": null,
   "metadata": {},
   "outputs": [],
   "source": [
    "df_thread.describe()"
   ]
  },
  {
   "cell_type": "code",
   "execution_count": 41,
   "metadata": {
    "scrolled": true
   },
   "outputs": [
    {
     "data": {
      "text/plain": [
       "<matplotlib.axes._subplots.AxesSubplot at 0x2012fe56dd8>"
      ]
     },
     "execution_count": 41,
     "metadata": {},
     "output_type": "execute_result"
    },
    {
     "data": {
      "image/png": "[encoded data removed]",
      "text/plain": [
       "<matplotlib.figure.Figure at 0x2012fe567b8>"
      ]
     },
     "metadata": {},
     "output_type": "display_data"
    }
   ],
   "source": [
    "df_thread[df_thread['ThreadCategory'] == \"Henvendelse\"].boxplot(figsize=(12, 10), vert=False)"
   ]
  },
  {
   "cell_type": "markdown",
   "metadata": {},
   "source": [
    "Looking at the boxplot above as well as the description table, we need to do som furhter investatation, as there are some outliers."
   ]
  },
  {
   "cell_type": "code",
   "execution_count": null,
   "metadata": {},
   "outputs": [],
   "source": [
    "# Looking into the MessageCount\n",
    "col = 'ThreadMessageCount'\n",
    "total = len(df_thread[col])\n",
    "for x in range(2,20):\n",
    "    no_treads = len(df_thread[df_thread[col]==x])\n",
    "    pct_total = no_treads/total\n",
    "    print('{1} Threads with {0} Messages, {2:.2f}% of total'.format(x, no_treads, pct_total))"
   ]
  },
  {
   "cell_type": "code",
   "execution_count": null,
   "metadata": {},
   "outputs": [],
   "source": [
    "# Looking into the MessageCount\n",
    "col = 'RequestProcessTime_Hours'\n",
    "total = len(df_thread[col])\n",
    "for x in range(2,20):\n",
    "    no_treads = len(df_thread[df_thread[col]==x])\n",
    "    pct_total = no_treads/total\n",
    "    print('{1} Threads with process time {0} hours, {2:.2f}% of total'.format(x, no_treads, pct_total))"
   ]
  },
  {
   "cell_type": "code",
   "execution_count": null,
   "metadata": {},
   "outputs": [],
   "source": [
    "# Looking into the MessageCount\n",
    "col = 'RequestProcessTime_Days'\n",
    "total = len(df_thread[col])\n",
    "for x in range(2,20):\n",
    "    no_treads = len(df_thread[df_thread[col]==x])\n",
    "    pct_total = no_treads/total\n",
    "    print('{1} Threads with process time {0} days, {2:.2f}% of total'.format(x, no_treads, pct_total))"
   ]
  },
  {
   "cell_type": "code",
   "execution_count": null,
   "metadata": {},
   "outputs": [],
   "source": [
    "# Looking into the MessageCount\n",
    "col = 'ReqeustContent_CharCount'\n",
    "total = len(df_thread[col])\n",
    "for x in range(200,601, 25):\n",
    "    no_treads = len(df_thread[df_thread[col]<=x])\n",
    "    pct_total = no_treads/total\n",
    "    print('{1} Threads with less than {0} Characters in Request, {2:.2f}% of total'.format(x, no_treads, pct_total))"
   ]
  },
  {
   "cell_type": "code",
   "execution_count": null,
   "metadata": {},
   "outputs": [],
   "source": [
    "%%time\n",
    "def line_plot(df):\n",
    "    fig, ax = plt.subplots(figsize=(18,7))\n",
    "    df.groupby(['Year_Month']).sum()['RequestProcessTime_Hours'].plot(ax=ax)\n",
    "line_plot(df_thread)\n",
    "print(datetime.now())"
   ]
  },
  {
   "cell_type": "code",
   "execution_count": null,
   "metadata": {},
   "outputs": [],
   "source": [
    "%%time\n",
    "def line_plot(df):\n",
    "    fig, ax = plt.subplots(figsize=(18,7))\n",
    "    df.groupby(['Year_Month']).mean()['RequestProcessTime_Hours'].plot(ax=ax)\n",
    "line_plot(df_thread)\n",
    "print(datetime.now())"
   ]
  },
  {
   "cell_type": "code",
   "execution_count": null,
   "metadata": {},
   "outputs": [],
   "source": [
    "%%time\n",
    "def line_plot(df):\n",
    "    fig, ax = plt.subplots(figsize=(18,7))\n",
    "    df.groupby(['Year_Month']).sum()['ThreadMessageCount'].plot(ax=ax)\n",
    "line_plot(df_thread)\n",
    "print(datetime.now())"
   ]
  },
  {
   "cell_type": "code",
   "execution_count": null,
   "metadata": {},
   "outputs": [],
   "source": [
    "%%time\n",
    "def line_plot(df):\n",
    "    fig, ax = plt.subplots(figsize=(18,7))\n",
    "    df.groupby(['Year_Month']).count()['ThreadID'].plot(ax=ax)\n",
    "line_plot(df_thread)\n",
    "print(datetime.now())"
   ]
  },
  {
   "cell_type": "code",
   "execution_count": null,
   "metadata": {},
   "outputs": [],
   "source": [
    "def line_plot(df):\n",
    "    fig, ax = plt.subplots(figsize=(15,7))\n",
    "    df.groupby(['Month']).count()['ThreadID'].plot(ax=ax, kind='bar', color='gray')\n",
    "line_plot(df_thread)"
   ]
  },
  {
   "cell_type": "code",
   "execution_count": null,
   "metadata": {},
   "outputs": [],
   "source": [
    "df_thread['RequestProcessTime_Days'].hist(color='grey', figsize=(14, 8))"
   ]
  },
  {
   "cell_type": "code",
   "execution_count": null,
   "metadata": {},
   "outputs": [],
   "source": [
    "df_thread['Month'].hist(color='grey', figsize=(14, 8))"
   ]
  },
  {
   "cell_type": "code",
   "execution_count": null,
   "metadata": {},
   "outputs": [],
   "source": [
    "# from pandas.plotting import scatter_matrix\n",
    "# scatter_matrix(df_concat, alpha=0.2, figsize=(14, 14), diagonal='kde', color='grey')"
   ]
  },
  {
   "cell_type": "code",
   "execution_count": null,
   "metadata": {},
   "outputs": [],
   "source": [
    "df_thread.head()"
   ]
  },
  {
   "cell_type": "markdown",
   "metadata": {},
   "source": [
    "### 2.1) Split data\n",
    "We split data into the three categories:\n",
    "1. df_emne: This dataframe holds all subjects\n",
    "2. df_first: this dataframe holds the first message from the member - this is the message that we refere to as 'henvendelse'\n",
    "3. df_last: this dataframe holds the last message. This point of this data set is to assemble all messages from 'AKA' that can be used to find the 'right' answer to the first message 'henvendelsen'"
   ]
  },
  {
   "cell_type": "code",
   "execution_count": 9,
   "metadata": {},
   "outputs": [],
   "source": [
    "df_thread = pd.read_pickle('data/AKA_df_thread.pkl')"
   ]
  },
  {
   "cell_type": "code",
   "execution_count": 11,
   "metadata": {},
   "outputs": [
    {
     "name": "stdout",
     "output_type": "stream",
     "text": [
      "There are 217193 rows in dataframe df_subject_aka\n",
      "There are 230579 rows in dataframe df_subject_memb\n",
      "There are 230579 rows in dataframe df_outgoing\n",
      "There are 216695 rows in dataframe df_incoming\n"
     ]
    }
   ],
   "source": [
    "df = df_thread.copy(deep=True)\n",
    "# df = df.drop(['oversat'], axis=1)\n",
    "df_subject_aka = df[(df['ThreadCategory'] == \"Emne\") & (df['pred_label']=='Danish') & (df['ThreadDirection']=='Udgående')]\n",
    "df_subject_memb = df[(df['ThreadCategory'] == \"Emne\") & (df['pred_label']=='Danish') & (df['ThreadDirection']=='Indgående')]\n",
    "df_outgoing = df[(df['ThreadCategory'] == \"Henvendelse\") & (df['pred_label']=='Danish') & (df['ThreadDirection']=='Udgående')]\n",
    "df_incoming = df[(df['ThreadCategory'] == \"Henvendelse\") & (df['pred_label']=='Danish') & (df['ThreadDirection']=='Indgående')]\n",
    "list_df = [df_subject_aka, df_outgoing, df_outgoing,df_incoming]\n",
    "names_df = ['df_subject_aka', 'df_subject_memb', 'df_outgoing','df_incoming']\n",
    "\n",
    "df_dict = dict(zip(names_df, list_df))\n",
    "\n",
    "for k, v in df_dict.items():\n",
    "    print(\"There are {1} rows in dataframe {0}\".format(k, v.shape[0]))"
   ]
  },
  {
   "cell_type": "code",
   "execution_count": null,
   "metadata": {},
   "outputs": [],
   "source": [
    "PlotValueCounts(df_subject,'RequestContent',20)\n",
    "df_subject['RequestContent'].value_counts()[:20,]"
   ]
  },
  {
   "cell_type": "code",
   "execution_count": null,
   "metadata": {},
   "outputs": [],
   "source": [
    "PlotValueCounts(df_request,'ThreadCategory',10)\n",
    "df_request['ThreadCategory'].value_counts()[:10,]"
   ]
  },
  {
   "cell_type": "code",
   "execution_count": null,
   "metadata": {},
   "outputs": [],
   "source": [
    "PlotValueCounts(df_subject,'ThreadDirection',4)\n",
    "df_subject['ThreadDirection'].value_counts()[:4,]"
   ]
  },
  {
   "cell_type": "code",
   "execution_count": null,
   "metadata": {},
   "outputs": [],
   "source": [
    "df_outgoing.isnull().sum()"
   ]
  },
  {
   "cell_type": "markdown",
   "metadata": {},
   "source": [
    "### Investigate data\n",
    "Understand where to make a cut-off, to remove outliers that infliuences final result"
   ]
  },
  {
   "cell_type": "code",
   "execution_count": null,
   "metadata": {},
   "outputs": [],
   "source": [
    "def column_stats(df,column, word_count):\n",
    "#     def inner_map(df[column]):\n",
    "#         result = []\n",
    "#         for \n",
    "    try:\n",
    "        document_lengths = np.array(list(map(len, df[column].str.split(' '))))\n",
    "        fig, ax = plt.subplots(figsize=(15,6))\n",
    "        ax.set_title(\"Distribution of number of words in {}\".format(column), fontsize=16)\n",
    "        ax.set_xlabel(\"Number of words\")\n",
    "        sns.distplot(document_lengths, bins=50, ax=ax);\n",
    "        print(\"The total number of rows in the dataframe is {}\".format(df.shape[0]))\n",
    "        print(\"The total count of words in {} is: {}.\".format(column, np.sum(document_lengths)))\n",
    "        print(\"The average number of words in {} is: {}.\".format(column, np.mean(document_lengths)))\n",
    "        print(\"The minimum number of words in {} is: {}.\".format(column, min(document_lengths)))\n",
    "        print(\"The maximum number of words in {} is: {}.\".format(column, max(document_lengths)))\n",
    "        print(\"There are {} requests in {} with over {} words.\".format(sum(document_lengths > word_count), column, word_count))\n",
    "        print(\"There are {} requests in {} with tops 5 words.\".format(sum(document_lengths <= 5), column))\n",
    "        return document_lengths\n",
    "    except TypeError as e:\n",
    "        print(e, )"
   ]
  },
  {
   "cell_type": "code",
   "execution_count": null,
   "metadata": {},
   "outputs": [],
   "source": [
    "doc_subject_memb = column_stats(df_subject_memb, 'RequestContent', 20)"
   ]
  },
  {
   "cell_type": "code",
   "execution_count": null,
   "metadata": {
    "scrolled": true
   },
   "outputs": [],
   "source": [
    "df_subject_memb = df_subject[doc_subject_memb < 20] # Cutting of at 20\n",
    "doc_subject_memb = column_stats(df_subject_memb, 'RequestContent', 15)"
   ]
  },
  {
   "cell_type": "code",
   "execution_count": null,
   "metadata": {},
   "outputs": [],
   "source": [
    "doc_outgoing = column_stats(df_outgoing, 'RequestContent', 250)"
   ]
  },
  {
   "cell_type": "code",
   "execution_count": null,
   "metadata": {},
   "outputs": [],
   "source": [
    "df_outgoing = df_outgoing[doc_outgoing < 300] # Cutting of at 500\n",
    "doc_outgoing = column_stats(df_outgoing, 'RequestContent', 200)"
   ]
  },
  {
   "cell_type": "code",
   "execution_count": null,
   "metadata": {},
   "outputs": [],
   "source": [
    "doc_request = column_stats(df_request, 'RequestContent', 500)"
   ]
  },
  {
   "cell_type": "code",
   "execution_count": null,
   "metadata": {},
   "outputs": [],
   "source": [
    "# document_lengths = np.array(list(map(len, df_henvendelse['BeskedIndhold_danish'].str.split(' '))))\n",
    "# df_henvendelse['BeskedIndhold_danish'].str.split(' ')"
   ]
  },
  {
   "cell_type": "code",
   "execution_count": null,
   "metadata": {},
   "outputs": [],
   "source": [
    "df_request = df_request[doc_request < 500] # Cutting of at 500\n",
    "doc_request = column_stats(df_request, 'RequestContent', 400)\n",
    "# df[doc_BT <= 6]"
   ]
  },
  {
   "cell_type": "code",
   "execution_count": 44,
   "metadata": {},
   "outputs": [
    {
     "data": {
      "text/plain": [
       "(230579, 29)"
      ]
     },
     "execution_count": 44,
     "metadata": {},
     "output_type": "execute_result"
    }
   ],
   "source": [
    "df_outgoing.shape"
   ]
  },
  {
   "cell_type": "code",
   "execution_count": 12,
   "metadata": {},
   "outputs": [],
   "source": [
    "# Save the data sets\n",
    "df_subject_memb.to_pickle('data/AKA_df_subject_memb.pkl')\n",
    "df_subject_aka.to_pickle('data/AKA_df_subject_aka.pkl')\n",
    "df_outgoing.to_pickle('data/AKA_df_outgoing.pkl')\n",
    "df_incoming.to_pickle('data/AKA_df_incoming.pkl')"
   ]
  },
  {
   "cell_type": "markdown",
   "metadata": {},
   "source": [
    "## Analyze Requests\n",
    "Messages are either\n",
    "- Incoming (from members) or\n",
    "- Outgoing (from aka)\n",
    "All messeages have\n",
    "- subject_field and\n",
    "- message_field\n",
    "\n",
    "In the following we will analyze the different splits of data, with regards to the above:\n",
    "- Incoming_subject\n",
    "- Incoming_message\n",
    "- Outgoing_subject\n",
    "- Outgoing_message"
   ]
  },
  {
   "cell_type": "markdown",
   "metadata": {},
   "source": [
    "### Request Analysis: subject_member"
   ]
  },
  {
   "cell_type": "code",
   "execution_count": 40,
   "metadata": {},
   "outputs": [
    {
     "data": {
      "text/plain": [
       "(161867, 23)"
      ]
     },
     "execution_count": 40,
     "metadata": {},
     "output_type": "execute_result"
    }
   ],
   "source": [
    "# Load the data, and print rows, columns\n",
    "df_subject_memb = pd.read_pickle('data/df_B.pkl')\n",
    "df_subject_memb.shape"
   ]
  },
  {
   "cell_type": "markdown",
   "metadata": {},
   "source": [
    "### 2.2) Tokenize the text"
   ]
  },
  {
   "cell_type": "code",
   "execution_count": 42,
   "metadata": {},
   "outputs": [],
   "source": [
    "analysis_df = df_subject_memb.copy(deep=True)"
   ]
  },
  {
   "cell_type": "code",
   "execution_count": 43,
   "metadata": {},
   "outputs": [],
   "source": [
    "def word_frequency(text_list, num_list, sep=None):\n",
    "    \"\"\"\n",
    "    abs_freq : absolute frequency of the words\n",
    "    abs_perc : \n",
    "    abs_perc_cum : cumulative percenatages of each type of frequency\n",
    "    \"\"\"\n",
    "    from collections import defaultdict\n",
    "    word_freq = defaultdict(lambda: [0, 0])\n",
    "    try:\n",
    "        for text, num in zip(text_list, num_list):\n",
    "            for word in text.split(sep=sep): \n",
    "                word_freq[word][0] += 1 \n",
    "    except AttributeError as e:\n",
    "        print(e, word, text, num)\n",
    "\n",
    "    columns = {0: 'abs_freq'}\n",
    "\n",
    "    abs_wtd_df = (pd.DataFrame.from_dict(word_freq, orient='index')\n",
    "                 .rename(columns=columns )\n",
    "                 .sort_values('abs_freq', ascending=False)\n",
    "#                  .assign(rel_value=lambda df: df['wtd_freq'] / df['abs_freq']).round()\n",
    "                 )\n",
    "\n",
    "    abs_wtd_df.insert(1, 'abs_perc', value=abs_wtd_df['abs_freq'] / abs_wtd_df['abs_freq'].sum())\n",
    "    abs_wtd_df.insert(2, 'abs_perc_cum', abs_wtd_df['abs_perc'].cumsum())\n",
    "    \n",
    "#     abs_wtd_df['word'] = abs_wtd_df.index\n",
    "    abs_wtd_df = abs_wtd_df.reset_index()#level=0, inplace=True)\n",
    "    abs_wtd_df = abs_wtd_df.rename(columns = {'index':'word'})\n",
    "    abs_wtd_df.drop([1], axis=1)\n",
    "\n",
    "    return abs_wtd_df"
   ]
  },
  {
   "cell_type": "code",
   "execution_count": 45,
   "metadata": {
    "scrolled": false
   },
   "outputs": [
    {
     "data": {
      "text/html": [
       "<div>\n",
       "<style scoped>\n",
       "    .dataframe tbody tr th:only-of-type {\n",
       "        vertical-align: middle;\n",
       "    }\n",
       "\n",
       "    .dataframe tbody tr th {\n",
       "        vertical-align: top;\n",
       "    }\n",
       "\n",
       "    .dataframe thead th {\n",
       "        text-align: right;\n",
       "    }\n",
       "</style>\n",
       "<table border=\"1\" class=\"dataframe\">\n",
       "  <thead>\n",
       "    <tr style=\"text-align: right;\">\n",
       "      <th></th>\n",
       "      <th>word</th>\n",
       "      <th>abs_freq</th>\n",
       "      <th>abs_perc</th>\n",
       "      <th>abs_perc_cum</th>\n",
       "      <th>1</th>\n",
       "    </tr>\n",
       "  </thead>\n",
       "  <tbody>\n",
       "    <tr>\n",
       "      <th>0</th>\n",
       "      <td>jeg</td>\n",
       "      <td>583411</td>\n",
       "      <td>0.070167</td>\n",
       "      <td>0.070167</td>\n",
       "      <td>0</td>\n",
       "    </tr>\n",
       "    <tr>\n",
       "      <th>1</th>\n",
       "      <td>har</td>\n",
       "      <td>217687</td>\n",
       "      <td>0.026181</td>\n",
       "      <td>0.096349</td>\n",
       "      <td>0</td>\n",
       "    </tr>\n",
       "    <tr>\n",
       "      <th>2</th>\n",
       "      <td>til</td>\n",
       "      <td>158716</td>\n",
       "      <td>0.019089</td>\n",
       "      <td>0.115438</td>\n",
       "      <td>0</td>\n",
       "    </tr>\n",
       "    <tr>\n",
       "      <th>3</th>\n",
       "      <td>for</td>\n",
       "      <td>138179</td>\n",
       "      <td>0.016619</td>\n",
       "      <td>0.132057</td>\n",
       "      <td>0</td>\n",
       "    </tr>\n",
       "    <tr>\n",
       "      <th>4</th>\n",
       "      <td>det</td>\n",
       "      <td>135153</td>\n",
       "      <td>0.016255</td>\n",
       "      <td>0.148311</td>\n",
       "      <td>0</td>\n",
       "    </tr>\n",
       "    <tr>\n",
       "      <th>5</th>\n",
       "      <td>.</td>\n",
       "      <td>119196</td>\n",
       "      <td>0.014336</td>\n",
       "      <td>0.162647</td>\n",
       "      <td>0</td>\n",
       "    </tr>\n",
       "    <tr>\n",
       "      <th>6</th>\n",
       "      <td>ikke</td>\n",
       "      <td>117447</td>\n",
       "      <td>0.014125</td>\n",
       "      <td>0.176773</td>\n",
       "      <td>0</td>\n",
       "    </tr>\n",
       "    <tr>\n",
       "      <th>7</th>\n",
       "      <td>med</td>\n",
       "      <td>105119</td>\n",
       "      <td>0.012643</td>\n",
       "      <td>0.189415</td>\n",
       "      <td>0</td>\n",
       "    </tr>\n",
       "    <tr>\n",
       "      <th>8</th>\n",
       "      <td>den</td>\n",
       "      <td>103090</td>\n",
       "      <td>0.012399</td>\n",
       "      <td>0.201814</td>\n",
       "      <td>0</td>\n",
       "    </tr>\n",
       "    <tr>\n",
       "      <th>9</th>\n",
       "      <td>min</td>\n",
       "      <td>90532</td>\n",
       "      <td>0.010888</td>\n",
       "      <td>0.212703</td>\n",
       "      <td>0</td>\n",
       "    </tr>\n",
       "    <tr>\n",
       "      <th>10</th>\n",
       "      <td>kan</td>\n",
       "      <td>87350</td>\n",
       "      <td>0.010506</td>\n",
       "      <td>0.223208</td>\n",
       "      <td>0</td>\n",
       "    </tr>\n",
       "    <tr>\n",
       "      <th>11</th>\n",
       "      <td>fra</td>\n",
       "      <td>71627</td>\n",
       "      <td>0.008615</td>\n",
       "      <td>0.231823</td>\n",
       "      <td>0</td>\n",
       "    </tr>\n",
       "    <tr>\n",
       "      <th>12</th>\n",
       "      <td>som</td>\n",
       "      <td>71127</td>\n",
       "      <td>0.008555</td>\n",
       "      <td>0.240377</td>\n",
       "      <td>0</td>\n",
       "    </tr>\n",
       "    <tr>\n",
       "      <th>13</th>\n",
       "      <td>skal</td>\n",
       "      <td>70034</td>\n",
       "      <td>0.008423</td>\n",
       "      <td>0.248800</td>\n",
       "      <td>0</td>\n",
       "    </tr>\n",
       "    <tr>\n",
       "      <th>14</th>\n",
       "      <td>der</td>\n",
       "      <td>59586</td>\n",
       "      <td>0.007166</td>\n",
       "      <td>0.255967</td>\n",
       "      <td>0</td>\n",
       "    </tr>\n",
       "    <tr>\n",
       "      <th>15</th>\n",
       "      <td>the</td>\n",
       "      <td>59127</td>\n",
       "      <td>0.007111</td>\n",
       "      <td>0.263078</td>\n",
       "      <td>0</td>\n",
       "    </tr>\n",
       "    <tr>\n",
       "      <th>16</th>\n",
       "      <td>mig</td>\n",
       "      <td>56118</td>\n",
       "      <td>0.006749</td>\n",
       "      <td>0.269827</td>\n",
       "      <td>0</td>\n",
       "    </tr>\n",
       "    <tr>\n",
       "      <th>17</th>\n",
       "      <td>,</td>\n",
       "      <td>54610</td>\n",
       "      <td>0.006568</td>\n",
       "      <td>0.276395</td>\n",
       "      <td>0</td>\n",
       "    </tr>\n",
       "    <tr>\n",
       "      <th>18</th>\n",
       "      <td>vil</td>\n",
       "      <td>52999</td>\n",
       "      <td>0.006374</td>\n",
       "      <td>0.282770</td>\n",
       "      <td>0</td>\n",
       "    </tr>\n",
       "    <tr>\n",
       "      <th>19</th>\n",
       "      <td>men</td>\n",
       "      <td>50438</td>\n",
       "      <td>0.006066</td>\n",
       "      <td>0.288836</td>\n",
       "      <td>0</td>\n",
       "    </tr>\n",
       "    <tr>\n",
       "      <th>20</th>\n",
       "      <td>have</td>\n",
       "      <td>41608</td>\n",
       "      <td>0.005004</td>\n",
       "      <td>0.293840</td>\n",
       "      <td>0</td>\n",
       "    </tr>\n",
       "    <tr>\n",
       "      <th>21</th>\n",
       "      <td>mit</td>\n",
       "      <td>38492</td>\n",
       "      <td>0.004629</td>\n",
       "      <td>0.298470</td>\n",
       "      <td>0</td>\n",
       "    </tr>\n",
       "    <tr>\n",
       "      <th>22</th>\n",
       "      <td>-</td>\n",
       "      <td>38481</td>\n",
       "      <td>0.004628</td>\n",
       "      <td>0.303098</td>\n",
       "      <td>0</td>\n",
       "    </tr>\n",
       "    <tr>\n",
       "      <th>23</th>\n",
       "      <td>/</td>\n",
       "      <td>36455</td>\n",
       "      <td>0.004384</td>\n",
       "      <td>0.307482</td>\n",
       "      <td>0</td>\n",
       "    </tr>\n",
       "    <tr>\n",
       "      <th>24</th>\n",
       "      <td>eller</td>\n",
       "      <td>29536</td>\n",
       "      <td>0.003552</td>\n",
       "      <td>0.311035</td>\n",
       "      <td>0</td>\n",
       "    </tr>\n",
       "    <tr>\n",
       "      <th>25</th>\n",
       "      <td>and</td>\n",
       "      <td>27889</td>\n",
       "      <td>0.003354</td>\n",
       "      <td>0.314389</td>\n",
       "      <td>0</td>\n",
       "    </tr>\n",
       "    <tr>\n",
       "      <th>26</th>\n",
       "      <td>fået</td>\n",
       "      <td>27887</td>\n",
       "      <td>0.003354</td>\n",
       "      <td>0.317743</td>\n",
       "      <td>0</td>\n",
       "    </tr>\n",
       "    <tr>\n",
       "      <th>27</th>\n",
       "      <td>hvis</td>\n",
       "      <td>27782</td>\n",
       "      <td>0.003341</td>\n",
       "      <td>0.321084</td>\n",
       "      <td>0</td>\n",
       "    </tr>\n",
       "    <tr>\n",
       "      <th>28</th>\n",
       "      <td>var</td>\n",
       "      <td>27140</td>\n",
       "      <td>0.003264</td>\n",
       "      <td>0.324348</td>\n",
       "      <td>0</td>\n",
       "    </tr>\n",
       "    <tr>\n",
       "      <th>29</th>\n",
       "      <td>derfor</td>\n",
       "      <td>27050</td>\n",
       "      <td>0.003253</td>\n",
       "      <td>0.327602</td>\n",
       "      <td>0</td>\n",
       "    </tr>\n",
       "  </tbody>\n",
       "</table>\n",
       "</div>"
      ],
      "text/plain": [
       "      word  abs_freq  abs_perc  abs_perc_cum  1\n",
       "0      jeg    583411  0.070167      0.070167  0\n",
       "1      har    217687  0.026181      0.096349  0\n",
       "2      til    158716  0.019089      0.115438  0\n",
       "3      for    138179  0.016619      0.132057  0\n",
       "4      det    135153  0.016255      0.148311  0\n",
       "5        .    119196  0.014336      0.162647  0\n",
       "6     ikke    117447  0.014125      0.176773  0\n",
       "7      med    105119  0.012643      0.189415  0\n",
       "8      den    103090  0.012399      0.201814  0\n",
       "9      min     90532  0.010888      0.212703  0\n",
       "10     kan     87350  0.010506      0.223208  0\n",
       "11     fra     71627  0.008615      0.231823  0\n",
       "12     som     71127  0.008555      0.240377  0\n",
       "13    skal     70034  0.008423      0.248800  0\n",
       "14     der     59586  0.007166      0.255967  0\n",
       "15     the     59127  0.007111      0.263078  0\n",
       "16     mig     56118  0.006749      0.269827  0\n",
       "17       ,     54610  0.006568      0.276395  0\n",
       "18     vil     52999  0.006374      0.282770  0\n",
       "19     men     50438  0.006066      0.288836  0\n",
       "20    have     41608  0.005004      0.293840  0\n",
       "21     mit     38492  0.004629      0.298470  0\n",
       "22       -     38481  0.004628      0.303098  0\n",
       "23       /     36455  0.004384      0.307482  0\n",
       "24   eller     29536  0.003552      0.311035  0\n",
       "25     and     27889  0.003354      0.314389  0\n",
       "26    fået     27887  0.003354      0.317743  0\n",
       "27    hvis     27782  0.003341      0.321084  0\n",
       "28     var     27140  0.003264      0.324348  0\n",
       "29  derfor     27050  0.003253      0.327602  0"
      ]
     },
     "execution_count": 45,
     "metadata": {},
     "output_type": "execute_result"
    }
   ],
   "source": [
    "df_wrd_feq = word_frequency(analysis_df['ThreadMessageText'], analysis_df['ThreadSubject'])\n",
    "df_wrd_feq.head(30)"
   ]
  },
  {
   "cell_type": "code",
   "execution_count": 46,
   "metadata": {},
   "outputs": [],
   "source": [
    "selected_column = 'tokenized_text' # 'stopwords_removed' # \n",
    "tokenized_only_dict = Counter(np.concatenate(analysis_df[selected_column].values))\n",
    "tokenized_only_df = pd.DataFrame.from_dict(tokenized_only_dict, orient='index')\n",
    "tokenized_only_df.rename(columns={0: 'count'}, inplace=True)"
   ]
  },
  {
   "cell_type": "code",
   "execution_count": 47,
   "metadata": {},
   "outputs": [],
   "source": [
    "tokenized_only_df.sort_values('count', ascending=False, inplace=True)"
   ]
  },
  {
   "cell_type": "code",
   "execution_count": 48,
   "metadata": {},
   "outputs": [
    {
     "data": {
      "image/png": "[encoded data removed]",
      "text/plain": [
       "<Figure size 1440x360 with 1 Axes>"
      ]
     },
     "metadata": {
      "needs_background": "light"
     },
     "output_type": "display_data"
    }
   ],
   "source": [
    "# I made a function out of this since I will use it again later on \n",
    "def word_frequency_barplot(df, nr_top_words=50):\n",
    "    \"\"\" df should have a column named count.\n",
    "    \"\"\"\n",
    "    fig, ax = plt.subplots(1,1,figsize=(20,5))\n",
    "\n",
    "    sns.barplot(list(range(nr_top_words)), df['count'].values[:nr_top_words], palette='hls', ax=ax)\n",
    "\n",
    "    ax.set_xticks(list(range(nr_top_words)))\n",
    "    ax.set_xticklabels(df.index[:nr_top_words], fontsize=14, rotation=90)\n",
    "    return ax\n",
    "    \n",
    "ax = word_frequency_barplot(tokenized_only_df)\n",
    "ax.set_title(\"Word Frequencies\", fontsize=16);"
   ]
  },
  {
   "cell_type": "markdown",
   "metadata": {},
   "source": [
    "### 2.3) Remove words that mean little\n",
    "As stated above, words the have little meaning to the model are words we'd like to remove. Moreover, these words can create noise which can make it harder to classify the texts later on."
   ]
  },
  {
   "cell_type": "code",
   "execution_count": 54,
   "metadata": {},
   "outputs": [],
   "source": [
    "# remove_stopwords(analysis_df)"
   ]
  },
  {
   "cell_type": "markdown",
   "metadata": {},
   "source": [
    "### 2.4) Stemming\n",
    "For the stemming part, we'll start with lemmatization, this will stem words like leaves to leaf. Afterwards, we'll apply the porterstemmer which in turn will complete the stemming by converting words like running to run."
   ]
  },
  {
   "cell_type": "code",
   "execution_count": 55,
   "metadata": {},
   "outputs": [],
   "source": [
    "# stem_words(analysis_df)"
   ]
  },
  {
   "cell_type": "code",
   "execution_count": 49,
   "metadata": {},
   "outputs": [
    {
     "name": "stdout",
     "output_type": "stream",
     "text": [
      "['ThreadID' 'ThreadCreatedFromLetter' 'ThreadTotalMessageCount'\n",
      " 'ThreadStatus' 'ThreadSubject' 'ThreadResponsibleDepartment'\n",
      " 'ThreadResponsibleDepartmentTeam' 'ThreadHasInteraction'\n",
      " 'ThreadInitiatedBy' 'ThreadMessageRank'\n",
      " 'ThreadMessageIsFirstMemberMessage' 'ThreadMessageIsFirstAKAMessage'\n",
      " 'ThreadMessageID' 'ThreadMessageDirection' 'ThreadMessageDateCreated'\n",
      " 'ThreadMessageText' 'CharCount_ThreadMessageText' 'LessThan5000' 'text'\n",
      " 'tokenized_text' 'stopwords_removed' 'lemmatized_text' 'stemmed_text']\n"
     ]
    }
   ],
   "source": [
    "print((analysis_df.columns.values))\n",
    "# analytics['text','stopwords_removed',]"
   ]
  },
  {
   "cell_type": "markdown",
   "metadata": {},
   "source": [
    "### 2.5) Vectorize words\n",
    "Here we create a dictionary for the model. Since a computer can't reallly understand what a word means, we need to transform it into some number the model will be able to work with. We use gensim.corpora.Dictionary for this."
   ]
  },
  {
   "cell_type": "code",
   "execution_count": 50,
   "metadata": {},
   "outputs": [
    {
     "name": "stdout",
     "output_type": "stream",
     "text": [
      "Found 124632 words.\n"
     ]
    }
   ],
   "source": [
    "dictionary = Dictionary(documents=analysis_df.stemmed_text.values)\n",
    "\n",
    "print(\"Found {} words.\".format(len(dictionary.values())))"
   ]
  },
  {
   "cell_type": "markdown",
   "metadata": {},
   "source": [
    "#### Parameters:\t\n",
    "- **no_below** (int, optional) – Keep tokens which are contained in at least no_below documents.\n",
    "- **no_above** (float, optional) – Keep tokens which are contained in no more than no_above documents (fraction of total corpus size, not an absolute number).\n",
    "- **keep_n** (int, optional) – Keep only the first keep_n most frequent tokens.\n",
    "- **keep_tokens** (iterable of str) – Iterable of tokens that must stay in dictionary after filtering."
   ]
  },
  {
   "cell_type": "code",
   "execution_count": 51,
   "metadata": {},
   "outputs": [
    {
     "name": "stdout",
     "output_type": "stream",
     "text": [
      "Left with 500 words.\n"
     ]
    }
   ],
   "source": [
    "# dictionary.filter_extremes(no_above=0.8, no_below=3)\n",
    "dictionary.filter_extremes(keep_n=500)\n",
    "\n",
    "dictionary.compactify()  # Reindexes the remaining words after filtering\n",
    "print(\"Left with {} words.\".format(len(dictionary.values())))"
   ]
  },
  {
   "cell_type": "code",
   "execution_count": 52,
   "metadata": {},
   "outputs": [],
   "source": [
    "top_words = [v for v in dictionary.values()]"
   ]
  },
  {
   "cell_type": "code",
   "execution_count": 53,
   "metadata": {},
   "outputs": [
    {
     "name": "stdout",
     "output_type": "stream",
     "text": [
      "Left with 500 words.\n"
     ]
    }
   ],
   "source": [
    "print(\"Left with {} words.\".format(len(top_words)))"
   ]
  },
  {
   "cell_type": "code",
   "execution_count": 54,
   "metadata": {},
   "outputs": [],
   "source": [
    "#Make a BoW for every Besked\n",
    "def document_to_bow(df):\n",
    "    df['bow'] = list(map(lambda doc: dictionary.doc2bow(doc), df.stemmed_text))\n",
    "    \n",
    "document_to_bow(analysis_df)"
   ]
  },
  {
   "cell_type": "code",
   "execution_count": 55,
   "metadata": {},
   "outputs": [],
   "source": [
    "#Make a dictionary_stem_text for every Besked\n",
    "# def document_to_bow(df):\n",
    "#     df['dictionary_stem_text'] = list(map(lambda doc: dictionary.doc2bow(doc), df.stemmed_text))\n",
    "    \n",
    "# document_to_bow(analysis_df)"
   ]
  },
  {
   "cell_type": "code",
   "execution_count": 56,
   "metadata": {},
   "outputs": [],
   "source": [
    "def lda_preprocessing(df):\n",
    "    \"\"\" All the preprocessing steps for LDA are combined in this function.\n",
    "    All mutations are done on the dataframe itself. So this function returns\n",
    "    nothing.\n",
    "    \"\"\"\n",
    "    lda_get_good_tokens(df)\n",
    "    remove_stopwords(df)\n",
    "    stem_words(df)\n",
    "    document_to_bow(df)"
   ]
  },
  {
   "cell_type": "markdown",
   "metadata": {},
   "source": [
    "### Visualize the cleansed words frequencies\n",
    "Excellent! We cleansed our data and are ready to continue with LDA Analysis and Word2Vec, but before we do that, I would like to visualize the cleansed results and see what we created so far."
   ]
  },
  {
   "cell_type": "code",
   "execution_count": 57,
   "metadata": {},
   "outputs": [],
   "source": [
    "cleansed_words_df = pd.DataFrame.from_dict(dictionary.token2id, orient='index')\n",
    "cleansed_words_df.rename(columns={0: 'id'}, inplace=True)"
   ]
  },
  {
   "cell_type": "code",
   "execution_count": 58,
   "metadata": {},
   "outputs": [],
   "source": [
    "cleansed_words_df['count'] = list(map(lambda id_: dictionary.dfs.get(id_), cleansed_words_df.id))\n",
    "del cleansed_words_df['id']"
   ]
  },
  {
   "cell_type": "code",
   "execution_count": 59,
   "metadata": {},
   "outputs": [],
   "source": [
    "cleansed_words_df.sort_values('count', ascending=False, inplace=True)"
   ]
  },
  {
   "cell_type": "code",
   "execution_count": 60,
   "metadata": {},
   "outputs": [
    {
     "data": {
      "image/png": "[encoded data removed]",
      "text/plain": [
       "<Figure size 1440x360 with 1 Axes>"
      ]
     },
     "metadata": {
      "needs_background": "light"
     },
     "output_type": "display_data"
    }
   ],
   "source": [
    "ax = word_frequency_barplot(cleansed_words_df)\n",
    "ax.set_title(\"Request Frequencies (Number of Requests a word appears in)\", fontsize=16);"
   ]
  },
  {
   "cell_type": "code",
   "execution_count": 61,
   "metadata": {},
   "outputs": [
    {
     "ename": "ModuleNotFoundError",
     "evalue": "No module named 'openpyxl'",
     "output_type": "error",
     "traceback": [
      "\u001b[1;31m---------------------------------------------------------------------------\u001b[0m",
      "\u001b[1;31mModuleNotFoundError\u001b[0m                       Traceback (most recent call last)",
      "\u001b[1;32m<ipython-input-61-55ead686afdf>\u001b[0m in \u001b[0;36m<module>\u001b[1;34m()\u001b[0m\n\u001b[1;32m----> 1\u001b[1;33m \u001b[0mcleansed_words_df\u001b[0m\u001b[1;33m.\u001b[0m\u001b[0mto_excel\u001b[0m\u001b[1;33m(\u001b[0m\u001b[1;34m'data/AKA_top500.xlsx'\u001b[0m\u001b[1;33m)\u001b[0m\u001b[1;33m\u001b[0m\u001b[0m\n\u001b[0m",
      "\u001b[1;32mC:\\ProgramData\\Anaconda3\\envs\\akademikernes_diagnostic\\lib\\site-packages\\pandas\\core\\frame.py\u001b[0m in \u001b[0;36mto_excel\u001b[1;34m(self, excel_writer, sheet_name, na_rep, float_format, columns, header, index, index_label, startrow, startcol, engine, merge_cells, encoding, inf_rep, verbose, freeze_panes)\u001b[0m\n\u001b[0;32m   1764\u001b[0m         formatter.write(excel_writer, sheet_name=sheet_name, startrow=startrow,\n\u001b[0;32m   1765\u001b[0m                         \u001b[0mstartcol\u001b[0m\u001b[1;33m=\u001b[0m\u001b[0mstartcol\u001b[0m\u001b[1;33m,\u001b[0m \u001b[0mfreeze_panes\u001b[0m\u001b[1;33m=\u001b[0m\u001b[0mfreeze_panes\u001b[0m\u001b[1;33m,\u001b[0m\u001b[1;33m\u001b[0m\u001b[0m\n\u001b[1;32m-> 1766\u001b[1;33m                         engine=engine)\n\u001b[0m\u001b[0;32m   1767\u001b[0m \u001b[1;33m\u001b[0m\u001b[0m\n\u001b[0;32m   1768\u001b[0m     def to_stata(self, fname, convert_dates=None, write_index=True,\n",
      "\u001b[1;32mC:\\ProgramData\\Anaconda3\\envs\\akademikernes_diagnostic\\lib\\site-packages\\pandas\\io\\formats\\excel.py\u001b[0m in \u001b[0;36mwrite\u001b[1;34m(self, writer, sheet_name, startrow, startcol, freeze_panes, engine)\u001b[0m\n\u001b[0;32m    644\u001b[0m             \u001b[0mneed_save\u001b[0m \u001b[1;33m=\u001b[0m \u001b[1;32mFalse\u001b[0m\u001b[1;33m\u001b[0m\u001b[0m\n\u001b[0;32m    645\u001b[0m         \u001b[1;32melse\u001b[0m\u001b[1;33m:\u001b[0m\u001b[1;33m\u001b[0m\u001b[0m\n\u001b[1;32m--> 646\u001b[1;33m             \u001b[0mwriter\u001b[0m \u001b[1;33m=\u001b[0m \u001b[0mExcelWriter\u001b[0m\u001b[1;33m(\u001b[0m\u001b[0m_stringify_path\u001b[0m\u001b[1;33m(\u001b[0m\u001b[0mwriter\u001b[0m\u001b[1;33m)\u001b[0m\u001b[1;33m,\u001b[0m \u001b[0mengine\u001b[0m\u001b[1;33m=\u001b[0m\u001b[0mengine\u001b[0m\u001b[1;33m)\u001b[0m\u001b[1;33m\u001b[0m\u001b[0m\n\u001b[0m\u001b[0;32m    647\u001b[0m             \u001b[0mneed_save\u001b[0m \u001b[1;33m=\u001b[0m \u001b[1;32mTrue\u001b[0m\u001b[1;33m\u001b[0m\u001b[0m\n\u001b[0;32m    648\u001b[0m \u001b[1;33m\u001b[0m\u001b[0m\n",
      "\u001b[1;32mC:\\ProgramData\\Anaconda3\\envs\\akademikernes_diagnostic\\lib\\site-packages\\pandas\\io\\excel.py\u001b[0m in \u001b[0;36m__init__\u001b[1;34m(self, path, engine, **engine_kwargs)\u001b[0m\n\u001b[0;32m    996\u001b[0m     \u001b[1;32mdef\u001b[0m \u001b[0m__init__\u001b[0m\u001b[1;33m(\u001b[0m\u001b[0mself\u001b[0m\u001b[1;33m,\u001b[0m \u001b[0mpath\u001b[0m\u001b[1;33m,\u001b[0m \u001b[0mengine\u001b[0m\u001b[1;33m=\u001b[0m\u001b[1;32mNone\u001b[0m\u001b[1;33m,\u001b[0m \u001b[1;33m**\u001b[0m\u001b[0mengine_kwargs\u001b[0m\u001b[1;33m)\u001b[0m\u001b[1;33m:\u001b[0m\u001b[1;33m\u001b[0m\u001b[0m\n\u001b[0;32m    997\u001b[0m         \u001b[1;31m# Use the openpyxl module as the Excel writer.\u001b[0m\u001b[1;33m\u001b[0m\u001b[1;33m\u001b[0m\u001b[0m\n\u001b[1;32m--> 998\u001b[1;33m         \u001b[1;32mfrom\u001b[0m \u001b[0mopenpyxl\u001b[0m\u001b[1;33m.\u001b[0m\u001b[0mworkbook\u001b[0m \u001b[1;32mimport\u001b[0m \u001b[0mWorkbook\u001b[0m\u001b[1;33m\u001b[0m\u001b[0m\n\u001b[0m\u001b[0;32m    999\u001b[0m \u001b[1;33m\u001b[0m\u001b[0m\n\u001b[0;32m   1000\u001b[0m         \u001b[0msuper\u001b[0m\u001b[1;33m(\u001b[0m\u001b[0m_OpenpyxlWriter\u001b[0m\u001b[1;33m,\u001b[0m \u001b[0mself\u001b[0m\u001b[1;33m)\u001b[0m\u001b[1;33m.\u001b[0m\u001b[0m__init__\u001b[0m\u001b[1;33m(\u001b[0m\u001b[0mpath\u001b[0m\u001b[1;33m,\u001b[0m \u001b[1;33m**\u001b[0m\u001b[0mengine_kwargs\u001b[0m\u001b[1;33m)\u001b[0m\u001b[1;33m\u001b[0m\u001b[0m\n",
      "\u001b[1;31mModuleNotFoundError\u001b[0m: No module named 'openpyxl'"
     ]
    }
   ],
   "source": [
    "cleansed_words_df.to_excel('data/AKA_top500.xlsx')"
   ]
  },
  {
   "cell_type": "markdown",
   "metadata": {},
   "source": [
    "## Find Optimal number of topics for LDA"
   ]
  },
  {
   "cell_type": "markdown",
   "metadata": {},
   "source": [
    "#### K-means Elbow method"
   ]
  },
  {
   "cell_type": "code",
   "execution_count": 62,
   "metadata": {},
   "outputs": [],
   "source": [
    "from gensim import corpora\n",
    "from sklearn.feature_extraction.text import TfidfVectorizer, CountVectorizer\n",
    "\n",
    "from sklearn.cluster import KMeans\n",
    "from sklearn import metrics\n",
    "from scipy.spatial.distance import cdist"
   ]
  },
  {
   "cell_type": "code",
   "execution_count": 63,
   "metadata": {},
   "outputs": [],
   "source": [
    "sample_size=5000"
   ]
  },
  {
   "cell_type": "code",
   "execution_count": 64,
   "metadata": {},
   "outputs": [],
   "source": [
    "df_elbow = analysis_df.sample(sample_size, random_state=1)"
   ]
  },
  {
   "cell_type": "code",
   "execution_count": 65,
   "metadata": {},
   "outputs": [],
   "source": [
    "# df_elbow.to_pickle('data/AKA_df_elbow.pkl')"
   ]
  },
  {
   "cell_type": "code",
   "execution_count": 66,
   "metadata": {},
   "outputs": [],
   "source": [
    "# df_elbow = pd.read_pickle('data/AKA_df_subject_memb.pkl')"
   ]
  },
  {
   "cell_type": "code",
   "execution_count": 67,
   "metadata": {},
   "outputs": [
    {
     "data": {
      "text/plain": [
       "['ThreadID',\n",
       " 'ThreadCreatedFromLetter',\n",
       " 'ThreadTotalMessageCount',\n",
       " 'ThreadStatus',\n",
       " 'ThreadSubject',\n",
       " 'ThreadResponsibleDepartment',\n",
       " 'ThreadResponsibleDepartmentTeam',\n",
       " 'ThreadHasInteraction',\n",
       " 'ThreadInitiatedBy',\n",
       " 'ThreadMessageRank',\n",
       " 'ThreadMessageIsFirstMemberMessage',\n",
       " 'ThreadMessageIsFirstAKAMessage',\n",
       " 'ThreadMessageID',\n",
       " 'ThreadMessageDirection',\n",
       " 'ThreadMessageDateCreated',\n",
       " 'ThreadMessageText',\n",
       " 'CharCount_ThreadMessageText',\n",
       " 'LessThan5000',\n",
       " 'text',\n",
       " 'tokenized_text',\n",
       " 'stopwords_removed',\n",
       " 'lemmatized_text',\n",
       " 'stemmed_text',\n",
       " 'bow']"
      ]
     },
     "execution_count": 67,
     "metadata": {},
     "output_type": "execute_result"
    }
   ],
   "source": [
    "list(df_elbow.columns.values)"
   ]
  },
  {
   "cell_type": "code",
   "execution_count": 68,
   "metadata": {},
   "outputs": [
    {
     "data": {
      "text/html": [
       "<div>\n",
       "<style scoped>\n",
       "    .dataframe tbody tr th:only-of-type {\n",
       "        vertical-align: middle;\n",
       "    }\n",
       "\n",
       "    .dataframe tbody tr th {\n",
       "        vertical-align: top;\n",
       "    }\n",
       "\n",
       "    .dataframe thead th {\n",
       "        text-align: right;\n",
       "    }\n",
       "</style>\n",
       "<table border=\"1\" class=\"dataframe\">\n",
       "  <thead>\n",
       "    <tr style=\"text-align: right;\">\n",
       "      <th></th>\n",
       "      <th>ThreadID</th>\n",
       "      <th>ThreadCreatedFromLetter</th>\n",
       "      <th>ThreadTotalMessageCount</th>\n",
       "      <th>ThreadStatus</th>\n",
       "      <th>ThreadSubject</th>\n",
       "      <th>ThreadResponsibleDepartment</th>\n",
       "      <th>ThreadResponsibleDepartmentTeam</th>\n",
       "      <th>ThreadHasInteraction</th>\n",
       "      <th>ThreadInitiatedBy</th>\n",
       "      <th>ThreadMessageRank</th>\n",
       "      <th>...</th>\n",
       "      <th>ThreadMessageDateCreated</th>\n",
       "      <th>ThreadMessageText</th>\n",
       "      <th>CharCount_ThreadMessageText</th>\n",
       "      <th>LessThan5000</th>\n",
       "      <th>text</th>\n",
       "      <th>tokenized_text</th>\n",
       "      <th>stopwords_removed</th>\n",
       "      <th>lemmatized_text</th>\n",
       "      <th>stemmed_text</th>\n",
       "      <th>bow</th>\n",
       "    </tr>\n",
       "  </thead>\n",
       "  <tbody>\n",
       "    <tr>\n",
       "      <th>725075</th>\n",
       "      <td>29E6C0AA-7789-E611-B263-005056AD2D14</td>\n",
       "      <td>0</td>\n",
       "      <td>2</td>\n",
       "      <td>Fuldført</td>\n",
       "      <td>Status som ledig?</td>\n",
       "      <td>Forsikring</td>\n",
       "      <td>Udbetalingsteam 1 - CPR 01 til 10</td>\n",
       "      <td>1</td>\n",
       "      <td>Member</td>\n",
       "      <td>1</td>\n",
       "      <td>...</td>\n",
       "      <td>2016-10-03 14:42:59</td>\n",
       "      <td>ved fejl kom jeg til stå som ledig jobnet., hv...</td>\n",
       "      <td>322</td>\n",
       "      <td>True</td>\n",
       "      <td>ved fejl kom jeg til stå som ledig jobnet., hv...</td>\n",
       "      <td>[ved, fejl, kom, jeg, til, stå, som, ledig, jo...</td>\n",
       "      <td>[fejl, stå, ledig, jobnet, stod, sende, ledigh...</td>\n",
       "      <td>[fejl, stå, ledig, jobnet, stod, sende, ledigh...</td>\n",
       "      <td>[fejl, stå, ledig, jobnet, stod, send, ledighe...</td>\n",
       "      <td>[(10, 5), (13, 1), (33, 2), (35, 1), (47, 2), ...</td>\n",
       "    </tr>\n",
       "    <tr>\n",
       "      <th>334947</th>\n",
       "      <td>D7BFA427-EFDF-E711-8CAD-005056AD2D14</td>\n",
       "      <td>0</td>\n",
       "      <td>2</td>\n",
       "      <td>Fuldført</td>\n",
       "      <td>Uddannelse</td>\n",
       "      <td>Forsikring</td>\n",
       "      <td>Medlemskabsteam</td>\n",
       "      <td>1</td>\n",
       "      <td>Member</td>\n",
       "      <td>1</td>\n",
       "      <td>...</td>\n",
       "      <td>2017-12-13 10:20:02</td>\n",
       "      <td>hej, jeg kommet ind kandidat som starter febru...</td>\n",
       "      <td>169</td>\n",
       "      <td>True</td>\n",
       "      <td>hej, jeg kommet ind kandidat som starter febru...</td>\n",
       "      <td>[hej, jeg, kommet, ind, kandidat, som, starter...</td>\n",
       "      <td>[kommet, kandidat, starter, februar, ringede, ...</td>\n",
       "      <td>[kommet, kandidat, starter, februar, ringede, ...</td>\n",
       "      <td>[kommet, kandidat, starter, februar, ringed, g...</td>\n",
       "      <td>[(22, 1), (41, 1), (158, 1), (179, 1), (293, 1...</td>\n",
       "    </tr>\n",
       "    <tr>\n",
       "      <th>531039</th>\n",
       "      <td>57850659-F6FD-E611-AC9F-005056AD2D14</td>\n",
       "      <td>0</td>\n",
       "      <td>2</td>\n",
       "      <td>Fuldført</td>\n",
       "      <td>nyt skattekort gældende fra 26.2</td>\n",
       "      <td>Forsikring</td>\n",
       "      <td>Udbetalingsteam 2 - CPR 11 til 20</td>\n",
       "      <td>1</td>\n",
       "      <td>Member</td>\n",
       "      <td>1</td>\n",
       "      <td>...</td>\n",
       "      <td>2017-02-28 20:42:07</td>\n",
       "      <td>jeg har fået nyt skattekort gældende fra .., h...</td>\n",
       "      <td>134</td>\n",
       "      <td>True</td>\n",
       "      <td>jeg har fået nyt skattekort gældende fra .., h...</td>\n",
       "      <td>[jeg, har, fået, nyt, skattekort, gældende, fr...</td>\n",
       "      <td>[fået, skattekort, gældende, håber, bruges, be...</td>\n",
       "      <td>[fået, skattekort, gældende, håber, bruges, be...</td>\n",
       "      <td>[fået, skattekort, gældend, håber, bruge, beta...</td>\n",
       "      <td>[(11, 1), (28, 1), (39, 1), (91, 1), (160, 1),...</td>\n",
       "    </tr>\n",
       "    <tr>\n",
       "      <th>27722</th>\n",
       "      <td>932D6A22-6623-E611-8BE5-0050569118B0</td>\n",
       "      <td>1</td>\n",
       "      <td>2</td>\n",
       "      <td>Fuldført</td>\n",
       "      <td>Du kan få supplerende dagpenge med arbejde på ...</td>\n",
       "      <td>Forsikring</td>\n",
       "      <td>Udbetalingsteam 1 - CPR 01 til 10</td>\n",
       "      <td>1</td>\n",
       "      <td>Member</td>\n",
       "      <td>1</td>\n",
       "      <td>...</td>\n",
       "      <td>2016-05-26 17:20:31</td>\n",
       "      <td>måske dette bare automatisk mail, men jeg har ...</td>\n",
       "      <td>59</td>\n",
       "      <td>True</td>\n",
       "      <td>måske dette bare automatisk mail, men jeg har ...</td>\n",
       "      <td>[måske, dette, bare, automatisk, mail, men, je...</td>\n",
       "      <td>[automatisk, mail, fået, arbejde]</td>\n",
       "      <td>[automatisk, mail, fået, arbejde]</td>\n",
       "      <td>[automatisk, mail, fået, arbejd]</td>\n",
       "      <td>[(28, 1), (29, 1), (164, 1), (446, 1)]</td>\n",
       "    </tr>\n",
       "    <tr>\n",
       "      <th>844330</th>\n",
       "      <td>BFCAE8E4-15A3-E711-B45B-005056AD2D14</td>\n",
       "      <td>0</td>\n",
       "      <td>3</td>\n",
       "      <td>Fuldført</td>\n",
       "      <td>att. medlemsskabsafdeling - nyuddannet</td>\n",
       "      <td>Forsikring</td>\n",
       "      <td>Medlemskabsteam</td>\n",
       "      <td>1</td>\n",
       "      <td>Member</td>\n",
       "      <td>1</td>\n",
       "      <td>...</td>\n",
       "      <td>2017-09-26 23:53:38</td>\n",
       "      <td>. /  /  2017 fik jeg vide jer over telefonen, ...</td>\n",
       "      <td>978</td>\n",
       "      <td>True</td>\n",
       "      <td>. /  /  2017 fik jeg vide jer over telefonen, ...</td>\n",
       "      <td>[fik, jeg, vide, jer, over, telefonen, selvom,...</td>\n",
       "      <td>[vide, telefonen, nået, melde, indenfor, uger,...</td>\n",
       "      <td>[vide, telefonen, nået, melde, indenfor, uger,...</td>\n",
       "      <td>[vide, telefonen, nået, meld, indenfor, uger, ...</td>\n",
       "      <td>[(13, 1), (16, 1), (20, 1), (54, 1), (66, 3), ...</td>\n",
       "    </tr>\n",
       "  </tbody>\n",
       "</table>\n",
       "<p>5 rows × 24 columns</p>\n",
       "</div>"
      ],
      "text/plain": [
       "                                    ThreadID  ThreadCreatedFromLetter  \\\n",
       "725075  29E6C0AA-7789-E611-B263-005056AD2D14                        0   \n",
       "334947  D7BFA427-EFDF-E711-8CAD-005056AD2D14                        0   \n",
       "531039  57850659-F6FD-E611-AC9F-005056AD2D14                        0   \n",
       "27722   932D6A22-6623-E611-8BE5-0050569118B0                        1   \n",
       "844330  BFCAE8E4-15A3-E711-B45B-005056AD2D14                        0   \n",
       "\n",
       "        ThreadTotalMessageCount ThreadStatus  \\\n",
       "725075                        2     Fuldført   \n",
       "334947                        2     Fuldført   \n",
       "531039                        2     Fuldført   \n",
       "27722                         2     Fuldført   \n",
       "844330                        3     Fuldført   \n",
       "\n",
       "                                            ThreadSubject  \\\n",
       "725075                                  Status som ledig?   \n",
       "334947                                         Uddannelse   \n",
       "531039                   nyt skattekort gældende fra 26.2   \n",
       "27722   Du kan få supplerende dagpenge med arbejde på ...   \n",
       "844330             att. medlemsskabsafdeling - nyuddannet   \n",
       "\n",
       "       ThreadResponsibleDepartment    ThreadResponsibleDepartmentTeam  \\\n",
       "725075                  Forsikring  Udbetalingsteam 1 - CPR 01 til 10   \n",
       "334947                  Forsikring                    Medlemskabsteam   \n",
       "531039                  Forsikring  Udbetalingsteam 2 - CPR 11 til 20   \n",
       "27722                   Forsikring  Udbetalingsteam 1 - CPR 01 til 10   \n",
       "844330                  Forsikring                    Medlemskabsteam   \n",
       "\n",
       "        ThreadHasInteraction ThreadInitiatedBy  ThreadMessageRank  \\\n",
       "725075                     1            Member                  1   \n",
       "334947                     1            Member                  1   \n",
       "531039                     1            Member                  1   \n",
       "27722                      1            Member                  1   \n",
       "844330                     1            Member                  1   \n",
       "\n",
       "                              ...                          \\\n",
       "725075                        ...                           \n",
       "334947                        ...                           \n",
       "531039                        ...                           \n",
       "27722                         ...                           \n",
       "844330                        ...                           \n",
       "\n",
       "        ThreadMessageDateCreated  \\\n",
       "725075       2016-10-03 14:42:59   \n",
       "334947       2017-12-13 10:20:02   \n",
       "531039       2017-02-28 20:42:07   \n",
       "27722        2016-05-26 17:20:31   \n",
       "844330       2017-09-26 23:53:38   \n",
       "\n",
       "                                        ThreadMessageText  \\\n",
       "725075  ved fejl kom jeg til stå som ledig jobnet., hv...   \n",
       "334947  hej, jeg kommet ind kandidat som starter febru...   \n",
       "531039  jeg har fået nyt skattekort gældende fra .., h...   \n",
       "27722   måske dette bare automatisk mail, men jeg har ...   \n",
       "844330  . /  /  2017 fik jeg vide jer over telefonen, ...   \n",
       "\n",
       "       CharCount_ThreadMessageText LessThan5000  \\\n",
       "725075                         322         True   \n",
       "334947                         169         True   \n",
       "531039                         134         True   \n",
       "27722                           59         True   \n",
       "844330                         978         True   \n",
       "\n",
       "                                                     text  \\\n",
       "725075  ved fejl kom jeg til stå som ledig jobnet., hv...   \n",
       "334947  hej, jeg kommet ind kandidat som starter febru...   \n",
       "531039  jeg har fået nyt skattekort gældende fra .., h...   \n",
       "27722   måske dette bare automatisk mail, men jeg har ...   \n",
       "844330  . /  /  2017 fik jeg vide jer over telefonen, ...   \n",
       "\n",
       "                                           tokenized_text  \\\n",
       "725075  [ved, fejl, kom, jeg, til, stå, som, ledig, jo...   \n",
       "334947  [hej, jeg, kommet, ind, kandidat, som, starter...   \n",
       "531039  [jeg, har, fået, nyt, skattekort, gældende, fr...   \n",
       "27722   [måske, dette, bare, automatisk, mail, men, je...   \n",
       "844330  [fik, jeg, vide, jer, over, telefonen, selvom,...   \n",
       "\n",
       "                                        stopwords_removed  \\\n",
       "725075  [fejl, stå, ledig, jobnet, stod, sende, ledigh...   \n",
       "334947  [kommet, kandidat, starter, februar, ringede, ...   \n",
       "531039  [fået, skattekort, gældende, håber, bruges, be...   \n",
       "27722                   [automatisk, mail, fået, arbejde]   \n",
       "844330  [vide, telefonen, nået, melde, indenfor, uger,...   \n",
       "\n",
       "                                          lemmatized_text  \\\n",
       "725075  [fejl, stå, ledig, jobnet, stod, sende, ledigh...   \n",
       "334947  [kommet, kandidat, starter, februar, ringede, ...   \n",
       "531039  [fået, skattekort, gældende, håber, bruges, be...   \n",
       "27722                   [automatisk, mail, fået, arbejde]   \n",
       "844330  [vide, telefonen, nået, melde, indenfor, uger,...   \n",
       "\n",
       "                                             stemmed_text  \\\n",
       "725075  [fejl, stå, ledig, jobnet, stod, send, ledighe...   \n",
       "334947  [kommet, kandidat, starter, februar, ringed, g...   \n",
       "531039  [fået, skattekort, gældend, håber, bruge, beta...   \n",
       "27722                    [automatisk, mail, fået, arbejd]   \n",
       "844330  [vide, telefonen, nået, meld, indenfor, uger, ...   \n",
       "\n",
       "                                                      bow  \n",
       "725075  [(10, 5), (13, 1), (33, 2), (35, 1), (47, 2), ...  \n",
       "334947  [(22, 1), (41, 1), (158, 1), (179, 1), (293, 1...  \n",
       "531039  [(11, 1), (28, 1), (39, 1), (91, 1), (160, 1),...  \n",
       "27722              [(28, 1), (29, 1), (164, 1), (446, 1)]  \n",
       "844330  [(13, 1), (16, 1), (20, 1), (54, 1), (66, 3), ...  \n",
       "\n",
       "[5 rows x 24 columns]"
      ]
     },
     "execution_count": 68,
     "metadata": {},
     "output_type": "execute_result"
    }
   ],
   "source": [
    "df_elbow.head()"
   ]
  },
  {
   "cell_type": "code",
   "execution_count": 62,
   "metadata": {},
   "outputs": [
    {
     "data": {
      "text/html": [
       "<div>\n",
       "<style scoped>\n",
       "    .dataframe tbody tr th:only-of-type {\n",
       "        vertical-align: middle;\n",
       "    }\n",
       "\n",
       "    .dataframe tbody tr th {\n",
       "        vertical-align: top;\n",
       "    }\n",
       "\n",
       "    .dataframe thead th {\n",
       "        text-align: right;\n",
       "    }\n",
       "</style>\n",
       "<table border=\"1\" class=\"dataframe\">\n",
       "  <thead>\n",
       "    <tr style=\"text-align: right;\">\n",
       "      <th></th>\n",
       "      <th>ThreadID</th>\n",
       "      <th>RequestContent</th>\n",
       "      <th>Org_BeskedIndhold</th>\n",
       "      <th>text</th>\n",
       "      <th>tokenized_text</th>\n",
       "      <th>stopwords_removed</th>\n",
       "      <th>lemmatized_text</th>\n",
       "      <th>stemmed_text</th>\n",
       "    </tr>\n",
       "  </thead>\n",
       "  <tbody>\n",
       "    <tr>\n",
       "      <th>370494</th>\n",
       "      <td>2AED74C0-B8BC-E611-B361-005056AD2D14</td>\n",
       "      <td>velkommen  akademikernes -kasse som nyuddannet</td>\n",
       "      <td>Velkommen i Akademikernes A-kasse som nyuddannet</td>\n",
       "      <td>velkommen  akademikernes -kasse som nyuddannet</td>\n",
       "      <td>[velkommen, akademikernes, kasse, som, nyuddan...</td>\n",
       "      <td>[velkommen, kasse, nyuddannet]</td>\n",
       "      <td>[velkommen, kasse, nyuddannet]</td>\n",
       "      <td>[velkommen, kass, nyuddannet]</td>\n",
       "    </tr>\n",
       "    <tr>\n",
       "      <th>30274</th>\n",
       "      <td>DA6F564D-D86D-E611-8BE5-0050569118B0</td>\n",
       "      <td>adresse</td>\n",
       "      <td>Ny adresse</td>\n",
       "      <td>adresse</td>\n",
       "      <td>[adresse]</td>\n",
       "      <td>[adresse]</td>\n",
       "      <td>[adresse]</td>\n",
       "      <td>[adress]</td>\n",
       "    </tr>\n",
       "    <tr>\n",
       "      <th>402863</th>\n",
       "      <td>5D9E57CC-8A62-E811-B843-005056AD2D14</td>\n",
       "      <td>att. pia andersen</td>\n",
       "      <td>Att. Pia Andersen</td>\n",
       "      <td>att. pia andersen</td>\n",
       "      <td>[att, pia, andersen]</td>\n",
       "      <td>[att, pia, andersen]</td>\n",
       "      <td>[att, pia, andersen]</td>\n",
       "      <td>[att, pia, andersen]</td>\n",
       "    </tr>\n",
       "    <tr>\n",
       "      <th>541472</th>\n",
       "      <td>F791ACBF-FF45-E711-BE8E-005056AD2D14</td>\n",
       "      <td>vedhæftelse  ak001</td>\n",
       "      <td>Vedhæftelse af AK001</td>\n",
       "      <td>vedhæftelse  ak001</td>\n",
       "      <td>[vedhæftelse, ak001]</td>\n",
       "      <td>[vedhæftelse, ak001]</td>\n",
       "      <td>[vedhæftelse, ak001]</td>\n",
       "      <td>[vedhæftels, ak001]</td>\n",
       "    </tr>\n",
       "    <tr>\n",
       "      <th>96984</th>\n",
       "      <td>08024E8C-34AC-E811-B398-0050569118B0</td>\n",
       "      <td>afholdelse  ferie</td>\n",
       "      <td>Afholdelse af ferie</td>\n",
       "      <td>afholdelse  ferie</td>\n",
       "      <td>[afholdelse, ferie]</td>\n",
       "      <td>[afholdelse, ferie]</td>\n",
       "      <td>[afholdelse, ferie]</td>\n",
       "      <td>[afholdels, feri]</td>\n",
       "    </tr>\n",
       "  </tbody>\n",
       "</table>\n",
       "</div>"
      ],
      "text/plain": [
       "                                    ThreadID  \\\n",
       "370494  2AED74C0-B8BC-E611-B361-005056AD2D14   \n",
       "30274   DA6F564D-D86D-E611-8BE5-0050569118B0   \n",
       "402863  5D9E57CC-8A62-E811-B843-005056AD2D14   \n",
       "541472  F791ACBF-FF45-E711-BE8E-005056AD2D14   \n",
       "96984   08024E8C-34AC-E811-B398-0050569118B0   \n",
       "\n",
       "                                        RequestContent  \\\n",
       "370494  velkommen  akademikernes -kasse som nyuddannet   \n",
       "30274                                          adresse   \n",
       "402863                               att. pia andersen   \n",
       "541472                              vedhæftelse  ak001   \n",
       "96984                                afholdelse  ferie   \n",
       "\n",
       "                                       Org_BeskedIndhold  \\\n",
       "370494  Velkommen i Akademikernes A-kasse som nyuddannet   \n",
       "30274                                         Ny adresse   \n",
       "402863                                 Att. Pia Andersen   \n",
       "541472                              Vedhæftelse af AK001   \n",
       "96984                                Afholdelse af ferie   \n",
       "\n",
       "                                                  text  \\\n",
       "370494  velkommen  akademikernes -kasse som nyuddannet   \n",
       "30274                                          adresse   \n",
       "402863                               att. pia andersen   \n",
       "541472                              vedhæftelse  ak001   \n",
       "96984                                afholdelse  ferie   \n",
       "\n",
       "                                           tokenized_text  \\\n",
       "370494  [velkommen, akademikernes, kasse, som, nyuddan...   \n",
       "30274                                           [adresse]   \n",
       "402863                               [att, pia, andersen]   \n",
       "541472                               [vedhæftelse, ak001]   \n",
       "96984                                 [afholdelse, ferie]   \n",
       "\n",
       "                     stopwords_removed                 lemmatized_text  \\\n",
       "370494  [velkommen, kasse, nyuddannet]  [velkommen, kasse, nyuddannet]   \n",
       "30274                        [adresse]                       [adresse]   \n",
       "402863            [att, pia, andersen]            [att, pia, andersen]   \n",
       "541472            [vedhæftelse, ak001]            [vedhæftelse, ak001]   \n",
       "96984              [afholdelse, ferie]             [afholdelse, ferie]   \n",
       "\n",
       "                         stemmed_text  \n",
       "370494  [velkommen, kass, nyuddannet]  \n",
       "30274                        [adress]  \n",
       "402863           [att, pia, andersen]  \n",
       "541472            [vedhæftels, ak001]  \n",
       "96984               [afholdels, feri]  "
      ]
     },
     "execution_count": 62,
     "metadata": {},
     "output_type": "execute_result"
    }
   ],
   "source": [
    "df_elbow[['ThreadID','RequestContent','Org_BeskedIndhold','text','tokenized_text','stopwords_removed','lemmatized_text','stemmed_text']].head()"
   ]
  },
  {
   "cell_type": "code",
   "execution_count": 63,
   "metadata": {},
   "outputs": [],
   "source": [
    "# df_import['Besked_Tekst'][df_import['BeskedTråd_ID']=='ABB7AE21-2128-E711-AC9F-005056AD2D14']"
   ]
  },
  {
   "cell_type": "code",
   "execution_count": 71,
   "metadata": {},
   "outputs": [],
   "source": [
    "def ListToString(df):\n",
    "    return ', '.join(df)\n",
    "\n",
    "def AddTopWordFeatures(df, text_col , top_word_list):\n",
    "    \"\"\" Creates\n",
    "            - topwords_count: a count of top words found in 'text_col'\n",
    "            - topwords_found: a bool indication of any top words found in 'text_col'\n",
    "            - a new column per word i 'top_word_list' with True / False if the word in 'top_word_list' is found in 'text_col'\n",
    "        There is no output, as all is DataFrame operations, that happen to the input 'df'\n",
    "        \"\"\"\n",
    "    df['topwords_count'] = df[text_col].apply(lambda x: sum(i in top_word_list for i in x.split()))\n",
    "    df['topwords_found'] = df[text_col].apply(lambda x: any(i in top_word_list for i in x.split()))\n",
    "    \n",
    "    # Create a new column per word in 'top_word_list'\n",
    "    pd.concat([df, pd.DataFrame(columns = list(top_word_list))], sort=False)\n",
    "    \n",
    "    # Fills the newly created columns with a bool value if the word was found in the 'text_col'\n",
    "    for c in top_word_list:\n",
    "        df[c] = df[text_col].apply(lambda x: c in x.split())\n",
    "        \n",
    "def remove_not_topwords(df):\n",
    "    \"\"\" Removes stopwords based on a known set of stopwords\n",
    "    available in the nltk package. In addition, we include our\n",
    "    made up word in here.\n",
    "    Parameters:\n",
    "    - no_below (int, optional) – Keep tokens which are contained in at least no_below documents.\n",
    "    - no_above (float, optional) – Keep tokens which are contained in no more than no_above documents (fraction of total corpus size, not an absolute number).\n",
    "    - keep_n (int, optional) – Keep only the first keep_n most frequent tokens.\n",
    "    - keep_tokens (iterable of str) – Iterable of tokens that must stay in dictionary after filtering\n",
    "    \"\"\"\n",
    "    dictionary = Dictionary(documents=analysis_df.stemmed_text.values) # analysis_df\n",
    "    \n",
    "    # dictionary.filter_extremes(no_above=0.8, no_below=3, keep_n=500, keep_tokens=None)\n",
    "    dictionary.filter_extremes(keep_n=500)\n",
    "\n",
    "    dictionary.compactify()\n",
    "    \n",
    "    top_words = [v for v in dictionary.values()]\n",
    "\n",
    "    top_words = list(set(top_words))\n",
    "\n",
    "    df['OnlyTopWords'] = list(map(lambda doc:\n",
    "                                       [word for word in doc if word in top_words],\n",
    "                                       df['stemmed_text']))\n",
    "    return top_words"
   ]
  },
  {
   "cell_type": "code",
   "execution_count": 72,
   "metadata": {},
   "outputs": [
    {
     "name": "stdout",
     "output_type": "stream",
     "text": [
      "Wall time: 6.89 s\n"
     ]
    }
   ],
   "source": [
    "%%time\n",
    "top_words = remove_not_topwords(df_elbow)"
   ]
  },
  {
   "cell_type": "code",
   "execution_count": 73,
   "metadata": {},
   "outputs": [
    {
     "name": "stdout",
     "output_type": "stream",
     "text": [
      "Left with 500 words.\n"
     ]
    }
   ],
   "source": [
    "print(\"Left with {} words.\".format(len(top_words)))"
   ]
  },
  {
   "cell_type": "code",
   "execution_count": 74,
   "metadata": {},
   "outputs": [
    {
     "name": "stdout",
     "output_type": "stream",
     "text": [
      "Wall time: 8 ms\n"
     ]
    }
   ],
   "source": [
    "%%time\n",
    "df_elbow['clean_content'] = df_elbow['OnlyTopWords'].apply(ListToString)"
   ]
  },
  {
   "cell_type": "code",
   "execution_count": 75,
   "metadata": {},
   "outputs": [],
   "source": [
    "text_clean = []\n",
    "for text in df_elbow['clean_content']:\n",
    "    text_clean.append(text.split())"
   ]
  },
  {
   "cell_type": "markdown",
   "metadata": {},
   "source": [
    "#### Tf-idf and document similarity\n",
    "\n",
    "Here, I define term frequency-inverse document frequency (tf-idf) vectorizer parameters and then convert the clean_content list into a tf-idf matrix.\n",
    "\n",
    "To get a Tf-idf matrix, first count word occurrences by request. This is transformed into a request-term matrix (dtm). This is also just called a term frequency matrix.\n",
    "\n",
    "Then apply the term frequency-inverse document frequency weighting: words that occur frequently within a request but not frequently within the corpus receive a higher weighting as these words are assumed to contain more meaning in relation to the request.\n",
    "\n",
    "A couple things to note about the parameters I define below:\n",
    "\n",
    "max_df: this is the maximum frequency within the request a given feature can have to be used in the tfi-idf matrix. If the term is in greater than 80% of the request it probably cares little meanining - rule of thumb (verify this)\n",
    "\n",
    "min_idf: this could be an integer (e.g. 5) and the term would have to be in at least 5 of the request to be considered. Here I pass 0.2; the term must be in at least 20% of the request. \n",
    "\n",
    "TEST THIS\n",
    "I found that if I allowed a lower min_df I ended up basing clustering on names--for example \"Michael\" or \"Tom\" are names found in several of the movies and the synopses use these names frequently, but the names carry no real meaning.\n",
    "\n",
    "ngram_range: this just means I'll look at unigrams, bigrams and trigrams. See n-grams"
   ]
  },
  {
   "cell_type": "code",
   "execution_count": 68,
   "metadata": {},
   "outputs": [
    {
     "name": "stdout",
     "output_type": "stream",
     "text": [
      "(5000, 358)\n",
      "Wall time: 33 ms\n"
     ]
    }
   ],
   "source": [
    "%%time\n",
    "tfidf_wordvector = TfidfVectorizer(\n",
    "                analyzer='word', \n",
    "                max_df=0.8, \n",
    "                min_df=5, \n",
    "#                 stop_words=stopwords.words('danish'),\n",
    "#                 ngram_range=(1,3)\n",
    "                ) \n",
    "\n",
    "tfidf_wordvector_maxtrix = tfidf_wordvector.fit_transform(df_elbow.clean_content) #fit the tfidf_wordvector to clean_content\n",
    "\n",
    "print(tfidf_wordvector_maxtrix.shape)"
   ]
  },
  {
   "cell_type": "markdown",
   "metadata": {},
   "source": [
    "terms is just a list of the features used in the tf-idf matrix. This is a vocabulary"
   ]
  },
  {
   "cell_type": "code",
   "execution_count": 69,
   "metadata": {},
   "outputs": [],
   "source": [
    "terms = tfidf_wordvector.get_feature_names()"
   ]
  },
  {
   "cell_type": "code",
   "execution_count": 70,
   "metadata": {},
   "outputs": [
    {
     "name": "stdout",
     "output_type": "stream",
     "text": [
      "No. of words in tf-idf matrix: 358\n"
     ]
    }
   ],
   "source": [
    "print('No. of words in tf-idf matrix: {}'.format(len(terms)))"
   ]
  },
  {
   "cell_type": "markdown",
   "metadata": {},
   "source": [
    "dist is defined as 1 - the cosine similarity of each request. Cosine similarity is measured against the tf-idf matrix and can be used to generate a measure of similarity between each request and the other request in the corpus (each clean_content among the total clean_content). Subtracting it from 1 provides cosine distance which I will use for plotting on a euclidean (2-dimensional) plane.\n",
    "\n",
    "Note that with dist it is possible to evaluate the similarity of any two or more clean_content."
   ]
  },
  {
   "cell_type": "code",
   "execution_count": 71,
   "metadata": {},
   "outputs": [],
   "source": [
    "from sklearn.metrics.pairwise import cosine_similarity"
   ]
  },
  {
   "cell_type": "code",
   "execution_count": 88,
   "metadata": {},
   "outputs": [],
   "source": [
    "# dist = 1 - cosine_similarity(tfidf_wordvector_maxtrix)"
   ]
  },
  {
   "cell_type": "code",
   "execution_count": 73,
   "metadata": {},
   "outputs": [],
   "source": [
    "labels = tfidf_wordvector.vocabulary_#.values"
   ]
  },
  {
   "cell_type": "code",
   "execution_count": 74,
   "metadata": {},
   "outputs": [],
   "source": [
    "tfidf_wordvector_2d = tfidf_wordvector_maxtrix.todense()"
   ]
  },
  {
   "cell_type": "code",
   "execution_count": 75,
   "metadata": {},
   "outputs": [
    {
     "data": {
      "text/plain": [
       "5000"
      ]
     },
     "execution_count": 75,
     "metadata": {},
     "output_type": "execute_result"
    }
   ],
   "source": [
    "len(tfidf_wordvector_2d)"
   ]
  },
  {
   "cell_type": "code",
   "execution_count": 89,
   "metadata": {},
   "outputs": [],
   "source": [
    "X = tfidf_wordvector_2d\n",
    "distortions = []\n",
    "top_range = 151\n",
    "increments = 5\n",
    "n_inc = round(top_range/increments)"
   ]
  },
  {
   "cell_type": "code",
   "execution_count": 90,
   "metadata": {},
   "outputs": [
    {
     "name": "stdout",
     "output_type": "stream",
     "text": [
      "Wall time: 4min 59s\n"
     ]
    }
   ],
   "source": [
    "%%time\n",
    "K = range(1,top_range,increments)\n",
    "for k in K:\n",
    "    kmeanModel = KMeans(n_clusters=k, n_jobs=-1, random_state=0).fit(X)\n",
    "    kmeanModel.fit(X)\n",
    "    distortions.append(sum(np.min(cdist(X, kmeanModel.cluster_centers_, 'euclidean'), axis=1)) / X.shape[0])"
   ]
  },
  {
   "cell_type": "code",
   "execution_count": 91,
   "metadata": {
    "scrolled": false
   },
   "outputs": [
    {
     "data": {
      "image/png": "[encoded data removed]",
      "text/plain": [
       "<Figure size 1152x720 with 1 Axes>"
      ]
     },
     "metadata": {
      "needs_background": "light"
     },
     "output_type": "display_data"
    }
   ],
   "source": [
    "# Plot the elbow\n",
    "plt.figure(figsize=(16, 10))\n",
    "plt.plot(K, distortions, 'bx-')\n",
    "plt.xlabel('k')\n",
    "plt.ylabel('Distortion')\n",
    "plt.title('The Elbow Method showing the optimal k')#, Using Sample Size: {}, Top {} Words, with increments of {} from 0 to {}'.format(sample_size, len(terms), n_inc, top_range-1))\n",
    "plt.show()"
   ]
  },
  {
   "cell_type": "code",
   "execution_count": 79,
   "metadata": {},
   "outputs": [
    {
     "name": "stdout",
     "output_type": "stream",
     "text": [
      "Wall time: 0 ns\n",
      "Wall time: 2.81 s\n"
     ]
    }
   ],
   "source": [
    "%%time\n",
    "# Plot optimal no of clusters from elbow above\n",
    "num_clusters = 70\n",
    "kmeans = KMeans(n_clusters=num_clusters, n_jobs=-1, random_state=0)\n",
    "\n",
    "# # Convert numpy matrix to 1-d array for k-means\n",
    "# tfidf_wordvector_1d = np.squeeze(np.asarray(tfidf_wordvector_2d))\n",
    "\n",
    "# # Compute cluster centers and predict cluster indices\n",
    "# X_clustered = kmeans.fit_predict(tfidf_wordvector_1d)\n",
    "\n",
    "%time\n",
    "kmeans.fit(tfidf_wordvector_maxtrix)"
   ]
  },
  {
   "cell_type": "code",
   "execution_count": 94,
   "metadata": {},
   "outputs": [],
   "source": [
    "clusters = kmeans.labels_.tolist()"
   ]
  },
  {
   "cell_type": "code",
   "execution_count": null,
   "metadata": {},
   "outputs": [],
   "source": [
    "# Plot the scatter digram\n",
    "# plt.figure(figsize = (6,6))\n",
    "# plt.scatter(tfidf_wordvector_1d[:,0],tfidf_wordvector_1d[:,1], alpha=0.5) \n",
    "# plt.show()"
   ]
  },
  {
   "cell_type": "markdown",
   "metadata": {},
   "source": [
    "### Get top words from requests\n",
    "We create a function that takes a single row of the tf-idf matrix (corresponding to a particular document), and return the n highest scoring words (or more generally tokens or features):"
   ]
  },
  {
   "cell_type": "code",
   "execution_count": null,
   "metadata": {},
   "outputs": [],
   "source": [
    "from sklearn.decomposition import PCA\n",
    "plt.figure(figsize=(16, 10))\n",
    "coords = PCA(n_components=2).fit_transform(tfidf_wordvector_2d)\n",
    "plt.scatter(coords[:, 0], coords[:, 1], c='m')\n",
    "plt.show()"
   ]
  },
  {
   "cell_type": "code",
   "execution_count": null,
   "metadata": {},
   "outputs": [],
   "source": [
    "def top_tfidf_feats(row, features, top_n=25):\n",
    "    \"\"\" Get top n tfidf values in row and return them with their corresponding feature names. \"\"\" \n",
    "    topn_ids = np.argsort(row)[::-1][:top_n]\n",
    "    top_feats = [(features[i], row[i]) for i in topn_ids]\n",
    "    df = pd.DataFrame(top_feats, columns=['features', 'score'])\n",
    "    return df"
   ]
  },
  {
   "cell_type": "markdown",
   "metadata": {},
   "source": [
    "Here we use argsort to produce the indices that would order the row by tf-idf value, reverse them (into descending order), and select the first top_n. We then return a pandas DataFrame with the words themselves (feature names) and their corresponding score.\n",
    "\n",
    "The result of a tf-idf, however, is typically a sparse matrix, which doesn’t support all the usual matrix or array operations. So in order to apply the above function to inspect a particular document, we convert a single row into dense format first:"
   ]
  },
  {
   "cell_type": "code",
   "execution_count": null,
   "metadata": {},
   "outputs": [],
   "source": [
    "def top_feats_in_doc(X, features, row_id, top_n=25):\n",
    "    \"\"\" Top tfidf features in specific document (matrix row) \"\"\"\n",
    "    row = np.squeeze(np.asarray(X[row_id]))\n",
    "    return top_tfidf_feats(row, features, top_n)"
   ]
  },
  {
   "cell_type": "markdown",
   "metadata": {},
   "source": [
    "Using this to show the top 20 words used in the second document of our matrix, for example:"
   ]
  },
  {
   "cell_type": "code",
   "execution_count": null,
   "metadata": {},
   "outputs": [],
   "source": [
    "features = tfidf_wordvector.get_feature_names() # Same as terms above\n",
    "print(top_feats_in_doc(tfidf_wordvector_2d, features, 0, 20))"
   ]
  },
  {
   "cell_type": "markdown",
   "metadata": {},
   "source": [
    " Let’s see if this topic is represented also in the overall corpus. For this, we will calculate the average tf-idf score of all words across a number of documents (in this case all documents), i.e. the average per column of a tf-idf matrix:"
   ]
  },
  {
   "cell_type": "code",
   "execution_count": null,
   "metadata": {},
   "outputs": [],
   "source": [
    "def top_mean_feats(X, features, grp_ids=None, min_tfidf=0.10, top_n=25):\n",
    "    \"\"\" Return the top n features that on average are most important amongst documents in rows\n",
    "        indentified by indices in grp_ids \"\"\"\n",
    "    if grp_ids:\n",
    "        D = np.asarray(X[grp_ids])\n",
    "    else:\n",
    "        D = np.asarray(X)\n",
    "        \n",
    "    D[D < min_tfidf] = 0\n",
    "    tfidf_means = np.mean(D, axis=0)\n",
    "    \n",
    "    return top_tfidf_feats(tfidf_means, features, top_n)"
   ]
  },
  {
   "cell_type": "markdown",
   "metadata": {},
   "source": [
    "Here, we provide a list of row indices which pick out the particular documents we want to inspect. Providing ‘None’ indicates, somewhat counterintuitively, that we’re interested in all documents. We then calculate the mean of each column across the selected rows, which results in a single row of tf-idf values. And this row we then simply pass on to our previous function for picking out the top n words. One crucial trick here, however, is to first filter out the words with relatively low scores (smaller than the provided threshold). This is because common words, such as ‘a’ or ‘the’, while having low tf-idf scores within each document, are so frequent that when averaged over all documents they would otherwise easily dominate all other terms.\n",
    "\n",
    "Calling this function with grp_ids=None, gives us the most important words across the whole corpus. Here are the top 20:"
   ]
  },
  {
   "cell_type": "code",
   "execution_count": null,
   "metadata": {},
   "outputs": [],
   "source": [
    "top_mean = top_mean_feats(tfidf_wordvector_2d, features, top_n=10)\n",
    "top_mean"
   ]
  },
  {
   "cell_type": "code",
   "execution_count": null,
   "metadata": {},
   "outputs": [],
   "source": [
    "def top_feats_by_class(X, y, features, min_tfidf=0.1, top_n=10):\n",
    "    \"\"\"Return a list of dfs, where each df holds top_n features and their mean tfidf value\n",
    "        calculated across documents with the same class label. \"\"\"\n",
    "    dfs = []\n",
    "    labels = np.unique(y)\n",
    "    for label in labels:\n",
    "        ids = np.where(y==label)\n",
    "        feats_df = top_mean_feats(X, features, ids, min_tfidf=min_tfidf, top_n=top_n)\n",
    "        feats_df.label = label\n",
    "        dfs.append(feats_df)\n",
    "    return dfs"
   ]
  },
  {
   "cell_type": "markdown",
   "metadata": {},
   "source": [
    "This function uses the previously defined functions to return a list of DataFrames, one per document class, and each containing the top n features. Instead of printing them out as a table, we will visualize them using the following fuction:"
   ]
  },
  {
   "cell_type": "code",
   "execution_count": null,
   "metadata": {},
   "outputs": [],
   "source": [
    "def plot_tfidf_classfeats_h(dfs):\n",
    "    \"\"\"Plot the data frames returned by the function plot_tfidf_classfeats(). \"\"\"\n",
    "    fig = plt.figure(figsize=(12, 9), facecolor=\"w\")\n",
    "    x = np.arange(len(dfs[0]))\n",
    "    for i, df in enumerate(dfs):\n",
    "        ax = fig.add_subplot(1, len(dfs), i+1)\n",
    "        ax.spines[\"top\"].set_visible(False)\n",
    "        ax.spines[\"right\"].set_visible(False)\n",
    "        ax.set_frame_on(False)\n",
    "        ax.get_xaxis().tick_bottom()\n",
    "        ax.get_yaxis().tick_left()\n",
    "        ax.set_xlabel(\"Mean Tf-Idf Score\", labelpad=16, fontsize=14)\n",
    "        ax.set_title(\"label = \" + str(df.label), fontsize=16)\n",
    "        ax.ticklabel_format(axis='x', style='sci', scilimits=(-2,2))\n",
    "        ax.barh(x, df.score, align='center', color='#3F5D7D')\n",
    "        ax.set_yticks(x)\n",
    "        ax.set_ylim([-1, x[-1]+1])\n",
    "        yticks = ax.set_yticklabels(df.features)\n",
    "        plt.subplots_adjust(bottom=0.09, right=0.97, left=0.15, top=0.95, wspace=0.52)\n",
    "    plt.show()"
   ]
  },
  {
   "cell_type": "code",
   "execution_count": null,
   "metadata": {},
   "outputs": [],
   "source": [
    "list_dfs = top_feats_by_class(tfidf_wordvector_2d, top_mean.features ,features)"
   ]
  },
  {
   "cell_type": "code",
   "execution_count": null,
   "metadata": {
    "scrolled": true
   },
   "outputs": [],
   "source": [
    "plot_tfidf_classfeats_h(list_dfs)"
   ]
  },
  {
   "cell_type": "markdown",
   "metadata": {},
   "source": [
    "What might be more interesting, though, is to separately consider groups of documents falling into a particular category. For example, let’s calculate the mean tf-idf scores depending on a document’s class label:"
   ]
  },
  {
   "cell_type": "markdown",
   "metadata": {},
   "source": [
    "## LDA Model Training\n",
    "Latent Dirichlet Allocation (LDA) is generative approach in classifying texts. It is a three level hierarchical Bayesian model where it creates probabilities on word level, on document level and on corpus level (corpus means all documents)\n",
    "\n",
    "We want to maximize the probability of the corpus in the training set.\n",
    "\n"
   ]
  },
  {
   "cell_type": "code",
   "execution_count": 76,
   "metadata": {},
   "outputs": [],
   "source": [
    "corpus = analysis_df.bow"
   ]
  },
  {
   "cell_type": "code",
   "execution_count": 77,
   "metadata": {},
   "outputs": [
    {
     "ename": "KeyboardInterrupt",
     "evalue": "",
     "output_type": "error",
     "traceback": [
      "\u001b[1;31m---------------------------------------------------------------------------\u001b[0m",
      "\u001b[1;31mKeyboardInterrupt\u001b[0m                         Traceback (most recent call last)",
      "\u001b[1;32m<timed exec>\u001b[0m in \u001b[0;36m<module>\u001b[1;34m()\u001b[0m\n",
      "\u001b[1;32mC:\\ProgramData\\Anaconda3\\envs\\akademikernes_diagnostic\\lib\\site-packages\\gensim\\models\\ldamulticore.py\u001b[0m in \u001b[0;36m__init__\u001b[1;34m(self, corpus, num_topics, id2word, workers, chunksize, passes, batch, alpha, eta, decay, offset, eval_every, iterations, gamma_threshold, random_state, minimum_probability, minimum_phi_value, per_word_topics)\u001b[0m\n\u001b[0;32m    149\u001b[0m         \u001b[0meval_every\u001b[0m \u001b[1;33m:\u001b[0m \u001b[0mint\u001b[0m\u001b[1;33m,\u001b[0m \u001b[0moptional\u001b[0m\u001b[1;33m\u001b[0m\u001b[0m\n\u001b[0;32m    150\u001b[0m             \u001b[0mLog\u001b[0m \u001b[0mperplexity\u001b[0m \u001b[1;32mis\u001b[0m \u001b[0mestimated\u001b[0m \u001b[0mevery\u001b[0m \u001b[0mthat\u001b[0m \u001b[0mmany\u001b[0m \u001b[0mupdates\u001b[0m\u001b[1;33m.\u001b[0m \u001b[0mSetting\u001b[0m \u001b[0mthis\u001b[0m \u001b[0mto\u001b[0m \u001b[0mone\u001b[0m \u001b[0mslows\u001b[0m \u001b[0mdown\u001b[0m \u001b[0mtraining\u001b[0m \u001b[0mby\u001b[0m \u001b[1;33m~\u001b[0m\u001b[1;36m2\u001b[0m\u001b[0mx\u001b[0m\u001b[1;33m.\u001b[0m\u001b[1;33m\u001b[0m\u001b[0m\n\u001b[1;32m--> 151\u001b[1;33m         \u001b[0miterations\u001b[0m \u001b[1;33m:\u001b[0m \u001b[0mint\u001b[0m\u001b[1;33m,\u001b[0m \u001b[0moptional\u001b[0m\u001b[1;33m\u001b[0m\u001b[0m\n\u001b[0m\u001b[0;32m    152\u001b[0m             \u001b[0mMaximum\u001b[0m \u001b[0mnumber\u001b[0m \u001b[0mof\u001b[0m \u001b[0miterations\u001b[0m \u001b[0mthrough\u001b[0m \u001b[0mthe\u001b[0m \u001b[0mcorpus\u001b[0m \u001b[0mwhen\u001b[0m \u001b[0minferring\u001b[0m \u001b[0mthe\u001b[0m \u001b[0mtopic\u001b[0m \u001b[0mdistribution\u001b[0m \u001b[0mof\u001b[0m \u001b[0ma\u001b[0m \u001b[0mcorpus\u001b[0m\u001b[1;33m.\u001b[0m\u001b[1;33m\u001b[0m\u001b[0m\n\u001b[0;32m    153\u001b[0m         \u001b[0mgamma_threshold\u001b[0m \u001b[1;33m:\u001b[0m \u001b[0mfloat\u001b[0m\u001b[1;33m,\u001b[0m \u001b[0moptional\u001b[0m\u001b[1;33m\u001b[0m\u001b[0m\n",
      "\u001b[1;32mC:\\ProgramData\\Anaconda3\\envs\\akademikernes_diagnostic\\lib\\site-packages\\gensim\\models\\ldamodel.py\u001b[0m in \u001b[0;36m__init__\u001b[1;34m(self, corpus, num_topics, id2word, distributed, chunksize, passes, update_every, alpha, eta, decay, offset, eval_every, iterations, gamma_threshold, minimum_probability, random_state, ns_conf, minimum_phi_value, per_word_topics, callbacks)\u001b[0m\n\u001b[0;32m    338\u001b[0m     def __init__(self, corpus=None, num_topics=100, id2word=None,\n\u001b[0;32m    339\u001b[0m                  \u001b[0mdistributed\u001b[0m\u001b[1;33m=\u001b[0m\u001b[1;32mFalse\u001b[0m\u001b[1;33m,\u001b[0m \u001b[0mchunksize\u001b[0m\u001b[1;33m=\u001b[0m\u001b[1;36m2000\u001b[0m\u001b[1;33m,\u001b[0m \u001b[0mpasses\u001b[0m\u001b[1;33m=\u001b[0m\u001b[1;36m1\u001b[0m\u001b[1;33m,\u001b[0m \u001b[0mupdate_every\u001b[0m\u001b[1;33m=\u001b[0m\u001b[1;36m1\u001b[0m\u001b[1;33m,\u001b[0m\u001b[1;33m\u001b[0m\u001b[0m\n\u001b[1;32m--> 340\u001b[1;33m                  \u001b[0malpha\u001b[0m\u001b[1;33m=\u001b[0m\u001b[1;34m'symmetric'\u001b[0m\u001b[1;33m,\u001b[0m \u001b[0meta\u001b[0m\u001b[1;33m=\u001b[0m\u001b[1;32mNone\u001b[0m\u001b[1;33m,\u001b[0m \u001b[0mdecay\u001b[0m\u001b[1;33m=\u001b[0m\u001b[1;36m0.5\u001b[0m\u001b[1;33m,\u001b[0m \u001b[0moffset\u001b[0m\u001b[1;33m=\u001b[0m\u001b[1;36m1.0\u001b[0m\u001b[1;33m,\u001b[0m \u001b[0meval_every\u001b[0m\u001b[1;33m=\u001b[0m\u001b[1;36m10\u001b[0m\u001b[1;33m,\u001b[0m\u001b[1;33m\u001b[0m\u001b[0m\n\u001b[0m\u001b[0;32m    341\u001b[0m                  \u001b[0miterations\u001b[0m\u001b[1;33m=\u001b[0m\u001b[1;36m50\u001b[0m\u001b[1;33m,\u001b[0m \u001b[0mgamma_threshold\u001b[0m\u001b[1;33m=\u001b[0m\u001b[1;36m0.001\u001b[0m\u001b[1;33m,\u001b[0m \u001b[0mminimum_probability\u001b[0m\u001b[1;33m=\u001b[0m\u001b[1;36m0.01\u001b[0m\u001b[1;33m,\u001b[0m\u001b[1;33m\u001b[0m\u001b[0m\n\u001b[0;32m    342\u001b[0m                  \u001b[0mrandom_state\u001b[0m\u001b[1;33m=\u001b[0m\u001b[1;32mNone\u001b[0m\u001b[1;33m,\u001b[0m \u001b[0mns_conf\u001b[0m\u001b[1;33m=\u001b[0m\u001b[1;32mNone\u001b[0m\u001b[1;33m,\u001b[0m \u001b[0mminimum_phi_value\u001b[0m\u001b[1;33m=\u001b[0m\u001b[1;36m0.01\u001b[0m\u001b[1;33m,\u001b[0m\u001b[1;33m\u001b[0m\u001b[0m\n",
      "\u001b[1;32mC:\\ProgramData\\Anaconda3\\envs\\akademikernes_diagnostic\\lib\\site-packages\\gensim\\models\\ldamulticore.py\u001b[0m in \u001b[0;36mupdate\u001b[1;34m(self, corpus, chunks_as_numpy)\u001b[0m\n\u001b[0;32m    259\u001b[0m             \u001b[0mother\u001b[0m \u001b[1;33m=\u001b[0m \u001b[0mLdaState\u001b[0m\u001b[1;33m(\u001b[0m\u001b[0mself\u001b[0m\u001b[1;33m.\u001b[0m\u001b[0meta\u001b[0m\u001b[1;33m,\u001b[0m \u001b[0mself\u001b[0m\u001b[1;33m.\u001b[0m\u001b[0mstate\u001b[0m\u001b[1;33m.\u001b[0m\u001b[0msstats\u001b[0m\u001b[1;33m.\u001b[0m\u001b[0mshape\u001b[0m\u001b[1;33m)\u001b[0m\u001b[1;33m\u001b[0m\u001b[0m\n\u001b[0;32m    260\u001b[0m \u001b[1;33m\u001b[0m\u001b[0m\n\u001b[1;32m--> 261\u001b[1;33m             \u001b[1;32mdef\u001b[0m \u001b[0mprocess_result_queue\u001b[0m\u001b[1;33m(\u001b[0m\u001b[0mforce\u001b[0m\u001b[1;33m=\u001b[0m\u001b[1;32mFalse\u001b[0m\u001b[1;33m)\u001b[0m\u001b[1;33m:\u001b[0m\u001b[1;33m\u001b[0m\u001b[0m\n\u001b[0m\u001b[0;32m    262\u001b[0m                 \"\"\"\n\u001b[0;32m    263\u001b[0m                 \u001b[0mClear\u001b[0m \u001b[0mthe\u001b[0m \u001b[0mresult\u001b[0m \u001b[0mqueue\u001b[0m\u001b[1;33m,\u001b[0m \u001b[0mmerging\u001b[0m \u001b[0mall\u001b[0m \u001b[0mintermediate\u001b[0m \u001b[0mresults\u001b[0m\u001b[1;33m,\u001b[0m \u001b[1;32mand\u001b[0m \u001b[0mupdate\u001b[0m \u001b[0mthe\u001b[0m\u001b[1;33m\u001b[0m\u001b[0m\n",
      "\u001b[1;32mC:\\ProgramData\\Anaconda3\\envs\\akademikernes_diagnostic\\lib\\site-packages\\gensim\\models\\ldamulticore.py\u001b[0m in \u001b[0;36mprocess_result_queue\u001b[1;34m(force)\u001b[0m\n\u001b[0;32m    224\u001b[0m             \u001b[0mupdatetype\u001b[0m \u001b[1;33m=\u001b[0m \u001b[1;34m\"online\"\u001b[0m\u001b[1;33m\u001b[0m\u001b[0m\n\u001b[0;32m    225\u001b[0m             \u001b[0mupdateafter\u001b[0m \u001b[1;33m=\u001b[0m \u001b[0mself\u001b[0m\u001b[1;33m.\u001b[0m\u001b[0mchunksize\u001b[0m \u001b[1;33m*\u001b[0m \u001b[0mself\u001b[0m\u001b[1;33m.\u001b[0m\u001b[0mworkers\u001b[0m\u001b[1;33m\u001b[0m\u001b[0m\n\u001b[1;32m--> 226\u001b[1;33m         \u001b[1;32melse\u001b[0m\u001b[1;33m:\u001b[0m\u001b[1;33m\u001b[0m\u001b[0m\n\u001b[0m\u001b[0;32m    227\u001b[0m             \u001b[0mupdatetype\u001b[0m \u001b[1;33m=\u001b[0m \u001b[1;34m\"batch\"\u001b[0m\u001b[1;33m\u001b[0m\u001b[0m\n\u001b[0;32m    228\u001b[0m             \u001b[0mupdateafter\u001b[0m \u001b[1;33m=\u001b[0m \u001b[0mlencorpus\u001b[0m\u001b[1;33m\u001b[0m\u001b[0m\n",
      "\u001b[1;32mC:\\ProgramData\\Anaconda3\\envs\\akademikernes_diagnostic\\lib\\multiprocessing\\queues.py\u001b[0m in \u001b[0;36mempty\u001b[1;34m(self)\u001b[0m\n\u001b[0;32m    118\u001b[0m \u001b[1;33m\u001b[0m\u001b[0m\n\u001b[0;32m    119\u001b[0m     \u001b[1;32mdef\u001b[0m \u001b[0mempty\u001b[0m\u001b[1;33m(\u001b[0m\u001b[0mself\u001b[0m\u001b[1;33m)\u001b[0m\u001b[1;33m:\u001b[0m\u001b[1;33m\u001b[0m\u001b[0m\n\u001b[1;32m--> 120\u001b[1;33m         \u001b[1;32mreturn\u001b[0m \u001b[1;32mnot\u001b[0m \u001b[0mself\u001b[0m\u001b[1;33m.\u001b[0m\u001b[0m_poll\u001b[0m\u001b[1;33m(\u001b[0m\u001b[1;33m)\u001b[0m\u001b[1;33m\u001b[0m\u001b[0m\n\u001b[0m\u001b[0;32m    121\u001b[0m \u001b[1;33m\u001b[0m\u001b[0m\n\u001b[0;32m    122\u001b[0m     \u001b[1;32mdef\u001b[0m \u001b[0mfull\u001b[0m\u001b[1;33m(\u001b[0m\u001b[0mself\u001b[0m\u001b[1;33m)\u001b[0m\u001b[1;33m:\u001b[0m\u001b[1;33m\u001b[0m\u001b[0m\n",
      "\u001b[1;32mC:\\ProgramData\\Anaconda3\\envs\\akademikernes_diagnostic\\lib\\multiprocessing\\connection.py\u001b[0m in \u001b[0;36mpoll\u001b[1;34m(self, timeout)\u001b[0m\n\u001b[0;32m    255\u001b[0m         \u001b[0mself\u001b[0m\u001b[1;33m.\u001b[0m\u001b[0m_check_closed\u001b[0m\u001b[1;33m(\u001b[0m\u001b[1;33m)\u001b[0m\u001b[1;33m\u001b[0m\u001b[0m\n\u001b[0;32m    256\u001b[0m         \u001b[0mself\u001b[0m\u001b[1;33m.\u001b[0m\u001b[0m_check_readable\u001b[0m\u001b[1;33m(\u001b[0m\u001b[1;33m)\u001b[0m\u001b[1;33m\u001b[0m\u001b[0m\n\u001b[1;32m--> 257\u001b[1;33m         \u001b[1;32mreturn\u001b[0m \u001b[0mself\u001b[0m\u001b[1;33m.\u001b[0m\u001b[0m_poll\u001b[0m\u001b[1;33m(\u001b[0m\u001b[0mtimeout\u001b[0m\u001b[1;33m)\u001b[0m\u001b[1;33m\u001b[0m\u001b[0m\n\u001b[0m\u001b[0;32m    258\u001b[0m \u001b[1;33m\u001b[0m\u001b[0m\n\u001b[0;32m    259\u001b[0m     \u001b[1;32mdef\u001b[0m \u001b[0m__enter__\u001b[0m\u001b[1;33m(\u001b[0m\u001b[0mself\u001b[0m\u001b[1;33m)\u001b[0m\u001b[1;33m:\u001b[0m\u001b[1;33m\u001b[0m\u001b[0m\n",
      "\u001b[1;32mC:\\ProgramData\\Anaconda3\\envs\\akademikernes_diagnostic\\lib\\multiprocessing\\connection.py\u001b[0m in \u001b[0;36m_poll\u001b[1;34m(self, timeout)\u001b[0m\n\u001b[0;32m    328\u001b[0m                         _winapi.PeekNamedPipe(self._handle)[0] != 0):\n\u001b[0;32m    329\u001b[0m                 \u001b[1;32mreturn\u001b[0m \u001b[1;32mTrue\u001b[0m\u001b[1;33m\u001b[0m\u001b[0m\n\u001b[1;32m--> 330\u001b[1;33m             \u001b[1;32mreturn\u001b[0m \u001b[0mbool\u001b[0m\u001b[1;33m(\u001b[0m\u001b[0mwait\u001b[0m\u001b[1;33m(\u001b[0m\u001b[1;33m[\u001b[0m\u001b[0mself\u001b[0m\u001b[1;33m]\u001b[0m\u001b[1;33m,\u001b[0m \u001b[0mtimeout\u001b[0m\u001b[1;33m)\u001b[0m\u001b[1;33m)\u001b[0m\u001b[1;33m\u001b[0m\u001b[0m\n\u001b[0m\u001b[0;32m    331\u001b[0m \u001b[1;33m\u001b[0m\u001b[0m\n\u001b[0;32m    332\u001b[0m         \u001b[1;32mdef\u001b[0m \u001b[0m_get_more_data\u001b[0m\u001b[1;33m(\u001b[0m\u001b[0mself\u001b[0m\u001b[1;33m,\u001b[0m \u001b[0mov\u001b[0m\u001b[1;33m,\u001b[0m \u001b[0mmaxsize\u001b[0m\u001b[1;33m)\u001b[0m\u001b[1;33m:\u001b[0m\u001b[1;33m\u001b[0m\u001b[0m\n",
      "\u001b[1;32mC:\\ProgramData\\Anaconda3\\envs\\akademikernes_diagnostic\\lib\\multiprocessing\\connection.py\u001b[0m in \u001b[0;36mwait\u001b[1;34m(object_list, timeout)\u001b[0m\n\u001b[0;32m    861\u001b[0m             \u001b[1;31m# request that overlapped reads stop\u001b[0m\u001b[1;33m\u001b[0m\u001b[1;33m\u001b[0m\u001b[0m\n\u001b[0;32m    862\u001b[0m             \u001b[1;32mfor\u001b[0m \u001b[0mov\u001b[0m \u001b[1;32min\u001b[0m \u001b[0mov_list\u001b[0m\u001b[1;33m:\u001b[0m\u001b[1;33m\u001b[0m\u001b[0m\n\u001b[1;32m--> 863\u001b[1;33m                 \u001b[0mov\u001b[0m\u001b[1;33m.\u001b[0m\u001b[0mcancel\u001b[0m\u001b[1;33m(\u001b[0m\u001b[1;33m)\u001b[0m\u001b[1;33m\u001b[0m\u001b[0m\n\u001b[0m\u001b[0;32m    864\u001b[0m \u001b[1;33m\u001b[0m\u001b[0m\n\u001b[0;32m    865\u001b[0m             \u001b[1;31m# wait for all overlapped reads to stop\u001b[0m\u001b[1;33m\u001b[0m\u001b[1;33m\u001b[0m\u001b[0m\n",
      "\u001b[1;31mKeyboardInterrupt\u001b[0m: "
     ]
    }
   ],
   "source": [
    "%%time\n",
    "num_topics = 20\n",
    "#A multicore approach to decrease training time\n",
    "LDAmodel = LdaMulticore(corpus=corpus,\n",
    "                        id2word=dictionary,\n",
    "                        num_topics=num_topics,\n",
    "                        workers=4,\n",
    "                        chunksize=10000,\n",
    "                        passes=50,\n",
    "                        alpha='asymmetric')"
   ]
  },
  {
   "cell_type": "markdown",
   "metadata": {},
   "source": [
    "### LDA topic inspection\n",
    "Let's first create the feature vectors."
   ]
  },
  {
   "cell_type": "code",
   "execution_count": 78,
   "metadata": {},
   "outputs": [
    {
     "ename": "NameError",
     "evalue": "name 'LDAmodel' is not defined",
     "output_type": "error",
     "traceback": [
      "\u001b[1;31m---------------------------------------------------------------------------\u001b[0m",
      "\u001b[1;31mNameError\u001b[0m                                 Traceback (most recent call last)",
      "\u001b[1;32m<ipython-input-78-d9571618819d>\u001b[0m in \u001b[0;36m<module>\u001b[1;34m()\u001b[0m\n\u001b[0;32m      8\u001b[0m     \u001b[1;32mreturn\u001b[0m \u001b[0mtopic_importances\u001b[0m\u001b[1;33m[\u001b[0m\u001b[1;33m:\u001b[0m\u001b[1;33m,\u001b[0m\u001b[1;36m1\u001b[0m\u001b[1;33m]\u001b[0m\u001b[1;33m\u001b[0m\u001b[0m\n\u001b[0;32m      9\u001b[0m \u001b[1;33m\u001b[0m\u001b[0m\n\u001b[1;32m---> 10\u001b[1;33m \u001b[0manalysis_df\u001b[0m\u001b[1;33m[\u001b[0m\u001b[1;34m'lda_features'\u001b[0m\u001b[1;33m]\u001b[0m \u001b[1;33m=\u001b[0m \u001b[0mlist\u001b[0m\u001b[1;33m(\u001b[0m\u001b[0mmap\u001b[0m\u001b[1;33m(\u001b[0m\u001b[1;32mlambda\u001b[0m \u001b[0mdoc\u001b[0m\u001b[1;33m:\u001b[0m \u001b[0mdocument_to_lda_features\u001b[0m\u001b[1;33m(\u001b[0m\u001b[0mLDAmodel\u001b[0m\u001b[1;33m,\u001b[0m \u001b[0mdoc\u001b[0m\u001b[1;33m)\u001b[0m\u001b[1;33m,\u001b[0m \u001b[0manalysis_df\u001b[0m\u001b[1;33m.\u001b[0m\u001b[0mbow\u001b[0m\u001b[1;33m)\u001b[0m\u001b[1;33m)\u001b[0m\u001b[1;33m\u001b[0m\u001b[0m\n\u001b[0m",
      "\u001b[1;32m<ipython-input-78-d9571618819d>\u001b[0m in \u001b[0;36m<lambda>\u001b[1;34m(doc)\u001b[0m\n\u001b[0;32m      8\u001b[0m     \u001b[1;32mreturn\u001b[0m \u001b[0mtopic_importances\u001b[0m\u001b[1;33m[\u001b[0m\u001b[1;33m:\u001b[0m\u001b[1;33m,\u001b[0m\u001b[1;36m1\u001b[0m\u001b[1;33m]\u001b[0m\u001b[1;33m\u001b[0m\u001b[0m\n\u001b[0;32m      9\u001b[0m \u001b[1;33m\u001b[0m\u001b[0m\n\u001b[1;32m---> 10\u001b[1;33m \u001b[0manalysis_df\u001b[0m\u001b[1;33m[\u001b[0m\u001b[1;34m'lda_features'\u001b[0m\u001b[1;33m]\u001b[0m \u001b[1;33m=\u001b[0m \u001b[0mlist\u001b[0m\u001b[1;33m(\u001b[0m\u001b[0mmap\u001b[0m\u001b[1;33m(\u001b[0m\u001b[1;32mlambda\u001b[0m \u001b[0mdoc\u001b[0m\u001b[1;33m:\u001b[0m \u001b[0mdocument_to_lda_features\u001b[0m\u001b[1;33m(\u001b[0m\u001b[0mLDAmodel\u001b[0m\u001b[1;33m,\u001b[0m \u001b[0mdoc\u001b[0m\u001b[1;33m)\u001b[0m\u001b[1;33m,\u001b[0m \u001b[0manalysis_df\u001b[0m\u001b[1;33m.\u001b[0m\u001b[0mbow\u001b[0m\u001b[1;33m)\u001b[0m\u001b[1;33m)\u001b[0m\u001b[1;33m\u001b[0m\u001b[0m\n\u001b[0m",
      "\u001b[1;31mNameError\u001b[0m: name 'LDAmodel' is not defined"
     ]
    }
   ],
   "source": [
    "def document_to_lda_features(lda_model, document):\n",
    "    \"\"\" Transforms a bag of words document to features.\n",
    "    It returns the proportion of how much each topic was\n",
    "    present in the document.\n",
    "    \"\"\"\n",
    "    topic_importances = LDAmodel.get_document_topics(document, minimum_probability=0)\n",
    "    topic_importances = np.array(topic_importances)\n",
    "    return topic_importances[:,1]\n",
    "\n",
    "analysis_df['lda_features'] = list(map(lambda doc: document_to_lda_features(LDAmodel, doc), analysis_df.bow))"
   ]
  },
  {
   "cell_type": "markdown",
   "metadata": {},
   "source": [
    "Now let's continue with the topic distributions and let's see some words that come with the topics"
   ]
  },
  {
   "cell_type": "code",
   "execution_count": 95,
   "metadata": {},
   "outputs": [],
   "source": [
    "RequestTopicDistribution = analysis_df['lda_features'].mean()"
   ]
  },
  {
   "cell_type": "code",
   "execution_count": 96,
   "metadata": {
    "scrolled": true
   },
   "outputs": [
    {
     "data": {
      "image/png": "[encoded data removed]",
      "text/plain": [
       "<Figure size 1440x432 with 1 Axes>"
      ]
     },
     "metadata": {
      "needs_background": "light"
     },
     "output_type": "display_data"
    }
   ],
   "source": [
    "fig, ax1 = plt.subplots(1,1,figsize=(20,6))\n",
    "nr_top_bars = 10\n",
    "ax1.set_title(\"Request Topic distributions\", fontsize=16)\n",
    "# ax1.text(-15, 0.045, \"Average Probability of Topic\", fontsize=16, ha=\"center\", va=\"center\", rotation=\"vertical\")\n",
    "\n",
    "for ax, distribution, color in zip([ax1], [RequestTopicDistribution], ['r']):\n",
    "    # Individual distribution barplots\n",
    "    ax.bar(range(len(distribution)), distribution, alpha=0.7)\n",
    "    rects = ax.patches\n",
    "    for i in np.argsort(distribution)[-nr_top_bars:]:\n",
    "        rects[i].set_color(color)\n",
    "        rects[i].set_alpha(1)\n",
    "    # General plotting adjustments\n",
    "#     ax.set_xlim(-1, 150)\n",
    "#     ax.set_xticks(range(20,149,20))\n",
    "#     ax.set_xticklabels(range(20,149,20), fontsize=16)\n",
    "\n",
    "fig.tight_layout(h_pad=3.)"
   ]
  },
  {
   "cell_type": "markdown",
   "metadata": {},
   "source": [
    "For the sake of classification, it's good to see the top topics. Let's have a look at what words these top topics contain"
   ]
  },
  {
   "cell_type": "code",
   "execution_count": 97,
   "metadata": {},
   "outputs": [],
   "source": [
    "def get_topic_top_words(lda_model, topic_id, nr_top_words=7):\n",
    "    \"\"\" Returns the top words for topic_id from lda_model.\n",
    "    \"\"\"\n",
    "    id_tuples = lda_model.get_topic_terms(topic_id, topn=nr_top_words)\n",
    "    word_ids = np.array(id_tuples)[:,0]\n",
    "    words = map(lambda id_: lda_model.id2word[id_], word_ids)\n",
    "    return words\n",
    "\n",
    "def get_topics_and_prob(lda_model, topic_id, nr_top_words=7):\n",
    "    id_tuples = lda_model.print_topics(-1)\n",
    "    topic_ids = np.array(id_tuples)[:,0]\n",
    "    word_tuples = np.array(id_tuples)[:,1]\n",
    "    top = dict(zip(topic_ids[:nr_top_words],word_tuples[:nr_top_words]))\n",
    "#     topic_prop = map(lambda x: word_tuples, topic_ids) #map(lambda id_: lda_model.id2word[id_], topic_ids)\n",
    "    return top\n",
    "\n",
    "def get_topic_and_prob(lda_model, topic_id, nr_top_words=7):\n",
    "    id_tuples = lda_model.print_topic(topic_id, topn=nr_top_words)\n",
    "    return id_tuples\n",
    "\n",
    "def get_lda_topics(model, num_topics):\n",
    "    word_dict = {};\n",
    "    for i in sorted(np.argsort(RequestTopicDistribution)[-num_topics:]):\n",
    "        words = model.show_topic(i, topn = 10);\n",
    "        word_dict['Topic # ' + '{:02d}'.format(i)] = [i[0] for i in words];\n",
    "    return pd.DataFrame(word_dict)"
   ]
  },
  {
   "cell_type": "code",
   "execution_count": 98,
   "metadata": {
    "scrolled": false
   },
   "outputs": [
    {
     "name": "stdout",
     "output_type": "stream",
     "text": [
      "Topic: 0\tProb: 0.096, Words: 0.244*\"kass\" + 0.152*\"konting\" + 0.151*\"book\" + 0.077*\"plad\" + 0.053*\"indmeldels\".\n",
      "Topic: 1\tProb: 0.088, Words: 0.167*\"karrieresamtal\" + 0.153*\"husk\" + 0.112*\"velkomstmød\" + 0.095*\"velkomstsamtal\" + 0.082*\"udmeldels\".\n",
      "Topic: 2\tProb: 0.066, Words: 0.170*\"angåend\" + 0.088*\"feriepeng\" + 0.085*\"medlem\" + 0.059*\"medlemsskab\" + 0.048*\"kass\".\n",
      "Topic: 3\tProb: 0.078, Words: 0.135*\"feri\" + 0.101*\"kass\" + 0.101*\"velkommen\" + 0.080*\"frigørelsesattest\" + 0.061*\"opsigels\".\n",
      "Topic: 4\tProb: 0.058, Words: 0.274*\"feriedagpeng\" + 0.115*\"specialsag\" + 0.070*\"efterlønsbevi\" + 0.064*\"selvstændigt\" + 0.062*\"hovederhverv\".\n",
      "Topic: 5\tProb: 0.077, Words: 0.360*\"ansøgn\" + 0.257*\"dagpeng\" + 0.184*\"supplerend\" + 0.045*\"afslag\" + 0.028*\"ferielukn\".\n",
      "Topic: 6\tProb: 0.039, Words: 0.291*\"spørgsmål\" + 0.126*\"søge\" + 0.112*\"feriedagpeng\" + 0.060*\"att\" + 0.047*\"studiemedlem\".\n",
      "Topic: 7\tProb: 0.033, Words: 0.258*\"ledighedserklær\" + 0.101*\"ansættelseskontrakt\" + 0.080*\"uge\" + 0.067*\"attest\" + 0.065*\"godkendels\".\n",
      "Topic: 8\tProb: 0.050, Words: 0.250*\"efterløn\" + 0.111*\"barsel\" + 0.098*\"send\" + 0.095*\"redegørels\" + 0.081*\"mødte\".\n",
      "Topic: 9\tProb: 0.034, Words: 0.151*\"møde\" + 0.111*\"samtal\" + 0.065*\"fejludbet\" + 0.058*\"undersøg\" + 0.058*\"sket\".\n",
      "Topic: 10\tProb: 0.055, Words: 0.162*\"job\" + 0.049*\"dokument\" + 0.044*\"virksomhedspraktik\" + 0.042*\"studerend\" + 0.042*\"ak001\".\n",
      "Topic: 11\tProb: 0.029, Words: 0.161*\"manglend\" + 0.126*\"oplysning\" + 0.110*\"joblog\" + 0.096*\"send\" + 0.092*\"jobloggen\".\n",
      "Topic: 12\tProb: 0.034, Words: 0.224*\"oplysning\" + 0.187*\"giv\" + 0.175*\"bliv\" + 0.175*\"dagpeng\" + 0.116*\"jobsøgningen\".\n",
      "Topic: 13\tProb: 0.037, Words: 0.130*\"arbejd\" + 0.127*\"udlandet\" + 0.115*\"betal\" + 0.091*\"blanket\" + 0.047*\"forbindels\".\n",
      "Topic: 14\tProb: 0.050, Words: 0.523*\"dagpeng\" + 0.125*\"udbet\" + 0.098*\"ansøgn\" + 0.097*\"oplysning\" + 0.096*\"mangler\".\n",
      "Topic: 15\tProb: 0.033, Words: 0.194*\"jobnet\" + 0.175*\"mangler\" + 0.153*\"oplysning\" + 0.143*\"godkendt\" + 0.049*\"tilmeldt\".\n",
      "Topic: 16\tProb: 0.027, Words: 0.117*\"adress\" + 0.104*\"fået\" + 0.067*\"situat\" + 0.062*\"vejledn\" + 0.060*\"danmark\".\n",
      "Topic: 17\tProb: 0.046, Words: 0.405*\"vedrørend\" + 0.117*\"ydelseskort\" + 0.077*\"fejl\" + 0.033*\"afmeld\" + 0.033*\"jobcent\".\n",
      "Topic: 18\tProb: 0.026, Words: 0.233*\"ledig\" + 0.136*\"tid\" + 0.104*\"nedsat\" + 0.085*\"arbejd\" + 0.064*\"sidst\".\n",
      "Topic: 19\tProb: 0.043, Words: 0.232*\"brev\" + 0.156*\"medlemskab\" + 0.115*\"uddannels\" + 0.114*\"nyuddannet\" + 0.076*\"skift\".\n",
      "\n"
     ]
    }
   ],
   "source": [
    "for x in sorted(np.argsort(RequestTopicDistribution)[-52:]):\n",
    "    top_words = get_topic_and_prob(LDAmodel, x, 5) #get_topic_top_words(LDAmodel, x)\n",
    "    print(\"Topic: {0}\\tProb: {1:.3f}, Words: {2}.\".format(x, RequestTopicDistribution.item(x), top_words)) #(x, \", \".join(top_words)))\n",
    "print(\"\")"
   ]
  },
  {
   "cell_type": "code",
   "execution_count": 99,
   "metadata": {},
   "outputs": [
    {
     "data": {
      "text/html": [
       "<div>\n",
       "<style scoped>\n",
       "    .dataframe tbody tr th:only-of-type {\n",
       "        vertical-align: middle;\n",
       "    }\n",
       "\n",
       "    .dataframe tbody tr th {\n",
       "        vertical-align: top;\n",
       "    }\n",
       "\n",
       "    .dataframe thead th {\n",
       "        text-align: right;\n",
       "    }\n",
       "</style>\n",
       "<table border=\"1\" class=\"dataframe\">\n",
       "  <thead>\n",
       "    <tr style=\"text-align: right;\">\n",
       "      <th></th>\n",
       "      <th>Topic # 00</th>\n",
       "      <th>Topic # 01</th>\n",
       "      <th>Topic # 02</th>\n",
       "      <th>Topic # 03</th>\n",
       "      <th>Topic # 04</th>\n",
       "      <th>Topic # 05</th>\n",
       "      <th>Topic # 06</th>\n",
       "      <th>Topic # 07</th>\n",
       "      <th>Topic # 08</th>\n",
       "      <th>Topic # 09</th>\n",
       "      <th>Topic # 10</th>\n",
       "      <th>Topic # 11</th>\n",
       "      <th>Topic # 12</th>\n",
       "      <th>Topic # 13</th>\n",
       "      <th>Topic # 14</th>\n",
       "      <th>Topic # 15</th>\n",
       "      <th>Topic # 16</th>\n",
       "      <th>Topic # 17</th>\n",
       "      <th>Topic # 18</th>\n",
       "      <th>Topic # 19</th>\n",
       "    </tr>\n",
       "  </thead>\n",
       "  <tbody>\n",
       "    <tr>\n",
       "      <th>0</th>\n",
       "      <td>kass</td>\n",
       "      <td>karrieresamtal</td>\n",
       "      <td>angåend</td>\n",
       "      <td>feri</td>\n",
       "      <td>feriedagpeng</td>\n",
       "      <td>ansøgn</td>\n",
       "      <td>spørgsmål</td>\n",
       "      <td>ledighedserklær</td>\n",
       "      <td>efterløn</td>\n",
       "      <td>møde</td>\n",
       "      <td>job</td>\n",
       "      <td>manglend</td>\n",
       "      <td>oplysning</td>\n",
       "      <td>arbejd</td>\n",
       "      <td>dagpeng</td>\n",
       "      <td>jobnet</td>\n",
       "      <td>adress</td>\n",
       "      <td>vedrørend</td>\n",
       "      <td>ledig</td>\n",
       "      <td>brev</td>\n",
       "    </tr>\n",
       "    <tr>\n",
       "      <th>1</th>\n",
       "      <td>konting</td>\n",
       "      <td>husk</td>\n",
       "      <td>feriepeng</td>\n",
       "      <td>kass</td>\n",
       "      <td>specialsag</td>\n",
       "      <td>dagpeng</td>\n",
       "      <td>søge</td>\n",
       "      <td>ansættelseskontrakt</td>\n",
       "      <td>barsel</td>\n",
       "      <td>samtal</td>\n",
       "      <td>dokument</td>\n",
       "      <td>oplysning</td>\n",
       "      <td>giv</td>\n",
       "      <td>udlandet</td>\n",
       "      <td>udbet</td>\n",
       "      <td>mangler</td>\n",
       "      <td>fået</td>\n",
       "      <td>ydelseskort</td>\n",
       "      <td>tid</td>\n",
       "      <td>medlemskab</td>\n",
       "    </tr>\n",
       "    <tr>\n",
       "      <th>2</th>\n",
       "      <td>book</td>\n",
       "      <td>velkomstmød</td>\n",
       "      <td>medlem</td>\n",
       "      <td>velkommen</td>\n",
       "      <td>efterlønsbevi</td>\n",
       "      <td>supplerend</td>\n",
       "      <td>feriedagpeng</td>\n",
       "      <td>uge</td>\n",
       "      <td>send</td>\n",
       "      <td>fejludbet</td>\n",
       "      <td>virksomhedspraktik</td>\n",
       "      <td>joblog</td>\n",
       "      <td>bliv</td>\n",
       "      <td>betal</td>\n",
       "      <td>ansøgn</td>\n",
       "      <td>oplysning</td>\n",
       "      <td>situat</td>\n",
       "      <td>fejl</td>\n",
       "      <td>nedsat</td>\n",
       "      <td>uddannels</td>\n",
       "    </tr>\n",
       "    <tr>\n",
       "      <th>3</th>\n",
       "      <td>plad</td>\n",
       "      <td>velkomstsamtal</td>\n",
       "      <td>medlemsskab</td>\n",
       "      <td>frigørelsesattest</td>\n",
       "      <td>selvstændigt</td>\n",
       "      <td>afslag</td>\n",
       "      <td>att</td>\n",
       "      <td>attest</td>\n",
       "      <td>redegørels</td>\n",
       "      <td>undersøg</td>\n",
       "      <td>studerend</td>\n",
       "      <td>send</td>\n",
       "      <td>dagpeng</td>\n",
       "      <td>blanket</td>\n",
       "      <td>oplysning</td>\n",
       "      <td>godkendt</td>\n",
       "      <td>vejledn</td>\n",
       "      <td>afmeld</td>\n",
       "      <td>arbejd</td>\n",
       "      <td>nyuddannet</td>\n",
       "    </tr>\n",
       "    <tr>\n",
       "      <th>4</th>\n",
       "      <td>indmeldels</td>\n",
       "      <td>udmeldels</td>\n",
       "      <td>kass</td>\n",
       "      <td>opsigels</td>\n",
       "      <td>hovederhverv</td>\n",
       "      <td>ferielukn</td>\n",
       "      <td>studiemedlem</td>\n",
       "      <td>godkendels</td>\n",
       "      <td>mødte</td>\n",
       "      <td>sket</td>\n",
       "      <td>ak001</td>\n",
       "      <td>jobloggen</td>\n",
       "      <td>jobsøgningen</td>\n",
       "      <td>forbindels</td>\n",
       "      <td>mangler</td>\n",
       "      <td>tilmeldt</td>\n",
       "      <td>danmark</td>\n",
       "      <td>jobcent</td>\n",
       "      <td>sidst</td>\n",
       "      <td>skift</td>\n",
       "    </tr>\n",
       "    <tr>\n",
       "      <th>5</th>\n",
       "      <td>arrang</td>\n",
       "      <td>booket</td>\n",
       "      <td>slettet</td>\n",
       "      <td>befordringsgodtgørels</td>\n",
       "      <td>snart</td>\n",
       "      <td>befordringsgodtgørels</td>\n",
       "      <td>karantæn</td>\n",
       "      <td>indsendt</td>\n",
       "      <td>samtal</td>\n",
       "      <td>klage</td>\n",
       "      <td>udfyld</td>\n",
       "      <td>opdat</td>\n",
       "      <td>jobsøgn</td>\n",
       "      <td>period</td>\n",
       "      <td>behandl</td>\n",
       "      <td>arrangementet</td>\n",
       "      <td>udenlandsk</td>\n",
       "      <td>regn</td>\n",
       "      <td>hjælp</td>\n",
       "      <td>endt</td>\n",
       "    </tr>\n",
       "    <tr>\n",
       "      <th>6</th>\n",
       "      <td>karrieresamtal</td>\n",
       "      <td>svar</td>\n",
       "      <td>erklær</td>\n",
       "      <td>samtal</td>\n",
       "      <td>ændring</td>\n",
       "      <td>kollektiv</td>\n",
       "      <td>dagpengesat</td>\n",
       "      <td>deltid</td>\n",
       "      <td>tilbud</td>\n",
       "      <td>kursu</td>\n",
       "      <td>jobsamtal</td>\n",
       "      <td>uddannels</td>\n",
       "      <td>aak</td>\n",
       "      <td>kontig</td>\n",
       "      <td>indbet</td>\n",
       "      <td>statu</td>\n",
       "      <td>aktiv</td>\n",
       "      <td>samtal</td>\n",
       "      <td>barselsdagpeng</td>\n",
       "      <td>dage</td>\n",
       "    </tr>\n",
       "    <tr>\n",
       "      <th>7</th>\n",
       "      <td>tilmeldt</td>\n",
       "      <td>mangler</td>\n",
       "      <td>efterlønsbidrag</td>\n",
       "      <td>velkomstmød</td>\n",
       "      <td>efterløn</td>\n",
       "      <td>feedback</td>\n",
       "      <td>ferieåret</td>\n",
       "      <td>samt</td>\n",
       "      <td>udbet</td>\n",
       "      <td>udbetalingsspecifik</td>\n",
       "      <td>juni</td>\n",
       "      <td>ifm</td>\n",
       "      <td>mødte</td>\n",
       "      <td>konting</td>\n",
       "      <td>syg</td>\n",
       "      <td>københavn</td>\n",
       "      <td>sverig</td>\n",
       "      <td>mail</td>\n",
       "      <td>maj</td>\n",
       "      <td>dato</td>\n",
       "    </tr>\n",
       "    <tr>\n",
       "      <th>8</th>\n",
       "      <td>problem</td>\n",
       "      <td>studiemedlemskab</td>\n",
       "      <td>forlængels</td>\n",
       "      <td>kontrakt</td>\n",
       "      <td>udland</td>\n",
       "      <td>material</td>\n",
       "      <td>tilbagebet</td>\n",
       "      <td>indsend</td>\n",
       "      <td>pension</td>\n",
       "      <td>opkrævn</td>\n",
       "      <td>juli</td>\n",
       "      <td>brug</td>\n",
       "      <td>syg</td>\n",
       "      <td>kopi</td>\n",
       "      <td>phd</td>\n",
       "      <td>kontingentfritagels</td>\n",
       "      <td>dagpengekort</td>\n",
       "      <td>ang</td>\n",
       "      <td>uger</td>\n",
       "      <td>ret</td>\n",
       "    </tr>\n",
       "    <tr>\n",
       "      <th>9</th>\n",
       "      <td>haster</td>\n",
       "      <td>peng</td>\n",
       "      <td>ledigh</td>\n",
       "      <td>forkert</td>\n",
       "      <td>udbetalt</td>\n",
       "      <td>bede</td>\n",
       "      <td>info</td>\n",
       "      <td>frigørelsesattest</td>\n",
       "      <td>tilmeld</td>\n",
       "      <td>jobcentret</td>\n",
       "      <td>løntilskud</td>\n",
       "      <td>afslutningsdato</td>\n",
       "      <td>anmodn</td>\n",
       "      <td>send</td>\n",
       "      <td>august</td>\n",
       "      <td>husk</td>\n",
       "      <td>arbejd</td>\n",
       "      <td>april</td>\n",
       "      <td>vejledn</td>\n",
       "      <td>studi</td>\n",
       "    </tr>\n",
       "  </tbody>\n",
       "</table>\n",
       "</div>"
      ],
      "text/plain": [
       "       Topic # 00        Topic # 01       Topic # 02             Topic # 03  \\\n",
       "0            kass    karrieresamtal          angåend                   feri   \n",
       "1         konting              husk        feriepeng                   kass   \n",
       "2            book       velkomstmød           medlem              velkommen   \n",
       "3            plad    velkomstsamtal      medlemsskab      frigørelsesattest   \n",
       "4      indmeldels         udmeldels             kass               opsigels   \n",
       "5          arrang            booket          slettet  befordringsgodtgørels   \n",
       "6  karrieresamtal              svar           erklær                 samtal   \n",
       "7        tilmeldt           mangler  efterlønsbidrag            velkomstmød   \n",
       "8         problem  studiemedlemskab       forlængels               kontrakt   \n",
       "9          haster              peng           ledigh                forkert   \n",
       "\n",
       "      Topic # 04             Topic # 05    Topic # 06           Topic # 07  \\\n",
       "0   feriedagpeng                 ansøgn     spørgsmål      ledighedserklær   \n",
       "1     specialsag                dagpeng          søge  ansættelseskontrakt   \n",
       "2  efterlønsbevi             supplerend  feriedagpeng                  uge   \n",
       "3   selvstændigt                 afslag           att               attest   \n",
       "4   hovederhverv              ferielukn  studiemedlem           godkendels   \n",
       "5          snart  befordringsgodtgørels      karantæn             indsendt   \n",
       "6        ændring              kollektiv   dagpengesat               deltid   \n",
       "7       efterløn               feedback     ferieåret                 samt   \n",
       "8         udland               material    tilbagebet              indsend   \n",
       "9       udbetalt                   bede          info    frigørelsesattest   \n",
       "\n",
       "   Topic # 08           Topic # 09          Topic # 10       Topic # 11  \\\n",
       "0    efterløn                 møde                 job         manglend   \n",
       "1      barsel               samtal            dokument        oplysning   \n",
       "2        send            fejludbet  virksomhedspraktik           joblog   \n",
       "3  redegørels             undersøg           studerend             send   \n",
       "4       mødte                 sket               ak001        jobloggen   \n",
       "5      samtal                klage              udfyld            opdat   \n",
       "6      tilbud                kursu           jobsamtal        uddannels   \n",
       "7       udbet  udbetalingsspecifik                juni              ifm   \n",
       "8     pension              opkrævn                juli             brug   \n",
       "9     tilmeld           jobcentret          løntilskud  afslutningsdato   \n",
       "\n",
       "     Topic # 12  Topic # 13 Topic # 14           Topic # 15    Topic # 16  \\\n",
       "0     oplysning      arbejd    dagpeng               jobnet        adress   \n",
       "1           giv    udlandet      udbet              mangler          fået   \n",
       "2          bliv       betal     ansøgn            oplysning        situat   \n",
       "3       dagpeng     blanket  oplysning             godkendt       vejledn   \n",
       "4  jobsøgningen  forbindels    mangler             tilmeldt       danmark   \n",
       "5       jobsøgn      period    behandl        arrangementet    udenlandsk   \n",
       "6           aak      kontig     indbet                statu         aktiv   \n",
       "7         mødte     konting        syg            københavn        sverig   \n",
       "8           syg        kopi        phd  kontingentfritagels  dagpengekort   \n",
       "9        anmodn        send     august                 husk        arbejd   \n",
       "\n",
       "    Topic # 17      Topic # 18  Topic # 19  \n",
       "0    vedrørend           ledig        brev  \n",
       "1  ydelseskort             tid  medlemskab  \n",
       "2         fejl          nedsat   uddannels  \n",
       "3       afmeld          arbejd  nyuddannet  \n",
       "4      jobcent           sidst       skift  \n",
       "5         regn           hjælp        endt  \n",
       "6       samtal  barselsdagpeng        dage  \n",
       "7         mail             maj        dato  \n",
       "8          ang            uger         ret  \n",
       "9        april         vejledn       studi  "
      ]
     },
     "execution_count": 99,
     "metadata": {},
     "output_type": "execute_result"
    }
   ],
   "source": [
    "get_lda_topics(LDAmodel, 52)"
   ]
  },
  {
   "cell_type": "markdown",
   "metadata": {},
   "source": [
    "#### How to interpret the result\n",
    "Topic: 0 is represented as: 0.053*\"frigørelsesattest\" + 0.049*\"kontrakt\" + 0.041*\"vedhæftet\" + 0.031*\"ansættelseskontrakt\" + 0.024*\"fremsend\" + 0.022*\"kopi\" + 0.021*\"underskrevet\" + 0.020*\"sender\" + 0.018*\"dagpeng\" + 0.017*\"supplerend\".\n",
    "It means the top 10 words that contribute to this topic is: 'frigørelsesattest', 'kontrakt', 'vedhæftet', 'ansættelseskontrakt' and so on and the weight of 'frigørelsesattest' on topic 0 is 0.053.\n",
    "\n",
    "The weight is a reflection on how important a keywords is to that topic. Looking at the 10 ten words for topic 0, we could topic 0 as 'Kontrakt' or 'Kontrakt assistance'\n",
    "\n",
    "The exercise is to look at the words for each topic, and then summarize the topic with a common defining term."
   ]
  },
  {
   "cell_type": "markdown",
   "metadata": {},
   "source": [
    "### Compute Model Perplexity and Coherence Score\n",
    "Model perplexity and topic coherence provide a convenient measure to judge how good a given topic model is."
   ]
  },
  {
   "cell_type": "code",
   "execution_count": null,
   "metadata": {},
   "outputs": [],
   "source": [
    "# analysis_df.dtypes\n",
    "analysis_df.isnull().sum()"
   ]
  },
  {
   "cell_type": "code",
   "execution_count": null,
   "metadata": {},
   "outputs": [],
   "source": [
    "# Compute Perplexity\n",
    "print('\\nPerplexity: ', LDAmodel.log_perplexity(corpus))  # a measure of how good the model is. lower the better."
   ]
  },
  {
   "cell_type": "code",
   "execution_count": null,
   "metadata": {},
   "outputs": [],
   "source": [
    "# Compute Coherence Score using UMass Measure\n",
    "coherence_model_lda = CoherenceModel(model=LDAmodel, corpus=corpus, texts=analysis_df['lemmatized_text'], dictionary=dictionary, coherence='u_mass')\n",
    "coherence_lda = coherence_model_lda.get_coherence()\n",
    "print('\\nCoherence Score: ', coherence_lda)"
   ]
  },
  {
   "cell_type": "code",
   "execution_count": null,
   "metadata": {},
   "outputs": [],
   "source": [
    "# Compute Coherence Score using u_mass Measure\n",
    "coherence_model_lda = CoherenceModel(model=LDAmodel, corpus=corpus, dictionary=dictionary, coherence='u_mass')\n",
    "coherence_lda = coherence_model_lda.get_coherence()\n",
    "print('\\nCoherence Score: ', coherence_lda)"
   ]
  },
  {
   "cell_type": "code",
   "execution_count": null,
   "metadata": {},
   "outputs": [],
   "source": [
    "# Compute Coherence Score using c_v Measure\n",
    "coherence_model_lda = CoherenceModel(model=LDAmodel, texts=analysis_df['lemmatized_text'], dictionary=dictionary, coherence='c_v')\n",
    "coherence_lda = coherence_model_lda.get_coherence()\n",
    "print('\\nCoherence Score: ', coherence_lda)"
   ]
  }
 ],
 "metadata": {
  "kernelspec": {
   "display_name": "Python [conda env:akademikernes_diagnostic]",
   "language": "python",
   "name": "conda-env-akademikernes_diagnostic-py"
  },
  "language_info": {
   "codemirror_mode": {
    "name": "ipython",
    "version": 3
   },
   "file_extension": ".py",
   "mimetype": "text/x-python",
   "name": "python",
   "nbconvert_exporter": "python",
   "pygments_lexer": "ipython3",
   "version": "3.6.6"
  }
 },
 "nbformat": 4,
 "nbformat_minor": 2
}
