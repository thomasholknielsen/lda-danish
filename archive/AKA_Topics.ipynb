{
 "cells": [
  {
   "cell_type": "code",
   "execution_count": null,
   "metadata": {},
   "outputs": [],
   "source": [
    "# common\n",
    "import pandas as pd\n",
    "import numpy as np\n",
    "import re\n",
    "from bs4 import BeautifulSoup\n",
    "import pyodbc\n",
    "from collections import Counter\n",
    "from datetime import datetime\n",
    "\n",
    "# visualization imports\n",
    "from IPython.display import display\n",
    "import seaborn as sns\n",
    "import pyLDAvis\n",
    "import pyLDAvis.gensim  # don't skip this\n",
    "import matplotlib.pyplot as plt\n",
    "import matplotlib.image as mpimg\n",
    "plt.rcParams['image.cmap'] = 'gray'\n",
    "import base64\n",
    "import io\n",
    "%matplotlib inline\n",
    "sns.set()  # defines the style of the plots to be seaborn style\n",
    "\n",
    "# languange processing imports\n",
    "import nltk\n",
    "from nltk import wordpunct_tokenize\n",
    "from nltk.corpus import stopwords\n",
    "from googletrans import Translator\n",
    "from gensim.corpora import Dictionary\n",
    "\n",
    "# preprocessing imports\n",
    "from sklearn.preprocessing import LabelEncoder\n",
    "from sklearn import metrics\n",
    "from sklearn.metrics.pairwise import cosine_similarity\n",
    "from sklearn.feature_extraction.text import TfidfVectorizer, CountVectorizer\n",
    "from scipy.spatial.distance import cdist\n",
    "\n",
    "from gensim.corpora import MmCorpus\n",
    "from gensim.test.utils import get_tmpfile\n",
    "\n",
    "# model imports\n",
    "import gensim\n",
    "from gensim.models.ldamulticore import LdaMulticore\n",
    "from gensim.models.word2vec import Word2Vec\n",
    "from gensim.models import CoherenceModel\n",
    "from sklearn.ensemble import RandomForestClassifier, AdaBoostClassifier\n",
    "from sklearn.linear_model import LogisticRegression\n",
    "from sklearn.cluster import KMeans\n",
    "\n",
    "# hyperparameter training imports\n",
    "from sklearn.model_selection import GridSearchCV\n",
    "\n",
    "# Remove unnecessary warnings\n",
    "pd.options.mode.chained_assignment = None"
   ]
  },
  {
   "cell_type": "markdown",
   "metadata": {},
   "source": [
    "### Modul import"
   ]
  },
  {
   "cell_type": "code",
   "execution_count": 4,
   "metadata": {},
   "outputs": [],
   "source": [
    "# Common\n",
    "import pandas as pd\n",
    "import numpy as np\n",
    "\n",
    "# Text processing\n",
    "import re\n",
    "from bs4 import BeautifulSoup\n",
    "import nltk\n",
    "\n",
    "# Visualization modules\n",
    "import matplotlib.pyplot as plt\n",
    "\n",
    "# Model modules\n",
    "from sklearn.feature_extraction.text import TfidfVectorizer#, CountVectorizer\n",
    "from sklearn.metrics.pairwise import cosine_similarity\n",
    "from scipy.spatial.distance import cdist\n",
    "from sklearn.cluster import KMeans\n",
    "from gensim.corpora import Dictionary\n",
    "from gensim.corpora import MmCorpus\n",
    "from gensim.test.utils import get_tmpfile\n",
    "from gensim.test.utils import datapath\n",
    "from gensim.models.ldamulticore import LdaMulticore\n",
    "\n",
    "# Remove unnecessary warnings\n",
    "pd.options.mode.chained_assignment = None\n"
   ]
  },
  {
   "cell_type": "markdown",
   "metadata": {},
   "source": [
    "### Load Functions"
   ]
  },
  {
   "cell_type": "code",
   "execution_count": 1,
   "metadata": {},
   "outputs": [],
   "source": [
    "def PlotValueCounts(df, column, topx=None):\n",
    "    counts = df[column].value_counts()\n",
    "    if topx:\n",
    "        counts = counts[:topx,]\n",
    "        title = 'Top {0} {1}'.format(topx, column)\n",
    "    else:\n",
    "        title = 'Rank of '.format(column)\n",
    "    plt.figure(figsize=(10,8))\n",
    "    sns.barplot(counts.values, counts.index, alpha=0.8)\n",
    "    plt.title('{0}'.format(title))\n",
    "    plt.ylabel(column)\n",
    "    plt.xlabel('No of Occurences')\n",
    "    plt.show()\n",
    "    \n",
    "def SummaryCounts(df):\n",
    "    return df.value_counts()\n",
    "\n",
    "def replace_specific_words(string):\n",
    "    dictionary = {\n",
    "    'vedr.': 'vedrørende',\n",
    "    'vedr ': 'vedrørende ',\n",
    "    'mdr.s': 'måneders',\n",
    "    'mdr': 'måneder',\n",
    "    'medl.': 'medlem',\n",
    "    'o.s.v': 'og så videre',\n",
    "    'm.m.': 'med mere.',\n",
    "    'att ': 'til ',\n",
    "    'att: ': 'til ',\n",
    "    'att.: ': 'til ',\n",
    "    'i.f.m': 'i forbindelse med',\n",
    "    'ph.d.': 'philosophiaedoctor',\n",
    "    ' d.': ' den',\n",
    "    'ang.': 'angående',\n",
    "    ' re ': ' svar ',\n",
    "    ' re:': ' svar',\n",
    "    '/': '/ ',\n",
    "    'email': '',\n",
    "    }\n",
    "    \n",
    "    for word, initial in dictionary.items():\n",
    "        string = string.replace(word.lower(), initial)\n",
    "    \n",
    "    # Remove e-mail, Specify the number of replacements by changing the 4th argument\n",
    "    string = re.sub(r'[\\w\\.-]+@[\\w\\.-]+','',string,0)\n",
    "    \n",
    "    # Remove words that are smaller than 2 letters\n",
    "    string = re.sub(r'\\b\\w{1,2}\\b', '',string)\n",
    "    \n",
    "    return string\n",
    "\n",
    "def remove_standard_greetings(string):\n",
    "    \"\"\" Removes\n",
    "        Dear Name\n",
    "        Dear Name Last\n",
    "        Dear Name Middle Last\n",
    "        and the newline right after\n",
    "    \"\"\"\n",
    "    # Remove all start greeetings + name\n",
    "    reg_rm_dear = r'\\b(kære|hej|hejsa|hello|hi)\\s?(\\w[a-zA-Z\\w.-]{2,}|\\w[a-zA-Z\\w.-]{2,}\\s\\w[a-zA-Z\\w.-]{0,}|\\w[a-zA-Z\\w.-]{2,}\\s\\w[a-zA-Z\\w.-]{0,}\\s\\w[a-zA-Z\\w.-]{2,})?.?[\\n]'\n",
    "    string = re.sub(reg_rm_dear,'', str(string.lower()))\n",
    "    \n",
    "    # Remove all after curtisy + name\n",
    "    reg_rm_regads = r'(\\b(mvh|hilsen|venlig|med\\svenlig\\shilsen).*)'\n",
    "    start_of_regards = re.findall(reg_rm_regads, string)\n",
    "    \n",
    "    if len(start_of_regards) > 0 and start_of_regards[0] is not None:\n",
    "        start_of_regards = list(start_of_regards[0])[0]\n",
    "        string = string[:string.find(start_of_regards)].strip()\n",
    "    \n",
    "    return string\n",
    "\n",
    "def clean_text(text):\n",
    "    \"Parse HTML using BeautifulSoup and return the text\"\n",
    "    text = re.sub('</p><p>','</p>.\\n<p>', str(text))\n",
    "    text = BeautifulSoup(text, 'html.parser').get_text()\n",
    "    text = remove_standard_greetings(text)\n",
    "    words = text.lower().split()\n",
    "    return ' '.join(words)\n",
    "\n",
    "def clean_df(df_import):\n",
    "    \"\"\"\n",
    "    0. Remove rows with empty columns\n",
    "    1. Rename column names\n",
    "    2. Pivot columns\n",
    "    3. Remove rows containing NaN and None\n",
    "    4. Convert HTML to text\n",
    "    5. Reset index\n",
    "    \n",
    "    \"\"\"\n",
    "    df_clean = df_import.copy(deep=True)\n",
    "    df_clean = df_clean[(pd.notnull(df_clean['BeskedTråd_Emne'])) & (pd.notnull(df_clean['Besked_Tekst']))]\n",
    "    df_clean.rename(columns={\n",
    "        'BeskedTråd_ID': 'BeskedTråd_ID',\n",
    "        'BeskedTråd_OprettetFraBrev': 'OprettetFraBrev',\n",
    "        'BeskedTråd_TotalAntalBeskeder':'TrådTotalAntalBeskeder',\n",
    "        'BeskedTråd_Emne': 'Emne',\n",
    "        'BeskedTråd_TeamAnsvarlig': 'TeamAnsvarlig',\n",
    "        'Besked_ID': 'Besked_ID',\n",
    "        'Besked_Tekst':'Henvendelse',\n",
    "        'Besked_Retning': 'Retning',\n",
    "        'Besked_SendtDato': 'SendtDato'}\n",
    "                    , inplace=True)\n",
    "    # Select which columns not to pivot. The rest are pivoted\n",
    "    df_clean = df_clean.melt(id_vars=['BeskedTråd_ID','OprettetFraBrev','TrådTotalAntalBeskeder','TeamAnsvarlig','Besked_ID','Retning','SendtDato'])\n",
    "    df_clean.rename(columns={'variable': 'BeskedKategori','value':'BeskedIndhold'}, inplace=True)\n",
    "    df_clean['Org_BeskedIndhold'] = df_clean[\"BeskedIndhold\"]\n",
    "    df_clean[\"BeskedIndhold\"]=df_clean.BeskedIndhold.apply(clean_text) # Convert from HTML\n",
    "#     df_clean[\"BeskedIndhold\"]=df_clean.BeskedIndhold.apply(remove_standard_greetings) # Remove greetings\n",
    "    df_clean[\"BeskedIndhold\"]=df_clean.BeskedIndhold.apply(replace_specific_words) # Replace specific words\n",
    "    df_clean['CharCount_BeskedIndhold'] = df_clean['BeskedIndhold'].apply(len)\n",
    "    df_clean['LessThan5000'] = df_clean['CharCount_BeskedIndhold'] < 5000\n",
    "    \n",
    "    df_clean = df_clean[df_clean['BeskedIndhold']!='nan'] # Remove Missing data\n",
    "    df_clean = df_clean.reset_index(drop=True)\n",
    "    return df_clean"
   ]
  },
  {
   "cell_type": "code",
   "execution_count": 49,
   "metadata": {},
   "outputs": [],
   "source": [
    "def preprocess_string(text):\n",
    "    \"Takes a string, and prepares in a format to be taken by the LDAmodel for prediction\"\n",
    "    # df_data_prep\n",
    "    text = clean_text(text) # \"Parse HTML using BeautifulSoup and return the text\"\n",
    "#     text = remove_standard_greetings(text) # Remove start greeting\n",
    "    text = replace_specific_words(text) # replace accronyms\n",
    "    \n",
    "    stopwords = nltk.corpus.stopwords.words('danish')\n",
    "    dk_addition = [line.rstrip('\\n') for line in open('data/danish_stopwords.txt')]\n",
    "    dk_start_stop_message_words = ['kære','hilsen', 'mvh', 'venlig','tusind','tak']\n",
    "    dk_addition.extend(dk_start_stop_message_words)\n",
    "    \n",
    "    customer_specific_words = ['akasse','aka','akademikernes','!','akadk']\n",
    "    dk_addition.extend(customer_specific_words)\n",
    "        \n",
    "    stopwords.extend(dk_addition)\n",
    "    stopwords = list(set(stopwords))\n",
    "    \n",
    "    \n",
    "    # lda_get_good_tokens\n",
    "    text = text.lower()\n",
    "    text = nltk.word_tokenize(text)\n",
    "    \n",
    "    # get_good_tokens\n",
    "    text = list(map(lambda t: re.sub(r'[^\\wa-zA-Z0-9!?]+', '', t), text))\n",
    "    text = list(filter(lambda token: not token.isdigit(), text))\n",
    "\n",
    "    # remove_stopwords(df)\n",
    "    text = list(filter(lambda t: t not in stopwords, text))\n",
    "    text = list(filter(None, text))    \n",
    "    \n",
    "    # stem_words(df)\n",
    "    lemm = nltk.stem.WordNetLemmatizer()\n",
    "    text = list(map(lambda t: lemm.lemmatize(t), text))\n",
    "\n",
    "    p_stemmer = nltk.stem.porter.PorterStemmer()\n",
    "    text = list(map(lambda t: p_stemmer.stem(t), text))\n",
    "    \n",
    "    return text\n",
    "\n",
    "\n",
    "def get_good_tokens(sentence):\n",
    "    replaced_punctation = list(map(lambda token: re.sub(r'[^\\wa-zA-Z0-9!?]+', '', token), sentence))\n",
    "    removed_punctation = list(filter(lambda token: token, replaced_punctation))\n",
    "    removed_punctation = list(filter(lambda token: not token.isdigit(), replaced_punctation))\n",
    "    removed_empty = list(filter(None, removed_punctation))\n",
    "    return removed_empty\n",
    "\n",
    "def lda_get_good_tokens(df, col_name):\n",
    "    df['text'] = df[col_name].str.lower()\n",
    "    df['tokenized_text'] = list(map(nltk.word_tokenize, df[col_name]))\n",
    "    df['tokenized_text'] = list(map(get_good_tokens, df.tokenized_text))\n",
    "    \n",
    "\n",
    "def df_data_prep(df, col_name):\n",
    "    org = 'Org_'.format(col_name)\n",
    "    df[org] = df[col_name]\n",
    "    df[col_name]=df[col_name].apply(clean_text) # Convert from HTML\n",
    "    df[col_name]=df[col_name].apply(replace_specific_words) # Replace specific words\n",
    "    charcount = 'CharCount_{}'.format(col_name)\n",
    "    df[charcount] = df[col_name].apply(len)\n",
    "    df['LessThan5000'] = df[charcount] < 5000\n",
    "\n",
    "# find and remove non-ascii words\n",
    "# I stored our special word in a variable for later use\n",
    "our_special_word = 'qwerty'\n",
    "\n",
    "def remove_ascii_words(df, col_name):\n",
    "    \"\"\" removes non-ascii characters from the 'texts' column in df.\n",
    "    It returns the words containig non-ascii characers.\n",
    "    \"\"\"\n",
    "    non_ascii_words = []\n",
    "    for i in range(len(df)):\n",
    "        for word in df.loc[i, col_name].split(' '):\n",
    "            if any([ord(character) >= 128 for character in word]):\n",
    "                non_ascii_words.append(word)\n",
    "                df.loc[i, col_name] = df.loc[i, col_name].replace(word, our_special_word)\n",
    "    return non_ascii_words\n",
    "\n",
    "# non_ascii_words = remove_ascii_words(df, 'RequestContent')\n",
    "\n",
    "# def remove_stopwords(df):\n",
    "#     \"\"\" Removes stopwords based on a known set of stopwords\n",
    "#     available in the nltk package. In addition, we include our\n",
    "#     made up word in here.\n",
    "#     \"\"\"\n",
    "#     # Luckily nltk already has a set of stopwords that we can remove from the texts.\n",
    "#     stopwords = nltk.corpus.stopwords.words('danish')\n",
    "#     dk_addition = [line.rstrip('\\n') for line in open('data/danish_stopwords.txt')]\n",
    "#     dk_start_stop_message_words = ['hilsen', 'mvh', 'venlig','tusind','tak']\n",
    "#     dk_addition.extend(dk_start_stop_message_words)\n",
    "#     stopwords.extend(dk_addition)\n",
    "#     stopwords = list(set(stopwords))\n",
    "#     # we'll add our own special word in here 'qwerty'\n",
    "# #     stopwords.append(our_special_word)\n",
    "\n",
    "#     df['stopwords_removed'] = list(map(lambda doc:\n",
    "#                                        [word for word in doc if word not in stopwords],\n",
    "#                                        df['tokenized_text']))\n",
    "\n",
    "def remove_stopwords(df):\n",
    "    \"\"\" Removes stopwords based on a known set of stopwords\n",
    "    available in the nltk package. In addition, we include our\n",
    "    made up word in here.\n",
    "    \"\"\"\n",
    "    # Luckily nltk already has a set of stopwords that we can remove from the texts.\n",
    "    stopwords = nltk.corpus.stopwords.words('danish')\n",
    "    dk_addition = [line.rstrip('\\n') for line in open('data/danish_stopwords.txt')]\n",
    "    dk_start_stop_message_words = ['kære','hilsen', 'mvh', 'venlig','tusind','tak']\n",
    "    dk_addition.extend(dk_start_stop_message_words)\n",
    "    \n",
    "    customer_specific_words = ['akasse','aka','akademikernes','?','!','akadk']\n",
    "    dk_addition.extend(customer_specific_words)\n",
    "        \n",
    "    stopwords.extend(dk_addition)\n",
    "    stopwords = list(set(stopwords))\n",
    "    # we'll add our own special word in here 'qwerty'\n",
    "    stopwords.append(our_special_word)\n",
    "\n",
    "    df['stopwords_removed'] = list(map(lambda doc:\n",
    "                                       [word for word in doc if word not in stopwords],\n",
    "                                       df['tokenized_text']))\n",
    "    \n",
    "def stem_words(df):\n",
    "    lemm = nltk.stem.WordNetLemmatizer()\n",
    "    df['lemmatized_text'] = list(map(lambda sentence: list(map(lemm.lemmatize, sentence)), df.stopwords_removed))\n",
    "\n",
    "    p_stemmer = nltk.stem.porter.PorterStemmer()\n",
    "    df['stemmed_text'] = list(map(lambda sentence: list(map(p_stemmer.stem, sentence)), df.lemmatized_text))\n",
    "    \n",
    "\n",
    "def lda_preprocessing(df, col_name):\n",
    "    \"\"\" All the preprocessing steps for LDA are combined in this function.\n",
    "    All mutations are done on the dataframe itself. So this function returns\n",
    "    nothing.\n",
    "    \"\"\"\n",
    "    df_data_prep(df, col_name)\n",
    "    lda_get_good_tokens(df, col_name)\n",
    "    remove_stopwords(df)\n",
    "    stem_words(df)\n",
    "\n",
    "def dictionary_from_stem(df, no_above=None, no_below=None):\n",
    "    \"\"\"Create a dictionary for the model. \n",
    "    Since a computer can't reallly understand what a word means, we need to transform it \n",
    "    into some number the model will be able to work with. \n",
    "    We will use gensim.corpora.Dictionary for this.\n",
    "    -- from gensim.corpora import Dictionary\n",
    "    \"\"\"\n",
    "    dictionary = Dictionary(documents=df.stemmed_text.values)\n",
    "    words_before_filter = len(dictionary.values())\n",
    "    \n",
    "    if no_above is not None and no_below is not None:\n",
    "        dictionary.filter_extremes(no_above=no_above, no_below=no_below)\n",
    "    elif no_above is not None:\n",
    "        dictionary.filter_extremes(no_above=no_above)\n",
    "    elif no_below is not None:\n",
    "        dictionary.filter_extremes(no_below=no_below)\n",
    "        \n",
    "    dictionary.compactify()\n",
    "    words_after_filter = len(dictionary.values())\n",
    "    \n",
    "    return dictionary, words_before_filter, words_after_filter\n",
    "\n",
    "def document_to_bow(df):\n",
    "    \"Make a BoW for every Besked\"\n",
    "    df['bow'] = list(map(lambda doc: dictionary.doc2bow(doc), df.stemmed_text))\n",
    "\n",
    "def document_to_lda_features(lda_model, document):\n",
    "    \"\"\" Transforms a bag of words document to features.\n",
    "    It returns the proportion of how much each topic was\n",
    "    present in the document.\n",
    "    \"\"\"\n",
    "    topic_importances = lda_model.get_document_topics(document, minimum_probability=0)\n",
    "    topic_importances = np.array(topic_importances)\n",
    "    return topic_importances[:,1]\n",
    "\n",
    "def get_topic_top_words(lda_model, topic_id, nr_top_words=7):\n",
    "    \"\"\" Returns the top words for topic_id from lda_model.\n",
    "    \"\"\"\n",
    "    id_tuples = lda_model.get_topic_terms(topic_id, topn=nr_top_words)\n",
    "    word_ids = np.array(id_tuples)[:,0]\n",
    "    words = map(lambda id_: lda_model.id2word[id_], word_ids)\n",
    "    return words\n",
    "\n",
    "def get_topics_and_prob(lda_model, topic_id, nr_top_words=7):\n",
    "    id_tuples = lda_model.print_topics(-1)\n",
    "    topic_ids = np.array(id_tuples)[:,0]\n",
    "    word_tuples = np.array(id_tuples)[:,1]\n",
    "    top = dict(zip(topic_ids[:nr_top_words],word_tuples[:nr_top_words]))\n",
    "#     topic_prop = map(lambda x: word_tuples, topic_ids) #map(lambda id_: lda_model.id2word[id_], topic_ids)\n",
    "    return top\n",
    "\n",
    "def get_topic_and_prob(lda_model, topic_id, nr_top_words=7):\n",
    "    id_tuples = lda_model.print_topic(topic_id, topn=nr_top_words)\n",
    "    return id_tuples\n",
    "\n",
    "def get_lda_topics(model, num_topics, topn=10):\n",
    "    word_dict = {};\n",
    "    for i in sorted(np.argsort(RequestTopicDistribution)[-num_topics:]):\n",
    "        words = model.show_topic(i, topn = topn);\n",
    "        word_dict['Topic # ' + '{:02d}'.format(i)] = [i[0] for i in words];\n",
    "    return pd.DataFrame(word_dict)\n",
    "\n",
    "def preprocess(text):\n",
    "    result = []\n",
    "    for token in gensim.utils.simple_preprocess(text):\n",
    "        if token not in gensim.parsing.preprocessing.STOPWORDS and len(token) > 3:\n",
    "            result.append(lemmatize_stemming(token))\n",
    "    return result\n",
    "\n",
    "def PredictTopicFromString(text, LDAmodel, lda_topic_name_list):\n",
    "    bow_vector = dictionary.doc2bow(preprocess_string(unseen_document))\n",
    "    best_prediction = 0.0001\n",
    "    prediction_index = None\n",
    "    for index, score in sorted(LDAmodel[bow_vector], key=lambda tup: -1*tup[1]):\n",
    "        if score > best_prediction:\n",
    "            prediction_index = index\n",
    "            best_prediction = score\n",
    "    return best_prediction, lda_topic_name_list[prediction_index]#, LDAmodel_lang.print_topic(index, 5)\n",
    "#     print(\"Score: {}\\t Topic: {}\".format(best_prediction, lda_topic_name_list[prediction_index])) #LDAmodel_lang.print_topic(index, 5)))\n",
    "\n",
    "                   \n",
    "def PredictTopicFromBOW(bow_vector, lda_model, lda_topic_name_list):\n",
    "    \"Input a string prepared bow-vector\"\n",
    "    best_prediction = 0\n",
    "    prediction_index = None\n",
    "    for index, score in sorted(lda_model[bow_vector], key=lambda tup: -1*tup[1]):\n",
    "        if score > best_prediction:\n",
    "            prediction_index = index\n",
    "            best_prediction = score\n",
    "#     pred = list(best_prediction, lda_topic_name_list[prediction_index])#, lda_model.print_topic(index, 5)\n",
    "    pred = [best_prediction, prediction_index, lda_topic_name_list[prediction_index]]#, lda_model.print_topic(index, 5)\n",
    "    return pred\n",
    "#     print(\"Score: {}\\t Topic: {}\".format(best_prediction, lda_topic_name_list[prediction_index])) #LDAmodel_lang.print_topic(index, 5)))\n",
    "\n",
    "\n",
    "def lda_prediction(df,lda_model, lda_topic_name_list):\n",
    "    \" Make the followint function into a function that returns the pred_label and pred_prob below\"\n",
    "#     for index, score in sorted(LDAmodel_lang[bow_vector], key=lambda tup: -1*tup[1]):\n",
    "#         print(\"Score: {}\\t Topic: {}\".format(score, lda_model.print_topic(index, 5)))\n",
    "    \n",
    "#     df['bow'] = list(map(lambda doc: dictionary.doc2bow(doc), df.stemmed_text))\n",
    "    df['prediction'] = df['bow'].apply(PredictTopicFromBOW,lda_model=lda_model, lda_topic_name_list=lda_topic_name_list)\n",
    "    df[['pred_probability','pred_index','pred_label']] = pd.DataFrame(df.prediction.values.tolist(), index= df.index)\n",
    "    df.drop(['prediction'], axis=1)\n",
    "    \n",
    "def ListToString(df):\n",
    "    return ', '.join(df)\n",
    "\n",
    "def remove_not_topwords(df_sample, df_population):\n",
    "    \"\"\" Removes stopwords based on a known set of stopwords\n",
    "    available in the nltk package. In addition, we include our\n",
    "    made up word in here.\n",
    "    Parameters:\n",
    "    - no_below (int, optional) – Keep tokens which are contained in at least no_below documents.\n",
    "    - no_above (float, optional) – Keep tokens which are contained in no more than no_above documents (fraction of total corpus size, not an absolute number).\n",
    "    - keep_n (int, optional) – Keep only the first keep_n most frequent tokens.\n",
    "    - keep_tokens (iterable of str) – Iterable of tokens that must stay in dictionary after filtering\n",
    "    \"\"\"\n",
    "    dictionary = Dictionary(documents=df_population.stemmed_text.values) \n",
    "    \n",
    "    # dictionary.filter_extremes(no_above=0.8, no_below=3, keep_n=500, keep_tokens=None)\n",
    "    dictionary.filter_extremes(keep_n=500)\n",
    "\n",
    "    dictionary.compactify()\n",
    "    \n",
    "    top_words = [v for v in dictionary.values()]\n",
    "\n",
    "    top_words = list(set(top_words))\n",
    "\n",
    "    df_sample['OnlyTopWords'] = list(map(lambda doc:\n",
    "                                       [word for word in doc if word in top_words],\n",
    "                                       df_sample['stemmed_text']))\n",
    "    return top_words, dictionary"
   ]
  },
  {
   "cell_type": "code",
   "execution_count": null,
   "metadata": {},
   "outputs": [],
   "source": []
  },
  {
   "cell_type": "code",
   "execution_count": 603,
   "metadata": {},
   "outputs": [],
   "source": [
    "import pandas as pd\n",
    "\n",
    "import re\n",
    "from bs4 import BeautifulSoup\n",
    "import nltk\n",
    "\n",
    "def df_clean_sting(df, col_name):\n",
    "    \"\"\" Cleans 'col_name' in a variaty of ways.\n",
    "        Specificly designed with danish e-mails in mind.\"\"\"\n",
    "\n",
    "    def _clean_html(text):\n",
    "        return BeautifulSoup(text, 'html.parser').get_text()\n",
    "    \n",
    "    replacements = {\n",
    "        'vedr\\.': 'vedrørende',\n",
    "        'vedr': 'vedrørende',\n",
    "        'mdr\\.s': 'måneders',\n",
    "        'mdr': 'måneder',\n",
    "        'medl\\.': 'medlem',\n",
    "        '(o\\.s\\.v\\.|osv\\.)': 'og så videre',\n",
    "        '(m\\.m\\.|mm\\.)': 'med mere.',\n",
    "        '(att|att\\.)': 'til',\n",
    "        'i\\.f\\.m\\.': 'i forbindelse med',\n",
    "        'ph\\.d\\.': 'philosophiaedoctor',\n",
    "        '\\sd\\.': ' den',\n",
    "        'ang\\.': 'angående',\n",
    "        '[\\w\\.-]+@[\\w\\.-]+': '', #remove e-mail\n",
    "        }\n",
    "        \n",
    "    df[col_name]=df[col_name].str.replace('</p><p>','</p>.\\n<p>').astype(str) # Insert newline in paragraphs\n",
    "    df[col_name]=df[col_name].apply(_clean_html) # parse any HTML\n",
    "    df[col_name]=df[col_name].str.lower() # convert text to lower\n",
    "    df[col_name]=df[col_name].str.replace(r'^(\\n*\\s*|\\n*\\S*\\s*)(\\b|\\b\\w)(kære|hej|hejsa|hello|hi|dear)\\s?(\\w[a-zA-Z\\w.-]{2,}|\\w[a-zA-Z\\w.-]{2,}\\s\\w[a-zA-Z\\w.-]{0,}|\\w[a-zA-Z\\w.-]{2,}\\s\\w[a-zA-Z\\w.-]{0,}\\s\\w[a-zA-Z\\w.-]{2,})?.?[\\n]?','') # remove greeting\n",
    "    df[col_name]=df[col_name].str.split(r'(\\b(med\\svenlig\\shilsen|de\\sbedste\\shilsner|mvh|hilsen|venlig|best\\sregards|with\\skind\\sregards|kind\\sregards|with\\sregards|regards|sent\\sfrom\\smy\\s).*)').str[0] # remove everything after polite ending\n",
    "    df[col_name]=df[col_name].str.strip()\n",
    "    df[col_name]=df[col_name].str.replace(r'[\\w\\.-]+@[\\w\\.-]+','') # remove e-mail\n",
    "    df[col_name]=df[col_name].replace(regex=replacements) # replace anything found in the dictionary: replacements\n",
    "\n",
    "\n",
    "def df_make_features_from_string(df, col_name):\n",
    "    \"\"\" Add \n",
    "        - Count of Characters       -> int\n",
    "        - LessThan5000              -> bool\n",
    "        - Count of Question marks   -> int\n",
    "        - 1Question                 -> bool\n",
    "        - Count of Exclamation marks-> int\n",
    "        \"\"\"\n",
    "    charcount = '{}_CharCount'.format(col_name)\n",
    "    df[charcount] = df[col_name].str.len()\n",
    "    lessthan = '{}_LessThan5000'.format(col_name)\n",
    "    df[lessthan] = df[charcount] < 5000\n",
    "    wordcount = '{}_WordCount'.format(col_name)\n",
    "    df[wordcount] = df[col_name].str.split().str.len()\n",
    "    questionmark = '{}_Questionmarks'.format(col_name)\n",
    "    df[questionmark] = df[col_name].str.count('\\?')\n",
    "    onequestion = '{}_1Question'.format(col_name)\n",
    "    df[onequestion] = df[questionmark] == 1\n",
    "    exclamationmark = '{}_Exclamationmarks'.format(col_name)\n",
    "    df[exclamationmark] = df[col_name].str.count('!')\n",
    "\n",
    "def df_get_tokens(df, col_name):\n",
    "    \"\"\" Create tokens of 'col_name \"\"\"\n",
    "    def _token_creator(sentence):\n",
    "        replaced_punctation = list(map(lambda token: re.sub(r'[^\\wa-zA-Z0-9!?]+', '', token), sentence))\n",
    "        removed_punctation = list(filter(lambda token: token, replaced_punctation))\n",
    "        removed_punctation = list(filter(lambda token: not token.isdigit(), replaced_punctation))\n",
    "        removed_empty = list(filter(None, removed_punctation))\n",
    "        return removed_empty\n",
    "\n",
    "    df['tokenized_text'] = list(map(nltk.word_tokenize, df[col_name]))\n",
    "    df['tokenized_text'] = list(map(_token_creator, df.tokenized_text))\n",
    "\n",
    "def df_remove_stopwords(df, col_name):\n",
    "    \"\"\" Removes stopwords based on a known set of stopwords\n",
    "    available in the nltk package. In addition, we include our made up word in here.\n",
    "    Input is a dataframe with a column, containing list of lists.\n",
    "    \"\"\"\n",
    "    # danish stopword list\n",
    "    dk_addition = [line.rstrip('\\n') for line in open('data/danish_stopwords.txt')]\n",
    "    dk_start_stop_message_words = ['kære','hilsen', 'mvh', 'venlig','tusind','tak']\n",
    "    dk_addition.extend(dk_start_stop_message_words)\n",
    "    \n",
    "    # customer specific\n",
    "    customer_specific_words = ['akasse','aka','akademikernes','?','!','akadk']\n",
    "    dk_addition.extend(customer_specific_words)\n",
    "    \n",
    "    # nltk\n",
    "    stopwords = nltk.corpus.stopwords.words('danish')\n",
    "    stopwords.extend(dk_addition)\n",
    "    stopwords = list(set(stopwords))\n",
    "    # we'll add our own special word in here 'qwerty'\n",
    "    stopwords.append(our_special_word)\n",
    "\n",
    "    df['stopwords_removed'] = list(map(lambda doc: [word for word in doc if word not in stopwords], df[col_name]))\n",
    "\n",
    "def df_stem_words(df, col_name):\n",
    "    lemm = nltk.stem.WordNetLemmatizer()\n",
    "    df['lemmatized_text'] = list(map(lambda sentence: list(map(lemm.lemmatize, sentence)), df[col_name]))\n",
    "\n",
    "    p_stemmer = nltk.stem.porter.PorterStemmer()\n",
    "    df['stemmed_text'] = list(map(lambda sentence: list(map(p_stemmer.stem, sentence)), df.lemmatized_text))\n",
    "\n",
    "def df_lda_preprocessing(df, col_name, remove_stopwords=True):\n",
    "    \"\"\" All the preprocessing steps for LDA are combined in this function.\n",
    "    All mutations are done on the dataframe itself. So this function returns\n",
    "    nothing.\n",
    "    \"\"\"\n",
    "    df['text'] = df[col_name]\n",
    "    df_clean_sting(df, 'text')\n",
    "    df_make_features_from_string(df, 'text')\n",
    "\n",
    "    df_get_tokens(df, 'text')\n",
    "    if remove_stopwords:\n",
    "        df_remove_stopwords(df, 'tokenized_text')\n",
    "        df_stem_words(df, 'stopwords_removed')\n",
    "    else:\n",
    "        df_stem_words(df, 'tokenized_text')\n",
    "\n",
    "def lda_preprocess_string(text):\n",
    "    \"Takes a string, and prepares in a format to be taken by the LDAmodel for prediction\"\n",
    "\n",
    "    def remove_standard_greetings(string):\n",
    "        \"\"\" Removes\n",
    "            Dear Name\n",
    "            Dear Name Last\n",
    "            Dear Name Middle Last\n",
    "            and the newline right after\n",
    "        \"\"\"\n",
    "        # Remove all start greeetings + name\n",
    "        reg_rm_dear = r'^(\\n*\\s*|\\n*\\S*\\s*)(\\b|\\b\\w)(kære|hej|hejsa|hello|hi|dear)\\s?(\\w[a-zA-Z\\w.-]{2,}|\\w[a-zA-Z\\w.-]{2,}\\s\\w[a-zA-Z\\w.-]{0,}|\\w[a-zA-Z\\w.-]{2,}\\s\\w[a-zA-Z\\w.-]{0,}\\s\\w[a-zA-Z\\w.-]{2,})?.?[\\n]?'\n",
    "        string = re.sub(reg_rm_dear,'', str(string.lower()))\n",
    "        \n",
    "        # Remove all after curtisy + name\n",
    "        reg_rm_regads = r'(\\b(med\\svenlig\\shilsen|de\\sbedste\\shilsner|mvh|hilsen|venlig|best\\sregards|with\\skind\\sregards|kind\\sregards|with\\sregards|regards|sent\\sfrom\\smy\\s).*)'\n",
    "        start_of_regards = re.findall(reg_rm_regads, string)\n",
    "        \n",
    "        if len(start_of_regards) > 0 and start_of_regards[0] is not None:\n",
    "            start_of_regards = list(start_of_regards[0])[0]\n",
    "            string = string[:string.find(start_of_regards)].strip()\n",
    "        \n",
    "        return string\n",
    "\n",
    "    def clean_text(text):\n",
    "        \"Parse HTML using BeautifulSoup and return the text\"\n",
    "        text = re.sub('</p><p>','</p>.\\n<p>', str(text))\n",
    "        text = BeautifulSoup(text, 'html.parser').get_text()\n",
    "        text = remove_standard_greetings(text)\n",
    "        words = text.lower().split()\n",
    "        return ' '.join(words)\n",
    "    \n",
    "    def replace_specific_words(string):\n",
    "        dictionary = {\n",
    "        'vedr.': 'vedrørende',\n",
    "        'vedr ': 'vedrørende ',\n",
    "        'mdr.s': 'måneders',\n",
    "        'mdr': 'måneder',\n",
    "        'medl.': 'medlem',\n",
    "        'o.s.v': 'og så videre',\n",
    "        'm.m.': 'med mere.',\n",
    "        'att ': 'til ',\n",
    "        'att: ': 'til ',\n",
    "        'att.: ': 'til ',\n",
    "        'i.f.m': 'i forbindelse med',\n",
    "        'ph.d.': 'philosophiaedoctor',\n",
    "        ' d.': ' den',\n",
    "        'ang.': 'angående',\n",
    "        ' re ': ' svar ',\n",
    "        ' re:': ' svar',\n",
    "        }\n",
    "        \n",
    "        for word, initial in dictionary.items():\n",
    "            string = string.replace(word.lower(), initial)\n",
    "        \n",
    "        # Remove e-mail, Specify the number of replacements by changing the 4th argument\n",
    "        string = re.sub(r'[\\w\\.-]+@[\\w\\.-]+','',string,0)\n",
    "        \n",
    "        # Remove words that are smaller than 2 letters\n",
    "        string = re.sub(r'\\b\\w{1,2}\\b', '',string)\n",
    "        \n",
    "        return string\n",
    "\n",
    "    text = clean_text(text) # \"Parse HTML using BeautifulSoup and return the text\"\n",
    "    text = replace_specific_words(text) # replace accronyms\n",
    "    \n",
    "    stopwords = nltk.corpus.stopwords.words('danish')\n",
    "    dk_addition = [line.rstrip('\\n') for line in open('data/danish_stopwords.txt')]\n",
    "    dk_start_stop_message_words = ['kære','hilsen', 'mvh', 'venlig','tusind','tak']\n",
    "    dk_addition.extend(dk_start_stop_message_words)\n",
    "    \n",
    "    customer_specific_words = ['akasse','aka','akademikernes','!','akadk']\n",
    "    dk_addition.extend(customer_specific_words)\n",
    "        \n",
    "    stopwords.extend(dk_addition)\n",
    "    stopwords = list(set(stopwords))\n",
    "    \n",
    "    \n",
    "    # lda_get_good_tokens\n",
    "    text = text.lower()\n",
    "    text = nltk.word_tokenize(text)\n",
    "    \n",
    "    # get_good_tokens\n",
    "    text = list(map(lambda t: re.sub(r'[^\\wa-zA-Z0-9!?]+', '', t), text))\n",
    "    text = list(filter(lambda token: not token.isdigit(), text))\n",
    "\n",
    "    # remove_stopwords(df)\n",
    "    text = list(filter(lambda t: t not in stopwords, text))\n",
    "    text = list(filter(None, text))    \n",
    "    \n",
    "    # stem_words(df)\n",
    "    lemm = nltk.stem.WordNetLemmatizer()\n",
    "    text = list(map(lambda t: lemm.lemmatize(t), text))\n",
    "\n",
    "    p_stemmer = nltk.stem.porter.PorterStemmer()\n",
    "    text = list(map(lambda t: p_stemmer.stem(t), text))\n",
    "    \n",
    "    return text\n",
    "\n",
    "\n",
    "def df_lda_features(lda_model, df, bow=None):\n",
    "    def document_to_lda_features(lda_model, document):\n",
    "        \"\"\" Transforms a bag of words document to features.\n",
    "        It returns the proportion of how much each topic was\n",
    "        present in the document.\n",
    "        \"\"\"\n",
    "        topic_importances = lda_model.get_document_topics(document, minimum_probability=0)\n",
    "        topic_importances = np.array(topic_importances)\n",
    "        return topic_importances[:,1]\n",
    "\n",
    "    if not bow:\n",
    "        bow = df.bow\n",
    "\n",
    "    df['lda_features'] = list(map(lambda doc: document_to_lda_features(LDAmodel_scope, doc), bow))\n",
    "\n",
    "def get_lda_topics(model, num_topics, topn=10):\n",
    "    word_dict = {}\n",
    "    for i in sorted(np.argsort(RequestTopicDistribution)[-num_topics:]):\n",
    "        words = model.show_topic(i, topn = topn)\n",
    "        word_dict['Topic # ' + '{:02d}'.format(i)] = [i[0] for i in words]\n",
    "    return pd.DataFrame(word_dict)\n",
    "\n",
    "def lda_prediction(df,lda_model, lda_topic_name_list):\n",
    "    \" Make the followint function into a function that returns the pred_label and pred_prob below\"\n",
    "#     for index, score in sorted(LDAmodel_lang[bow_vector], key=lambda tup: -1*tup[1]):\n",
    "#         print(\"Score: {}\\t Topic: {}\".format(score, lda_model.print_topic(index, 5)))\n",
    "    \n",
    "    df['bow'] = list(map(lambda doc: dictionary.doc2bow(doc), df.stemmed_text))\n",
    "    df['prediction'] = df['bow'].apply(PredictTopicFromBOW,lda_model=lda_model, lda_topic_name_list=lda_topic_name_list)\n",
    "    df[['pred_probability','pred_index','pred_label']] = pd.DataFrame(df.prediction.values.tolist(), index= df.index)\n",
    "    df.drop(['prediction'], axis=1)"
   ]
  },
  {
   "cell_type": "code",
   "execution_count": 5,
   "metadata": {},
   "outputs": [],
   "source": [
    "from lipht_lda import df_lda_preprocessing, lda_preprocess_string, df_lda_features, get_lda_topics, lda_prediction"
   ]
  },
  {
   "cell_type": "markdown",
   "metadata": {},
   "source": [
    "# Import Data"
   ]
  },
  {
   "cell_type": "code",
   "execution_count": 407,
   "metadata": {},
   "outputs": [],
   "source": [
    "# df_import = pd.read_pickle('data/AKA_rawdata.pkl')\n",
    "# df_import = df_raw.copy(deep=True)"
   ]
  },
  {
   "cell_type": "code",
   "execution_count": 4,
   "metadata": {},
   "outputs": [],
   "source": [
    "df_import = pd.read_pickle('data/AKA_rawdata_df_lda_preprocessed.pkl')"
   ]
  },
  {
   "cell_type": "code",
   "execution_count": 28,
   "metadata": {},
   "outputs": [
    {
     "data": {
      "text/html": [
       "<div>\n",
       "<style scoped>\n",
       "    .dataframe tbody tr th:only-of-type {\n",
       "        vertical-align: middle;\n",
       "    }\n",
       "\n",
       "    .dataframe tbody tr th {\n",
       "        vertical-align: top;\n",
       "    }\n",
       "\n",
       "    .dataframe thead th {\n",
       "        text-align: right;\n",
       "    }\n",
       "</style>\n",
       "<table border=\"1\" class=\"dataframe\">\n",
       "  <thead>\n",
       "    <tr style=\"text-align: right;\">\n",
       "      <th></th>\n",
       "      <th>ThreadID</th>\n",
       "      <th>ThreadCreatedFromLetter</th>\n",
       "      <th>ThreadTotalMessageCount</th>\n",
       "      <th>ThreadStatus</th>\n",
       "      <th>ThreadSubject</th>\n",
       "      <th>ThreadResponsibleDepartment</th>\n",
       "      <th>ThreadResponsibleDepartmentTeam</th>\n",
       "      <th>ThreadHasInteraction</th>\n",
       "      <th>ThreadInitiatedBy</th>\n",
       "      <th>ThreadMessageRank</th>\n",
       "      <th>...</th>\n",
       "      <th>text_Exclamationmarks</th>\n",
       "      <th>tokenized_text</th>\n",
       "      <th>stopwords_removed</th>\n",
       "      <th>lemmatized_text</th>\n",
       "      <th>stemmed_text</th>\n",
       "      <th>bow</th>\n",
       "      <th>prediction</th>\n",
       "      <th>pred_probability</th>\n",
       "      <th>pred_index</th>\n",
       "      <th>pred_label</th>\n",
       "    </tr>\n",
       "  </thead>\n",
       "  <tbody>\n",
       "    <tr>\n",
       "      <th>0</th>\n",
       "      <td>3F206D77-DFB5-E811-82B4-0050569118B0</td>\n",
       "      <td>0</td>\n",
       "      <td>1</td>\n",
       "      <td>Fuldført</td>\n",
       "      <td>Du er tilmeldt et arrangement</td>\n",
       "      <td>Jobmatch</td>\n",
       "      <td>Logistik</td>\n",
       "      <td>0</td>\n",
       "      <td>AKA</td>\n",
       "      <td>1</td>\n",
       "      <td>...</td>\n",
       "      <td>0</td>\n",
       "      <td>[din, booking, er, på, plads, vi, bekræfter, a...</td>\n",
       "      <td>[booking, plads, bekræfter, tilmeldt, studieku...</td>\n",
       "      <td>[booking, plads, bekræfter, tilmeldt, studieku...</td>\n",
       "      <td>[book, plad, bekræfter, tilmeldt, studiekursu,...</td>\n",
       "      <td>[(44, 1), (48, 1), (107, 1), (132, 1), (146, 1...</td>\n",
       "      <td>[0.96564174, 0, Danish]</td>\n",
       "      <td>0.965642</td>\n",
       "      <td>0</td>\n",
       "      <td>Danish</td>\n",
       "    </tr>\n",
       "    <tr>\n",
       "      <th>1</th>\n",
       "      <td>A4B4F902-E4B5-E811-82B4-0050569118B0</td>\n",
       "      <td>0</td>\n",
       "      <td>1</td>\n",
       "      <td>Fuldført</td>\n",
       "      <td>Du er tilmeldt et arrangement</td>\n",
       "      <td>Jobmatch</td>\n",
       "      <td>Logistik</td>\n",
       "      <td>0</td>\n",
       "      <td>AKA</td>\n",
       "      <td>1</td>\n",
       "      <td>...</td>\n",
       "      <td>0</td>\n",
       "      <td>[din, booking, er, på, plads, vi, bekræfter, a...</td>\n",
       "      <td>[booking, plads, bekræfter, tilmeldt, talent, ...</td>\n",
       "      <td>[booking, plads, bekræfter, tilmeldt, talent, ...</td>\n",
       "      <td>[book, plad, bekræfter, tilmeldt, talent, tilr...</td>\n",
       "      <td>[(35, 1), (44, 1), (48, 1), (132, 1), (146, 1)...</td>\n",
       "      <td>[0.8443553, 0, Danish]</td>\n",
       "      <td>0.844355</td>\n",
       "      <td>0</td>\n",
       "      <td>Danish</td>\n",
       "    </tr>\n",
       "    <tr>\n",
       "      <th>2</th>\n",
       "      <td>C7AAAE22-E4B5-E811-82B4-0050569118B0</td>\n",
       "      <td>0</td>\n",
       "      <td>1</td>\n",
       "      <td>Fuldført</td>\n",
       "      <td>Du er tilmeldt et arrangement</td>\n",
       "      <td>Jobmatch</td>\n",
       "      <td>Logistik</td>\n",
       "      <td>0</td>\n",
       "      <td>AKA</td>\n",
       "      <td>1</td>\n",
       "      <td>...</td>\n",
       "      <td>0</td>\n",
       "      <td>[din, booking, er, på, plads, vi, bekræfter, a...</td>\n",
       "      <td>[booking, plads, bekræfter, tilmeldt, talent, ...</td>\n",
       "      <td>[booking, plads, bekræfter, tilmeldt, talent, ...</td>\n",
       "      <td>[book, plad, bekræfter, tilmeldt, talent, tilr...</td>\n",
       "      <td>[(44, 1), (48, 1), (132, 1), (146, 1), (153, 1...</td>\n",
       "      <td>[0.866124, 0, Danish]</td>\n",
       "      <td>0.866124</td>\n",
       "      <td>0</td>\n",
       "      <td>Danish</td>\n",
       "    </tr>\n",
       "    <tr>\n",
       "      <th>3</th>\n",
       "      <td>447AC33F-E6B5-E811-82B4-0050569118B0</td>\n",
       "      <td>0</td>\n",
       "      <td>1</td>\n",
       "      <td>Fuldført</td>\n",
       "      <td>Du er nu afmeldt ventelisten til LinkedIn</td>\n",
       "      <td>Jobmatch</td>\n",
       "      <td>Logistik</td>\n",
       "      <td>0</td>\n",
       "      <td>AKA</td>\n",
       "      <td>1</td>\n",
       "      <td>...</td>\n",
       "      <td>0</td>\n",
       "      <td>[du, er, nu, afmeldt, ventelisten, til, linked...</td>\n",
       "      <td>[afmeldt, ventelisten, linkedin, blevet, tilbu...</td>\n",
       "      <td>[afmeldt, ventelisten, linkedin, blevet, tilbu...</td>\n",
       "      <td>[afmeldt, ventelisten, linkedin, blevet, tilbu...</td>\n",
       "      <td>[(8, 1), (13, 1), (37, 1), (44, 1), (132, 1), ...</td>\n",
       "      <td>[0.9660929, 0, Danish]</td>\n",
       "      <td>0.966093</td>\n",
       "      <td>0</td>\n",
       "      <td>Danish</td>\n",
       "    </tr>\n",
       "    <tr>\n",
       "      <th>4</th>\n",
       "      <td>80A4A5A3-EAB5-E811-82B4-0050569118B0</td>\n",
       "      <td>0</td>\n",
       "      <td>1</td>\n",
       "      <td>Fuldført</td>\n",
       "      <td>Du er nu på venteliste til Mindfulness</td>\n",
       "      <td>Jobmatch</td>\n",
       "      <td>Logistik</td>\n",
       "      <td>0</td>\n",
       "      <td>AKA</td>\n",
       "      <td>1</td>\n",
       "      <td>...</td>\n",
       "      <td>0</td>\n",
       "      <td>[salvador, rodriguez, du, er, nu, på, ventelis...</td>\n",
       "      <td>[salvador, rodriguez, ventelisten, mindfulness...</td>\n",
       "      <td>[salvador, rodriguez, ventelisten, mindfulness...</td>\n",
       "      <td>[salvador, rodriguez, ventelisten, mind, septe...</td>\n",
       "      <td>[(11, 1), (44, 1), (63, 1), (132, 1), (151, 1)...</td>\n",
       "      <td>[0.9462947, 0, Danish]</td>\n",
       "      <td>0.946295</td>\n",
       "      <td>0</td>\n",
       "      <td>Danish</td>\n",
       "    </tr>\n",
       "  </tbody>\n",
       "</table>\n",
       "<p>5 rows × 32 columns</p>\n",
       "</div>"
      ],
      "text/plain": [
       "                               ThreadID  ThreadCreatedFromLetter  \\\n",
       "0  3F206D77-DFB5-E811-82B4-0050569118B0                        0   \n",
       "1  A4B4F902-E4B5-E811-82B4-0050569118B0                        0   \n",
       "2  C7AAAE22-E4B5-E811-82B4-0050569118B0                        0   \n",
       "3  447AC33F-E6B5-E811-82B4-0050569118B0                        0   \n",
       "4  80A4A5A3-EAB5-E811-82B4-0050569118B0                        0   \n",
       "\n",
       "   ThreadTotalMessageCount ThreadStatus  \\\n",
       "0                        1     Fuldført   \n",
       "1                        1     Fuldført   \n",
       "2                        1     Fuldført   \n",
       "3                        1     Fuldført   \n",
       "4                        1     Fuldført   \n",
       "\n",
       "                               ThreadSubject ThreadResponsibleDepartment  \\\n",
       "0              Du er tilmeldt et arrangement                    Jobmatch   \n",
       "1              Du er tilmeldt et arrangement                    Jobmatch   \n",
       "2              Du er tilmeldt et arrangement                    Jobmatch   \n",
       "3  Du er nu afmeldt ventelisten til LinkedIn                    Jobmatch   \n",
       "4     Du er nu på venteliste til Mindfulness                    Jobmatch   \n",
       "\n",
       "  ThreadResponsibleDepartmentTeam  ThreadHasInteraction ThreadInitiatedBy  \\\n",
       "0                        Logistik                     0               AKA   \n",
       "1                        Logistik                     0               AKA   \n",
       "2                        Logistik                     0               AKA   \n",
       "3                        Logistik                     0               AKA   \n",
       "4                        Logistik                     0               AKA   \n",
       "\n",
       "   ThreadMessageRank     ...      text_Exclamationmarks  \\\n",
       "0                  1     ...                          0   \n",
       "1                  1     ...                          0   \n",
       "2                  1     ...                          0   \n",
       "3                  1     ...                          0   \n",
       "4                  1     ...                          0   \n",
       "\n",
       "                                      tokenized_text  \\\n",
       "0  [din, booking, er, på, plads, vi, bekræfter, a...   \n",
       "1  [din, booking, er, på, plads, vi, bekræfter, a...   \n",
       "2  [din, booking, er, på, plads, vi, bekræfter, a...   \n",
       "3  [du, er, nu, afmeldt, ventelisten, til, linked...   \n",
       "4  [salvador, rodriguez, du, er, nu, på, ventelis...   \n",
       "\n",
       "                                   stopwords_removed  \\\n",
       "0  [booking, plads, bekræfter, tilmeldt, studieku...   \n",
       "1  [booking, plads, bekræfter, tilmeldt, talent, ...   \n",
       "2  [booking, plads, bekræfter, tilmeldt, talent, ...   \n",
       "3  [afmeldt, ventelisten, linkedin, blevet, tilbu...   \n",
       "4  [salvador, rodriguez, ventelisten, mindfulness...   \n",
       "\n",
       "                                     lemmatized_text  \\\n",
       "0  [booking, plads, bekræfter, tilmeldt, studieku...   \n",
       "1  [booking, plads, bekræfter, tilmeldt, talent, ...   \n",
       "2  [booking, plads, bekræfter, tilmeldt, talent, ...   \n",
       "3  [afmeldt, ventelisten, linkedin, blevet, tilbu...   \n",
       "4  [salvador, rodriguez, ventelisten, mindfulness...   \n",
       "\n",
       "                                        stemmed_text  \\\n",
       "0  [book, plad, bekræfter, tilmeldt, studiekursu,...   \n",
       "1  [book, plad, bekræfter, tilmeldt, talent, tilr...   \n",
       "2  [book, plad, bekræfter, tilmeldt, talent, tilr...   \n",
       "3  [afmeldt, ventelisten, linkedin, blevet, tilbu...   \n",
       "4  [salvador, rodriguez, ventelisten, mind, septe...   \n",
       "\n",
       "                                                 bow               prediction  \\\n",
       "0  [(44, 1), (48, 1), (107, 1), (132, 1), (146, 1...  [0.96564174, 0, Danish]   \n",
       "1  [(35, 1), (44, 1), (48, 1), (132, 1), (146, 1)...   [0.8443553, 0, Danish]   \n",
       "2  [(44, 1), (48, 1), (132, 1), (146, 1), (153, 1...    [0.866124, 0, Danish]   \n",
       "3  [(8, 1), (13, 1), (37, 1), (44, 1), (132, 1), ...   [0.9660929, 0, Danish]   \n",
       "4  [(11, 1), (44, 1), (63, 1), (132, 1), (151, 1)...   [0.9462947, 0, Danish]   \n",
       "\n",
       "   pred_probability  pred_index  pred_label  \n",
       "0          0.965642           0      Danish  \n",
       "1          0.844355           0      Danish  \n",
       "2          0.866124           0      Danish  \n",
       "3          0.966093           0      Danish  \n",
       "4          0.946295           0      Danish  \n",
       "\n",
       "[5 rows x 32 columns]"
      ]
     },
     "execution_count": 28,
     "metadata": {},
     "output_type": "execute_result"
    }
   ],
   "source": [
    "# Create dataset for method B\n",
    "# Process 1st MemberMessage, then\n",
    "# Concatenate with Subject\n",
    "df_B = df_import.copy(deep=True)\n",
    "df_B.head()"
   ]
  },
  {
   "cell_type": "code",
   "execution_count": 6,
   "metadata": {},
   "outputs": [
    {
     "data": {
      "text/plain": [
       "(1101095, 32)"
      ]
     },
     "execution_count": 6,
     "metadata": {},
     "output_type": "execute_result"
    }
   ],
   "source": [
    "df_B.shape"
   ]
  },
  {
   "cell_type": "code",
   "execution_count": 29,
   "metadata": {},
   "outputs": [
    {
     "name": "stdout",
     "output_type": "stream",
     "text": [
      "(87707, 32)\n",
      "Wall time: 1.31 s\n"
     ]
    }
   ],
   "source": [
    "%%time\n",
    "# df_B = df_B[(df_B['ThreadStatus']=='Fuldført') & (df_B['ThreadMessageDirection']=='Indgående') & (df_B['ThreadMessageIsFirstMemberMessage']==1) & (df_B['ThreadTotalMessageCount']>1) & (df_B['ThreadHasInteraction']>=1) & (df_B['ThreadResponsibleDepartmentTeam']=='Udbetalingsteam') & (df_B['pred_label']=='Danish')]\n",
    "df_B = df_B[(df_B['ThreadStatus']=='Fuldført') & (df_B['ThreadMessageDirection']=='Indgående') & (df_B['ThreadMessageIsFirstMemberMessage']==1) & (df_B['ThreadResponsibleDepartmentTeam'].str.contains('Udbetalingsteam')==True) & (df_B['pred_label']=='Danish')]\n",
    "print(df_B.shape)"
   ]
  },
  {
   "cell_type": "code",
   "execution_count": 30,
   "metadata": {},
   "outputs": [
    {
     "data": {
      "text/plain": [
       "array(['Udbetalingsteam 1 - CPR 01 til 10',\n",
       "       'Udbetalingsteam 2 - CPR 11 til 20',\n",
       "       'Udbetalingsteam 3 - CPR 21 til 31', 'Udbetalingsteam'],\n",
       "      dtype=object)"
      ]
     },
     "execution_count": 30,
     "metadata": {},
     "output_type": "execute_result"
    }
   ],
   "source": [
    "df_B.ThreadResponsibleDepartmentTeam.unique()"
   ]
  },
  {
   "cell_type": "code",
   "execution_count": 537,
   "metadata": {},
   "outputs": [
    {
     "name": "stdout",
     "output_type": "stream",
     "text": [
      "Wall time: 5min 6s\n"
     ]
    }
   ],
   "source": [
    "%%time\n",
    "df_lda_preprocessing(df_B,'ThreadMessageText')"
   ]
  },
  {
   "cell_type": "code",
   "execution_count": 31,
   "metadata": {},
   "outputs": [
    {
     "data": {
      "text/plain": [
       "ThreadID                              0\n",
       "ThreadCreatedFromLetter               0\n",
       "ThreadTotalMessageCount               0\n",
       "ThreadStatus                          0\n",
       "ThreadSubject                        12\n",
       "ThreadResponsibleDepartment           0\n",
       "ThreadResponsibleDepartmentTeam       0\n",
       "ThreadHasInteraction                  0\n",
       "ThreadInitiatedBy                     0\n",
       "ThreadMessageRank                     0\n",
       "ThreadMessageIsFirstMemberMessage     0\n",
       "ThreadMessageIsFirstAKAMessage        0\n",
       "ThreadMessageID                       0\n",
       "ThreadMessageDirection                0\n",
       "ThreadMessageDateCreated              0\n",
       "ThreadMessageText                     0\n",
       "text                                  0\n",
       "text_CharCount                        0\n",
       "text_LessThan5000                     0\n",
       "text_WordCount                        0\n",
       "text_Questionmarks                    0\n",
       "text_1Question                        0\n",
       "text_Exclamationmarks                 0\n",
       "tokenized_text                        0\n",
       "stopwords_removed                     0\n",
       "lemmatized_text                       0\n",
       "stemmed_text                          0\n",
       "bow                                   0\n",
       "prediction                            0\n",
       "pred_probability                      0\n",
       "pred_index                            0\n",
       "pred_label                            0\n",
       "dtype: int64"
      ]
     },
     "execution_count": 31,
     "metadata": {},
     "output_type": "execute_result"
    }
   ],
   "source": [
    "df_B.isnull().sum()"
   ]
  },
  {
   "cell_type": "code",
   "execution_count": 9,
   "metadata": {},
   "outputs": [
    {
     "name": "stdout",
     "output_type": "stream",
     "text": [
      "(142533, 32)\n"
     ]
    }
   ],
   "source": [
    "print(df_B.shape)"
   ]
  },
  {
   "cell_type": "code",
   "execution_count": 33,
   "metadata": {},
   "outputs": [],
   "source": [
    "df_B.to_pickle('data/df_B.pkl')"
   ]
  },
  {
   "cell_type": "markdown",
   "metadata": {},
   "source": [
    "## Analyze Requests\n",
    "Messages are either\n",
    "- Incoming (from members) or\n",
    "- Outgoing (from aka)\n",
    "All messeages have\n",
    "- subject_field and\n",
    "- message_field\n",
    "\n",
    "In the following we will analyze the different splits of data, with regards to the above:\n",
    "- Incoming_subject\n",
    "- Incoming_message\n",
    "- Outgoing_subject\n",
    "- Outgoing_message"
   ]
  },
  {
   "cell_type": "markdown",
   "metadata": {},
   "source": [
    "### Request Analysis: subject_member"
   ]
  },
  {
   "cell_type": "markdown",
   "metadata": {},
   "source": [
    "#### Setup Analysis Parameters"
   ]
  },
  {
   "cell_type": "code",
   "execution_count": 6,
   "metadata": {},
   "outputs": [],
   "source": [
    "dataset = 'df_B'\n",
    "sample_size= 10000\n",
    "no_words= 1000 \n",
    "no_below= 15 # filter out tokens that appear in less than 15 documents\n",
    "random_state=1\n",
    "research_scope = 'Udbetaling'\n",
    "num_topics = 20"
   ]
  },
  {
   "cell_type": "markdown",
   "metadata": {},
   "source": [
    "#### Load the data"
   ]
  },
  {
   "cell_type": "code",
   "execution_count": 7,
   "metadata": {},
   "outputs": [
    {
     "name": "stdout",
     "output_type": "stream",
     "text": [
      "Wall time: 7.63 s\n"
     ]
    }
   ],
   "source": [
    "%%time\n",
    "# Load the data, and print rows, columns\n",
    "df_scope = pd.read_pickle('data/{}.pkl'.format(dataset))"
   ]
  },
  {
   "cell_type": "code",
   "execution_count": 8,
   "metadata": {},
   "outputs": [
    {
     "data": {
      "text/plain": [
       "(87707, 32)"
      ]
     },
     "execution_count": 8,
     "metadata": {},
     "output_type": "execute_result"
    }
   ],
   "source": [
    "df_scope.shape"
   ]
  },
  {
   "cell_type": "code",
   "execution_count": 52,
   "metadata": {},
   "outputs": [
    {
     "name": "stdout",
     "output_type": "stream",
     "text": [
      "Udbetaling_topics-20_Sample-10000_WordCount-1000_RandomState-1_dataset-df_B\n"
     ]
    }
   ],
   "source": [
    "data_scope_name = research_scope +'_topics-'+ str(num_topics) +'_Sample-'+str(sample_size) +'_WordCount-'+str(no_words) +'_RandomState-'+str(random_state)+'_dataset-'+ dataset\n",
    "print(data_scope_name)"
   ]
  },
  {
   "cell_type": "markdown",
   "metadata": {},
   "source": [
    "### Vectorize words"
   ]
  },
  {
   "cell_type": "markdown",
   "metadata": {},
   "source": [
    "#### Create dictionary and top words\n",
    "\n",
    "##### Parameters:\t\n",
    "- **no_below** (int, optional) – Keep tokens which are contained in at least no_below documents.\n",
    "- **no_above** (float, optional) – Keep tokens which are contained in no more than no_above documents (fraction of total corpus size, not an absolute number).\n",
    "- **keep_n** (int, optional) – Keep only the first keep_n most frequent tokens.\n",
    "- **keep_tokens** (iterable of str) – Iterable of tokens that must stay in dictionary after filtering."
   ]
  },
  {
   "cell_type": "code",
   "execution_count": 10,
   "metadata": {},
   "outputs": [
    {
     "name": "stdout",
     "output_type": "stream",
     "text": [
      "Found 76833 words.\n",
      "Wall time: 2.96 s\n"
     ]
    }
   ],
   "source": [
    "%%time\n",
    "# Create dictionary with words from df_scope (the total dataset)\n",
    "dictionary = Dictionary(documents=df_scope.stemmed_text.values)\n",
    "print(\"Found {} words.\".format(len(dictionary.values())))"
   ]
  },
  {
   "cell_type": "code",
   "execution_count": 11,
   "metadata": {},
   "outputs": [
    {
     "name": "stdout",
     "output_type": "stream",
     "text": [
      "Left with 1000 words.\n",
      "Wall time: 144 ms\n"
     ]
    }
   ],
   "source": [
    "%%time\n",
    "# dictionary.filter_extremes(no_above=0.8, no_below=3)\n",
    "dictionary.filter_extremes(no_below=no_below, keep_n=no_words)\n",
    "\n",
    "dictionary.compactify()  # Reindexes the remaining words after filtering\n",
    "print(\"Left with {} words.\".format(len(dictionary.values())))"
   ]
  },
  {
   "cell_type": "code",
   "execution_count": 12,
   "metadata": {},
   "outputs": [],
   "source": [
    "def document_to_bow(df):\n",
    "    \"Make a BoW for every Besked\"\n",
    "    df['bow'] = list(map(lambda doc: dictionary.doc2bow(doc), df.stemmed_text))"
   ]
  },
  {
   "cell_type": "code",
   "execution_count": 13,
   "metadata": {},
   "outputs": [
    {
     "name": "stdout",
     "output_type": "stream",
     "text": [
      "Wall time: 1.88 s\n"
     ]
    }
   ],
   "source": [
    "%%time\n",
    "#Make a BoW for every Besked\n",
    "document_to_bow(df_scope)"
   ]
  },
  {
   "cell_type": "code",
   "execution_count": 14,
   "metadata": {},
   "outputs": [
    {
     "data": {
      "text/plain": [
       "(10000, 32)"
      ]
     },
     "execution_count": 14,
     "metadata": {},
     "output_type": "execute_result"
    }
   ],
   "source": [
    "scope_lda_sample = df_scope.sample(sample_size)\n",
    "scope_lda_sample.shape"
   ]
  },
  {
   "cell_type": "code",
   "execution_count": 15,
   "metadata": {
    "scrolled": true
   },
   "outputs": [
    {
     "data": {
      "text/plain": [
       "array(['ThreadID', 'ThreadCreatedFromLetter', 'ThreadTotalMessageCount',\n",
       "       'ThreadStatus', 'ThreadSubject', 'ThreadResponsibleDepartment',\n",
       "       'ThreadResponsibleDepartmentTeam', 'ThreadHasInteraction',\n",
       "       'ThreadInitiatedBy', 'ThreadMessageRank',\n",
       "       'ThreadMessageIsFirstMemberMessage',\n",
       "       'ThreadMessageIsFirstAKAMessage', 'ThreadMessageID',\n",
       "       'ThreadMessageDirection', 'ThreadMessageDateCreated',\n",
       "       'ThreadMessageText', 'text', 'text_CharCount', 'text_LessThan5000',\n",
       "       'text_WordCount', 'text_Questionmarks', 'text_1Question',\n",
       "       'text_Exclamationmarks', 'tokenized_text', 'stopwords_removed',\n",
       "       'lemmatized_text', 'stemmed_text', 'bow', 'prediction',\n",
       "       'pred_probability', 'pred_index', 'pred_label'], dtype=object)"
      ]
     },
     "execution_count": 15,
     "metadata": {},
     "output_type": "execute_result"
    }
   ],
   "source": [
    "scope_lda_sample.columns.values"
   ]
  },
  {
   "cell_type": "code",
   "execution_count": 16,
   "metadata": {},
   "outputs": [
    {
     "data": {
      "text/html": [
       "<div>\n",
       "<style scoped>\n",
       "    .dataframe tbody tr th:only-of-type {\n",
       "        vertical-align: middle;\n",
       "    }\n",
       "\n",
       "    .dataframe tbody tr th {\n",
       "        vertical-align: top;\n",
       "    }\n",
       "\n",
       "    .dataframe thead th {\n",
       "        text-align: right;\n",
       "    }\n",
       "</style>\n",
       "<table border=\"1\" class=\"dataframe\">\n",
       "  <thead>\n",
       "    <tr style=\"text-align: right;\">\n",
       "      <th></th>\n",
       "      <th>ThreadID</th>\n",
       "      <th>ThreadMessageID</th>\n",
       "      <th>ThreadSubject</th>\n",
       "      <th>ThreadMessageText</th>\n",
       "      <th>text</th>\n",
       "      <th>tokenized_text</th>\n",
       "      <th>stopwords_removed</th>\n",
       "      <th>lemmatized_text</th>\n",
       "      <th>stemmed_text</th>\n",
       "    </tr>\n",
       "  </thead>\n",
       "  <tbody>\n",
       "    <tr>\n",
       "      <th>1067097</th>\n",
       "      <td>D8404B4C-5E8D-E711-BE8E-005056AD2D14</td>\n",
       "      <td>E2404B4C-5E8D-E711-BE8E-005056AD2D14</td>\n",
       "      <td>Vi mangler oplysninger til din ansøgning om da...</td>\n",
       "      <td>\\nHej Steen\\nTak for dit brev.\\nJeg har forsøg...</td>\n",
       "      <td>tak for dit brev.\\njeg har forsøgt at ringe ti...</td>\n",
       "      <td>[tak, for, dit, brev, jeg, har, forsøgt, at, r...</td>\n",
       "      <td>[brev, forsøgt, ringe, par, gange, direkte, nu...</td>\n",
       "      <td>[brev, forsøgt, ringe, par, gange, direkte, nu...</td>\n",
       "      <td>[brev, forsøgt, ring, par, gang, direkt, numme...</td>\n",
       "    </tr>\n",
       "    <tr>\n",
       "      <th>232460</th>\n",
       "      <td>C85EF8D9-D672-E811-82F9-005056AD2D14</td>\n",
       "      <td>D25EF8D9-D672-E811-82F9-005056AD2D14</td>\n",
       "      <td>Spørgsmål</td>\n",
       "      <td>\\nHej med Jer,\\n \\nPga en organisationsændring...</td>\n",
       "      <td>jer,\\n \\npga en organisationsændring på mit nu...</td>\n",
       "      <td>[jer, pga, en, organisationsændring, på, mit, ...</td>\n",
       "      <td>[pga, organisationsændring, nuværende, arbejde...</td>\n",
       "      <td>[pga, organisationsændring, nuværende, arbejde...</td>\n",
       "      <td>[pga, organisationsændr, nuværend, arbejd, sti...</td>\n",
       "    </tr>\n",
       "    <tr>\n",
       "      <th>809957</th>\n",
       "      <td>0DEB3A15-41D0-E611-B361-005056AD2D14</td>\n",
       "      <td>14EB3A15-41D0-E611-B361-005056AD2D14</td>\n",
       "      <td>Tro- og loveerklæring i forbindelse med kollek...</td>\n",
       "      <td>\\nKære Akademikernes\\nVedhæftet sendes Tro- og...</td>\n",
       "      <td>vedhæftet sendes tro- og loveerklæring i forbi...</td>\n",
       "      <td>[vedhæftet, sendes, tro, og, loveerklæring, i,...</td>\n",
       "      <td>[vedhæftet, sendes, tro, loveerklæring, forbin...</td>\n",
       "      <td>[vedhæftet, sendes, tro, loveerklæring, forbin...</td>\n",
       "      <td>[vedhæftet, send, tro, loveerklær, forbindels,...</td>\n",
       "    </tr>\n",
       "    <tr>\n",
       "      <th>661277</th>\n",
       "      <td>097E59F5-E842-E611-B263-005056AD2D14</td>\n",
       "      <td>107E59F5-E842-E611-B263-005056AD2D14</td>\n",
       "      <td>[id:e5R2dzvPEeayYwBQVq0tFA]</td>\n",
       "      <td>\\n\\nHej\\nJeg søger om feriedagpenge for uge 30...</td>\n",
       "      <td>søger om feriedagpenge for uge 30, idet jeg fr...</td>\n",
       "      <td>[søger, om, feriedagpenge, for, uge, idet, jeg...</td>\n",
       "      <td>[søger, feriedagpenge, uge, idet, tidspunkt, o...</td>\n",
       "      <td>[søger, feriedagpenge, uge, idet, tidspunkt, o...</td>\n",
       "      <td>[søger, feriedagpeng, uge, idet, tidspunkt, op...</td>\n",
       "    </tr>\n",
       "    <tr>\n",
       "      <th>572250</th>\n",
       "      <td>20CCBAC5-C61D-E711-AC9F-005056AD2D14</td>\n",
       "      <td>2BCCBAC5-C61D-E711-AC9F-005056AD2D14</td>\n",
       "      <td>Du kan søge om feriedagpenge</td>\n",
       "      <td>\\njeg har et spørgsmål ang. feriedagpenge. \\n ...</td>\n",
       "      <td>jeg har et spørgsmål angående feriedagpenge. \\...</td>\n",
       "      <td>[jeg, har, et, spørgsmål, angående, feriedagpe...</td>\n",
       "      <td>[spørgsmål, angående, feriedagpenge, vœre, sel...</td>\n",
       "      <td>[spørgsmål, angående, feriedagpenge, vœre, sel...</td>\n",
       "      <td>[spørgsmål, angåend, feriedagpeng, vœre, selvs...</td>\n",
       "    </tr>\n",
       "  </tbody>\n",
       "</table>\n",
       "</div>"
      ],
      "text/plain": [
       "                                     ThreadID  \\\n",
       "1067097  D8404B4C-5E8D-E711-BE8E-005056AD2D14   \n",
       "232460   C85EF8D9-D672-E811-82F9-005056AD2D14   \n",
       "809957   0DEB3A15-41D0-E611-B361-005056AD2D14   \n",
       "661277   097E59F5-E842-E611-B263-005056AD2D14   \n",
       "572250   20CCBAC5-C61D-E711-AC9F-005056AD2D14   \n",
       "\n",
       "                              ThreadMessageID  \\\n",
       "1067097  E2404B4C-5E8D-E711-BE8E-005056AD2D14   \n",
       "232460   D25EF8D9-D672-E811-82F9-005056AD2D14   \n",
       "809957   14EB3A15-41D0-E611-B361-005056AD2D14   \n",
       "661277   107E59F5-E842-E611-B263-005056AD2D14   \n",
       "572250   2BCCBAC5-C61D-E711-AC9F-005056AD2D14   \n",
       "\n",
       "                                             ThreadSubject  \\\n",
       "1067097  Vi mangler oplysninger til din ansøgning om da...   \n",
       "232460                                           Spørgsmål   \n",
       "809957   Tro- og loveerklæring i forbindelse med kollek...   \n",
       "661277                         [id:e5R2dzvPEeayYwBQVq0tFA]   \n",
       "572250                        Du kan søge om feriedagpenge   \n",
       "\n",
       "                                         ThreadMessageText  \\\n",
       "1067097  \\nHej Steen\\nTak for dit brev.\\nJeg har forsøg...   \n",
       "232460   \\nHej med Jer,\\n \\nPga en organisationsændring...   \n",
       "809957   \\nKære Akademikernes\\nVedhæftet sendes Tro- og...   \n",
       "661277   \\n\\nHej\\nJeg søger om feriedagpenge for uge 30...   \n",
       "572250   \\njeg har et spørgsmål ang. feriedagpenge. \\n ...   \n",
       "\n",
       "                                                      text  \\\n",
       "1067097  tak for dit brev.\\njeg har forsøgt at ringe ti...   \n",
       "232460   jer,\\n \\npga en organisationsændring på mit nu...   \n",
       "809957   vedhæftet sendes tro- og loveerklæring i forbi...   \n",
       "661277   søger om feriedagpenge for uge 30, idet jeg fr...   \n",
       "572250   jeg har et spørgsmål angående feriedagpenge. \\...   \n",
       "\n",
       "                                            tokenized_text  \\\n",
       "1067097  [tak, for, dit, brev, jeg, har, forsøgt, at, r...   \n",
       "232460   [jer, pga, en, organisationsændring, på, mit, ...   \n",
       "809957   [vedhæftet, sendes, tro, og, loveerklæring, i,...   \n",
       "661277   [søger, om, feriedagpenge, for, uge, idet, jeg...   \n",
       "572250   [jeg, har, et, spørgsmål, angående, feriedagpe...   \n",
       "\n",
       "                                         stopwords_removed  \\\n",
       "1067097  [brev, forsøgt, ringe, par, gange, direkte, nu...   \n",
       "232460   [pga, organisationsændring, nuværende, arbejde...   \n",
       "809957   [vedhæftet, sendes, tro, loveerklæring, forbin...   \n",
       "661277   [søger, feriedagpenge, uge, idet, tidspunkt, o...   \n",
       "572250   [spørgsmål, angående, feriedagpenge, vœre, sel...   \n",
       "\n",
       "                                           lemmatized_text  \\\n",
       "1067097  [brev, forsøgt, ringe, par, gange, direkte, nu...   \n",
       "232460   [pga, organisationsændring, nuværende, arbejde...   \n",
       "809957   [vedhæftet, sendes, tro, loveerklæring, forbin...   \n",
       "661277   [søger, feriedagpenge, uge, idet, tidspunkt, o...   \n",
       "572250   [spørgsmål, angående, feriedagpenge, vœre, sel...   \n",
       "\n",
       "                                              stemmed_text  \n",
       "1067097  [brev, forsøgt, ring, par, gang, direkt, numme...  \n",
       "232460   [pga, organisationsændr, nuværend, arbejd, sti...  \n",
       "809957   [vedhæftet, send, tro, loveerklær, forbindels,...  \n",
       "661277   [søger, feriedagpeng, uge, idet, tidspunkt, op...  \n",
       "572250   [spørgsmål, angåend, feriedagpeng, vœre, selvs...  "
      ]
     },
     "execution_count": 16,
     "metadata": {},
     "output_type": "execute_result"
    }
   ],
   "source": [
    "scope_lda_sample[['ThreadID','ThreadMessageID','ThreadSubject','ThreadMessageText','text','tokenized_text','stopwords_removed','lemmatized_text','stemmed_text']].head()"
   ]
  },
  {
   "cell_type": "markdown",
   "metadata": {},
   "source": [
    "### Find optimal number of topics for LDA\n",
    "#### K-means Elbow method"
   ]
  },
  {
   "cell_type": "markdown",
   "metadata": {},
   "source": [
    "#### Create Sample of Scope"
   ]
  },
  {
   "cell_type": "markdown",
   "metadata": {},
   "source": [
    "#### Create Topwords\n",
    "Create a list of topwords from the entire dataframe"
   ]
  },
  {
   "cell_type": "markdown",
   "metadata": {},
   "source": [
    "#### Tf-idf and document similarity"
   ]
  },
  {
   "cell_type": "markdown",
   "metadata": {},
   "source": [
    "I define term frequency-inverse document frequency (tf-idf) vectorizer parameters and then convert the clean_content list into a tf-idf matrix.\n",
    "\n",
    "To get a Tf-idf matrix, first count word occurrences by request. This is transformed into a request-term matrix (dtm). This is also just called a term frequency matrix.\n",
    "\n",
    "Then apply the term frequency-inverse document frequency weighting: words that occur frequently within a request but not frequently within the corpus receive a higher weighting as these words are assumed to contain more meaning in relation to the request.\n",
    "\n",
    "A couple things to note about the parameters I define below:\n",
    "\n",
    "max_df: this is the maximum frequency within the request a given feature can have to be used in the tfi-idf matrix. If the term is in greater than 80% of the request it probably cares little meanining - rule of thumb (verify this)\n",
    "\n",
    "min_idf: this could be an integer (e.g. 5) and the term would have to be in at least 5 of the request to be considered. Here I pass 0.2; the term must be in at least 20% of the request. \n",
    "\n",
    "TEST THIS\n",
    "I found that if I allowed a lower min_df I ended up basing clustering on names--for example \"Michael\" or \"Tom\" are names found in several of the movies and the synopses use these names frequently, but the names carry no real meaning.\n",
    "\n",
    "ngram_range: this just means I'll look at unigrams, bigrams and trigrams. See n-grams"
   ]
  },
  {
   "cell_type": "code",
   "execution_count": 48,
   "metadata": {},
   "outputs": [
    {
     "name": "stdout",
     "output_type": "stream",
     "text": [
      "Wall time: 20.8 s\n"
     ]
    }
   ],
   "source": [
    "%%time\n",
    "top_words = [v for v in dictionary.values()]\n",
    "top_words = list(set(top_words))\n",
    "df_scope['OnlyTopWords'] = list(map(lambda doc: [word for word in doc if word in top_words], df_scope['stemmed_text']))"
   ]
  },
  {
   "cell_type": "code",
   "execution_count": null,
   "metadata": {},
   "outputs": [],
   "source": [
    "print(\"No of top words: {} \".format(len(top_words)))"
   ]
  },
  {
   "cell_type": "code",
   "execution_count": 353,
   "metadata": {},
   "outputs": [],
   "source": [
    "# %%time\n",
    "top_words, _ = remove_not_topwords(scope_lda_sample, df_scope)"
   ]
  },
  {
   "cell_type": "code",
   "execution_count": 354,
   "metadata": {},
   "outputs": [],
   "source": [
    "# # Create dictionary with words from df_scope (the total dataset) or scope_lda_sample (the sample size)\n",
    "# dictionary = Dictionary(documents=df_scope.stemmed_text.values)\n",
    "# #Make a BoW for every Besked\n",
    "# document_to_bow(df_scope)"
   ]
  },
  {
   "cell_type": "code",
   "execution_count": 355,
   "metadata": {},
   "outputs": [
    {
     "name": "stdout",
     "output_type": "stream",
     "text": [
      "Found 500 words.\n"
     ]
    }
   ],
   "source": [
    "# LDA preprocessing\n",
    "print(\"Found {} words.\".format(len(dictionary.values())))"
   ]
  },
  {
   "cell_type": "code",
   "execution_count": 356,
   "metadata": {},
   "outputs": [
    {
     "name": "stdout",
     "output_type": "stream",
     "text": [
      "Wall time: 9 ms\n"
     ]
    }
   ],
   "source": [
    "%%time\n",
    "scope_lda_sample['clean_content'] = scope_lda_sample['OnlyTopWords'].apply(ListToString)"
   ]
  },
  {
   "cell_type": "code",
   "execution_count": 357,
   "metadata": {},
   "outputs": [
    {
     "name": "stdout",
     "output_type": "stream",
     "text": [
      "(5000, 500)\n",
      "Wall time: 117 ms\n"
     ]
    }
   ],
   "source": [
    "%%time\n",
    "tfidf_wordvector = TfidfVectorizer(\n",
    "                analyzer='word', \n",
    "                max_df=0.8, \n",
    "                min_df=5, \n",
    "#                 stop_words=stopwords.words('danish'),\n",
    "#                 ngram_range=(1,3)\n",
    "                ) \n",
    "\n",
    "#fit the tfidf_wordvector to clean_content\n",
    "tfidf_wordvector_maxtrix = tfidf_wordvector.fit_transform(scope_lda_sample.clean_content)\n",
    "print(tfidf_wordvector_maxtrix.shape)"
   ]
  },
  {
   "cell_type": "markdown",
   "metadata": {},
   "source": [
    "dist is defined as 1 - the cosine similarity of each request. Cosine similarity is measured against the tf-idf matrix and can be used to generate a measure of similarity between each request and the other request in the corpus (each clean_content among the total clean_content). Subtracting it from 1 provides cosine distance which I will use for plotting on a euclidean (2-dimensional) plane.\n",
    "\n",
    "Note that with dist it is possible to evaluate the similarity of any two or more clean_content."
   ]
  },
  {
   "cell_type": "code",
   "execution_count": 358,
   "metadata": {},
   "outputs": [],
   "source": [
    "tfidf_wordvector_2d = tfidf_wordvector_maxtrix.todense()"
   ]
  },
  {
   "cell_type": "code",
   "execution_count": 359,
   "metadata": {},
   "outputs": [],
   "source": [
    "top_range = 151\n",
    "increments = 5"
   ]
  },
  {
   "cell_type": "code",
   "execution_count": 360,
   "metadata": {},
   "outputs": [
    {
     "name": "stdout",
     "output_type": "stream",
     "text": [
      "Wall time: 15min 19s\n"
     ]
    }
   ],
   "source": [
    "%%time\n",
    "distortions = []\n",
    "K = range(1,top_range,increments)\n",
    "for k in K:\n",
    "    kmeanModel = KMeans(n_clusters=k, n_jobs=-1, random_state=0).fit(tfidf_wordvector_2d)\n",
    "    kmeanModel.fit(tfidf_wordvector_2d)\n",
    "    distortions.append(sum(np.min(cdist(tfidf_wordvector_2d, kmeanModel.cluster_centers_, 'euclidean'), axis=1)) / tfidf_wordvector_2d.shape[0])"
   ]
  },
  {
   "cell_type": "code",
   "execution_count": 361,
   "metadata": {
    "scrolled": false
   },
   "outputs": [
    {
     "data": {
      "image/png": "[encoded data removed]",
      "text/plain": [
       "<Figure size 1152x720 with 1 Axes>"
      ]
     },
     "metadata": {
      "needs_background": "light"
     },
     "output_type": "display_data"
    }
   ],
   "source": [
    "# Plot the elbow\n",
    "plt.figure(figsize=(16, 10))\n",
    "plt.plot(K, distortions, 'bx-')\n",
    "plt.xlabel('k')\n",
    "plt.ylabel('Distortion')\n",
    "plt.title('The Elbow Method: {4}. Showing the optimal k\\nSample Size: {0}, Top {1} Words, with increments of {2} from 0 to {3}'.format(sample_size, len(top_words), increments, top_range-1, data_scope_name))\n",
    "plt.show()"
   ]
  },
  {
   "cell_type": "markdown",
   "metadata": {},
   "source": [
    "## LDA Model Training\n",
    "Latent Dirichlet Allocation (LDA) is generative approach in classifying texts. It is a three level hierarchical Bayesian model where it creates probabilities on word level, on document level and on corpus level (corpus means all documents)"
   ]
  },
  {
   "cell_type": "code",
   "execution_count": 17,
   "metadata": {},
   "outputs": [],
   "source": [
    "# We want to maximize the probability of the corpus in the training set.\n",
    "corpus = scope_lda_sample.bow"
   ]
  },
  {
   "cell_type": "markdown",
   "metadata": {},
   "source": [
    "##### Input num_topics from the analysis above"
   ]
  },
  {
   "cell_type": "code",
   "execution_count": 18,
   "metadata": {},
   "outputs": [],
   "source": [
    "num_topics = 20"
   ]
  },
  {
   "cell_type": "code",
   "execution_count": 19,
   "metadata": {
    "scrolled": true
   },
   "outputs": [
    {
     "name": "stdout",
     "output_type": "stream",
     "text": [
      "Wall time: 3min 54s\n"
     ]
    }
   ],
   "source": [
    "%%time\n",
    "#A multicore approach to decrease training time\n",
    "# https://radimrehurek.com/gensim/corpora/mmcorpus.html\n",
    "# ram_corpus = get_tmpfile(\"corpus_scope.mm\")\n",
    "# MmCorpus.serialize(ram_corpus, corpus)\n",
    "# mm = MmCorpus(ram_corpus)\n",
    "LDAmodel_scope = LdaMulticore(corpus=corpus,#mm,\n",
    "                        id2word=dictionary,\n",
    "                        num_topics=num_topics,\n",
    "                        workers=4,\n",
    "                        chunksize=5000,\n",
    "                        passes=50,\n",
    "                        alpha='asymmetric',\n",
    "                        random_state=random_state)"
   ]
  },
  {
   "cell_type": "code",
   "execution_count": 20,
   "metadata": {},
   "outputs": [
    {
     "name": "stdout",
     "output_type": "stream",
     "text": [
      "LDA Model based on Udbetaling_df_B_Sample-10000_RandomState-1_WordCount-1000 dataset.\n",
      "\tSample Size: 10000,\n",
      "\tTop 1000 Words,\n",
      "\tNo of Topics 20\n"
     ]
    }
   ],
   "source": [
    "print(('LDA Model based on {3} dataset.\\n\\tSample Size: {0},\\n\\tTop {1} Words,\\n\\tNo of Topics {2}'.format(sample_size, len(dictionary.values()), num_topics, data_scope_name)))"
   ]
  },
  {
   "cell_type": "code",
   "execution_count": 48,
   "metadata": {},
   "outputs": [],
   "source": [
    "dictionary.save('data/model/{0}_LDAmodel_dictionary.pkl'.format(data_scope_name))"
   ]
  },
  {
   "cell_type": "code",
   "execution_count": 28,
   "metadata": {},
   "outputs": [],
   "source": [
    "LDAmodel_scope.save('data/model/{0}_LDAmodel'.format(data_scope_name))\n",
    "# LDAmodel_scope.save(temp_file)"
   ]
  },
  {
   "cell_type": "code",
   "execution_count": 30,
   "metadata": {},
   "outputs": [],
   "source": [
    "# test = LdaMulticore.load('data/model/{0}_LDAmodel'.format(data_scope_name))"
   ]
  },
  {
   "cell_type": "markdown",
   "metadata": {},
   "source": [
    "#### Feature vector"
   ]
  },
  {
   "cell_type": "code",
   "execution_count": 31,
   "metadata": {},
   "outputs": [],
   "source": [
    "def document_to_lda_features(lda_model, document):\n",
    "    \"\"\" Transforms a bag of words document to features.\n",
    "    It returns the proportion of how much each topic was\n",
    "    present in the document.\n",
    "    \"\"\"\n",
    "    topic_importances = lda_model.get_document_topics(document, minimum_probability=0)\n",
    "    topic_importances = np.array(topic_importances)\n",
    "    return topic_importances[:,1]"
   ]
  },
  {
   "cell_type": "code",
   "execution_count": 39,
   "metadata": {},
   "outputs": [],
   "source": [
    "scope_lda_sample['lda_features'] = list(map(lambda doc: document_to_lda_features(LDAmodel_scope, doc), scope_lda_sample.bow))"
   ]
  },
  {
   "cell_type": "markdown",
   "metadata": {},
   "source": [
    "#### Topic distributions and let's see some words that come with the topics"
   ]
  },
  {
   "cell_type": "code",
   "execution_count": 40,
   "metadata": {},
   "outputs": [],
   "source": [
    "RequestTopicDistribution = scope_lda_sample['lda_features'].mean()"
   ]
  },
  {
   "cell_type": "code",
   "execution_count": 41,
   "metadata": {},
   "outputs": [
    {
     "data": {
      "image/png": "[encoded data removed]",
      "text/plain": [
       "<Figure size 1440x432 with 1 Axes>"
      ]
     },
     "metadata": {
      "needs_background": "light"
     },
     "output_type": "display_data"
    }
   ],
   "source": [
    "fig, ax1 = plt.subplots(1,1,figsize=(20,6))\n",
    "nr_top_bars = 3\n",
    "ax1.set_title(\"Request Topic distributions\", fontsize=16)\n",
    "\n",
    "for ax, distribution, color in zip([ax1], [RequestTopicDistribution], ['r']):\n",
    "    # Individual distribution barplots\n",
    "    ax.bar(range(len(distribution)), distribution, alpha=0.7)\n",
    "    rects = ax.patches\n",
    "    for i in np.argsort(distribution)[-nr_top_bars:]:\n",
    "        rects[i].set_color(color)\n",
    "        rects[i].set_alpha(1)\n",
    "\n",
    "fig.tight_layout(h_pad=3.)"
   ]
  },
  {
   "cell_type": "markdown",
   "metadata": {},
   "source": [
    "#### Inspect topics and words"
   ]
  },
  {
   "cell_type": "code",
   "execution_count": 42,
   "metadata": {},
   "outputs": [],
   "source": [
    "def get_topic_and_prob(lda_model, topic_id, nr_top_words=7):\n",
    "    id_tuples = lda_model.print_topic(topic_id, topn=nr_top_words)\n",
    "    return id_tuples"
   ]
  },
  {
   "cell_type": "code",
   "execution_count": 43,
   "metadata": {
    "scrolled": false
   },
   "outputs": [
    {
     "name": "stdout",
     "output_type": "stream",
     "text": [
      "Topic: 0\tProb: 0.140, Words: 0.051*\"vedhæftet\" + 0.042*\"udfyldt\" + 0.031*\"frigørelsestilest\" + 0.028*\"blanket\" + 0.028*\"dokument\".\n",
      "Topic: 1\tProb: 0.053, Words: 0.081*\"efterløn\" + 0.073*\"barsel\" + 0.034*\"gå\" + 0.027*\"går\" + 0.020*\"barselsdagpeng\".\n",
      "Topic: 2\tProb: 0.050, Words: 0.051*\"juni\" + 0.043*\"løn\" + 0.034*\"maj\" + 0.033*\"måned\" + 0.026*\"novemb\".\n",
      "Topic: 3\tProb: 0.076, Words: 0.133*\"dagpeng\" + 0.030*\"supplerend\" + 0.023*\"arbejd\" + 0.021*\"ret\" + 0.020*\"job\".\n",
      "Topic: 4\tProb: 0.042, Words: 0.068*\"dagpeng\" + 0.055*\"uger\" + 0.033*\"uge\" + 0.023*\"mandag\" + 0.023*\"søgt\".\n",
      "Topic: 5\tProb: 0.045, Words: 0.076*\"feri\" + 0.073*\"dage\" + 0.059*\"feriepeng\" + 0.049*\"feriedag\" + 0.037*\"optjent\".\n",
      "Topic: 6\tProb: 0.048, Words: 0.079*\"ansøgn\" + 0.049*\"befordringsgodtgørels\" + 0.040*\"forbindels\" + 0.037*\"virksomhedspraktik\" + 0.027*\"sktilefri\".\n",
      "Topic: 7\tProb: 0.063, Words: 0.036*\"job\" + 0.024*\"måneder\" + 0.016*\"arbejd\" + 0.016*\"gern\" + 0.013*\"still\".\n",
      "Topic: 8\tProb: 0.047, Words: 0.118*\"ledig\" + 0.048*\"mart\" + 0.046*\"meldt\" + 0.040*\"jobnet\" + 0.036*\"april\".\n",
      "Topic: 9\tProb: 0.053, Words: 0.032*\"gang\" + 0.028*\"sendt\" + 0.025*\"forsøgt\" + 0.023*\"mail\" + 0.023*\"ring\".\n",
      "Topic: 10\tProb: 0.032, Words: 0.088*\"juli\" + 0.083*\"august\" + 0.057*\"måned\" + 0.047*\"dage\" + 0.027*\"fået\".\n",
      "Topic: 11\tProb: 0.042, Words: 0.150*\"feri\" + 0.082*\"feriedagpeng\" + 0.040*\"optjent\" + 0.035*\"dage\" + 0.029*\"uge\".\n",
      "Topic: 12\tProb: 0.042, Words: 0.058*\"rett\" + 0.035*\"vedkommend\" + 0.030*\"ydelseskort\" + 0.024*\"står\" + 0.024*\"udfyldt\".\n",
      "Topic: 13\tProb: 0.034, Words: 0.074*\"brev\" + 0.046*\"modtaget\" + 0.042*\"brevet\" + 0.024*\"ansøgn\" + 0.024*\"svar\".\n",
      "Topic: 14\tProb: 0.043, Words: 0.050*\"år\" + 0.039*\"virksomh\" + 0.033*\"selvstændig\" + 0.023*\"tid\" + 0.023*\"virksomheden\".\n",
      "Topic: 15\tProb: 0.027, Words: 0.063*\"septemb\" + 0.057*\"uddannels\" + 0.026*\"august\" + 0.026*\"sidst\" + 0.025*\"dag\".\n",
      "Topic: 16\tProb: 0.047, Words: 0.186*\"timer\" + 0.076*\"arbejd\" + 0.040*\"uge\" + 0.030*\"arbejdet\" + 0.023*\"ugen\".\n",
      "Topic: 17\tProb: 0.041, Words: 0.132*\"udfyld\" + 0.067*\"ydelseskort\" + 0.041*\"udfyldt\" + 0.039*\"dagpeng\" + 0.033*\"ledighedserklær\".\n",
      "Topic: 18\tProb: 0.043, Words: 0.091*\"kr\" + 0.071*\"udbetalt\" + 0.039*\"skat\" + 0.035*\"fået\" + 0.034*\"dagpeng\".\n",
      "Topic: 19\tProb: 0.030, Words: 0.072*\"udbet\" + 0.050*\"danmark\" + 0.042*\"januar\" + 0.025*\"arbejdsgiv\" + 0.020*\"februar\".\n",
      "\n"
     ]
    }
   ],
   "source": [
    "for x in sorted(np.argsort(RequestTopicDistribution)[-num_topics:]):\n",
    "    top_words = get_topic_and_prob(LDAmodel_scope, x, 5) #get_topic_top_words(LDAmodel, x)\n",
    "    print(\"Topic: {0}\\tProb: {1:.3f}, Words: {2}.\".format(x, RequestTopicDistribution.item(x), top_words)) #(x, \", \".join(top_words)))\n",
    "print(\"\")"
   ]
  },
  {
   "cell_type": "code",
   "execution_count": 44,
   "metadata": {},
   "outputs": [],
   "source": [
    "def get_lda_topics(model, num_topics, topn=10):\n",
    "    word_dict = {};\n",
    "    for i in sorted(np.argsort(RequestTopicDistribution)[-num_topics:]):\n",
    "        words = model.show_topic(i, topn = topn);\n",
    "        word_dict['Topic # ' + '{:02d}'.format(i)] = [i[0] for i in words];\n",
    "    return pd.DataFrame(word_dict)"
   ]
  },
  {
   "cell_type": "code",
   "execution_count": 45,
   "metadata": {},
   "outputs": [
    {
     "data": {
      "text/html": [
       "<div>\n",
       "<style scoped>\n",
       "    .dataframe tbody tr th:only-of-type {\n",
       "        vertical-align: middle;\n",
       "    }\n",
       "\n",
       "    .dataframe tbody tr th {\n",
       "        vertical-align: top;\n",
       "    }\n",
       "\n",
       "    .dataframe thead th {\n",
       "        text-align: right;\n",
       "    }\n",
       "</style>\n",
       "<table border=\"1\" class=\"dataframe\">\n",
       "  <thead>\n",
       "    <tr style=\"text-align: right;\">\n",
       "      <th></th>\n",
       "      <th>Topic # 00</th>\n",
       "      <th>Topic # 01</th>\n",
       "      <th>Topic # 02</th>\n",
       "      <th>Topic # 03</th>\n",
       "      <th>Topic # 04</th>\n",
       "      <th>Topic # 05</th>\n",
       "      <th>Topic # 06</th>\n",
       "      <th>Topic # 07</th>\n",
       "      <th>Topic # 08</th>\n",
       "      <th>Topic # 09</th>\n",
       "      <th>Topic # 10</th>\n",
       "      <th>Topic # 11</th>\n",
       "      <th>Topic # 12</th>\n",
       "      <th>Topic # 13</th>\n",
       "      <th>Topic # 14</th>\n",
       "      <th>Topic # 15</th>\n",
       "      <th>Topic # 16</th>\n",
       "      <th>Topic # 17</th>\n",
       "      <th>Topic # 18</th>\n",
       "      <th>Topic # 19</th>\n",
       "    </tr>\n",
       "  </thead>\n",
       "  <tbody>\n",
       "    <tr>\n",
       "      <th>0</th>\n",
       "      <td>vedhæftet</td>\n",
       "      <td>efterløn</td>\n",
       "      <td>juni</td>\n",
       "      <td>dagpeng</td>\n",
       "      <td>dagpeng</td>\n",
       "      <td>feri</td>\n",
       "      <td>ansøgn</td>\n",
       "      <td>job</td>\n",
       "      <td>ledig</td>\n",
       "      <td>gang</td>\n",
       "      <td>juli</td>\n",
       "      <td>feri</td>\n",
       "      <td>rett</td>\n",
       "      <td>brev</td>\n",
       "      <td>år</td>\n",
       "      <td>septemb</td>\n",
       "      <td>timer</td>\n",
       "      <td>udfyld</td>\n",
       "      <td>kr</td>\n",
       "      <td>udbet</td>\n",
       "    </tr>\n",
       "    <tr>\n",
       "      <th>1</th>\n",
       "      <td>udfyldt</td>\n",
       "      <td>barsel</td>\n",
       "      <td>løn</td>\n",
       "      <td>supplerend</td>\n",
       "      <td>uger</td>\n",
       "      <td>dage</td>\n",
       "      <td>befordringsgodtgørels</td>\n",
       "      <td>måneder</td>\n",
       "      <td>mart</td>\n",
       "      <td>sendt</td>\n",
       "      <td>august</td>\n",
       "      <td>feriedagpeng</td>\n",
       "      <td>vedkommend</td>\n",
       "      <td>modtaget</td>\n",
       "      <td>virksomh</td>\n",
       "      <td>uddannels</td>\n",
       "      <td>arbejd</td>\n",
       "      <td>ydelseskort</td>\n",
       "      <td>udbetalt</td>\n",
       "      <td>danmark</td>\n",
       "    </tr>\n",
       "    <tr>\n",
       "      <th>2</th>\n",
       "      <td>frigørelsestilest</td>\n",
       "      <td>gå</td>\n",
       "      <td>maj</td>\n",
       "      <td>arbejd</td>\n",
       "      <td>uge</td>\n",
       "      <td>feriepeng</td>\n",
       "      <td>forbindels</td>\n",
       "      <td>arbejd</td>\n",
       "      <td>meldt</td>\n",
       "      <td>forsøgt</td>\n",
       "      <td>måned</td>\n",
       "      <td>optjent</td>\n",
       "      <td>ydelseskort</td>\n",
       "      <td>brevet</td>\n",
       "      <td>selvstændig</td>\n",
       "      <td>august</td>\n",
       "      <td>uge</td>\n",
       "      <td>udfyldt</td>\n",
       "      <td>skat</td>\n",
       "      <td>januar</td>\n",
       "    </tr>\n",
       "    <tr>\n",
       "      <th>3</th>\n",
       "      <td>blanket</td>\n",
       "      <td>går</td>\n",
       "      <td>måned</td>\n",
       "      <td>ret</td>\n",
       "      <td>mandag</td>\n",
       "      <td>feriedag</td>\n",
       "      <td>virksomhedspraktik</td>\n",
       "      <td>gern</td>\n",
       "      <td>jobnet</td>\n",
       "      <td>mail</td>\n",
       "      <td>dage</td>\n",
       "      <td>dage</td>\n",
       "      <td>står</td>\n",
       "      <td>ansøgn</td>\n",
       "      <td>tid</td>\n",
       "      <td>sidst</td>\n",
       "      <td>arbejdet</td>\n",
       "      <td>dagpeng</td>\n",
       "      <td>fået</td>\n",
       "      <td>arbejdsgiv</td>\n",
       "    </tr>\n",
       "    <tr>\n",
       "      <th>4</th>\n",
       "      <td>dokument</td>\n",
       "      <td>barselsdagpeng</td>\n",
       "      <td>novemb</td>\n",
       "      <td>job</td>\n",
       "      <td>søgt</td>\n",
       "      <td>optjent</td>\n",
       "      <td>sktilefri</td>\n",
       "      <td>still</td>\n",
       "      <td>april</td>\n",
       "      <td>ring</td>\n",
       "      <td>fået</td>\n",
       "      <td>uge</td>\n",
       "      <td>udfyldt</td>\n",
       "      <td>svar</td>\n",
       "      <td>virksomheden</td>\n",
       "      <td>dag</td>\n",
       "      <td>ugen</td>\n",
       "      <td>ledighedserklær</td>\n",
       "      <td>dagpeng</td>\n",
       "      <td>februar</td>\n",
       "    </tr>\n",
       "    <tr>\n",
       "      <th>5</th>\n",
       "      <td>sender</td>\n",
       "      <td>termin</td>\n",
       "      <td>decemb</td>\n",
       "      <td>modtag</td>\n",
       "      <td>fået</td>\n",
       "      <td>feriedagpeng</td>\n",
       "      <td>løntilskud</td>\n",
       "      <td>dagpeng</td>\n",
       "      <td>meld</td>\n",
       "      <td>besk</td>\n",
       "      <td>timer</td>\n",
       "      <td>holder</td>\n",
       "      <td>dag</td>\n",
       "      <td>kl</td>\n",
       "      <td>arbejd</td>\n",
       "      <td>oktob</td>\n",
       "      <td>pr</td>\n",
       "      <td>ydelseskortet</td>\n",
       "      <td>udbetalingsspecifik</td>\n",
       "      <td>svar</td>\n",
       "    </tr>\n",
       "    <tr>\n",
       "      <th>6</th>\n",
       "      <td>kontrakt</td>\n",
       "      <td>år</td>\n",
       "      <td>arbejdsgiv</td>\n",
       "      <td>period</td>\n",
       "      <td>juli</td>\n",
       "      <td>udbetalt</td>\n",
       "      <td>vedhæftet</td>\n",
       "      <td>forhold</td>\n",
       "      <td>dag</td>\n",
       "      <td>desværr</td>\n",
       "      <td>fejl</td>\n",
       "      <td>udbetalt</td>\n",
       "      <td>tilmeldt</td>\n",
       "      <td>skrev</td>\n",
       "      <td>ansat</td>\n",
       "      <td>juni</td>\n",
       "      <td>haft</td>\n",
       "      <td>perioden</td>\n",
       "      <td>beløb</td>\n",
       "      <td>gdage</td>\n",
       "    </tr>\n",
       "    <tr>\n",
       "      <th>7</th>\n",
       "      <td>ansættelseskontrakt</td>\n",
       "      <td>pension</td>\n",
       "      <td>udbetalt</td>\n",
       "      <td>fået</td>\n",
       "      <td>feri</td>\n",
       "      <td>afhold</td>\n",
       "      <td>praktik</td>\n",
       "      <td>søge</td>\n",
       "      <td>blevet</td>\n",
       "      <td>fået</td>\n",
       "      <td>udbetalt</td>\n",
       "      <td>holdt</td>\n",
       "      <td>ydels</td>\n",
       "      <td>læse</td>\n",
       "      <td>haft</td>\n",
       "      <td>su</td>\n",
       "      <td>løn</td>\n",
       "      <td>jul</td>\n",
       "      <td>udbet</td>\n",
       "      <td>besk</td>\n",
       "    </tr>\n",
       "    <tr>\n",
       "      <th>8</th>\n",
       "      <td>fremsend</td>\n",
       "      <td>gern</td>\n",
       "      <td>måneder</td>\n",
       "      <td>høre</td>\n",
       "      <td>meldt</td>\n",
       "      <td>hold</td>\n",
       "      <td>præmie</td>\n",
       "      <td>spørgsmål</td>\n",
       "      <td>pr</td>\n",
       "      <td>forkert</td>\n",
       "      <td>dag</td>\n",
       "      <td>søge</td>\n",
       "      <td>udfyld</td>\n",
       "      <td>fået</td>\n",
       "      <td>sidst</td>\n",
       "      <td>studerend</td>\n",
       "      <td>arbejdstim</td>\n",
       "      <td>nytår</td>\n",
       "      <td>modtaget</td>\n",
       "      <td>kontakt</td>\n",
       "    </tr>\n",
       "    <tr>\n",
       "      <th>9</th>\n",
       "      <td>blanketten</td>\n",
       "      <td>pr</td>\n",
       "      <td>lønseddel</td>\n",
       "      <td>gern</td>\n",
       "      <td>jobcenteret</td>\n",
       "      <td>maj</td>\n",
       "      <td>blanket</td>\n",
       "      <td>inden</td>\n",
       "      <td>maj</td>\n",
       "      <td>logg</td>\n",
       "      <td>sket</td>\n",
       "      <td>peng</td>\n",
       "      <td>forkert</td>\n",
       "      <td>sendt</td>\n",
       "      <td>opgav</td>\n",
       "      <td>job</td>\n",
       "      <td>timern</td>\n",
       "      <td>indsend</td>\n",
       "      <td>måned</td>\n",
       "      <td>a</td>\n",
       "    </tr>\n",
       "    <tr>\n",
       "      <th>10</th>\n",
       "      <td>send</td>\n",
       "      <td>forhånd</td>\n",
       "      <td>oktob</td>\n",
       "      <td>spørgsmål</td>\n",
       "      <td>ledig</td>\n",
       "      <td>april</td>\n",
       "      <td>sender</td>\n",
       "      <td>høre</td>\n",
       "      <td>job</td>\n",
       "      <td>skrive</td>\n",
       "      <td>ydelseskortet</td>\n",
       "      <td>løn</td>\n",
       "      <td>fejl</td>\n",
       "      <td>gern</td>\n",
       "      <td>bibeskæftigels</td>\n",
       "      <td>måned</td>\n",
       "      <td>fast</td>\n",
       "      <td>januar</td>\n",
       "      <td>trukket</td>\n",
       "      <td>fået</td>\n",
       "    </tr>\n",
       "    <tr>\n",
       "      <th>11</th>\n",
       "      <td>indsendt</td>\n",
       "      <td>fravær</td>\n",
       "      <td>dato</td>\n",
       "      <td>søge</td>\n",
       "      <td>jobnet</td>\n",
       "      <td>afholdt</td>\n",
       "      <td>kommun</td>\n",
       "      <td>karantæn</td>\n",
       "      <td>jobnetdk</td>\n",
       "      <td>udfyld</td>\n",
       "      <td>perioden</td>\n",
       "      <td>period</td>\n",
       "      <td>ydelseskortet</td>\n",
       "      <td>http</td>\n",
       "      <td>cvr</td>\n",
       "      <td>færdig</td>\n",
       "      <td>antal</td>\n",
       "      <td>fået</td>\n",
       "      <td>står</td>\n",
       "      <td>modtaget</td>\n",
       "    </tr>\n",
       "    <tr>\n",
       "      <th>12</th>\n",
       "      <td>oplysning</td>\n",
       "      <td>ønsker</td>\n",
       "      <td>sidst</td>\n",
       "      <td>forhånd</td>\n",
       "      <td>registreret</td>\n",
       "      <td>arbejdsgiv</td>\n",
       "      <td>send</td>\n",
       "      <td>find</td>\n",
       "      <td>sidst</td>\n",
       "      <td>adgang</td>\n",
       "      <td>arbejd</td>\n",
       "      <td>arbejd</td>\n",
       "      <td>korrekt</td>\n",
       "      <td>muligt</td>\n",
       "      <td>spørgsmål</td>\n",
       "      <td>uddannelsen</td>\n",
       "      <td>time</td>\n",
       "      <td>tro</td>\n",
       "      <td>betal</td>\n",
       "      <td>barsel</td>\n",
       "    </tr>\n",
       "    <tr>\n",
       "      <th>13</th>\n",
       "      <td>håber</td>\n",
       "      <td>forhold</td>\n",
       "      <td>lønsedler</td>\n",
       "      <td>år</td>\n",
       "      <td>fredag</td>\n",
       "      <td>ferien</td>\n",
       "      <td>efterløn</td>\n",
       "      <td>uger</td>\n",
       "      <td>februar</td>\n",
       "      <td>problem</td>\n",
       "      <td>dagpeng</td>\n",
       "      <td>feriepeng</td>\n",
       "      <td>kommet</td>\n",
       "      <td>bede</td>\n",
       "      <td>uger</td>\n",
       "      <td>dagpeng</td>\n",
       "      <td>frivilligt</td>\n",
       "      <td>blanket</td>\n",
       "      <td>udbetalingen</td>\n",
       "      <td>betal</td>\n",
       "    </tr>\n",
       "    <tr>\n",
       "      <th>14</th>\n",
       "      <td>vedhæfter</td>\n",
       "      <td>forbindels</td>\n",
       "      <td>april</td>\n",
       "      <td>januar</td>\n",
       "      <td>godkendt</td>\n",
       "      <td>ferieåret</td>\n",
       "      <td>københavn</td>\n",
       "      <td>muligt</td>\n",
       "      <td>fået</td>\n",
       "      <td>fejl</td>\n",
       "      <td>tror</td>\n",
       "      <td>fået</td>\n",
       "      <td>blot</td>\n",
       "      <td>ligger</td>\n",
       "      <td>firma</td>\n",
       "      <td>eksamen</td>\n",
       "      <td>ansat</td>\n",
       "      <td>kollektiv</td>\n",
       "      <td>beløbet</td>\n",
       "      <td>angåend</td>\n",
       "    </tr>\n",
       "  </tbody>\n",
       "</table>\n",
       "</div>"
      ],
      "text/plain": [
       "             Topic # 00      Topic # 01  Topic # 02  Topic # 03   Topic # 04  \\\n",
       "0             vedhæftet        efterløn        juni     dagpeng      dagpeng   \n",
       "1               udfyldt          barsel         løn  supplerend         uger   \n",
       "2     frigørelsestilest              gå         maj      arbejd          uge   \n",
       "3               blanket             går       måned         ret       mandag   \n",
       "4              dokument  barselsdagpeng      novemb         job         søgt   \n",
       "5                sender          termin      decemb      modtag         fået   \n",
       "6              kontrakt              år  arbejdsgiv      period         juli   \n",
       "7   ansættelseskontrakt         pension    udbetalt        fået         feri   \n",
       "8              fremsend            gern     måneder        høre        meldt   \n",
       "9            blanketten              pr   lønseddel        gern  jobcenteret   \n",
       "10                 send         forhånd       oktob   spørgsmål        ledig   \n",
       "11             indsendt          fravær        dato        søge       jobnet   \n",
       "12            oplysning          ønsker       sidst     forhånd  registreret   \n",
       "13                håber         forhold   lønsedler          år       fredag   \n",
       "14            vedhæfter      forbindels       april      januar     godkendt   \n",
       "\n",
       "      Topic # 05             Topic # 06 Topic # 07 Topic # 08 Topic # 09  \\\n",
       "0           feri                 ansøgn        job      ledig       gang   \n",
       "1           dage  befordringsgodtgørels    måneder       mart      sendt   \n",
       "2      feriepeng             forbindels     arbejd      meldt    forsøgt   \n",
       "3       feriedag     virksomhedspraktik       gern     jobnet       mail   \n",
       "4        optjent              sktilefri      still      april       ring   \n",
       "5   feriedagpeng             løntilskud    dagpeng       meld       besk   \n",
       "6       udbetalt              vedhæftet    forhold        dag    desværr   \n",
       "7         afhold                praktik       søge     blevet       fået   \n",
       "8           hold                 præmie  spørgsmål         pr    forkert   \n",
       "9            maj                blanket      inden        maj       logg   \n",
       "10         april                 sender       høre        job     skrive   \n",
       "11       afholdt                 kommun   karantæn   jobnetdk     udfyld   \n",
       "12    arbejdsgiv                   send       find      sidst     adgang   \n",
       "13        ferien               efterløn       uger    februar    problem   \n",
       "14     ferieåret              københavn     muligt       fået       fejl   \n",
       "\n",
       "       Topic # 10    Topic # 11     Topic # 12 Topic # 13      Topic # 14  \\\n",
       "0            juli          feri           rett       brev              år   \n",
       "1          august  feriedagpeng     vedkommend   modtaget        virksomh   \n",
       "2           måned       optjent    ydelseskort     brevet     selvstændig   \n",
       "3            dage          dage           står     ansøgn             tid   \n",
       "4            fået           uge        udfyldt       svar    virksomheden   \n",
       "5           timer        holder            dag         kl          arbejd   \n",
       "6            fejl      udbetalt       tilmeldt      skrev           ansat   \n",
       "7        udbetalt         holdt          ydels       læse            haft   \n",
       "8             dag          søge         udfyld       fået           sidst   \n",
       "9            sket          peng        forkert      sendt           opgav   \n",
       "10  ydelseskortet           løn           fejl       gern  bibeskæftigels   \n",
       "11       perioden        period  ydelseskortet       http             cvr   \n",
       "12         arbejd        arbejd        korrekt     muligt       spørgsmål   \n",
       "13        dagpeng     feriepeng         kommet       bede            uger   \n",
       "14           tror          fået           blot     ligger           firma   \n",
       "\n",
       "     Topic # 15  Topic # 16       Topic # 17           Topic # 18  Topic # 19  \n",
       "0       septemb       timer           udfyld                   kr       udbet  \n",
       "1     uddannels      arbejd      ydelseskort             udbetalt     danmark  \n",
       "2        august         uge          udfyldt                 skat      januar  \n",
       "3         sidst    arbejdet          dagpeng                 fået  arbejdsgiv  \n",
       "4           dag        ugen  ledighedserklær              dagpeng     februar  \n",
       "5         oktob          pr    ydelseskortet  udbetalingsspecifik        svar  \n",
       "6          juni        haft         perioden                beløb       gdage  \n",
       "7            su         løn              jul                udbet        besk  \n",
       "8     studerend  arbejdstim            nytår             modtaget     kontakt  \n",
       "9           job      timern          indsend                måned           a  \n",
       "10        måned        fast           januar              trukket        fået  \n",
       "11       færdig       antal             fået                 står    modtaget  \n",
       "12  uddannelsen        time              tro                betal      barsel  \n",
       "13      dagpeng  frivilligt          blanket         udbetalingen       betal  \n",
       "14      eksamen       ansat        kollektiv              beløbet     angåend  "
      ]
     },
     "execution_count": 45,
     "metadata": {},
     "output_type": "execute_result"
    }
   ],
   "source": [
    "get_lda_topics(LDAmodel_scope, num_topics,15)"
   ]
  },
  {
   "cell_type": "markdown",
   "metadata": {},
   "source": [
    "#### Name the topics"
   ]
  },
  {
   "cell_type": "code",
   "execution_count": 598,
   "metadata": {},
   "outputs": [],
   "source": [
    "lda_topic_names = ['Danish','English']# 'Topic_3', 'Topic_4','5','6','7','8','9','10','11','12','13','14','15','16','17','18','19','20']"
   ]
  },
  {
   "cell_type": "markdown",
   "metadata": {},
   "source": [
    "### Test the model"
   ]
  },
  {
   "cell_type": "code",
   "execution_count": 46,
   "metadata": {},
   "outputs": [
    {
     "name": "stdout",
     "output_type": "stream",
     "text": [
      "Score: 0.12456869333982468\t Topic: 0.051*\"vedhæftet\" + 0.042*\"udfyldt\" + 0.031*\"frigørelsestilest\" + 0.028*\"blanket\" + 0.028*\"dokument\"\n",
      "Score: 0.10180450975894928\t Topic: 0.081*\"efterløn\" + 0.073*\"barsel\" + 0.034*\"gå\" + 0.027*\"går\" + 0.020*\"barselsdagpeng\"\n",
      "Score: 0.08607485145330429\t Topic: 0.051*\"juni\" + 0.043*\"løn\" + 0.034*\"maj\" + 0.033*\"måned\" + 0.026*\"novemb\"\n",
      "Score: 0.0745554119348526\t Topic: 0.133*\"dagpeng\" + 0.030*\"supplerend\" + 0.023*\"arbejd\" + 0.021*\"ret\" + 0.020*\"job\"\n",
      "Score: 0.06575533747673035\t Topic: 0.068*\"dagpeng\" + 0.055*\"uger\" + 0.033*\"uge\" + 0.023*\"mandag\" + 0.023*\"søgt\"\n",
      "Score: 0.05881335958838463\t Topic: 0.076*\"feri\" + 0.073*\"dage\" + 0.059*\"feriepeng\" + 0.049*\"feriedag\" + 0.037*\"optjent\"\n",
      "Score: 0.053197186440229416\t Topic: 0.079*\"ansøgn\" + 0.049*\"befordringsgodtgørels\" + 0.040*\"forbindels\" + 0.037*\"virksomhedspraktik\" + 0.027*\"sktilefri\"\n",
      "Score: 0.04856010526418686\t Topic: 0.036*\"job\" + 0.024*\"måneder\" + 0.016*\"arbejd\" + 0.016*\"gern\" + 0.013*\"still\"\n",
      "Score: 0.04466661810874939\t Topic: 0.118*\"ledig\" + 0.048*\"mart\" + 0.046*\"meldt\" + 0.040*\"jobnet\" + 0.036*\"april\"\n",
      "Score: 0.041351135820150375\t Topic: 0.032*\"gang\" + 0.028*\"sendt\" + 0.025*\"forsøgt\" + 0.023*\"mail\" + 0.023*\"ring\"\n",
      "Score: 0.038493841886520386\t Topic: 0.088*\"juli\" + 0.083*\"august\" + 0.057*\"måned\" + 0.047*\"dage\" + 0.027*\"fået\"\n",
      "Score: 0.036005899310112\t Topic: 0.150*\"feri\" + 0.082*\"feriedagpeng\" + 0.040*\"optjent\" + 0.035*\"dage\" + 0.029*\"uge\"\n",
      "Score: 0.033820029348134995\t Topic: 0.058*\"rett\" + 0.035*\"vedkommend\" + 0.030*\"ydelseskort\" + 0.024*\"står\" + 0.024*\"udfyldt\"\n",
      "Score: 0.03188437223434448\t Topic: 0.074*\"brev\" + 0.046*\"modtaget\" + 0.042*\"brevet\" + 0.024*\"ansøgn\" + 0.024*\"svar\"\n",
      "Score: 0.03015829436480999\t Topic: 0.050*\"år\" + 0.039*\"virksomh\" + 0.033*\"selvstændig\" + 0.023*\"tid\" + 0.023*\"virksomheden\"\n",
      "Score: 0.02860950119793415\t Topic: 0.063*\"septemb\" + 0.057*\"uddannels\" + 0.026*\"august\" + 0.026*\"sidst\" + 0.025*\"dag\"\n",
      "Score: 0.02721201814711094\t Topic: 0.186*\"timer\" + 0.076*\"arbejd\" + 0.040*\"uge\" + 0.030*\"arbejdet\" + 0.023*\"ugen\"\n",
      "Score: 0.025944700464606285\t Topic: 0.132*\"udfyld\" + 0.067*\"ydelseskort\" + 0.041*\"udfyldt\" + 0.039*\"dagpeng\" + 0.033*\"ledighedserklær\"\n",
      "Score: 0.024790173396468163\t Topic: 0.091*\"kr\" + 0.071*\"udbetalt\" + 0.039*\"skat\" + 0.035*\"fået\" + 0.034*\"dagpeng\"\n",
      "Score: 0.023734018206596375\t Topic: 0.072*\"udbet\" + 0.050*\"danmark\" + 0.042*\"januar\" + 0.025*\"arbejdsgiv\" + 0.020*\"februar\"\n"
     ]
    }
   ],
   "source": [
    "# unseen_document = 'Hej gitte arensberg. Her er de to skemaer du bad om, hhv. ak 001 og ar 232. Jeg forsøgte at sende skemaerne i mandags, man men fik oplyst på introduktionsmødet tirsdag, at aaks hjemmeside ikke fungerede søndag og mandag. venlig hilsen torben lehm.'\n",
    "# unseen_document = '''\n",
    "\n",
    "# Hej Iram,\n",
    "# Jeg har læst dit materiale igennem.\n",
    "# Det er rigtig godt, og jeg har ikke fundet stave eller sproglige fejl.\n",
    "# Det eneste som jeg ville tilføje er et profil afsnit øverst i dit CV, hvor du kort beskriver dine faglige styrker, samt din fortrukne møde at arbejde på.\n",
    "# Venlig hilsen\n",
    "# Søren Heilmann\n",
    "# '''\n",
    "unseen_document = 'hello,   writing because  would like  know more about the lønsikring (.. how much does  cost extra  month   subscribed? how can  subscribe  ?).  would like  subscribe    soon  possible. thank you very much for your help.'\n",
    "# unseen_document = 'specialsag - udland - 2nd u13 document - and hopefully the last one'\n",
    "bow_vector = dictionary.doc2bow(lda_preprocess_string(unseen_document))\n",
    "for index, score in sorted(LDAmodel_scope[bow_vector], key=lambda tup: -1*tup[1]):\n",
    "    print(\"Score: {}\\t Topic: {}\".format(score, LDAmodel_scope.print_topic(index, 5)))"
   ]
  },
  {
   "cell_type": "code",
   "execution_count": 47,
   "metadata": {},
   "outputs": [
    {
     "ename": "NameError",
     "evalue": "name 'PredictTopicFromString' is not defined",
     "output_type": "error",
     "traceback": [
      "\u001b[1;31m---------------------------------------------------------------------------\u001b[0m",
      "\u001b[1;31mNameError\u001b[0m                                 Traceback (most recent call last)",
      "\u001b[1;32m<ipython-input-47-411ced9b3994>\u001b[0m in \u001b[0;36m<module>\u001b[1;34m()\u001b[0m\n\u001b[0;32m      1\u001b[0m \u001b[1;31m# Test function and prediction\u001b[0m\u001b[1;33m\u001b[0m\u001b[1;33m\u001b[0m\u001b[0m\n\u001b[1;32m----> 2\u001b[1;33m \u001b[0mprint\u001b[0m\u001b[1;33m(\u001b[0m\u001b[0mPredictTopicFromString\u001b[0m\u001b[1;33m(\u001b[0m\u001b[0munseen_document\u001b[0m\u001b[1;33m,\u001b[0m \u001b[0mLDAmodel_scope\u001b[0m\u001b[1;33m,\u001b[0m \u001b[0mlda_topic_names\u001b[0m\u001b[1;33m)\u001b[0m\u001b[1;33m)\u001b[0m\u001b[1;33m\u001b[0m\u001b[0m\n\u001b[0m",
      "\u001b[1;31mNameError\u001b[0m: name 'PredictTopicFromString' is not defined"
     ]
    }
   ],
   "source": [
    "# Test function and prediction\n",
    "print(PredictTopicFromString(unseen_document, LDAmodel_scope, lda_topic_names))"
   ]
  },
  {
   "cell_type": "markdown",
   "metadata": {},
   "source": [
    "### Predict topics on data\n",
    "Per every row in the dataset"
   ]
  },
  {
   "cell_type": "code",
   "execution_count": 400,
   "metadata": {},
   "outputs": [],
   "source": [
    "def lda_prediction(df,lda_model, lda_topic_name_list):\n",
    "    \" Make the following function into a function that returns the pred_label and pred_prob below\"\n",
    "#     for index, score in sorted(LDAmodel_lang[bow_vector], key=lambda tup: -1*tup[1]):\n",
    "#         print(\"Score: {}\\t Topic: {}\".format(score, lda_model.print_topic(index, 5)))\n",
    "    \n",
    "    df['bow'] = list(map(lambda doc: dictionary.doc2bow(doc), df.stemmed_text))\n",
    "    df['prediction'] = df['bow'].apply(PredictTopicFromBOW,lda_model=lda_model, lda_topic_name_list=lda_topic_name_list)\n",
    "    df[['pred_probability','pred_index','pred_label']] = pd.DataFrame(df.prediction.values.tolist(), index= df.index)\n",
    "    df.drop(['prediction'], axis=1)"
   ]
  },
  {
   "cell_type": "code",
   "execution_count": null,
   "metadata": {},
   "outputs": [],
   "source": [
    "%%time\n",
    "lda_prediction(df_scope,LDAmodel_scope, lda_topic_names)"
   ]
  },
  {
   "cell_type": "markdown",
   "metadata": {},
   "source": [
    "#### Save the data with prediction"
   ]
  },
  {
   "cell_type": "code",
   "execution_count": null,
   "metadata": {},
   "outputs": [],
   "source": [
    "df_scope.to_pickle('data/AKA_{0}_with_prediction.pkl'.format(data_scope))"
   ]
  },
  {
   "cell_type": "markdown",
   "metadata": {},
   "source": [
    "### Load to MS SQL server"
   ]
  },
  {
   "cell_type": "code",
   "execution_count": 604,
   "metadata": {},
   "outputs": [
    {
     "name": "stdout",
     "output_type": "stream",
     "text": [
      "Wall time: 7.98 s\n"
     ]
    }
   ],
   "source": [
    "%%time\n",
    "df_raw = pd.read_pickle('data/AKA_rawdata.pkl')"
   ]
  },
  {
   "cell_type": "code",
   "execution_count": 105,
   "metadata": {},
   "outputs": [],
   "source": [
    "# from lipht_lda import df_lda_preprocessing"
   ]
  },
  {
   "cell_type": "code",
   "execution_count": 607,
   "metadata": {},
   "outputs": [],
   "source": [
    "%%time\n",
    "df_lda_preprocessing(df_raw, 'ThreadMessageText')"
   ]
  },
  {
   "cell_type": "code",
   "execution_count": 608,
   "metadata": {},
   "outputs": [
    {
     "data": {
      "text/plain": [
       "Index(['ThreadID', 'ThreadCreatedFromLetter', 'ThreadTotalMessageCount',\n",
       "       'ThreadStatus', 'ThreadSubject', 'ThreadResponsibleDepartment',\n",
       "       'ThreadResponsibleDepartmentTeam', 'ThreadHasInteraction',\n",
       "       'ThreadInitiatedBy', 'ThreadMessageRank',\n",
       "       'ThreadMessageIsFirstMemberMessage', 'ThreadMessageIsFirstAKAMessage',\n",
       "       'ThreadMessageID', 'ThreadMessageDirection', 'ThreadMessageDateCreated',\n",
       "       'ThreadMessageText', 'text', 'text_CharCount', 'text_LessThan5000',\n",
       "       'text_WordCount', 'text_Questionmarks', 'text_1Question',\n",
       "       'text_Exclamationmarks', 'tokenized_text', 'stopwords_removed',\n",
       "       'lemmatized_text', 'stemmed_text'],\n",
       "      dtype='object')"
      ]
     },
     "execution_count": 608,
     "metadata": {},
     "output_type": "execute_result"
    }
   ],
   "source": [
    "df_raw.columns"
   ]
  },
  {
   "cell_type": "code",
   "execution_count": 614,
   "metadata": {},
   "outputs": [],
   "source": [
    "df_raw.to_pickle('data/AKA_rawdata_df_lda_preprocessed.pkl')"
   ]
  },
  {
   "cell_type": "code",
   "execution_count": 609,
   "metadata": {},
   "outputs": [
    {
     "name": "stdout",
     "output_type": "stream",
     "text": [
      "Wall time: 4min 31s\n"
     ]
    }
   ],
   "source": [
    "%%time\n",
    "lda_prediction(df_raw,LDAmodel_scope, lda_topic_names)"
   ]
  },
  {
   "cell_type": "code",
   "execution_count": 626,
   "metadata": {},
   "outputs": [],
   "source": [
    "# df_raw[df_raw['pred_label']=='English']['text']"
   ]
  },
  {
   "cell_type": "code",
   "execution_count": 611,
   "metadata": {},
   "outputs": [],
   "source": [
    "df_raw_with_language = df_raw[['ThreadID','ThreadMessageID','ThreadMessageText','text','pred_label','pred_probability']]"
   ]
  },
  {
   "cell_type": "code",
   "execution_count": 612,
   "metadata": {},
   "outputs": [
    {
     "data": {
      "text/html": [
       "<div>\n",
       "<style scoped>\n",
       "    .dataframe tbody tr th:only-of-type {\n",
       "        vertical-align: middle;\n",
       "    }\n",
       "\n",
       "    .dataframe tbody tr th {\n",
       "        vertical-align: top;\n",
       "    }\n",
       "\n",
       "    .dataframe thead th {\n",
       "        text-align: right;\n",
       "    }\n",
       "</style>\n",
       "<table border=\"1\" class=\"dataframe\">\n",
       "  <thead>\n",
       "    <tr style=\"text-align: right;\">\n",
       "      <th></th>\n",
       "      <th>ThreadID</th>\n",
       "      <th>ThreadMessageID</th>\n",
       "      <th>ThreadMessageText</th>\n",
       "      <th>text</th>\n",
       "      <th>pred_label</th>\n",
       "      <th>pred_probability</th>\n",
       "    </tr>\n",
       "  </thead>\n",
       "  <tbody>\n",
       "    <tr>\n",
       "      <th>0</th>\n",
       "      <td>3F206D77-DFB5-E811-82B4-0050569118B0</td>\n",
       "      <td>46206D77-DFB5-E811-82B4-0050569118B0</td>\n",
       "      <td>\\nDin booking er på plads\\n \\nVi bekræfter, at...</td>\n",
       "      <td>din booking er på plads\\n \\nvi bekræfter, at d...</td>\n",
       "      <td>Danish</td>\n",
       "      <td>0.965642</td>\n",
       "    </tr>\n",
       "    <tr>\n",
       "      <th>1</th>\n",
       "      <td>A4B4F902-E4B5-E811-82B4-0050569118B0</td>\n",
       "      <td>ABB4F902-E4B5-E811-82B4-0050569118B0</td>\n",
       "      <td>\\n \\nDin booking er på plads\\nVi bekræfter, at...</td>\n",
       "      <td>din booking er på plads\\nvi bekræfter, at du e...</td>\n",
       "      <td>Danish</td>\n",
       "      <td>0.844355</td>\n",
       "    </tr>\n",
       "    <tr>\n",
       "      <th>2</th>\n",
       "      <td>C7AAAE22-E4B5-E811-82B4-0050569118B0</td>\n",
       "      <td>CEAAAE22-E4B5-E811-82B4-0050569118B0</td>\n",
       "      <td>\\n \\nDin booking er på plads\\nVi bekræfter, at...</td>\n",
       "      <td>din booking er på plads\\nvi bekræfter, at du e...</td>\n",
       "      <td>Danish</td>\n",
       "      <td>0.866124</td>\n",
       "    </tr>\n",
       "    <tr>\n",
       "      <th>3</th>\n",
       "      <td>447AC33F-E6B5-E811-82B4-0050569118B0</td>\n",
       "      <td>4B7AC33F-E6B5-E811-82B4-0050569118B0</td>\n",
       "      <td>\\nDu er nu afmeldt ventelisten til LinkedIn\\n ...</td>\n",
       "      <td>du er nu afmeldt ventelisten til linkedin\\n \\n...</td>\n",
       "      <td>Danish</td>\n",
       "      <td>0.966093</td>\n",
       "    </tr>\n",
       "    <tr>\n",
       "      <th>4</th>\n",
       "      <td>80A4A5A3-EAB5-E811-82B4-0050569118B0</td>\n",
       "      <td>87A4A5A3-EAB5-E811-82B4-0050569118B0</td>\n",
       "      <td>\\nKære Elsa Salvador Rodriguez\\n \\nDu er nu på...</td>\n",
       "      <td>salvador rodriguez\\n \\ndu er nu på ventelisten...</td>\n",
       "      <td>Danish</td>\n",
       "      <td>0.946295</td>\n",
       "    </tr>\n",
       "  </tbody>\n",
       "</table>\n",
       "</div>"
      ],
      "text/plain": [
       "                               ThreadID                       ThreadMessageID  \\\n",
       "0  3F206D77-DFB5-E811-82B4-0050569118B0  46206D77-DFB5-E811-82B4-0050569118B0   \n",
       "1  A4B4F902-E4B5-E811-82B4-0050569118B0  ABB4F902-E4B5-E811-82B4-0050569118B0   \n",
       "2  C7AAAE22-E4B5-E811-82B4-0050569118B0  CEAAAE22-E4B5-E811-82B4-0050569118B0   \n",
       "3  447AC33F-E6B5-E811-82B4-0050569118B0  4B7AC33F-E6B5-E811-82B4-0050569118B0   \n",
       "4  80A4A5A3-EAB5-E811-82B4-0050569118B0  87A4A5A3-EAB5-E811-82B4-0050569118B0   \n",
       "\n",
       "                                   ThreadMessageText  \\\n",
       "0  \\nDin booking er på plads\\n \\nVi bekræfter, at...   \n",
       "1  \\n \\nDin booking er på plads\\nVi bekræfter, at...   \n",
       "2  \\n \\nDin booking er på plads\\nVi bekræfter, at...   \n",
       "3  \\nDu er nu afmeldt ventelisten til LinkedIn\\n ...   \n",
       "4  \\nKære Elsa Salvador Rodriguez\\n \\nDu er nu på...   \n",
       "\n",
       "                                                text pred_label  \\\n",
       "0  din booking er på plads\\n \\nvi bekræfter, at d...     Danish   \n",
       "1  din booking er på plads\\nvi bekræfter, at du e...     Danish   \n",
       "2  din booking er på plads\\nvi bekræfter, at du e...     Danish   \n",
       "3  du er nu afmeldt ventelisten til linkedin\\n \\n...     Danish   \n",
       "4  salvador rodriguez\\n \\ndu er nu på ventelisten...     Danish   \n",
       "\n",
       "   pred_probability  \n",
       "0          0.965642  \n",
       "1          0.844355  \n",
       "2          0.866124  \n",
       "3          0.966093  \n",
       "4          0.946295  "
      ]
     },
     "execution_count": 612,
     "metadata": {},
     "output_type": "execute_result"
    }
   ],
   "source": [
    "df_raw_with_language.head()"
   ]
  },
  {
   "cell_type": "code",
   "execution_count": 613,
   "metadata": {},
   "outputs": [],
   "source": [
    "df_raw_with_language.to_csv('lang_pred.csv')"
   ]
  },
  {
   "cell_type": "code",
   "execution_count": 211,
   "metadata": {},
   "outputs": [],
   "source": [
    "con = \"mssql+pyodbc:///?odbc_connect={}\".format(urllib.parse.quote_plus(\"DRIVER=ODBC Driver 13 for SQL Server;SERVER={0};PORT=1433;DATABASE={1};UID={2};PWD={3};TDS_Version=8.0;\".format(server, db, user, password)))"
   ]
  },
  {
   "cell_type": "code",
   "execution_count": 636,
   "metadata": {},
   "outputs": [],
   "source": [
    "test = pd.DataFrame({'test':[1,2,3]}) #'te','te','te'"
   ]
  },
  {
   "cell_type": "code",
   "execution_count": null,
   "metadata": {
    "scrolled": false
   },
   "outputs": [],
   "source": [
    "import pyodbc\n",
    "from sqlalchemy import create_engine\n",
    "import urllib\n",
    "\n",
    "params = urllib.parse.quote_plus(r'DRIVER={SQL Server};SERVER=LIPHT-VM-01;DATABASE=Akademikernes_MSCRM_addition;Trusted_Connection=yes')\n",
    "conn_str = 'mssql+pyodbc:///?odbc_connect={}'.format(params)\n",
    "engine = create_engine(conn_str)\n",
    "\n",
    "\n",
    "test.to_sql(name='Test',con=engine , schema='input', if_exists='replace', index=False)"
   ]
  },
  {
   "cell_type": "code",
   "execution_count": 405,
   "metadata": {},
   "outputs": [],
   "source": [
    "df_raw.to_pickle('data/AKA_rawdata_with_language.pkl')"
   ]
  },
  {
   "cell_type": "code",
   "execution_count": 406,
   "metadata": {},
   "outputs": [
    {
     "data": {
      "text/plain": [
       "Index(['ThreadID', 'ThreadCreatedFromLetter', 'ThreadTotalMessageCount',\n",
       "       'ThreadStatus', 'ThreadSubject', 'ThreadResponsibleDepartment',\n",
       "       'ThreadResponsibleDepartmentTeam', 'ThreadHasInteraction',\n",
       "       'ThreadInitiatedBy', 'ThreadMessageRank',\n",
       "       'ThreadMessageIsFirstMemberMessage', 'ThreadMessageIsFirstAKAMessage',\n",
       "       'ThreadMessageID', 'ThreadMessageDirection', 'ThreadMessageDateCreated',\n",
       "       'ThreadMessageText', 'text', 'text_CharCount', 'text_LessThan5000',\n",
       "       'text_Questionmarks', 'text_1Question', 'text_Exclamationmarks',\n",
       "       'tokenized_text', 'stopwords_removed', 'lemmatized_text',\n",
       "       'stemmed_text', 'bow', 'prediction', 'pred_probability', 'pred_index',\n",
       "       'pred_label'],\n",
       "      dtype='object')"
      ]
     },
     "execution_count": 406,
     "metadata": {},
     "output_type": "execute_result"
    }
   ],
   "source": [
    "df_raw.columns"
   ]
  },
  {
   "cell_type": "code",
   "execution_count": 654,
   "metadata": {},
   "outputs": [
    {
     "ename": "ModuleNotFoundError",
     "evalue": "No module named 'ctds'",
     "output_type": "error",
     "traceback": [
      "\u001b[1;31m---------------------------------------------------------------------------\u001b[0m",
      "\u001b[1;31mModuleNotFoundError\u001b[0m                       Traceback (most recent call last)",
      "\u001b[1;32m<ipython-input-654-a8754b3eb464>\u001b[0m in \u001b[0;36m<module>\u001b[1;34m()\u001b[0m\n\u001b[1;32m----> 1\u001b[1;33m \u001b[1;32mimport\u001b[0m \u001b[0mctds\u001b[0m\u001b[1;33m\u001b[0m\u001b[0m\n\u001b[0m\u001b[0;32m      2\u001b[0m \u001b[0mconn\u001b[0m \u001b[1;33m=\u001b[0m \u001b[0mctds\u001b[0m\u001b[1;33m.\u001b[0m\u001b[0mconnect\u001b[0m\u001b[1;33m(\u001b[0m\u001b[1;34m'LIPHT-VM-01'\u001b[0m\u001b[1;33m,\u001b[0m \u001b[0muser\u001b[0m\u001b[1;33m=\u001b[0m\u001b[1;34m'ph'\u001b[0m\u001b[1;33m,\u001b[0m \u001b[0mpassword\u001b[0m\u001b[1;33m=\u001b[0m\u001b[1;34m'Partner2018!'\u001b[0m\u001b[1;33m,\u001b[0m \u001b[0mdatabase\u001b[0m\u001b[1;33m=\u001b[0m\u001b[1;34m'Akademikernes_MSCRM_addition'\u001b[0m\u001b[1;33m)\u001b[0m\u001b[1;33m\u001b[0m\u001b[0m\n\u001b[0;32m      3\u001b[0m \u001b[0mconn\u001b[0m\u001b[1;33m.\u001b[0m\u001b[0mbulk_insert\u001b[0m\u001b[1;33m(\u001b[0m\u001b[1;34m'table'\u001b[0m\u001b[1;33m,\u001b[0m \u001b[1;33m(\u001b[0m\u001b[0mdf_raw_with_language\u001b[0m\u001b[1;33m.\u001b[0m\u001b[0mto_records\u001b[0m\u001b[1;33m(\u001b[0m\u001b[0mindex\u001b[0m\u001b[1;33m=\u001b[0m\u001b[1;32mFalse\u001b[0m\u001b[1;33m)\u001b[0m\u001b[1;33m.\u001b[0m\u001b[0mtolist\u001b[0m\u001b[1;33m(\u001b[0m\u001b[1;33m)\u001b[0m\u001b[1;33m)\u001b[0m\u001b[1;33m)\u001b[0m\u001b[1;33m\u001b[0m\u001b[0m\n",
      "\u001b[1;31mModuleNotFoundError\u001b[0m: No module named 'ctds'"
     ]
    }
   ],
   "source": [
    "import ctds\n",
    "conn = ctds.connect('LIPHT-VM-01', user='ph', password='Partner2018!', database='Akademikernes_MSCRM_addition')\n",
    "conn.bulk_insert('table', (df_raw_with_language.to_records(index=False).tolist()))"
   ]
  },
  {
   "cell_type": "code",
   "execution_count": null,
   "metadata": {},
   "outputs": [],
   "source": []
  }
 ],
 "metadata": {
  "kernelspec": {
   "display_name": "Python [conda env:akademikernes_diagnostic]",
   "language": "python",
   "name": "conda-env-akademikernes_diagnostic-py"
  },
  "language_info": {
   "codemirror_mode": {
    "name": "ipython",
    "version": 3
   },
   "file_extension": ".py",
   "mimetype": "text/x-python",
   "name": "python",
   "nbconvert_exporter": "python",
   "pygments_lexer": "ipython3",
   "version": "3.6.6"
  }
 },
 "nbformat": 4,
 "nbformat_minor": 2
}
